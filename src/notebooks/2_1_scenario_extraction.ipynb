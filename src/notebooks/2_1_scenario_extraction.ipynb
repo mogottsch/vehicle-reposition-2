{
 "cells": [
  {
   "cell_type": "code",
   "execution_count": 1,
   "metadata": {},
   "outputs": [],
   "source": [
    "# As we use our own external modules, we need the folder src to be in the PYTHONPATH env variable.\n",
    "# However we do not expect the reader to add that folder to the env variable,\n",
    "# therefore we manually load it temporarily in each notebook.\n",
    "import os\n",
    "module_path = os.path.abspath(os.path.join('..'))\n",
    "if module_path not in sys.path:\n",
    "    sys.path.append(module_path)"
   ]
  },
  {
   "cell_type": "code",
   "execution_count": 2,
   "metadata": {},
   "outputs": [],
   "source": [
    "\n",
    "from timeit import default_timer as timer\n",
    "import pandas as pd\n",
    "import h3\n",
    "from utils.config import PATH_TRIPS, H3_RESOLUTION, PERIOD_DURATION, PATH_TRIPS_GROUPED"
   ]
  },
  {
   "cell_type": "code",
   "execution_count": 3,
   "metadata": {},
   "outputs": [],
   "source": [
    "trips = pd.read_pickle(PATH_TRIPS)\n",
    "\n",
    "# sampling for testing purposes\n",
    "trips = trips.sample(frac=0.2, random_state=42)"
   ]
  },
  {
   "cell_type": "code",
   "execution_count": 4,
   "metadata": {},
   "outputs": [],
   "source": [
    "def extract_hexagon_cb(latitude_col, longitude_col):\n",
    "    return lambda row : h3.geo_to_h3(row[latitude_col], row[longitude_col], H3_RESOLUTION)"
   ]
  },
  {
   "cell_type": "code",
   "execution_count": 5,
   "metadata": {},
   "outputs": [
    {
     "output_type": "stream",
     "name": "stdout",
     "text": [
      "Succesfully saved dataframe to pickle in 10.03 seconds\n"
     ]
    }
   ],
   "source": [
    "start = timer()\n",
    "\n",
    "trips['start_hex_id'] = trips.apply(extract_hexagon_cb('latitude_start', 'longitude_start'), axis=1)\n",
    "trips['end_hex_id'] = trips.apply(extract_hexagon_cb('latitude_end', 'longitude_end'), axis=1)\n",
    "\n",
    "end = timer()\n",
    "print(f\"Succesfully saved dataframe to pickle in {(end - start):.2f} seconds\")"
   ]
  },
  {
   "cell_type": "code",
   "execution_count": 6,
   "metadata": {},
   "outputs": [],
   "source": [
    "trips['datetime_start_floored'] = trips['datetime_start'].dt.floor('%dH' % PERIOD_DURATION)"
   ]
  },
  {
   "cell_type": "code",
   "execution_count": 7,
   "metadata": {},
   "outputs": [],
   "source": [
    "trips_grouped = trips.groupby(\n",
    "    ['vehicleType','start_hex_id', 'end_hex_id', 'datetime_start_floored']) \\\n",
    "                     .size() \\\n",
    "                     .to_frame('demand')"
   ]
  },
  {
   "cell_type": "code",
   "execution_count": 8,
   "metadata": {},
   "outputs": [
    {
     "output_type": "stream",
     "name": "stdout",
     "text": [
      "sanity check: ️️✔️\n"
     ]
    }
   ],
   "source": [
    "sanity_index = trips_grouped.index[0]\n",
    "sanity_check_entry_1 = trips_grouped.loc[sanity_index][0]\n",
    "\n",
    "\n",
    "full_index = pd.MultiIndex.from_product([\n",
    "    trips['vehicleType'].unique(),\n",
    "    trips['start_hex_id'].unique(), \n",
    "    trips['end_hex_id'].unique(),\n",
    "    trips['datetime_start_floored'].unique(),\n",
    "])\n",
    "\n",
    "trips_grouped = trips_grouped.reindex(full_index)\n",
    "trips_grouped = trips_grouped.fillna(0)\n",
    "\n",
    "sanity_check_entry_2 = trips_grouped.loc[sanity_index][0]\n",
    "sanity_check = sanity_check_entry_1 == sanity_check_entry_2\n",
    "\n",
    "print(\"sanity check: \" + \"️️✔️\" if sanity_check else \"❌\")"
   ]
  },
  {
   "cell_type": "code",
   "execution_count": 9,
   "metadata": {},
   "outputs": [],
   "source": [
    "trips_grouped = trips_grouped.reset_index(level=0).rename(columns={\"level_0\": \"vehicle_type\"})"
   ]
  },
  {
   "cell_type": "code",
   "execution_count": 10,
   "metadata": {},
   "outputs": [],
   "source": [
    "demand_dict = {}\n",
    "for vehicle_type in trips_grouped['vehicle_type'].unique():\n",
    "    demand_dict[vehicle_type] = trips_grouped[trips_grouped['vehicle_type'] == vehicle_type]['demand']"
   ]
  },
  {
   "cell_type": "code",
   "execution_count": 11,
   "metadata": {},
   "outputs": [
    {
     "output_type": "stream",
     "name": "stdout",
     "text": [
      "sanity check: ️️✔️\n"
     ]
    }
   ],
   "source": [
    "trips_seperated = pd.DataFrame(demand_dict)\n",
    "\n",
    "sanity_vehicle_type = list(sanity_index)[0]\n",
    "sanity_index_short = list(sanity_index)[1:]\n",
    "\n",
    "sanity_check_entry_3 = trips_seperated.loc[tuple(sanity_index_short), sanity_vehicle_type]\n",
    "sanity_check = sanity_check_entry_2 == sanity_check_entry_3\n",
    "\n",
    "print(\"sanity check: \" + \"️️✔️\" if sanity_check else \"❌\")"
   ]
  },
  {
   "cell_type": "code",
   "execution_count": 12,
   "metadata": {},
   "outputs": [
    {
     "output_type": "execute_result",
     "data": {
      "text/plain": [
       "                                                     kick_scooter   car  \\\n",
       "861fa199fffffff 861fa199fffffff 2019-12-10 16:00:00         516.0  80.0   \n",
       "                                2019-11-27 08:00:00         462.0  40.0   \n",
       "                                2019-12-08 16:00:00         494.0   0.0   \n",
       "\n",
       "                                                     bicycle  \n",
       "861fa199fffffff 861fa199fffffff 2019-12-10 16:00:00     28.0  \n",
       "                                2019-11-27 08:00:00     19.0  \n",
       "                                2019-12-08 16:00:00     12.0  "
      ],
      "text/html": "<div>\n<style scoped>\n    .dataframe tbody tr th:only-of-type {\n        vertical-align: middle;\n    }\n\n    .dataframe tbody tr th {\n        vertical-align: top;\n    }\n\n    .dataframe thead th {\n        text-align: right;\n    }\n</style>\n<table border=\"1\" class=\"dataframe\">\n  <thead>\n    <tr style=\"text-align: right;\">\n      <th></th>\n      <th></th>\n      <th></th>\n      <th>kick_scooter</th>\n      <th>car</th>\n      <th>bicycle</th>\n    </tr>\n  </thead>\n  <tbody>\n    <tr>\n      <th rowspan=\"3\" valign=\"top\">861fa199fffffff</th>\n      <th rowspan=\"3\" valign=\"top\">861fa199fffffff</th>\n      <th>2019-12-10 16:00:00</th>\n      <td>516.0</td>\n      <td>80.0</td>\n      <td>28.0</td>\n    </tr>\n    <tr>\n      <th>2019-11-27 08:00:00</th>\n      <td>462.0</td>\n      <td>40.0</td>\n      <td>19.0</td>\n    </tr>\n    <tr>\n      <th>2019-12-08 16:00:00</th>\n      <td>494.0</td>\n      <td>0.0</td>\n      <td>12.0</td>\n    </tr>\n  </tbody>\n</table>\n</div>"
     },
     "metadata": {},
     "execution_count": 12
    }
   ],
   "source": [
    "trips_seperated.head(3)"
   ]
  },
  {
   "cell_type": "code",
   "execution_count": 13,
   "metadata": {},
   "outputs": [
    {
     "output_type": "stream",
     "name": "stdout",
     "text": [
      "Succesfully saved dataframe to pickle in 0.01 seconds\n"
     ]
    }
   ],
   "source": [
    "start = timer()\n",
    "\n",
    "os.makedirs(os.path.dirname(PATH_TRIPS_GROUPED), exist_ok=True)\n",
    "trips_seperated.to_pickle(PATH_TRIPS_GROUPED)\n",
    "\n",
    "end = timer()\n",
    "print(f\"Succesfully saved dataframe to pickle in {(end - start):.2f} seconds\")"
   ]
  }
 ],
 "metadata": {
  "kernelspec": {
   "name": "python392jvsc74a57bd04c5759a860ff622b94355509a8ad1055ee72da662318eeccfce36ebb9b0965e3",
   "display_name": "Python 3.9.2 64-bit ('VEHICLE_REPOSITION_H3': conda)"
  },
  "language_info": {
   "codemirror_mode": {
    "name": "ipython",
    "version": 3
   },
   "file_extension": ".py",
   "mimetype": "text/x-python",
   "name": "python",
   "nbconvert_exporter": "python",
   "pygments_lexer": "ipython3",
   "version": "3.9.2"
  },
  "orig_nbformat": 2
 },
 "nbformat": 4,
 "nbformat_minor": 2
}