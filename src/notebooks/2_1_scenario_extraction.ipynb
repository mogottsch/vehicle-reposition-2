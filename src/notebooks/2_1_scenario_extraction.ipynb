{
 "cells": [
  {
   "cell_type": "code",
   "execution_count": 1,
   "metadata": {},
   "outputs": [],
   "source": [
    "# As we use our own external modules, we need the folder src to be in the PYTHONPATH env variable.\n",
    "# However we do not expect the reader to add that folder to the env variable,\n",
    "# therefore we manually load it temporarily in each notebook.\n",
    "import os\n",
    "module_path = os.path.abspath(os.path.join('..'))\n",
    "if module_path not in sys.path:\n",
    "    sys.path.append(module_path)"
   ]
  },
  {
   "cell_type": "code",
   "execution_count": 2,
   "metadata": {},
   "outputs": [],
   "source": [
    "\n",
    "from timeit import default_timer as timer\n",
    "import pandas as pd\n",
    "import h3\n",
    "from utils.config import PATH_TRIPS, H3_RESOLUTION, PERIOD_DURATION, PATH_TRIPS_GROUPED"
   ]
  },
  {
   "cell_type": "code",
   "execution_count": 3,
   "metadata": {},
   "outputs": [],
   "source": [
    "trips = pd.read_pickle(PATH_TRIPS)\n",
    "\n",
    "# sampling for testing purposes\n",
    "trips = trips.sample(frac=0.2, random_state=42)"
   ]
  },
  {
   "cell_type": "code",
   "execution_count": 4,
   "metadata": {},
   "outputs": [],
   "source": [
    "def extract_hexagon_cb(latitude_col, longitude_col):\n",
    "    return lambda row : h3.geo_to_h3(row[latitude_col], row[longitude_col], H3_RESOLUTION)"
   ]
  },
  {
   "cell_type": "code",
   "execution_count": 5,
   "metadata": {},
   "outputs": [
    {
     "output_type": "stream",
     "name": "stdout",
     "text": [
      "Succesfully saved dataframe to pickle in 4.91 seconds\n"
     ]
    }
   ],
   "source": [
    "start = timer()\n",
    "\n",
    "trips['start_hex_id'] = trips.apply(extract_hexagon_cb('latitude_start', 'longitude_start'), axis=1)\n",
    "trips['end_hex_id'] = trips.apply(extract_hexagon_cb('latitude_end', 'longitude_end'), axis=1)\n",
    "\n",
    "end = timer()\n",
    "print(f\"Succesfully saved dataframe to pickle in {(end - start):.2f} seconds\")"
   ]
  },
  {
   "cell_type": "code",
   "execution_count": 6,
   "metadata": {},
   "outputs": [],
   "source": [
    "trips['datetime_start_floored'] = trips['datetime_start'].dt.floor('%dH' % PERIOD_DURATION)"
   ]
  },
  {
   "cell_type": "code",
   "execution_count": 7,
   "metadata": {},
   "outputs": [],
   "source": [
    "trips_grouped = trips.groupby(\n",
    "    ['vehicleType','start_hex_id', 'end_hex_id', 'datetime_start_floored']) \\\n",
    "                     .size() \\\n",
    "                     .to_frame('demand')"
   ]
  },
  {
   "cell_type": "code",
   "execution_count": 8,
   "metadata": {},
   "outputs": [
    {
     "output_type": "stream",
     "name": "stdout",
     "text": [
      "sanity check: ️️✔️\n"
     ]
    }
   ],
   "source": [
    "sanity_index = trips_grouped.index[0]\n",
    "sanity_check_entry_1 = trips_grouped.loc[sanity_index][0]\n",
    "\n",
    "\n",
    "full_index = pd.MultiIndex.from_product([\n",
    "    trips['vehicleType'].unique(),\n",
    "    trips['start_hex_id'].unique(), \n",
    "    trips['end_hex_id'].unique(),\n",
    "    trips['datetime_start_floored'].unique(),\n",
    "])\n",
    "\n",
    "trips_grouped = trips_grouped.reindex(full_index)\n",
    "trips_grouped = trips_grouped.fillna(0)\n",
    "\n",
    "sanity_check_entry_2 = trips_grouped.loc[sanity_index][0]\n",
    "sanity_check = sanity_check_entry_1 == sanity_check_entry_2\n",
    "\n",
    "print(\"sanity check: \" + \"️️✔️\" if sanity_check else \"❌\")"
   ]
  },
  {
   "cell_type": "code",
   "execution_count": 9,
   "metadata": {},
   "outputs": [],
   "source": [
    "trips_grouped = trips_grouped.reset_index(level=0).rename(columns={\"level_0\": \"vehicle_type\"})"
   ]
  },
  {
   "cell_type": "code",
   "execution_count": 10,
   "metadata": {},
   "outputs": [],
   "source": [
    "demand_dict = {}\n",
    "for vehicle_type in trips_grouped['vehicle_type'].unique():\n",
    "    demand_dict[vehicle_type] = trips_grouped[trips_grouped['vehicle_type'] == vehicle_type]['demand']"
   ]
  },
  {
   "cell_type": "code",
   "execution_count": 11,
   "metadata": {},
   "outputs": [
    {
     "output_type": "stream",
     "name": "stdout",
     "text": [
      "sanity check: ️️✔️\n"
     ]
    }
   ],
   "source": [
    "trips_seperated = pd.DataFrame(demand_dict)\n",
    "\n",
    "sanity_vehicle_type = list(sanity_index)[0]\n",
    "sanity_index_short = list(sanity_index)[1:]\n",
    "\n",
    "sanity_check_entry_3 = trips_seperated.loc[tuple(sanity_index_short), sanity_vehicle_type]\n",
    "sanity_check = sanity_check_entry_2 == sanity_check_entry_3\n",
    "\n",
    "print(\"sanity check: \" + \"️️✔️\" if sanity_check else \"❌\")"
   ]
  },
  {
   "cell_type": "code",
   "execution_count": 12,
   "metadata": {},
   "outputs": [
    {
     "output_type": "execute_result",
     "data": {
      "text/plain": [
       "                                                     kick_scooter   car  \\\n",
       "861fa199fffffff 861fa199fffffff 2019-11-27 20:00:00         468.0  33.0   \n",
       "                                2019-12-20 08:00:00          80.0  62.0   \n",
       "                                2019-11-26 16:00:00         523.0  69.0   \n",
       "\n",
       "                                                     bicycle  \n",
       "861fa199fffffff 861fa199fffffff 2019-11-27 20:00:00     10.0  \n",
       "                                2019-12-20 08:00:00     18.0  \n",
       "                                2019-11-26 16:00:00     24.0  "
      ],
      "text/html": "<div>\n<style scoped>\n    .dataframe tbody tr th:only-of-type {\n        vertical-align: middle;\n    }\n\n    .dataframe tbody tr th {\n        vertical-align: top;\n    }\n\n    .dataframe thead th {\n        text-align: right;\n    }\n</style>\n<table border=\"1\" class=\"dataframe\">\n  <thead>\n    <tr style=\"text-align: right;\">\n      <th></th>\n      <th></th>\n      <th></th>\n      <th>kick_scooter</th>\n      <th>car</th>\n      <th>bicycle</th>\n    </tr>\n  </thead>\n  <tbody>\n    <tr>\n      <th rowspan=\"3\" valign=\"top\">861fa199fffffff</th>\n      <th rowspan=\"3\" valign=\"top\">861fa199fffffff</th>\n      <th>2019-11-27 20:00:00</th>\n      <td>468.0</td>\n      <td>33.0</td>\n      <td>10.0</td>\n    </tr>\n    <tr>\n      <th>2019-12-20 08:00:00</th>\n      <td>80.0</td>\n      <td>62.0</td>\n      <td>18.0</td>\n    </tr>\n    <tr>\n      <th>2019-11-26 16:00:00</th>\n      <td>523.0</td>\n      <td>69.0</td>\n      <td>24.0</td>\n    </tr>\n  </tbody>\n</table>\n</div>"
     },
     "metadata": {},
     "execution_count": 12
    }
   ],
   "source": [
    "trips_seperated.head(3)"
   ]
  },
  {
   "cell_type": "code",
   "execution_count": 13,
   "metadata": {},
   "outputs": [
    {
     "output_type": "stream",
     "name": "stdout",
     "text": [
      "Succesfully saved dataframe to pickle in 0.00 seconds\n"
     ]
    }
   ],
   "source": [
    "start = timer()\n",
    "\n",
    "os.makedirs(os.path.dirname(PATH_TRIPS_GROUPED), exist_ok=True)\n",
    "trips_seperated.to_pickle(PATH_TRIPS_GROUPED)\n",
    "\n",
    "end = timer()\n",
    "print(f\"Succesfully saved dataframe to pickle in {(end - start):.2f} seconds\")"
   ]
  }
 ],
 "metadata": {
  "kernelspec": {
   "name": "python3810jvsc74a57bd025886e588e0e772d5020ef608c7c6771df2a6548b672803ef3df6d3c3433cc78",
   "display_name": "Python 3.8.10 64-bit ('base': conda)"
  },
  "language_info": {
   "codemirror_mode": {
    "name": "ipython",
    "version": 3
   },
   "file_extension": ".py",
   "mimetype": "text/x-python",
   "name": "python",
   "nbconvert_exporter": "python",
   "pygments_lexer": "ipython3",
   "version": "3.8.10"
  },
  "orig_nbformat": 2
 },
 "nbformat": 4,
 "nbformat_minor": 2
}