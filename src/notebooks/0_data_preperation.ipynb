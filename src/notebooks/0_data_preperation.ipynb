{
 "cells": [
  {
   "cell_type": "code",
   "execution_count": 1,
   "metadata": {},
   "outputs": [],
   "source": [
    "# As we use our own external modules, we need the folder src to be in the PYTHONPATH env variable.\n",
    "# However we do not expect the reader to add that folder to the env variable,\n",
    "# therefore we manually load it temporarily in each notebook.\n",
    "import os\n",
    "module_path = os.path.abspath(os.path.join('..'))\n",
    "if module_path not in sys.path:\n",
    "    sys.path.append(module_path)"
   ]
  },
  {
   "cell_type": "code",
   "execution_count": 2,
   "metadata": {},
   "outputs": [],
   "source": [
    "\n",
    "import pandas as pd\n",
    "from timeit import default_timer as timer\n",
    "import json\n",
    "import folium\n",
    "from utils.config import PATH_DIR_TRIPS_RAW, PATH_TRIPS"
   ]
  },
  {
   "cell_type": "code",
   "execution_count": 3,
   "metadata": {},
   "outputs": [
    {
     "output_type": "stream",
     "name": "stdout",
     "text": [
      "/home/moritz/data/Uni/Bachelorseminar/Trips\n",
      "Succesfully merged csv data into one dataframe in 3.27 seconds\n"
     ]
    }
   ],
   "source": [
    "start = timer()\n",
    "\n",
    "dfs = []\n",
    "for root, subdirs, files in os.walk(PATH_DIR_TRIPS_RAW):\n",
    "    for file in files:\n",
    "        path_to_csv = os.path.join(root, file)\n",
    "        df = pd.read_csv(path_to_csv)\n",
    "        dfs.append(df)\n",
    "\n",
    "trips_raw = pd.concat(dfs)\n",
    "\n",
    "end = timer()\n",
    "print(f\"Succesfully merged csv data into one dataframe in {(end - start):.2f} seconds\")"
   ]
  },
  {
   "cell_type": "code",
   "execution_count": 4,
   "metadata": {},
   "outputs": [
    {
     "output_type": "stream",
     "name": "stdout",
     "text": [
      "<class 'pandas.core.frame.DataFrame'>\nInt64Index: 1055091 entries, 0 to 5079\nData columns (total 24 columns):\n #   Column               Non-Null Count    Dtype  \n---  ------               --------------    -----  \n 0   id                   1055091 non-null  object \n 1   provider             1055091 non-null  object \n 2   city                 1055091 non-null  object \n 3   vehicleType          1055091 non-null  object \n 4   model                616634 non-null   object \n 5   datetime_start       1055091 non-null  object \n 6   date_start           1055091 non-null  int64  \n 7   time_start           1055091 non-null  int64  \n 8   datetime_end         1055091 non-null  object \n 9   date_end             1055091 non-null  int64  \n 10  time_end             1055091 non-null  int64  \n 11  longitude_start      1055091 non-null  float64\n 12  latitude_start       1055091 non-null  float64\n 13  longitude_end        1055091 non-null  float64\n 14  latitude_end         1055091 non-null  float64\n 15  fuel_start           1012351 non-null  float64\n 16  fuel_end             1012351 non-null  float64\n 17  distance             1055091 non-null  float64\n 18  duration             1055091 non-null  float64\n 19  price_driving_start  968188 non-null   object \n 20  price_driving_end    971080 non-null   object \n 21  price_promo_start    2959 non-null     object \n 22  price_promo_end      61 non-null       object \n 23  missing_file_number  1055091 non-null  int64  \ndtypes: float64(8), int64(5), object(11)\nmemory usage: 201.2+ MB\n"
     ]
    }
   ],
   "source": [
    "trips_raw.info()"
   ]
  },
  {
   "cell_type": "markdown",
   "metadata": {},
   "source": [
    "The relevant columns (id, provider, vehicleType, datetime_start, datetime_end, longitude_start, longitude_end, latitude_start, latitude_end, distance) do not have any null values. Therefore we do not have to perform any deletion or imputation strategies."
   ]
  },
  {
   "cell_type": "code",
   "execution_count": 5,
   "metadata": {},
   "outputs": [],
   "source": [
    "lons = pd.concat([trips_raw['longitude_start'], trips_raw['longitude_end']])\n",
    "lats = pd.concat([trips_raw['latitude_start'], trips_raw['latitude_end']])"
   ]
  },
  {
   "cell_type": "code",
   "execution_count": 6,
   "metadata": {},
   "outputs": [],
   "source": [
    "lat_min = lats.min()\n",
    "lat_max = lats.max()\n",
    "lon_min = lons.min()\n",
    "lon_max = lons.max()\n",
    "\n",
    "points = [(lat_max, lon_min), (lat_min, lon_min), (lat_min, lon_max), (lat_max, lon_max), (lat_max, lon_min)]"
   ]
  },
  {
   "cell_type": "code",
   "execution_count": 7,
   "metadata": {},
   "outputs": [
    {
     "output_type": "display_data",
     "data": {
      "text/plain": "<folium.folium.Map at 0x7f8f9953ba60>",
      "text/html": "<div style=\"width:100%;\"><div style=\"position:relative;width:100%;height:0;padding-bottom:60%;\"><span style=\"color:#565656\">Make this Notebook Trusted to load map: File -> Trust Notebook</span><iframe src=\"about:blank\" style=\"position:absolute;width:100%;height:100%;left:0;top:0;border:none !important;\" data-html=%3C%21DOCTYPE%20html%3E%0A%3Chead%3E%20%20%20%20%0A%20%20%20%20%3Cmeta%20http-equiv%3D%22content-type%22%20content%3D%22text/html%3B%20charset%3DUTF-8%22%20/%3E%0A%20%20%20%20%0A%20%20%20%20%20%20%20%20%3Cscript%3E%0A%20%20%20%20%20%20%20%20%20%20%20%20L_NO_TOUCH%20%3D%20false%3B%0A%20%20%20%20%20%20%20%20%20%20%20%20L_DISABLE_3D%20%3D%20false%3B%0A%20%20%20%20%20%20%20%20%3C/script%3E%0A%20%20%20%20%0A%20%20%20%20%3Cstyle%3Ehtml%2C%20body%20%7Bwidth%3A%20100%25%3Bheight%3A%20100%25%3Bmargin%3A%200%3Bpadding%3A%200%3B%7D%3C/style%3E%0A%20%20%20%20%3Cstyle%3E%23map%20%7Bposition%3Aabsolute%3Btop%3A0%3Bbottom%3A0%3Bright%3A0%3Bleft%3A0%3B%7D%3C/style%3E%0A%20%20%20%20%3Cscript%20src%3D%22https%3A//cdn.jsdelivr.net/npm/leaflet%401.6.0/dist/leaflet.js%22%3E%3C/script%3E%0A%20%20%20%20%3Cscript%20src%3D%22https%3A//code.jquery.com/jquery-1.12.4.min.js%22%3E%3C/script%3E%0A%20%20%20%20%3Cscript%20src%3D%22https%3A//maxcdn.bootstrapcdn.com/bootstrap/3.2.0/js/bootstrap.min.js%22%3E%3C/script%3E%0A%20%20%20%20%3Cscript%20src%3D%22https%3A//cdnjs.cloudflare.com/ajax/libs/Leaflet.awesome-markers/2.0.2/leaflet.awesome-markers.js%22%3E%3C/script%3E%0A%20%20%20%20%3Clink%20rel%3D%22stylesheet%22%20href%3D%22https%3A//cdn.jsdelivr.net/npm/leaflet%401.6.0/dist/leaflet.css%22/%3E%0A%20%20%20%20%3Clink%20rel%3D%22stylesheet%22%20href%3D%22https%3A//maxcdn.bootstrapcdn.com/bootstrap/3.2.0/css/bootstrap.min.css%22/%3E%0A%20%20%20%20%3Clink%20rel%3D%22stylesheet%22%20href%3D%22https%3A//maxcdn.bootstrapcdn.com/bootstrap/3.2.0/css/bootstrap-theme.min.css%22/%3E%0A%20%20%20%20%3Clink%20rel%3D%22stylesheet%22%20href%3D%22https%3A//maxcdn.bootstrapcdn.com/font-awesome/4.6.3/css/font-awesome.min.css%22/%3E%0A%20%20%20%20%3Clink%20rel%3D%22stylesheet%22%20href%3D%22https%3A//cdnjs.cloudflare.com/ajax/libs/Leaflet.awesome-markers/2.0.2/leaflet.awesome-markers.css%22/%3E%0A%20%20%20%20%3Clink%20rel%3D%22stylesheet%22%20href%3D%22https%3A//cdn.jsdelivr.net/gh/python-visualization/folium/folium/templates/leaflet.awesome.rotate.min.css%22/%3E%0A%20%20%20%20%0A%20%20%20%20%20%20%20%20%20%20%20%20%3Cmeta%20name%3D%22viewport%22%20content%3D%22width%3Ddevice-width%2C%0A%20%20%20%20%20%20%20%20%20%20%20%20%20%20%20%20initial-scale%3D1.0%2C%20maximum-scale%3D1.0%2C%20user-scalable%3Dno%22%20/%3E%0A%20%20%20%20%20%20%20%20%20%20%20%20%3Cstyle%3E%0A%20%20%20%20%20%20%20%20%20%20%20%20%20%20%20%20%23map_69d089e8179b404e8f8671b9bcc43585%20%7B%0A%20%20%20%20%20%20%20%20%20%20%20%20%20%20%20%20%20%20%20%20position%3A%20relative%3B%0A%20%20%20%20%20%20%20%20%20%20%20%20%20%20%20%20%20%20%20%20width%3A%20100.0%25%3B%0A%20%20%20%20%20%20%20%20%20%20%20%20%20%20%20%20%20%20%20%20height%3A%20100.0%25%3B%0A%20%20%20%20%20%20%20%20%20%20%20%20%20%20%20%20%20%20%20%20left%3A%200.0%25%3B%0A%20%20%20%20%20%20%20%20%20%20%20%20%20%20%20%20%20%20%20%20top%3A%200.0%25%3B%0A%20%20%20%20%20%20%20%20%20%20%20%20%20%20%20%20%7D%0A%20%20%20%20%20%20%20%20%20%20%20%20%3C/style%3E%0A%20%20%20%20%20%20%20%20%0A%3C/head%3E%0A%3Cbody%3E%20%20%20%20%0A%20%20%20%20%0A%20%20%20%20%20%20%20%20%20%20%20%20%3Cdiv%20class%3D%22folium-map%22%20id%3D%22map_69d089e8179b404e8f8671b9bcc43585%22%20%3E%3C/div%3E%0A%20%20%20%20%20%20%20%20%0A%3C/body%3E%0A%3Cscript%3E%20%20%20%20%0A%20%20%20%20%0A%20%20%20%20%20%20%20%20%20%20%20%20var%20map_69d089e8179b404e8f8671b9bcc43585%20%3D%20L.map%28%0A%20%20%20%20%20%20%20%20%20%20%20%20%20%20%20%20%22map_69d089e8179b404e8f8671b9bcc43585%22%2C%0A%20%20%20%20%20%20%20%20%20%20%20%20%20%20%20%20%7B%0A%20%20%20%20%20%20%20%20%20%20%20%20%20%20%20%20%20%20%20%20center%3A%20%5B50.9253%2C%206.9495%5D%2C%0A%20%20%20%20%20%20%20%20%20%20%20%20%20%20%20%20%20%20%20%20crs%3A%20L.CRS.EPSG3857%2C%0A%20%20%20%20%20%20%20%20%20%20%20%20%20%20%20%20%20%20%20%20zoom%3A%2011%2C%0A%20%20%20%20%20%20%20%20%20%20%20%20%20%20%20%20%20%20%20%20zoomControl%3A%20true%2C%0A%20%20%20%20%20%20%20%20%20%20%20%20%20%20%20%20%20%20%20%20preferCanvas%3A%20false%2C%0A%20%20%20%20%20%20%20%20%20%20%20%20%20%20%20%20%7D%0A%20%20%20%20%20%20%20%20%20%20%20%20%29%3B%0A%20%20%20%20%20%20%20%20%20%20%20%20L.control.scale%28%29.addTo%28map_69d089e8179b404e8f8671b9bcc43585%29%3B%0A%0A%20%20%20%20%20%20%20%20%20%20%20%20%0A%0A%20%20%20%20%20%20%20%20%0A%20%20%20%20%0A%20%20%20%20%20%20%20%20%20%20%20%20var%20tile_layer_c6d4c1db56894224bd0c1dadf8022efa%20%3D%20L.tileLayer%28%0A%20%20%20%20%20%20%20%20%20%20%20%20%20%20%20%20%22https%3A//%7Bs%7D.tile.openstreetmap.org/%7Bz%7D/%7Bx%7D/%7By%7D.png%22%2C%0A%20%20%20%20%20%20%20%20%20%20%20%20%20%20%20%20%7B%22attribution%22%3A%20%22Data%20by%20%5Cu0026copy%3B%20%5Cu003ca%20href%3D%5C%22http%3A//openstreetmap.org%5C%22%5Cu003eOpenStreetMap%5Cu003c/a%5Cu003e%2C%20under%20%5Cu003ca%20href%3D%5C%22http%3A//www.openstreetmap.org/copyright%5C%22%5Cu003eODbL%5Cu003c/a%5Cu003e.%22%2C%20%22detectRetina%22%3A%20false%2C%20%22maxNativeZoom%22%3A%2020%2C%20%22maxZoom%22%3A%2020%2C%20%22minZoom%22%3A%200%2C%20%22noWrap%22%3A%20false%2C%20%22opacity%22%3A%201%2C%20%22subdomains%22%3A%20%22abc%22%2C%20%22tms%22%3A%20false%7D%0A%20%20%20%20%20%20%20%20%20%20%20%20%29.addTo%28map_69d089e8179b404e8f8671b9bcc43585%29%3B%0A%20%20%20%20%20%20%20%20%0A%20%20%20%20%0A%20%20%20%20%20%20%20%20%20%20%20%20var%20poly_line_689a0e20ec12436da45f1c78452be518%20%3D%20L.polyline%28%0A%20%20%20%20%20%20%20%20%20%20%20%20%20%20%20%20%5B%5B51.03007%2C%206.807150999999999%5D%2C%20%5B50.835495%2C%206.807150999999999%5D%2C%20%5B50.835495%2C%207.11707%5D%2C%20%5B51.03007%2C%207.11707%5D%2C%20%5B51.03007%2C%206.807150999999999%5D%5D%2C%0A%20%20%20%20%20%20%20%20%20%20%20%20%20%20%20%20%7B%22bubblingMouseEvents%22%3A%20true%2C%20%22color%22%3A%20%22%233388ff%22%2C%20%22dashArray%22%3A%20null%2C%20%22dashOffset%22%3A%20null%2C%20%22fill%22%3A%20false%2C%20%22fillColor%22%3A%20%22%233388ff%22%2C%20%22fillOpacity%22%3A%200.2%2C%20%22fillRule%22%3A%20%22evenodd%22%2C%20%22lineCap%22%3A%20%22round%22%2C%20%22lineJoin%22%3A%20%22round%22%2C%20%22noClip%22%3A%20false%2C%20%22opacity%22%3A%201.0%2C%20%22smoothFactor%22%3A%201.0%2C%20%22stroke%22%3A%20true%2C%20%22weight%22%3A%203%7D%0A%20%20%20%20%20%20%20%20%20%20%20%20%29.addTo%28map_69d089e8179b404e8f8671b9bcc43585%29%3B%0A%20%20%20%20%20%20%20%20%0A%3C/script%3E onload=\"this.contentDocument.open();this.contentDocument.write(    decodeURIComponent(this.getAttribute('data-html')));this.contentDocument.close();\" allowfullscreen webkitallowfullscreen mozallowfullscreen></iframe></div></div>"
     },
     "metadata": {}
    }
   ],
   "source": [
    "fmap = folium.Map(location=(50.9253, 6.9495), zoom_start=11, control_scale=True, max_zoom=20)\n",
    "folium.PolyLine(points).add_to(fmap)\n",
    "display(fmap)"
   ]
  },
  {
   "cell_type": "markdown",
   "metadata": {},
   "source": [
    "All trips starting and ending locations fall within the blue square. This seems plausible, so there are no outliers in the geospatial data."
   ]
  },
  {
   "cell_type": "code",
   "execution_count": 8,
   "metadata": {},
   "outputs": [],
   "source": [
    "# convert string time columns to datetime format\n",
    "trips_raw['datetime_start'] =  pd.to_datetime(trips_raw['datetime_start'], format='%Y%m%d-%H%M%S')\n",
    "trips_raw['datetime_end'] =  pd.to_datetime(trips_raw['datetime_end'], format='%Y%m%d-%H%M%S')"
   ]
  },
  {
   "cell_type": "code",
   "execution_count": 9,
   "metadata": {},
   "outputs": [],
   "source": [
    "trips_raw[\"start\"] = list(zip(trips_raw[\"latitude_start\"],trips_raw[\"longitude_start\"]))\n",
    "trips_raw[\"end\"] = list(zip(trips_raw[\"latitude_end\"],trips_raw[\"longitude_end\"]))"
   ]
  },
  {
   "cell_type": "code",
   "execution_count": 10,
   "metadata": {},
   "outputs": [],
   "source": [
    "trips_raw[\"vehicleType\"] = trips_raw[\"vehicleType\"].replace({'kick scooter': 'kick_scooter'})"
   ]
  },
  {
   "cell_type": "code",
   "execution_count": 11,
   "metadata": {},
   "outputs": [
    {
     "output_type": "stream",
     "name": "stdout",
     "text": [
      "Succesfully saved dataframe to pickle in 0.86 seconds\n"
     ]
    }
   ],
   "source": [
    "start = timer()\n",
    "os.makedirs(os.path.dirname(PATH_TRIPS), exist_ok=True)\n",
    "trips_raw.to_pickle(PATH_TRIPS)\n",
    "end = timer()\n",
    "print(f\"Succesfully saved dataframe to pickle in {(end - start):.2f} seconds\")"
   ]
  },
  {
   "cell_type": "code",
   "execution_count": 12,
   "metadata": {},
   "outputs": [
    {
     "output_type": "stream",
     "name": "stdout",
     "text": [
      "<class 'pandas.core.frame.DataFrame'>\nInt64Index: 1055091 entries, 0 to 5079\nData columns (total 26 columns):\n #   Column               Non-Null Count    Dtype         \n---  ------               --------------    -----         \n 0   id                   1055091 non-null  object        \n 1   provider             1055091 non-null  object        \n 2   city                 1055091 non-null  object        \n 3   vehicleType          1055091 non-null  object        \n 4   model                616634 non-null   object        \n 5   datetime_start       1055091 non-null  datetime64[ns]\n 6   date_start           1055091 non-null  int64         \n 7   time_start           1055091 non-null  int64         \n 8   datetime_end         1055091 non-null  datetime64[ns]\n 9   date_end             1055091 non-null  int64         \n 10  time_end             1055091 non-null  int64         \n 11  longitude_start      1055091 non-null  float64       \n 12  latitude_start       1055091 non-null  float64       \n 13  longitude_end        1055091 non-null  float64       \n 14  latitude_end         1055091 non-null  float64       \n 15  fuel_start           1012351 non-null  float64       \n 16  fuel_end             1012351 non-null  float64       \n 17  distance             1055091 non-null  float64       \n 18  duration             1055091 non-null  float64       \n 19  price_driving_start  968188 non-null   object        \n 20  price_driving_end    971080 non-null   object        \n 21  price_promo_start    2959 non-null     object        \n 22  price_promo_end      61 non-null       object        \n 23  missing_file_number  1055091 non-null  int64         \n 24  start                1055091 non-null  object        \n 25  end                  1055091 non-null  object        \ndtypes: datetime64[ns](2), float64(8), int64(5), object(11)\nmemory usage: 217.3+ MB\n"
     ]
    }
   ],
   "source": [
    "trips_raw.info()"
   ]
  }
 ],
 "metadata": {
  "kernelspec": {
   "name": "python3810jvsc74a57bd025886e588e0e772d5020ef608c7c6771df2a6548b672803ef3df6d3c3433cc78",
   "display_name": "Python 3.8.10 64-bit ('base': conda)"
  }
 },
 "nbformat": 4,
 "nbformat_minor": 4
}