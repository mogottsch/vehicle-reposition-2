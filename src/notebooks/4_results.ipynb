{
 "cells": [
  {
   "cell_type": "code",
   "execution_count": null,
   "source": [
    "# As we use our own external modules, we need the folder src to be in the PYTHONPATH env variable.\n",
    "# However we do not expect the reader to add that folder to the env variable,\n",
    "# therefore we manually load it temporarily in each notebook.\n",
    "import os, sys\n",
    "\n",
    "module_path = os.path.abspath(os.path.join(\"..\"))\n",
    "if module_path not in sys.path:\n",
    "    sys.path.append(module_path)\n"
   ],
   "outputs": [],
   "metadata": {}
  },
  {
   "cell_type": "code",
   "execution_count": null,
   "source": [
    "import pandas as pd\n",
    "from modules.config import (\n",
    "    PATH_RESULTS_SUMMARY,\n",
    "    PATH_RESULTS_VAR_TUPLE,\n",
    "    PATH_RESULTS_VAR_REGION,\n",
    "    PATH_RESULTS_SINGLE_MODAL_BENCHMARK,\n",
    "    N_REDUCED_SCNEARIOS,\n",
    "    PATH_DIR_FIGURES,\n",
    ")\n",
    "import matplotlib.pyplot as plt\n",
    "import seaborn as sns\n"
   ],
   "outputs": [],
   "metadata": {}
  },
  {
   "cell_type": "code",
   "execution_count": null,
   "source": [
    "results = pd.read_pickle(PATH_RESULTS_SUMMARY)"
   ],
   "outputs": [],
   "metadata": {}
  },
  {
   "cell_type": "code",
   "execution_count": null,
   "source": [
    "results[\"fleet_size\"] = results[\"kick_scooter\"] + results[\"bicycle\"] + results[\"car\"]"
   ],
   "outputs": [],
   "metadata": {}
  },
  {
   "cell_type": "code",
   "execution_count": null,
   "source": [
    "results"
   ],
   "outputs": [
    {
     "output_type": "execute_result",
     "data": {
      "text/plain": [
       "     status     objective  expected_profit  n_trips_avg  \\\n",
       "0   Optimal  23982.750000     23982.750000      7472.50   \n",
       "1   Optimal  24473.041111     24473.041111      7507.50   \n",
       "2   Optimal   7389.981111      7389.981111      4090.00   \n",
       "3   Optimal   7476.041111      7476.041111      4089.00   \n",
       "4   Optimal  23305.031111     23305.031111      8026.75   \n",
       "5   Optimal  24083.468889     24083.468889      8392.75   \n",
       "6   Optimal   4730.858889      4730.858889      5123.50   \n",
       "7   Optimal   4783.520000      4783.520000      5130.50   \n",
       "8   Optimal  20413.967778     20413.967778      8193.75   \n",
       "9   Optimal  21360.241111     21360.241111      8541.50   \n",
       "10  Optimal   -804.020000      -804.020000      5973.75   \n",
       "11  Optimal   -699.021111      -699.021111      5975.25   \n",
       "\n",
       "    n_unfilled_demand_avg  demand_avg  n_parking_avg  n_relocations_avg  \\\n",
       "0                 2181.75     9654.25        2081.25            2123.00   \n",
       "1                 2146.75     9654.25        2064.75            2223.25   \n",
       "2                 5564.25     9654.25        5458.25               0.00   \n",
       "3                 5565.25     9654.25        5484.00               0.00   \n",
       "4                 1627.50     9654.25        4688.00            2367.00   \n",
       "5                 1261.50     9654.25        4363.75            2413.25   \n",
       "6                 4530.75     9654.25        7638.50               0.00   \n",
       "7                 4523.75     9654.25        7631.50               0.00   \n",
       "8                 1460.50     9654.25        7756.75            2147.00   \n",
       "9                 1112.75     9654.25        7400.25            2316.75   \n",
       "10                3680.50     9654.25        9977.25               0.00   \n",
       "11                3679.00     9654.25        9975.75               0.00   \n",
       "\n",
       "    bicycle  car  kick_scooter  relocations_disabled  \\\n",
       "0       747  494          1950                 False   \n",
       "1       747  494          1950                 False   \n",
       "2       747  494          1950                  True   \n",
       "3       747  494          1950                  True   \n",
       "4       996  658          2600                 False   \n",
       "5       996  658          2600                 False   \n",
       "6       996  658          2600                  True   \n",
       "7       996  658          2600                  True   \n",
       "8      1245  822          3250                 False   \n",
       "9      1245  822          3250                 False   \n",
       "10     1245  822          3250                  True   \n",
       "11     1245  822          3250                  True   \n",
       "\n",
       "    non_anticipativity_disabled  fleet_size  \n",
       "0                         False        3191  \n",
       "1                          True        3191  \n",
       "2                         False        3191  \n",
       "3                          True        3191  \n",
       "4                         False        4254  \n",
       "5                          True        4254  \n",
       "6                         False        4254  \n",
       "7                          True        4254  \n",
       "8                         False        5317  \n",
       "9                          True        5317  \n",
       "10                        False        5317  \n",
       "11                         True        5317  "
      ],
      "text/html": [
       "<div>\n",
       "<style scoped>\n",
       "    .dataframe tbody tr th:only-of-type {\n",
       "        vertical-align: middle;\n",
       "    }\n",
       "\n",
       "    .dataframe tbody tr th {\n",
       "        vertical-align: top;\n",
       "    }\n",
       "\n",
       "    .dataframe thead th {\n",
       "        text-align: right;\n",
       "    }\n",
       "</style>\n",
       "<table border=\"1\" class=\"dataframe\">\n",
       "  <thead>\n",
       "    <tr style=\"text-align: right;\">\n",
       "      <th></th>\n",
       "      <th>status</th>\n",
       "      <th>objective</th>\n",
       "      <th>expected_profit</th>\n",
       "      <th>n_trips_avg</th>\n",
       "      <th>n_unfilled_demand_avg</th>\n",
       "      <th>demand_avg</th>\n",
       "      <th>n_parking_avg</th>\n",
       "      <th>n_relocations_avg</th>\n",
       "      <th>bicycle</th>\n",
       "      <th>car</th>\n",
       "      <th>kick_scooter</th>\n",
       "      <th>relocations_disabled</th>\n",
       "      <th>non_anticipativity_disabled</th>\n",
       "      <th>fleet_size</th>\n",
       "    </tr>\n",
       "  </thead>\n",
       "  <tbody>\n",
       "    <tr>\n",
       "      <th>0</th>\n",
       "      <td>Optimal</td>\n",
       "      <td>23982.750000</td>\n",
       "      <td>23982.750000</td>\n",
       "      <td>7472.50</td>\n",
       "      <td>2181.75</td>\n",
       "      <td>9654.25</td>\n",
       "      <td>2081.25</td>\n",
       "      <td>2123.00</td>\n",
       "      <td>747</td>\n",
       "      <td>494</td>\n",
       "      <td>1950</td>\n",
       "      <td>False</td>\n",
       "      <td>False</td>\n",
       "      <td>3191</td>\n",
       "    </tr>\n",
       "    <tr>\n",
       "      <th>1</th>\n",
       "      <td>Optimal</td>\n",
       "      <td>24473.041111</td>\n",
       "      <td>24473.041111</td>\n",
       "      <td>7507.50</td>\n",
       "      <td>2146.75</td>\n",
       "      <td>9654.25</td>\n",
       "      <td>2064.75</td>\n",
       "      <td>2223.25</td>\n",
       "      <td>747</td>\n",
       "      <td>494</td>\n",
       "      <td>1950</td>\n",
       "      <td>False</td>\n",
       "      <td>True</td>\n",
       "      <td>3191</td>\n",
       "    </tr>\n",
       "    <tr>\n",
       "      <th>2</th>\n",
       "      <td>Optimal</td>\n",
       "      <td>7389.981111</td>\n",
       "      <td>7389.981111</td>\n",
       "      <td>4090.00</td>\n",
       "      <td>5564.25</td>\n",
       "      <td>9654.25</td>\n",
       "      <td>5458.25</td>\n",
       "      <td>0.00</td>\n",
       "      <td>747</td>\n",
       "      <td>494</td>\n",
       "      <td>1950</td>\n",
       "      <td>True</td>\n",
       "      <td>False</td>\n",
       "      <td>3191</td>\n",
       "    </tr>\n",
       "    <tr>\n",
       "      <th>3</th>\n",
       "      <td>Optimal</td>\n",
       "      <td>7476.041111</td>\n",
       "      <td>7476.041111</td>\n",
       "      <td>4089.00</td>\n",
       "      <td>5565.25</td>\n",
       "      <td>9654.25</td>\n",
       "      <td>5484.00</td>\n",
       "      <td>0.00</td>\n",
       "      <td>747</td>\n",
       "      <td>494</td>\n",
       "      <td>1950</td>\n",
       "      <td>True</td>\n",
       "      <td>True</td>\n",
       "      <td>3191</td>\n",
       "    </tr>\n",
       "    <tr>\n",
       "      <th>4</th>\n",
       "      <td>Optimal</td>\n",
       "      <td>23305.031111</td>\n",
       "      <td>23305.031111</td>\n",
       "      <td>8026.75</td>\n",
       "      <td>1627.50</td>\n",
       "      <td>9654.25</td>\n",
       "      <td>4688.00</td>\n",
       "      <td>2367.00</td>\n",
       "      <td>996</td>\n",
       "      <td>658</td>\n",
       "      <td>2600</td>\n",
       "      <td>False</td>\n",
       "      <td>False</td>\n",
       "      <td>4254</td>\n",
       "    </tr>\n",
       "    <tr>\n",
       "      <th>5</th>\n",
       "      <td>Optimal</td>\n",
       "      <td>24083.468889</td>\n",
       "      <td>24083.468889</td>\n",
       "      <td>8392.75</td>\n",
       "      <td>1261.50</td>\n",
       "      <td>9654.25</td>\n",
       "      <td>4363.75</td>\n",
       "      <td>2413.25</td>\n",
       "      <td>996</td>\n",
       "      <td>658</td>\n",
       "      <td>2600</td>\n",
       "      <td>False</td>\n",
       "      <td>True</td>\n",
       "      <td>4254</td>\n",
       "    </tr>\n",
       "    <tr>\n",
       "      <th>6</th>\n",
       "      <td>Optimal</td>\n",
       "      <td>4730.858889</td>\n",
       "      <td>4730.858889</td>\n",
       "      <td>5123.50</td>\n",
       "      <td>4530.75</td>\n",
       "      <td>9654.25</td>\n",
       "      <td>7638.50</td>\n",
       "      <td>0.00</td>\n",
       "      <td>996</td>\n",
       "      <td>658</td>\n",
       "      <td>2600</td>\n",
       "      <td>True</td>\n",
       "      <td>False</td>\n",
       "      <td>4254</td>\n",
       "    </tr>\n",
       "    <tr>\n",
       "      <th>7</th>\n",
       "      <td>Optimal</td>\n",
       "      <td>4783.520000</td>\n",
       "      <td>4783.520000</td>\n",
       "      <td>5130.50</td>\n",
       "      <td>4523.75</td>\n",
       "      <td>9654.25</td>\n",
       "      <td>7631.50</td>\n",
       "      <td>0.00</td>\n",
       "      <td>996</td>\n",
       "      <td>658</td>\n",
       "      <td>2600</td>\n",
       "      <td>True</td>\n",
       "      <td>True</td>\n",
       "      <td>4254</td>\n",
       "    </tr>\n",
       "    <tr>\n",
       "      <th>8</th>\n",
       "      <td>Optimal</td>\n",
       "      <td>20413.967778</td>\n",
       "      <td>20413.967778</td>\n",
       "      <td>8193.75</td>\n",
       "      <td>1460.50</td>\n",
       "      <td>9654.25</td>\n",
       "      <td>7756.75</td>\n",
       "      <td>2147.00</td>\n",
       "      <td>1245</td>\n",
       "      <td>822</td>\n",
       "      <td>3250</td>\n",
       "      <td>False</td>\n",
       "      <td>False</td>\n",
       "      <td>5317</td>\n",
       "    </tr>\n",
       "    <tr>\n",
       "      <th>9</th>\n",
       "      <td>Optimal</td>\n",
       "      <td>21360.241111</td>\n",
       "      <td>21360.241111</td>\n",
       "      <td>8541.50</td>\n",
       "      <td>1112.75</td>\n",
       "      <td>9654.25</td>\n",
       "      <td>7400.25</td>\n",
       "      <td>2316.75</td>\n",
       "      <td>1245</td>\n",
       "      <td>822</td>\n",
       "      <td>3250</td>\n",
       "      <td>False</td>\n",
       "      <td>True</td>\n",
       "      <td>5317</td>\n",
       "    </tr>\n",
       "    <tr>\n",
       "      <th>10</th>\n",
       "      <td>Optimal</td>\n",
       "      <td>-804.020000</td>\n",
       "      <td>-804.020000</td>\n",
       "      <td>5973.75</td>\n",
       "      <td>3680.50</td>\n",
       "      <td>9654.25</td>\n",
       "      <td>9977.25</td>\n",
       "      <td>0.00</td>\n",
       "      <td>1245</td>\n",
       "      <td>822</td>\n",
       "      <td>3250</td>\n",
       "      <td>True</td>\n",
       "      <td>False</td>\n",
       "      <td>5317</td>\n",
       "    </tr>\n",
       "    <tr>\n",
       "      <th>11</th>\n",
       "      <td>Optimal</td>\n",
       "      <td>-699.021111</td>\n",
       "      <td>-699.021111</td>\n",
       "      <td>5975.25</td>\n",
       "      <td>3679.00</td>\n",
       "      <td>9654.25</td>\n",
       "      <td>9975.75</td>\n",
       "      <td>0.00</td>\n",
       "      <td>1245</td>\n",
       "      <td>822</td>\n",
       "      <td>3250</td>\n",
       "      <td>True</td>\n",
       "      <td>True</td>\n",
       "      <td>5317</td>\n",
       "    </tr>\n",
       "  </tbody>\n",
       "</table>\n",
       "</div>"
      ]
     },
     "metadata": {},
     "execution_count": 117
    }
   ],
   "metadata": {}
  },
  {
   "cell_type": "code",
   "execution_count": null,
   "source": [
    "fig, ax = plt.subplots(figsize=(10, 5), dpi=100)\n",
    "\n",
    "g = sns.barplot(\n",
    "    data=results[results[\"non_anticipativity_disabled\"] == False],\n",
    "    x=\"fleet_size\",\n",
    "    y=\"objective\",\n",
    "    hue=\"relocations_disabled\",\n",
    "    ax=ax,\n",
    ")\n",
    "ax.set(ylabel=\"Objective\", xlabel=\"Fleet Size\")\n",
    "plt.legend(title=\"Relocations Disabled\")\n",
    "\n",
    "plt.savefig(os.path.join(PATH_DIR_FIGURES, 'no_relocation_benchmark.pdf'))\n",
    "plt.show()\n"
   ],
   "outputs": [
    {
     "output_type": "display_data",
     "data": {
      "text/plain": [
       "<Figure size 1000x500 with 1 Axes>"
      ],
      "image/png": "[encoded data removed]"
     },
     "metadata": {
      "needs_background": "light"
     }
    }
   ],
   "metadata": {}
  },
  {
   "cell_type": "code",
   "execution_count": null,
   "source": [
    "tmp = results[results[\"non_anticipativity_disabled\"] == False].set_index(\"fleet_size\")\n",
    "(\n",
    "    (\n",
    "        tmp.loc[tmp[\"relocations_disabled\"] == False, \"objective\"]\n",
    "        - tmp.loc[tmp[\"relocations_disabled\"] == True, \"objective\"]\n",
    "    )\n",
    "    / tmp.loc[tmp[\"relocations_disabled\"] == False, \"objective\"]\n",
    ")\n"
   ],
   "outputs": [
    {
     "output_type": "execute_result",
     "data": {
      "text/plain": [
       "fleet_size\n",
       "3191    0.691863\n",
       "4254    0.797003\n",
       "5317    1.039386\n",
       "Name: objective, dtype: float64"
      ]
     },
     "metadata": {},
     "execution_count": 119
    }
   ],
   "metadata": {}
  },
  {
   "cell_type": "code",
   "execution_count": null,
   "source": [
    "fig, axes = plt.subplots(figsize=(10, 5), dpi=100, ncols=2)\n",
    "g = sns.barplot(\n",
    "    data=results[results[\"non_anticipativity_disabled\"] == False],\n",
    "    x=\"fleet_size\",\n",
    "    y=\"n_trips_avg\",\n",
    "    hue=\"relocations_disabled\",\n",
    "    ax=axes[0],\n",
    ")\n",
    "g = sns.barplot(\n",
    "    data=results[results[\"non_anticipativity_disabled\"] == False],\n",
    "    x=\"fleet_size\",\n",
    "    y=\"n_unfilled_demand_avg\",\n",
    "    hue=\"relocations_disabled\",\n",
    "    ax=axes[1],\n",
    ")\n",
    "axes[0].set(ylabel=\"Number Of Trips\", xlabel=\"Fleet Size\")\n",
    "axes[0].legend(title=\"Relocations Disabled\")\n",
    "axes[1].set(ylabel=\"Unfulfilled Demand\", xlabel=\"Fleet Size\")\n",
    "axes[1].legend(title=\"Relocations Disabled\")\n",
    "\n",
    "plt.savefig(os.path.join(PATH_DIR_FIGURES, 'no_relocation_benchmark_side_effects.pdf'))\n",
    "plt.show()"
   ],
   "outputs": [
    {
     "output_type": "display_data",
     "data": {
      "text/plain": [
       "<Figure size 1000x500 with 2 Axes>"
      ],
      "image/png": "[encoded data removed]"
     },
     "metadata": {
      "needs_background": "light"
     }
    }
   ],
   "metadata": {}
  },
  {
   "cell_type": "code",
   "execution_count": null,
   "source": [
    "single_modal_results = pd.read_pickle(PATH_RESULTS_SINGLE_MODAL_BENCHMARK)\n",
    "single_modal_results[\"type\"] = pd.Series(['Multi Modal', 'Single Modal'])\n",
    "\n",
    "single_modal_results.to_latex()\n",
    "# we cannot interpret demand atm\n",
    "single_modal_results[['objective', 'demand_avg', 'n_trips_avg', 'n_unfilled_demand_avg', 'n_relocations_avg', 'type']]"
   ],
   "outputs": [
    {
     "output_type": "execute_result",
     "data": {
      "text/plain": [
       "      objective  demand_avg  n_trips_avg  n_unfilled_demand_avg  \\\n",
       "0  23305.031111     9654.25      8026.75                 1627.5   \n",
       "1   3594.434444    12014.50      8735.50                 3279.0   \n",
       "\n",
       "   n_relocations_avg          type  \n",
       "0             2367.0   Multi Modal  \n",
       "1             2919.0  Single Modal  "
      ],
      "text/html": [
       "<div>\n",
       "<style scoped>\n",
       "    .dataframe tbody tr th:only-of-type {\n",
       "        vertical-align: middle;\n",
       "    }\n",
       "\n",
       "    .dataframe tbody tr th {\n",
       "        vertical-align: top;\n",
       "    }\n",
       "\n",
       "    .dataframe thead th {\n",
       "        text-align: right;\n",
       "    }\n",
       "</style>\n",
       "<table border=\"1\" class=\"dataframe\">\n",
       "  <thead>\n",
       "    <tr style=\"text-align: right;\">\n",
       "      <th></th>\n",
       "      <th>objective</th>\n",
       "      <th>demand_avg</th>\n",
       "      <th>n_trips_avg</th>\n",
       "      <th>n_unfilled_demand_avg</th>\n",
       "      <th>n_relocations_avg</th>\n",
       "      <th>type</th>\n",
       "    </tr>\n",
       "  </thead>\n",
       "  <tbody>\n",
       "    <tr>\n",
       "      <th>0</th>\n",
       "      <td>23305.031111</td>\n",
       "      <td>9654.25</td>\n",
       "      <td>8026.75</td>\n",
       "      <td>1627.5</td>\n",
       "      <td>2367.0</td>\n",
       "      <td>Multi Modal</td>\n",
       "    </tr>\n",
       "    <tr>\n",
       "      <th>1</th>\n",
       "      <td>3594.434444</td>\n",
       "      <td>12014.50</td>\n",
       "      <td>8735.50</td>\n",
       "      <td>3279.0</td>\n",
       "      <td>2919.0</td>\n",
       "      <td>Single Modal</td>\n",
       "    </tr>\n",
       "  </tbody>\n",
       "</table>\n",
       "</div>"
      ]
     },
     "metadata": {},
     "execution_count": 121
    }
   ],
   "metadata": {}
  },
  {
   "cell_type": "code",
   "execution_count": null,
   "source": [
    "fig, ax = plt.subplots(figsize=(10, 5), dpi=100)\n",
    "\n",
    "sns.barplot(\n",
    "    data=results[results[\"relocations_disabled\"] == False],\n",
    "    x=\"fleet_size\",\n",
    "    y=\"objective\",\n",
    "    hue=\"non_anticipativity_disabled\",\n",
    ")\n",
    "ax.set(ylabel=\"Objective\", xlabel=\"Fleet Size\")\n",
    "plt.legend(title=\"Non-Anticipativity Constraints Disabled\")\n",
    "plt.savefig(os.path.join(PATH_DIR_FIGURES, 'non_anticipativity_benchmark.pdf'))\n",
    "plt.show()\n"
   ],
   "outputs": [
    {
     "output_type": "display_data",
     "data": {
      "text/plain": [
       "<Figure size 1000x500 with 1 Axes>"
      ],
      "image/png": "[encoded data removed]"
     },
     "metadata": {
      "needs_background": "light"
     }
    }
   ],
   "metadata": {}
  },
  {
   "cell_type": "code",
   "execution_count": null,
   "source": [
    "tmp = results[results[\"relocations_disabled\"] == False].set_index(\"fleet_size\")\n",
    "(\n",
    "    (\n",
    "        tmp.loc[tmp[\"non_anticipativity_disabled\"] == True, \"objective\"]\n",
    "        - tmp.loc[tmp[\"non_anticipativity_disabled\"] == False, \"objective\"]\n",
    "    )\n",
    "    / tmp.loc[tmp[\"non_anticipativity_disabled\"] == True, \"objective\"]\n",
    ")\n"
   ],
   "outputs": [
    {
     "output_type": "execute_result",
     "data": {
      "text/plain": [
       "fleet_size\n",
       "3191    0.020034\n",
       "4254    0.032322\n",
       "5317    0.044301\n",
       "Name: objective, dtype: float64"
      ]
     },
     "metadata": {},
     "execution_count": 123
    }
   ],
   "metadata": {}
  },
  {
   "cell_type": "code",
   "execution_count": null,
   "source": [
    "vars_by_region = pd.read_pickle(PATH_RESULTS_VAR_REGION)\n",
    "vars_by_hex_tuple = pd.read_pickle(PATH_RESULTS_VAR_TUPLE)"
   ],
   "outputs": [],
   "metadata": {}
  },
  {
   "cell_type": "code",
   "execution_count": null,
   "source": [
    "vars_reset = vars_by_hex_tuple.reset_index()\n",
    "relocations = vars_reset[vars_reset[\"start_hex_ids\"] != vars_reset[\"end_hex_ids\"]]\n",
    "# relocations.groupby('time')\n",
    "relocations = relocations.rename(columns={\"relocations/parking\": \"relocations\"})\n",
    "print(\"relocations per period\")\n",
    "print(relocations.groupby(\"time\")[\"relocations\"].sum() / N_REDUCED_SCNEARIOS, \"\\n\")\n",
    "print(\"relocations per vehicle type\")\n",
    "print(relocations.groupby(\"vehicle_types\")[\"relocations\"].sum() / N_REDUCED_SCNEARIOS)\n"
   ],
   "outputs": [
    {
     "output_type": "stream",
     "name": "stdout",
     "text": [
      "time\n",
      "0     2367.0\n",
      "8        0.0\n",
      "16       0.0\n",
      "Name: relocations, dtype: float64 \n",
      "\n",
      "vehicle_types\n",
      "bicycle          358.0\n",
      "car              340.0\n",
      "kick_scooter    1669.0\n",
      "Name: relocations, dtype: float64\n"
     ]
    }
   ],
   "metadata": {}
  }
 ],
 "metadata": {
  "interpreter": {
   "hash": "921dce5431bc8dd5032dbf768a24c906ac17844f87e0f443ecd3f0f6d3f457c9"
  },
  "kernelspec": {
   "display_name": "Python 3.8.10 64-bit ('VR': conda)",
   "name": "python3"
  },
  "language_info": {
   "name": "python",
   "version": ""
  },
  "orig_nbformat": 2
 },
 "nbformat": 4,
 "nbformat_minor": 2
}