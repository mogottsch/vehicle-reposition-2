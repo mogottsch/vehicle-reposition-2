{
 "metadata": {
  "language_info": {
   "codemirror_mode": {
    "name": "ipython",
    "version": 3
   },
   "file_extension": ".py",
   "mimetype": "text/x-python",
   "name": "python",
   "nbconvert_exporter": "python",
   "pygments_lexer": "ipython3",
   "version": "3.8.8"
  },
  "orig_nbformat": 2,
  "kernelspec": {
   "name": "python388jvsc74a57bd098dda969eced25373352d8358f4a74bbe75f82753a7539c7817bd98c04161209",
   "display_name": "Python 3.8.8 64-bit ('VEHICLE_REPOSITION_2_REDUCTION': conda)"
  },
  "metadata": {
   "interpreter": {
    "hash": "98dda969eced25373352d8358f4a74bbe75f82753a7539c7817bd98c04161209"
   }
  }
 },
 "nbformat": 4,
 "nbformat_minor": 2,
 "cells": [
  {
   "cell_type": "code",
   "execution_count": 175,
   "metadata": {},
   "outputs": [],
   "source": [
    "# As we use our own external modules, we need the folder src to be in the PYTHONPATH env variable.\n",
    "# However we do not expect the reader to add that folder to the env variable,\n",
    "# therefore we manually load it temporarily in each notebook.\n",
    "import os\n",
    "module_path = os.path.abspath(os.path.join('..'))\n",
    "if module_path not in sys.path:\n",
    "    sys.path.append(module_path)"
   ]
  },
  {
   "cell_type": "code",
   "execution_count": 176,
   "metadata": {},
   "outputs": [],
   "source": [
    "import pandas as pd\n",
    "from timeit import default_timer as timer\n",
    "import datetime\n",
    "import numpy as np\n",
    "from utils.config import PATH_SCENARIOS_REDUCED"
   ]
  },
  {
   "cell_type": "code",
   "execution_count": 177,
   "metadata": {},
   "outputs": [],
   "source": [
    "scenarios = pd.read_pickle(PATH_SCENARIOS_REDUCED)"
   ]
  },
  {
   "cell_type": "code",
   "execution_count": 178,
   "metadata": {},
   "outputs": [],
   "source": [
    "t = scenarios.unstack(level=['start_hex_ids', 'end_hex_ids', 'vehicle_types']) \\\n",
    "             .swaplevel() \\\n",
    "             .sort_index()"
   ]
  },
  {
   "cell_type": "code",
   "execution_count": 179,
   "metadata": {},
   "outputs": [],
   "source": [
    "t['node'] = 0"
   ]
  },
  {
   "cell_type": "code",
   "execution_count": 120,
   "metadata": {},
   "outputs": [
    {
     "output_type": "execute_result",
     "data": {
      "text/plain": [
       "Int64Index([ 0,  1,  2,  3,  4,  5,  6,  7,  8,  9,\n",
       "            ...\n",
       "            22, 23, 24, 25, 26, 27, 28, 29, 30, 31],\n",
       "           dtype='int64', name='scenarios', length=192)"
      ]
     },
     "metadata": {},
     "execution_count": 120
    }
   ],
   "source": []
  },
  {
   "cell_type": "code",
   "execution_count": 195,
   "metadata": {},
   "outputs": [
    {
     "output_type": "execute_result",
     "data": {
      "text/plain": [
       "32"
      ]
     },
     "metadata": {},
     "execution_count": 195
    }
   ],
   "source": [
    "t.loc[(datetime.time(20))]['node'].nunique()"
   ]
  },
  {
   "source": [
    "times = t.index.get_level_values('time').unique()\n",
    "scenario_ids = t.index.get_level_values('scenarios').unique()\n",
    "\n",
    "nodes = []\n",
    "nodes_counter = 0\n",
    "groups = [[] for _ in range(len(times))]\n",
    "for i, time in enumerate(times):\n",
    "    prev_groups = groups[i-1] if i != 0 else [list(scenario_ids)]\n",
    "\n",
    "    found_ids = []\n",
    "\n",
    "    values = t.loc[(time)].values\n",
    "\n",
    "    for scenario_id in scenario_ids:\n",
    "        if scenario_id in found_ids:\n",
    "            continue\n",
    "        current_group = list((values == values[scenario_id]).all(axis=1).nonzero()[0])\n",
    "        found_ids += current_group\n",
    "\n",
    "        for prev_group in prev_groups:\n",
    "            group = [s_id for s_id in current_group if s_id in prev_group]\n",
    "\n",
    "            if(not group):\n",
    "                continue\n",
    "\n",
    "            groups[i].append(group)\n",
    "            for s_id in group:\n",
    "                t.loc[(time, s_id), 'node'] = nodes_counter\n",
    "            nodes_counter += 1"
   ],
   "cell_type": "code",
   "metadata": {},
   "execution_count": 246,
   "outputs": []
  }
 ]
}