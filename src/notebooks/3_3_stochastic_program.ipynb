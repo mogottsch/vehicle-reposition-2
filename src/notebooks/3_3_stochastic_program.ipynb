{
 "cells": [
  {
   "cell_type": "code",
   "execution_count": 84,
   "metadata": {},
   "outputs": [],
   "source": [
    "# However we do not expect the reader to add that folder to the env variable,\n",
    "# therefore we manually load it temporarily in each notebook.\n",
    "import os\n",
    "module_path = os.path.abspath(os.path.join('..'))\n",
    "if module_path not in sys.path:\n",
    "    sys.path.append(module_path)"
   ]
  },
  {
   "cell_type": "code",
   "execution_count": 85,
   "metadata": {},
   "outputs": [],
   "source": [
    "import pandas as pd\n",
    "import numpy as np\n",
    "from timeit import default_timer as timer\n",
    "from collections import defaultdict\n",
    "from modules.config import (\n",
    "    PATH_SCENARIOS_REDUCED,\n",
    "    PATH_DISTANCES,\n",
    "    PATH_SCENARIO_PROBABILITY,\n",
    "    N_REDUCED_SCNEARIOS,\n",
    "    ALL_VEHICLE_TYPES,\n",
    "    PATH_RESULTS_SUMMARY,\n",
    ")\n",
    "from modules.stochastic_program.factory import StochasticProgramFactory\n",
    "\n"
   ]
  },
  {
   "cell_type": "markdown",
   "metadata": {},
   "source": [
    "### Prepare scenario data\n",
    "Make scenarios complete cross product"
   ]
  },
  {
   "cell_type": "code",
   "execution_count": 86,
   "metadata": {},
   "outputs": [],
   "source": [
    "scenarios = pd.read_pickle(PATH_SCENARIOS_REDUCED)"
   ]
  },
  {
   "cell_type": "code",
   "execution_count": 87,
   "metadata": {},
   "outputs": [],
   "source": [
    "hex_ids = {*scenarios.index.get_level_values('start_hex_ids').unique()}\n",
    "hex_ids = list(hex_ids.union({*scenarios.index.get_level_values('end_hex_ids').unique()}))"
   ]
  },
  {
   "cell_type": "code",
   "execution_count": 88,
   "metadata": {},
   "outputs": [],
   "source": [
    "complete_index = pd.MultiIndex.from_product(\n",
    "    [\n",
    "        scenarios.index.get_level_values('scenarios').unique(),\n",
    "        pd.Index(hex_ids, name=\"start_hex_ids\"),\n",
    "        pd.Index(hex_ids, name=\"end_hex_ids\"),\n",
    "        scenarios.index.get_level_values('time').unique(),\n",
    "        scenarios.index.get_level_values('vehicle_types').unique(),\n",
    "    ]\n",
    ")"
   ]
  },
  {
   "cell_type": "code",
   "execution_count": 89,
   "metadata": {},
   "outputs": [],
   "source": [
    "scenarios = scenarios.reindex(complete_index, fill_value=0)"
   ]
  },
  {
   "cell_type": "markdown",
   "metadata": {},
   "source": [
    "Find tree structure for non-anticipativity constraints"
   ]
  },
  {
   "cell_type": "code",
   "execution_count": 90,
   "metadata": {},
   "outputs": [],
   "source": [
    "scenarios_unstacked = scenarios.unstack(level=['start_hex_ids', 'end_hex_ids', 'vehicle_types']) \\\n",
    "             .swaplevel() \\\n",
    "             .sort_index()"
   ]
  },
  {
   "cell_type": "code",
   "execution_count": 91,
   "metadata": {},
   "outputs": [],
   "source": [
    "node_df = pd.DataFrame(index=scenarios_unstacked.index)\n",
    "node_df['node'] = 0\n",
    "node_df['prev_node'] = 0"
   ]
  },
  {
   "cell_type": "code",
   "execution_count": 92,
   "metadata": {
    "tags": []
   },
   "outputs": [],
   "source": [
    "times = scenarios_unstacked.index.get_level_values('time').unique()\n",
    "scenario_ids = scenarios_unstacked.index.get_level_values('scenarios').unique()\n",
    "\n",
    "nodes = []\n",
    "nodes_counter = 0\n",
    "groups = [{} for _ in range(len(times))]\n",
    "for i, time in enumerate(times):\n",
    "    prev_groups = groups[i-1] if i != 0 else {-1: list(scenario_ids)}\n",
    "\n",
    "    found_ids = []\n",
    "\n",
    "    values = scenarios_unstacked.loc[(time)].values\n",
    "\n",
    "    for scenario_id in scenario_ids:\n",
    "        if scenario_id in found_ids:\n",
    "            continue\n",
    "        current_group = list((values == values[scenario_id]).all(axis=1).nonzero()[0])\n",
    "        found_ids += current_group\n",
    "        for prev_group_id, prev_group in prev_groups.items():\n",
    "            group = [s_id for s_id in current_group if s_id in prev_group]\n",
    "\n",
    "            if(not group):\n",
    "                continue\n",
    "\n",
    "            groups[i][nodes_counter] = group\n",
    "            for s_id in group:\n",
    "                node_df.loc[(time, s_id), 'node'] = nodes_counter\n",
    "                node_df.loc[(time, s_id), 'prev_node'] = prev_group_id\n",
    "            nodes_counter += 1"
   ]
  },
  {
   "cell_type": "markdown",
   "metadata": {},
   "source": [
    "## Get Model Parameters\n"
   ]
  },
  {
   "cell_type": "code",
   "execution_count": 95,
   "metadata": {},
   "outputs": [],
   "source": [
    "distances = pd.read_pickle(PATH_DISTANCES)"
   ]
  },
  {
   "cell_type": "code",
   "execution_count": 96,
   "metadata": {},
   "outputs": [],
   "source": [
    "cost = defaultdict(lambda: defaultdict(dict))\n",
    "profit = defaultdict(lambda: defaultdict(dict))"
   ]
  },
  {
   "cell_type": "code",
   "execution_count": 98,
   "metadata": {},
   "outputs": [],
   "source": [
    "probabilities = pd.read_pickle(PATH_SCENARIO_PROBABILITY)"
   ]
  },
  {
   "cell_type": "code",
   "execution_count": 109,
   "metadata": {},
   "outputs": [
    {
     "name": "stdout",
     "output_type": "stream",
     "text": [
      "The autoreload extension is already loaded. To reload it, use:\n",
      "  %reload_ext autoreload\n"
     ]
    }
   ],
   "source": [
    "%load_ext autoreload\n",
    "%autoreload 2"
   ]
  },
  {
   "cell_type": "code",
   "execution_count": 180,
   "metadata": {},
   "outputs": [
    {
     "name": "stdout",
     "output_type": "stream",
     "text": [
      "_convert_probabilities finished in 0.00 seconds\n",
      "_convert_distances finished in 0.02 seconds\n",
      "_convert_demand finished in 0.14 seconds\n",
      "_convert_nodes finished in 0.00 seconds\n",
      "_convert_parameters finished in 0.16 seconds\n",
      "_set_max_demand finished in 0.02 seconds\n",
      "set_initial_allocation finished in 0.00 seconds\n"
     ]
    }
   ],
   "source": [
    "vehicle_types = ALL_VEHICLE_TYPES\n",
    "FLEET_CAPACITY = {\n",
    "    \"kick_scooter\": 200,\n",
    "    \"bicycle\": 100,\n",
    "    \"car\": 50,\n",
    "}\n",
    "factory = StochasticProgramFactory(scenarios, distances, probabilities, node_df, vehicle_types)\n",
    "factory.set_initial_allocation(FLEET_CAPACITY)"
   ]
  },
  {
   "cell_type": "code",
   "execution_count": 181,
   "metadata": {},
   "outputs": [
    {
     "name": "stdout",
     "output_type": "stream",
     "text": [
      "create_stochastic_program finished in 0.00 seconds\n"
     ]
    }
   ],
   "source": [
    "stochastic_program = factory.create_stochastic_program()"
   ]
  },
  {
   "cell_type": "code",
   "execution_count": 182,
   "metadata": {},
   "outputs": [],
   "source": [
    "stochastic_program.relocations_disabled = False"
   ]
  },
  {
   "cell_type": "code",
   "execution_count": 183,
   "metadata": {
    "tags": []
   },
   "outputs": [
    {
     "name": "stdout",
     "output_type": "stream",
     "text": [
      "_create_variables finished in 2.19 seconds\n",
      "_create_objective_function finished in 1.67 seconds\n",
      "_create_demand_constraints finished in 1.12 seconds\n",
      "_create_relocation_binary_constraints finished in 0.01 seconds\n",
      "_create_big_u_sum_constraints finished in 0.16 seconds\n",
      "_create_unfulfilled_demand_binary_constraints finished in 0.01 seconds\n",
      "_create_no_refused_demand_constraints finished in 0.01 seconds\n",
      "_create_max_trips_constraints finished in 0.58 seconds\n",
      "_create_vehicle_movement_constraints finished in 1.25 seconds\n",
      "_create_initial_allocation_constraints finished in 0.00 seconds\n",
      "_create_non_anticipativity_constraints finished in 0.26 seconds\n",
      "_create_constraints finished in 3.41 seconds\n",
      "create_model finished in 8.09 seconds\n"
     ]
    }
   ],
   "source": [
    "stochastic_program.create_model()"
   ]
  },
  {
   "cell_type": "code",
   "execution_count": 184,
   "metadata": {},
   "outputs": [
    {
     "name": "stderr",
     "output_type": "stream",
     "text": [
      "/home/moritz/miniconda3/envs/VR/lib/python3.8/site-packages/pulp/apis/coin_api.py:146: UserWarning: `logPath` argument replaces `msg=1`. The output will be redirected to the log file.\n",
      "  warnings.warn('`logPath` argument replaces `msg=1`. The output will be redirected to the log file.')\n"
     ]
    },
    {
     "name": "stdout",
     "output_type": "stream",
     "text": [
      "Status: Optimal\n",
      "Optimal Value of Objective Function:  4957.828195744558\n",
      "Runtime without preprocessing: 5.34 seconds\n",
      "solve finished in 8.14 seconds\n"
     ]
    }
   ],
   "source": [
    "stochastic_program.solve(logPath='./log')"
   ]
  },
  {
   "cell_type": "markdown",
   "metadata": {},
   "source": [
    "# Benchmarks\n",
    "## Different Capacities/ Disabled Relocations/ Value Of Perfect Information"
   ]
  },
  {
   "cell_type": "code",
   "execution_count": 23,
   "metadata": {},
   "outputs": [
    {
     "name": "stdout",
     "output_type": "stream",
     "text": [
      "Status: Optimal\n",
      "Optimal Value of Objective Function:  3214.0597702779287\n",
      "Runtime without preprocessing: 7.36 seconds\n",
      "solve finished in 10.71 seconds\n"
     ]
    }
   ],
   "source": [
    "capacities = [\n",
    "    {\n",
    "        \"kick_scooter\": 200,\n",
    "        \"bicycle\": 100,\n",
    "        \"car\": 50,\n",
    "    },\n",
    "    # {\n",
    "    #     \"kick_scooter\": 1000,\n",
    "    #     \"bicycle\": 500,\n",
    "    #     \"car\": 250,\n",
    "    # },{\n",
    "    #     \"kick_scooter\": 2000,\n",
    "    #     \"bicycle\": 1000,\n",
    "    #     \"car\": 500,\n",
    "    # }\n",
    "]\n"
   ]
  },
  {
   "cell_type": "code",
   "execution_count": 24,
   "metadata": {},
   "outputs": [
    {
     "name": "stdout",
     "output_type": "stream",
     "text": [
      "_convert_probabilities finished in 0.00 seconds\n",
      "_convert_distances finished in 0.70 seconds\n",
      "_convert_demand finished in 22.16 seconds\n",
      "_convert_nodes finished in 0.00 seconds\n",
      "_convert_parameters finished in 22.87 seconds\n",
      "_set_max_demand finished in 0.34 seconds\n",
      "Status: Optimal\n",
      "Optimal Value of Objective Function:  4864.224455168022\n",
      "Runtime without preprocessing: 23.37 seconds\n",
      "solve finished in 35.58 seconds\n",
      "\n",
      "\n",
      "Status: Optimal\n",
      "Optimal Value of Objective Function:  4948.07548625501\n",
      "Runtime without preprocessing: 20.10 seconds\n",
      "solve finished in 32.99 seconds\n",
      "\n",
      "\n",
      "Status: Optimal\n",
      "Optimal Value of Objective Function:  -205.2693607114608\n",
      "Runtime without preprocessing: 15.81 seconds\n",
      "solve finished in 25.09 seconds\n",
      "\n",
      "\n",
      "Status: Optimal\n",
      "Optimal Value of Objective Function:  -164.90205545466662\n",
      "Runtime without preprocessing: 13.91 seconds\n",
      "solve finished in 21.44 seconds\n",
      "\n",
      "\n"
     ]
    }
   ],
   "source": [
    "results = []\n",
    "\n",
    "factory = StochasticProgramFactory(scenarios, distances, probabilities, node_df)\n",
    "factory.include_methods = [None]\n",
    "for capacity in capacities:\n",
    "    factory.set_initial_allocation(capacity)\n",
    "\n",
    "    stochastic_program = factory.create_stochastic_program()\n",
    "    stochastic_program.include_methods = ['solve']\n",
    "\n",
    "    for relocations_disabled in [False, True]:\n",
    "        for non_anticipativity_disabled in [False, True]:\n",
    "            stochastic_program.relocations_disabled = relocations_disabled\n",
    "            stochastic_program.non_anticipativity_disabled = non_anticipativity_disabled\n",
    "            stochastic_program.create_model()\n",
    "            stochastic_program.solve()\n",
    "\n",
    "            results.append({\n",
    "                **stochastic_program.get_summary(),\n",
    "                **capacity,\n",
    "                'relocations_disabled': relocations_disabled,\n",
    "                'non_anticipativity_disabled': non_anticipativity_disabled,\n",
    "            })\n",
    "            print('\\n')"
   ]
  },
  {
   "cell_type": "code",
   "execution_count": 25,
   "metadata": {},
   "outputs": [],
   "source": [
    "results_df = pd.DataFrame.from_dict(results)"
   ]
  },
  {
   "cell_type": "code",
   "execution_count": 26,
   "metadata": {},
   "outputs": [
    {
     "data": {
      "text/html": "<div>\n<style scoped>\n    .dataframe tbody tr th:only-of-type {\n        vertical-align: middle;\n    }\n\n    .dataframe tbody tr th {\n        vertical-align: top;\n    }\n\n    .dataframe thead th {\n        text-align: right;\n    }\n</style>\n<table border=\"1\" class=\"dataframe\">\n  <thead>\n    <tr style=\"text-align: right;\">\n      <th></th>\n      <th>status</th>\n      <th>objective</th>\n      <th>solver_runtime</th>\n      <th>n_trips</th>\n      <th>n_unfilled_demand</th>\n      <th>n_parking</th>\n      <th>n_relocations</th>\n      <th>kick_scooter</th>\n      <th>bicycle</th>\n      <th>car</th>\n      <th>relocations_disabled</th>\n      <th>non_anticipativity_disabled</th>\n    </tr>\n  </thead>\n  <tbody>\n    <tr>\n      <th>0</th>\n      <td>Optimal</td>\n      <td>4864.224455</td>\n      <td>23.374614</td>\n      <td>3563</td>\n      <td>189175</td>\n      <td>0</td>\n      <td>2037</td>\n      <td>200</td>\n      <td>100</td>\n      <td>50</td>\n      <td>False</td>\n      <td>False</td>\n    </tr>\n    <tr>\n      <th>1</th>\n      <td>Optimal</td>\n      <td>4948.075486</td>\n      <td>20.103675</td>\n      <td>3576</td>\n      <td>189172</td>\n      <td>0</td>\n      <td>2024</td>\n      <td>200</td>\n      <td>100</td>\n      <td>50</td>\n      <td>False</td>\n      <td>True</td>\n    </tr>\n    <tr>\n      <th>2</th>\n      <td>Optimal</td>\n      <td>-205.269361</td>\n      <td>15.812199</td>\n      <td>1847</td>\n      <td>193439</td>\n      <td>3753</td>\n      <td>0</td>\n      <td>200</td>\n      <td>100</td>\n      <td>50</td>\n      <td>True</td>\n      <td>False</td>\n    </tr>\n    <tr>\n      <th>3</th>\n      <td>Optimal</td>\n      <td>-164.902055</td>\n      <td>13.913911</td>\n      <td>1851</td>\n      <td>193434</td>\n      <td>3749</td>\n      <td>0</td>\n      <td>200</td>\n      <td>100</td>\n      <td>50</td>\n      <td>True</td>\n      <td>True</td>\n    </tr>\n  </tbody>\n</table>\n</div>",
      "text/plain": "    status    objective  solver_runtime  n_trips  n_unfilled_demand  \\\n0  Optimal  4864.224455       23.374614     3563             189175   \n1  Optimal  4948.075486       20.103675     3576             189172   \n2  Optimal  -205.269361       15.812199     1847             193439   \n3  Optimal  -164.902055       13.913911     1851             193434   \n\n   n_parking  n_relocations  kick_scooter  bicycle  car  relocations_disabled  \\\n0          0           2037           200      100   50                 False   \n1          0           2024           200      100   50                 False   \n2       3753              0           200      100   50                  True   \n3       3749              0           200      100   50                  True   \n\n   non_anticipativity_disabled  \n0                        False  \n1                         True  \n2                        False  \n3                         True  "
     },
     "execution_count": 26,
     "metadata": {},
     "output_type": "execute_result"
    }
   ],
   "source": [
    "results_df"
   ]
  },
  {
   "cell_type": "code",
   "execution_count": 27,
   "metadata": {},
   "outputs": [],
   "source": [
    "os.makedirs(os.path.dirname(PATH_RESULTS_SUMMARY), exist_ok=True)\n",
    "results_df.to_pickle(PATH_RESULTS_SUMMARY)\n"
   ]
  },
  {
   "cell_type": "markdown",
   "metadata": {},
   "source": [
    "## Single Modal Benchmark"
   ]
  },
  {
   "cell_type": "code",
   "execution_count": 28,
   "metadata": {},
   "outputs": [],
   "source": [
    "last_demand = scenarios.copy()\n",
    "\n",
    "last_demand_unstacked = last_demand.unstack(\"vehicle_types\")\n",
    "last_demand_unstacked[(\"demand\", \"car\")] = (\n",
    "    last_demand_unstacked[(\"demand\", \"kick_scooter\")]\n",
    "    + last_demand_unstacked[(\"demand\", \"car\")]\n",
    "    + last_demand_unstacked[(\"demand\", \"bicycle\")]\n",
    ")\n",
    "last_demand = last_demand_unstacked.stack('vehicle_types')\n"
   ]
  },
  {
   "cell_type": "code",
   "execution_count": 29,
   "metadata": {},
   "outputs": [
    {
     "name": "stdout",
     "output_type": "stream",
     "text": [
      "Status: Optimal\n",
      "Optimal Value of Objective Function:  535.3306678123197\n",
      "Runtime without preprocessing: 7.27 seconds\n",
      "solve finished in 10.23 seconds\n",
      "Status: Optimal\n",
      "Optimal Value of Objective Function:  322.07286150242834\n",
      "Runtime without preprocessing: 7.16 seconds\n",
      "solve finished in 10.48 seconds\n",
      "Status: Optimal\n",
      "Optimal Value of Objective Function:  2587.3201908076935\n",
      "Runtime without preprocessing: 7.36 seconds\n",
      "solve finished in 10.46 seconds\n"
     ]
    }
   ],
   "source": [
    "FLEET_CAPACITY = {\n",
    "    \"kick_scooter\": 200,\n",
    "    \"bicycle\": 100,\n",
    "    \"car\": 50,\n",
    "}\n",
    "\n",
    "results = []\n",
    "\n",
    "for vehicle_types in [[\"car\"], [\"bicycle\"], [\"kick_scooter\"]]:\n",
    "    current_vehicle_type = vehicle_types[0]\n",
    "    current_fleet_capacity = {\n",
    "        current_vehicle_type: FLEET_CAPACITY[current_vehicle_type]\n",
    "    }\n",
    "\n",
    "    last_demand.index = last_demand.index.set_levels(\n",
    "        last_demand.index.get_level_values(\"vehicle_types\").map(lambda x: current_vehicle_type),\n",
    "        verify_integrity=False,\n",
    "        level=\"vehicle_types\",\n",
    "    )\n",
    "\n",
    "    factory = StochasticProgramFactory(\n",
    "        last_demand,\n",
    "        distances,\n",
    "        probabilities,\n",
    "        node_df,\n",
    "        vehicle_types,\n",
    "        include_methods=[None],\n",
    "    )\n",
    "    factory.set_initial_allocation(FLEET_CAPACITY)\n",
    "    stochastic_program = factory.create_stochastic_program()\n",
    "    stochastic_program.include_methods = [\"solve\"]\n",
    "    stochastic_program.create_model()\n",
    "    stochastic_program.solve()\n",
    "    # we transform the unfulfilled demand of the current lp into the demand for the next lp\n",
    "    last_demand = stochastic_program.get_unfulfilled_demand().rename(\n",
    "        columns={\"unfulfilled_demand\": \"demand\"}\n",
    "    )\n",
    "\n",
    "    results.append(\n",
    "        {**stochastic_program.get_summary(), \"vehicle_types\": str(vehicle_types)}\n",
    "    )\n"
   ]
  },
  {
   "cell_type": "code",
   "execution_count": 30,
   "metadata": {},
   "outputs": [],
   "source": [
    "factory = StochasticProgramFactory(\n",
    "    scenarios,\n",
    "    distances,\n",
    "    probabilities,\n",
    "    node_df,\n",
    "    ALL_VEHICLE_TYPES,\n",
    "    include_methods=[None],\n",
    ")\n",
    "factory.set_initial_allocation(FLEET_CAPACITY)\n",
    "stochastic_program = factory.create_stochastic_program()\n",
    "stochastic_program.include_methods = [\"solve\"]\n",
    "stochastic_program.create_model()\n",
    "stochastic_program.solve()\n",
    "\n",
    "results.append(\n",
    "    {**stochastic_program.get_summary(), \"vehicle_types\": ALL_VEHICLE_TYPES}\n",
    ")\n"
   ]
  },
  {
   "cell_type": "code",
   "execution_count": 31,
   "metadata": {},
   "outputs": [
    {
     "name": "stdout",
     "output_type": "stream",
     "text": [
      "Status: Optimal\n"
     ]
    },
    {
     "name": "stdout",
     "output_type": "stream",
     "text": [
      "Optimal Value of Objective Function:  4864.224455168022\n",
      "Runtime without preprocessing: 23.28 seconds\n",
      "solve finished in 35.69 seconds\n"
     ]
    },
    {
     "data": {
      "text/html": "<div>\n<style scoped>\n    .dataframe tbody tr th:only-of-type {\n        vertical-align: middle;\n    }\n\n    .dataframe tbody tr th {\n        vertical-align: top;\n    }\n\n    .dataframe thead th {\n        text-align: right;\n    }\n</style>\n<table border=\"1\" class=\"dataframe\">\n  <thead>\n    <tr style=\"text-align: right;\">\n      <th></th>\n      <th>status</th>\n      <th>objective</th>\n      <th>solver_runtime</th>\n      <th>n_trips</th>\n      <th>n_unfilled_demand</th>\n      <th>n_parking</th>\n      <th>n_relocations</th>\n      <th>vehicle_types</th>\n    </tr>\n  </thead>\n  <tbody>\n    <tr>\n      <th>0</th>\n      <td>Optimal</td>\n      <td>535.330668</td>\n      <td>7.267965</td>\n      <td>492</td>\n      <td>48216</td>\n      <td>0</td>\n      <td>308</td>\n      <td>['car']</td>\n    </tr>\n    <tr>\n      <th>1</th>\n      <td>Optimal</td>\n      <td>322.072862</td>\n      <td>7.160683</td>\n      <td>960</td>\n      <td>47256</td>\n      <td>0</td>\n      <td>640</td>\n      <td>['bicycle']</td>\n    </tr>\n    <tr>\n      <th>2</th>\n      <td>Optimal</td>\n      <td>2587.320191</td>\n      <td>7.356493</td>\n      <td>1896</td>\n      <td>45360</td>\n      <td>0</td>\n      <td>1304</td>\n      <td>['kick_scooter']</td>\n    </tr>\n    <tr>\n      <th>3</th>\n      <td>Optimal</td>\n      <td>4864.224455</td>\n      <td>23.279787</td>\n      <td>3563</td>\n      <td>189175</td>\n      <td>0</td>\n      <td>2037</td>\n      <td>[kick_scooter, bicycle, car]</td>\n    </tr>\n  </tbody>\n</table>\n</div>",
      "text/plain": "    status    objective  solver_runtime  n_trips  n_unfilled_demand  \\\n0  Optimal   535.330668        7.267965      492              48216   \n1  Optimal   322.072862        7.160683      960              47256   \n2  Optimal  2587.320191        7.356493     1896              45360   \n3  Optimal  4864.224455       23.279787     3563             189175   \n\n   n_parking  n_relocations                 vehicle_types  \n0          0            308                       ['car']  \n1          0            640                   ['bicycle']  \n2          0           1304              ['kick_scooter']  \n3          0           2037  [kick_scooter, bicycle, car]  "
     },
     "execution_count": 31,
     "metadata": {},
     "output_type": "execute_result"
    }
   ],
   "source": [
    "results = pd.DataFrame.from_dict(results)\n",
    "results"
   ]
  },
  {
   "cell_type": "code",
   "execution_count": 32,
   "metadata": {},
   "outputs": [
    {
     "data": {
      "text/html": "<div>\n<style scoped>\n    .dataframe tbody tr th:only-of-type {\n        vertical-align: middle;\n    }\n\n    .dataframe tbody tr th {\n        vertical-align: top;\n    }\n\n    .dataframe thead th {\n        text-align: right;\n    }\n</style>\n<table border=\"1\" class=\"dataframe\">\n  <thead>\n    <tr style=\"text-align: right;\">\n      <th></th>\n      <th>status</th>\n      <th>objective</th>\n      <th>solver_runtime</th>\n      <th>n_trips</th>\n      <th>n_unfilled_demand</th>\n      <th>n_parking</th>\n      <th>n_relocations</th>\n      <th>vehicle_types</th>\n    </tr>\n  </thead>\n  <tbody>\n    <tr>\n      <th>0</th>\n      <td>Optimal</td>\n      <td>4864.224455</td>\n      <td>23.279787</td>\n      <td>3563</td>\n      <td>189175</td>\n      <td>0</td>\n      <td>2037</td>\n      <td>[kick_scooter, bicycle, car]</td>\n    </tr>\n    <tr>\n      <th>1</th>\n      <td>OptimalOptimalOptimal</td>\n      <td>3444.723720</td>\n      <td>21.785141</td>\n      <td>3348</td>\n      <td>140832</td>\n      <td>0</td>\n      <td>2252</td>\n      <td>['car']['bicycle']['kick_scooter']</td>\n    </tr>\n  </tbody>\n</table>\n</div>",
      "text/plain": "                  status    objective  solver_runtime  n_trips  \\\n0                Optimal  4864.224455       23.279787     3563   \n1  OptimalOptimalOptimal  3444.723720       21.785141     3348   \n\n   n_unfilled_demand  n_parking  n_relocations  \\\n0             189175          0           2037   \n1             140832          0           2252   \n\n                        vehicle_types  \n0        [kick_scooter, bicycle, car]  \n1  ['car']['bicycle']['kick_scooter']  "
     },
     "execution_count": 32,
     "metadata": {},
     "output_type": "execute_result"
    }
   ],
   "source": [
    "compare = results.iloc[[3]]\n",
    "compare.append(results.iloc[range(3)].sum(), ignore_index=True)"
   ]
  },
  {
   "cell_type": "markdown",
   "metadata": {},
   "source": [
    "## Value Of The Stochastic Solution"
   ]
  },
  {
   "cell_type": "code",
   "execution_count": 33,
   "metadata": {},
   "outputs": [],
   "source": [
    "demand = scenarios.copy()\n",
    "demand = (\n",
    "    demand.unstack(\"scenarios\")[\"demand\"]\n",
    "    .sum(axis=1)\n",
    "    .to_frame()\n",
    "    .rename(columns={0: \"demand\"})\n",
    ")\n",
    "demand[\"scenarios\"] = 0\n",
    "demand = demand.set_index(\"scenarios\", append=True).reorder_levels(\n",
    "    [\"scenarios\", \"start_hex_ids\", \"end_hex_ids\", \"time\", \"vehicle_types\"]\n",
    ")\n",
    "demand['demand'] = demand['demand'] / N_REDUCED_SCNEARIOS\n",
    "demand['floored'] = demand['demand'].apply(np.floor)\n",
    "demand['ceiled'] = demand['demand'].apply(np.ceil)\n"
   ]
  },
  {
   "cell_type": "code",
   "execution_count": 34,
   "metadata": {},
   "outputs": [],
   "source": [
    "results = []\n",
    "FLEET_CAPACITY = {\n",
    "    \"kick_scooter\": 200,\n",
    "    \"bicycle\": 100,\n",
    "    \"car\": 50,\n",
    "}"
   ]
  },
  {
   "cell_type": "code",
   "execution_count": 35,
   "metadata": {},
   "outputs": [
    {
     "name": "stdout",
     "output_type": "stream",
     "text": [
      "Status: Optimal\n",
      "Optimal Value of Objective Function:  4239.106750919575\n",
      "Runtime without preprocessing: 2.35 seconds\n",
      "solve finished in 3.68 seconds\n",
      "Status: Optimal\n",
      "Optimal Value of Objective Function:  5473.103517395035\n",
      "Runtime without preprocessing: 2.22 seconds\n",
      "solve finished in 3.70 seconds\n"
     ]
    }
   ],
   "source": [
    "for rounding_mode in [\"floored\", \"ceiled\"]:\n",
    "    factory = StochasticProgramFactory(\n",
    "        demand[[rounding_mode]].rename(columns={rounding_mode: \"demand\"}),\n",
    "        distances,\n",
    "        probabilities,\n",
    "        node_df,\n",
    "        ALL_VEHICLE_TYPES,\n",
    "        include_methods=[None],\n",
    "    )\n",
    "    factory.set_initial_allocation(FLEET_CAPACITY)\n",
    "    stochastic_program = factory.create_stochastic_program()\n",
    "    stochastic_program.include_methods = [\"solve\"]\n",
    "    \n",
    "    # assign all weight to first scenario\n",
    "    stochastic_program.weighting = {0: 1}\n",
    "\n",
    "    # discard non-anticipativity constraints\n",
    "    stochastic_program.non_anticipativity_disabled = True\n",
    "\n",
    "    stochastic_program.create_model()\n",
    "    stochastic_program.solve()\n",
    "\n",
    "    results.append(\n",
    "        {**stochastic_program.get_summary(), \"vehicle_types\": ALL_VEHICLE_TYPES}\n",
    "    )\n"
   ]
  },
  {
   "cell_type": "code",
   "execution_count": 36,
   "metadata": {},
   "outputs": [],
   "source": [
    "results = pd.DataFrame.from_dict(results)"
   ]
  },
  {
   "cell_type": "code",
   "execution_count": 37,
   "metadata": {},
   "outputs": [
    {
     "data": {
      "text/html": "<div>\n<style scoped>\n    .dataframe tbody tr th:only-of-type {\n        vertical-align: middle;\n    }\n\n    .dataframe tbody tr th {\n        vertical-align: top;\n    }\n\n    .dataframe thead th {\n        text-align: right;\n    }\n</style>\n<table border=\"1\" class=\"dataframe\">\n  <thead>\n    <tr style=\"text-align: right;\">\n      <th></th>\n      <th>status</th>\n      <th>objective</th>\n      <th>solver_runtime</th>\n      <th>n_trips</th>\n      <th>n_unfilled_demand</th>\n      <th>n_parking</th>\n      <th>n_relocations</th>\n      <th>vehicle_types</th>\n    </tr>\n  </thead>\n  <tbody>\n    <tr>\n      <th>0</th>\n      <td>Optimal</td>\n      <td>4239.106751</td>\n      <td>2.347817</td>\n      <td>429</td>\n      <td>22803</td>\n      <td>0</td>\n      <td>271</td>\n      <td>[kick_scooter, bicycle, car]</td>\n    </tr>\n    <tr>\n      <th>1</th>\n      <td>Optimal</td>\n      <td>5473.103517</td>\n      <td>2.223921</td>\n      <td>434</td>\n      <td>24940</td>\n      <td>0</td>\n      <td>266</td>\n      <td>[kick_scooter, bicycle, car]</td>\n    </tr>\n  </tbody>\n</table>\n</div>",
      "text/plain": "    status    objective  solver_runtime  n_trips  n_unfilled_demand  \\\n0  Optimal  4239.106751        2.347817      429              22803   \n1  Optimal  5473.103517        2.223921      434              24940   \n\n   n_parking  n_relocations                 vehicle_types  \n0          0            271  [kick_scooter, bicycle, car]  \n1          0            266  [kick_scooter, bicycle, car]  "
     },
     "execution_count": 37,
     "metadata": {},
     "output_type": "execute_result"
    }
   ],
   "source": [
    "results"
   ]
  },
  {
   "cell_type": "code",
   "execution_count": 38,
   "metadata": {},
   "outputs": [
    {
     "data": {
      "text/plain": "scenarios          8\nstart_hex_ids     82\nend_hex_ids       82\ntime               2\nvehicle_types      3\ndemand           109\ndtype: int64"
     },
     "execution_count": 38,
     "metadata": {},
     "output_type": "execute_result"
    }
   ],
   "source": [
    "scenarios.reset_index().nunique()"
   ]
  }
 ],
 "metadata": {
  "interpreter": {
   "hash": "921dce5431bc8dd5032dbf768a24c906ac17844f87e0f443ecd3f0f6d3f457c9"
  },
  "kernelspec": {
   "display_name": "Python 3.8.10 64-bit ('VR': conda)",
   "name": "python3"
  },
  "language_info": {
   "codemirror_mode": {
    "name": "ipython",
    "version": 3
   },
   "file_extension": ".py",
   "mimetype": "text/x-python",
   "name": "python",
   "nbconvert_exporter": "python",
   "pygments_lexer": "ipython3",
   "version": "3.8.10"
  },
  "metadata": {
   "interpreter": {
    "hash": "98dda969eced25373352d8358f4a74bbe75f82753a7539c7817bd98c04161209"
   }
  },
  "orig_nbformat": 2
 },
 "nbformat": 4,
 "nbformat_minor": 2
}