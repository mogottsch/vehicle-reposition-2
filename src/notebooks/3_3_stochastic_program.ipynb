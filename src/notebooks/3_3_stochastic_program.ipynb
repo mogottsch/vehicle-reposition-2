{
 "cells": [
  {
   "cell_type": "code",
   "execution_count": 2,
   "metadata": {},
   "outputs": [],
   "source": [
    "# However we do not expect the reader to add that folder to the env variable,\n",
    "# therefore we manually load it temporarily in each notebook.\n",
    "import os, sys\n",
    "module_path = os.path.abspath(os.path.join('..'))\n",
    "if module_path not in sys.path:\n",
    "    sys.path.append(module_path)"
   ]
  },
  {
   "cell_type": "code",
   "execution_count": 3,
   "metadata": {},
   "outputs": [],
   "source": [
    "import pandas as pd\n",
    "import numpy as np\n",
    "from timeit import default_timer as timer\n",
    "from collections import defaultdict\n",
    "from modules.config import (\n",
    "    PATH_SCENARIOS_REDUCED,\n",
    "    PATH_DISTANCES,\n",
    "    PATH_SCENARIO_PROBABILITY,\n",
    "    N_REDUCED_SCNEARIOS,\n",
    "    ALL_VEHICLE_TYPES,\n",
    "    PATH_RESULTS_SUMMARY,\n",
    ")\n",
    "from modules.stochastic_program.factory import StochasticProgramFactory\n",
    "\n"
   ]
  },
  {
   "cell_type": "markdown",
   "metadata": {},
   "source": [
    "# Prepare Model Parameters\n",
    "## Scenario Data\n",
    "Make scenarios complete cross product"
   ]
  },
  {
   "cell_type": "code",
   "execution_count": 4,
   "metadata": {},
   "outputs": [],
   "source": [
    "scenarios = pd.read_pickle(PATH_SCENARIOS_REDUCED)"
   ]
  },
  {
   "cell_type": "code",
   "execution_count": 5,
   "metadata": {},
   "outputs": [],
   "source": [
    "hex_ids = {*scenarios.index.get_level_values('start_hex_ids').unique()}\n",
    "hex_ids = list(hex_ids.union({*scenarios.index.get_level_values('end_hex_ids').unique()}))"
   ]
  },
  {
   "cell_type": "code",
   "execution_count": 6,
   "metadata": {},
   "outputs": [],
   "source": [
    "complete_index = pd.MultiIndex.from_product(\n",
    "    [\n",
    "        scenarios.index.get_level_values('scenarios').unique(),\n",
    "        pd.Index(hex_ids, name=\"start_hex_ids\"),\n",
    "        pd.Index(hex_ids, name=\"end_hex_ids\"),\n",
    "        scenarios.index.get_level_values('time').unique(),\n",
    "        scenarios.index.get_level_values('vehicle_types').unique(),\n",
    "    ]\n",
    ")"
   ]
  },
  {
   "cell_type": "code",
   "execution_count": 7,
   "metadata": {},
   "outputs": [],
   "source": [
    "scenarios = scenarios.reindex(complete_index, fill_value=0)"
   ]
  },
  {
   "cell_type": "markdown",
   "metadata": {},
   "source": [
    "Find tree structure for non-anticipativity constraints"
   ]
  },
  {
   "cell_type": "code",
   "execution_count": 8,
   "metadata": {},
   "outputs": [],
   "source": [
    "scenarios_unstacked = scenarios.unstack(level=['start_hex_ids', 'end_hex_ids', 'vehicle_types']) \\\n",
    "             .swaplevel() \\\n",
    "             .sort_index()"
   ]
  },
  {
   "cell_type": "code",
   "execution_count": 9,
   "metadata": {},
   "outputs": [],
   "source": [
    "node_df = pd.DataFrame(index=scenarios_unstacked.index)\n",
    "node_df['node'] = 0\n",
    "node_df['prev_node'] = 0"
   ]
  },
  {
   "cell_type": "code",
   "execution_count": 10,
   "metadata": {
    "tags": []
   },
   "outputs": [],
   "source": [
    "times = scenarios_unstacked.index.get_level_values('time').unique()\n",
    "scenario_ids = scenarios_unstacked.index.get_level_values('scenarios').unique()\n",
    "\n",
    "nodes = []\n",
    "nodes_counter = 0\n",
    "groups = [{} for _ in range(len(times))]\n",
    "for i, time in enumerate(times):\n",
    "    prev_groups = groups[i-1] if i != 0 else {-1: list(scenario_ids)}\n",
    "\n",
    "    found_ids = []\n",
    "\n",
    "    values = scenarios_unstacked.loc[(time)].values\n",
    "\n",
    "    for scenario_id in scenario_ids:\n",
    "        if scenario_id in found_ids:\n",
    "            continue\n",
    "        current_group = list((values == values[scenario_id]).all(axis=1).nonzero()[0])\n",
    "        found_ids += current_group\n",
    "        for prev_group_id, prev_group in prev_groups.items():\n",
    "            group = [s_id for s_id in current_group if s_id in prev_group]\n",
    "\n",
    "            if(not group):\n",
    "                continue\n",
    "\n",
    "            groups[i][nodes_counter] = group\n",
    "            for s_id in group:\n",
    "                node_df.loc[(time, s_id), 'node'] = nodes_counter\n",
    "                node_df.loc[(time, s_id), 'prev_node'] = prev_group_id\n",
    "            nodes_counter += 1"
   ]
  },
  {
   "cell_type": "markdown",
   "metadata": {},
   "source": [
    "## Other Model Parameters\n"
   ]
  },
  {
   "cell_type": "code",
   "execution_count": 11,
   "metadata": {},
   "outputs": [],
   "source": [
    "distances = pd.read_pickle(PATH_DISTANCES)"
   ]
  },
  {
   "cell_type": "code",
   "execution_count": 12,
   "metadata": {},
   "outputs": [],
   "source": [
    "cost = defaultdict(lambda: defaultdict(dict))\n",
    "profit = defaultdict(lambda: defaultdict(dict))"
   ]
  },
  {
   "cell_type": "code",
   "execution_count": 13,
   "metadata": {},
   "outputs": [],
   "source": [
    "probabilities = pd.read_pickle(PATH_SCENARIO_PROBABILITY)"
   ]
  },
  {
   "cell_type": "markdown",
   "metadata": {},
   "source": [
    "# Create & Solve Stochastic Program"
   ]
  },
  {
   "cell_type": "code",
   "execution_count": 14,
   "metadata": {},
   "outputs": [
    {
     "name": "stdout",
     "output_type": "stream",
     "text": [
      "_convert_probabilities finished in 0.00 seconds\n",
      "_convert_distances finished in 0.06 seconds\n",
      "_convert_demand finished in 0.10 seconds\n",
      "_convert_nodes finished in 0.00 seconds\n",
      "_convert_parameters finished in 0.16 seconds\n",
      "_set_max_demand finished in 0.02 seconds\n",
      "set_initial_allocation finished in 0.01 seconds\n"
     ]
    }
   ],
   "source": [
    "vehicle_types = ALL_VEHICLE_TYPES\n",
    "FLEET_CAPACITY = {\n",
    "    \"kick_scooter\": 8000,\n",
    "    \"bicycle\": 3000,\n",
    "    \"car\": 2000,\n",
    "}\n",
    "factory = StochasticProgramFactory(scenarios, distances, probabilities, node_df, vehicle_types)\n",
    "factory.set_initial_allocation(FLEET_CAPACITY)"
   ]
  },
  {
   "cell_type": "code",
   "execution_count": 15,
   "metadata": {},
   "outputs": [
    {
     "name": "stdout",
     "output_type": "stream",
     "text": [
      "create_stochastic_program finished in 0.00 seconds\n"
     ]
    }
   ],
   "source": [
    "stochastic_program = factory.create_stochastic_program()"
   ]
  },
  {
   "cell_type": "code",
   "execution_count": 16,
   "metadata": {},
   "outputs": [],
   "source": [
    "stochastic_program.relocations_disabled = False"
   ]
  },
  {
   "cell_type": "code",
   "execution_count": 17,
   "metadata": {
    "tags": []
   },
   "outputs": [
    {
     "name": "stdout",
     "output_type": "stream",
     "text": [
      "_create_variables finished in 0.92 seconds\n",
      "_create_objective_function finished in 1.17 seconds\n",
      "_create_demand_constraints finished in 1.15 seconds\n",
      "_create_relocation_binary_constraints finished in 0.01 seconds\n",
      "_create_big_u_sum_constraints finished in 0.15 seconds\n",
      "_create_unfulfilled_demand_binary_constraints finished in 0.01 seconds\n",
      "_create_no_refused_demand_constraints finished in 0.01 seconds\n",
      "_create_max_trips_constraints finished in 0.56 seconds\n",
      "_create_vehicle_movement_constraints finished in 0.62 seconds\n",
      "_create_initial_allocation_constraints finished in 0.01 seconds\n",
      "_create_non_anticipativity_constraints finished in 0.43 seconds\n",
      "_create_constraints finished in 2.96 seconds\n",
      "create_model finished in 5.83 seconds\n"
     ]
    }
   ],
   "source": [
    "stochastic_program.create_model()"
   ]
  },
  {
   "cell_type": "code",
   "execution_count": 18,
   "metadata": {},
   "outputs": [
    {
     "name": "stdout",
     "output_type": "stream",
     "text": [
      "Status: Optimal\n",
      "Optimal Value of Objective Function:  32590.929604332625\n",
      "Runtime without preprocessing: 5.01 seconds\n",
      "solve finished in 7.98 seconds\n"
     ]
    }
   ],
   "source": [
    "stochastic_program.solve()"
   ]
  },
  {
   "cell_type": "code",
   "execution_count": 19,
   "metadata": {},
   "outputs": [
    {
     "name": "stdout",
     "output_type": "stream",
     "text": [
      "get_results_by_tuple_df finished in 0.55 seconds\n",
      "get_summary finished in 0.64 seconds\n"
     ]
    },
    {
     "data": {
      "text/plain": "{'status': 'Optimal',\n 'objective': 32590.929604332625,\n 'solver_runtime': 5.011268694,\n 'n_trips_avg': 7750.5,\n 'n_unfilled_demand_avg': 1940.0,\n 'demand_avg': 9690.5,\n 'n_parking_avg': 0.0,\n 'n_relocations_avg': 18249.5}"
     },
     "execution_count": 19,
     "metadata": {},
     "output_type": "execute_result"
    }
   ],
   "source": [
    "stochastic_program.get_summary()"
   ]
  },
  {
   "cell_type": "markdown",
   "metadata": {},
   "source": [
    "# Benchmarks\n",
    "## Different Capacities/ Disabled Relocations/ Value Of Perfect Information"
   ]
  },
  {
   "cell_type": "code",
   "execution_count": 19,
   "metadata": {},
   "outputs": [],
   "source": [
    "capacities = [\n",
    "    {\n",
    "        \"kick_scooter\": 200,\n",
    "        \"bicycle\": 100,\n",
    "        \"car\": 50,\n",
    "    },\n",
    "    # {\n",
    "    #     \"kick_scooter\": 1000,\n",
    "    #     \"bicycle\": 500,\n",
    "    #     \"car\": 250,\n",
    "    # },{\n",
    "    #     \"kick_scooter\": 2000,\n",
    "    #     \"bicycle\": 1000,\n",
    "    #     \"car\": 500,\n",
    "    # }\n",
    "]\n"
   ]
  },
  {
   "cell_type": "code",
   "execution_count": 20,
   "metadata": {},
   "outputs": [
    {
     "name": "stdout",
     "output_type": "stream",
     "text": [
      "_convert_probabilities finished in 0.00 seconds\n",
      "_convert_distances finished in 0.01 seconds\n",
      "_convert_demand finished in 0.27 seconds\n",
      "_convert_nodes finished in 0.00 seconds\n",
      "_convert_parameters finished in 0.29 seconds\n",
      "_set_max_demand finished in 0.02 seconds\n",
      "Status: Optimal\n",
      "Optimal Value of Objective Function:  4975.74679123742\n",
      "Runtime without preprocessing: 4.76 seconds\n",
      "solve finished in 7.45 seconds\n",
      "\n",
      "\n",
      "Status: Optimal\n",
      "Optimal Value of Objective Function:  5015.101492694181\n",
      "Runtime without preprocessing: 4.37 seconds\n",
      "solve finished in 7.25 seconds\n",
      "\n",
      "\n",
      "Status: Optimal\n",
      "Optimal Value of Objective Function:  -380.4050398438044\n",
      "Runtime without preprocessing: 3.29 seconds\n",
      "solve finished in 4.91 seconds\n",
      "\n",
      "\n",
      "Status: Optimal\n",
      "Optimal Value of Objective Function:  -360.28799928393386\n",
      "Runtime without preprocessing: 3.31 seconds\n",
      "solve finished in 4.96 seconds\n",
      "\n",
      "\n"
     ]
    }
   ],
   "source": [
    "results = []\n",
    "\n",
    "factory = StochasticProgramFactory(scenarios, distances, probabilities, node_df)\n",
    "factory.include_methods = [None]\n",
    "for capacity in capacities:\n",
    "    factory.set_initial_allocation(capacity)\n",
    "\n",
    "    stochastic_program = factory.create_stochastic_program()\n",
    "    stochastic_program.include_methods = ['solve']\n",
    "\n",
    "    for relocations_disabled in [False, True]:\n",
    "        for non_anticipativity_disabled in [False, True]:\n",
    "            stochastic_program.relocations_disabled = relocations_disabled\n",
    "            stochastic_program.non_anticipativity_disabled = non_anticipativity_disabled\n",
    "            stochastic_program.create_model()\n",
    "            stochastic_program.solve()\n",
    "\n",
    "            results.append({\n",
    "                **stochastic_program.get_summary(),\n",
    "                **capacity,\n",
    "                'relocations_disabled': relocations_disabled,\n",
    "                'non_anticipativity_disabled': non_anticipativity_disabled,\n",
    "            })\n",
    "            print('\\n')"
   ]
  },
  {
   "cell_type": "code",
   "execution_count": 21,
   "metadata": {},
   "outputs": [],
   "source": [
    "results_df = pd.DataFrame.from_dict(results)"
   ]
  },
  {
   "cell_type": "code",
   "execution_count": 22,
   "metadata": {},
   "outputs": [
    {
     "data": {
      "text/html": "<div>\n<style scoped>\n    .dataframe tbody tr th:only-of-type {\n        vertical-align: middle;\n    }\n\n    .dataframe tbody tr th {\n        vertical-align: top;\n    }\n\n    .dataframe thead th {\n        text-align: right;\n    }\n</style>\n<table border=\"1\" class=\"dataframe\">\n  <thead>\n    <tr style=\"text-align: right;\">\n      <th></th>\n      <th>status</th>\n      <th>objective</th>\n      <th>solver_runtime</th>\n      <th>n_trips</th>\n      <th>n_unfilled_demand</th>\n      <th>n_parking</th>\n      <th>n_relocations</th>\n      <th>kick_scooter</th>\n      <th>bicycle</th>\n      <th>car</th>\n      <th>relocations_disabled</th>\n      <th>non_anticipativity_disabled</th>\n    </tr>\n  </thead>\n  <tbody>\n    <tr>\n      <th>0</th>\n      <td>Optimal</td>\n      <td>4975.746791</td>\n      <td>4.757992</td>\n      <td>880</td>\n      <td>18501</td>\n      <td>0</td>\n      <td>520</td>\n      <td>200</td>\n      <td>100</td>\n      <td>50</td>\n      <td>False</td>\n      <td>False</td>\n    </tr>\n    <tr>\n      <th>1</th>\n      <td>Optimal</td>\n      <td>5015.101493</td>\n      <td>4.366536</td>\n      <td>881</td>\n      <td>18500</td>\n      <td>0</td>\n      <td>519</td>\n      <td>200</td>\n      <td>100</td>\n      <td>50</td>\n      <td>False</td>\n      <td>True</td>\n    </tr>\n    <tr>\n      <th>2</th>\n      <td>Optimal</td>\n      <td>-380.405040</td>\n      <td>3.288325</td>\n      <td>429</td>\n      <td>18952</td>\n      <td>971</td>\n      <td>0</td>\n      <td>200</td>\n      <td>100</td>\n      <td>50</td>\n      <td>True</td>\n      <td>False</td>\n    </tr>\n    <tr>\n      <th>3</th>\n      <td>Optimal</td>\n      <td>-360.287999</td>\n      <td>3.311330</td>\n      <td>429</td>\n      <td>18952</td>\n      <td>971</td>\n      <td>0</td>\n      <td>200</td>\n      <td>100</td>\n      <td>50</td>\n      <td>True</td>\n      <td>True</td>\n    </tr>\n  </tbody>\n</table>\n</div>",
      "text/plain": "    status    objective  solver_runtime  n_trips  n_unfilled_demand  \\\n0  Optimal  4975.746791        4.757992      880              18501   \n1  Optimal  5015.101493        4.366536      881              18500   \n2  Optimal  -380.405040        3.288325      429              18952   \n3  Optimal  -360.287999        3.311330      429              18952   \n\n   n_parking  n_relocations  kick_scooter  bicycle  car  relocations_disabled  \\\n0          0            520           200      100   50                 False   \n1          0            519           200      100   50                 False   \n2        971              0           200      100   50                  True   \n3        971              0           200      100   50                  True   \n\n   non_anticipativity_disabled  \n0                        False  \n1                         True  \n2                        False  \n3                         True  "
     },
     "execution_count": 22,
     "metadata": {},
     "output_type": "execute_result"
    }
   ],
   "source": [
    "results_df"
   ]
  },
  {
   "cell_type": "code",
   "execution_count": 23,
   "metadata": {},
   "outputs": [],
   "source": [
    "os.makedirs(os.path.dirname(PATH_RESULTS_SUMMARY), exist_ok=True)\n",
    "results_df.to_pickle(PATH_RESULTS_SUMMARY)\n"
   ]
  },
  {
   "cell_type": "markdown",
   "metadata": {},
   "source": [
    "## Single Modal Benchmark"
   ]
  },
  {
   "cell_type": "code",
   "execution_count": 24,
   "metadata": {},
   "outputs": [],
   "source": [
    "last_demand = scenarios.copy()\n",
    "\n",
    "last_demand_unstacked = last_demand.unstack(\"vehicle_types\")\n",
    "last_demand_unstacked[(\"demand\", \"car\")] = (\n",
    "    last_demand_unstacked[(\"demand\", \"kick_scooter\")]\n",
    "    + last_demand_unstacked[(\"demand\", \"car\")]\n",
    "    + last_demand_unstacked[(\"demand\", \"bicycle\")]\n",
    ")\n",
    "last_demand_unstacked\n",
    "last_demand: pd.DataFrame = (\n",
    "    last_demand_unstacked[\"demand\"][\"car\"].to_frame().stack().to_frame(name=\"demand\")\n",
    ")\n",
    "last_demand.index = last_demand.index.set_names(\n",
    "    [\"scenarios\", \"start_hex_ids\", \"end_hex_ids\", \"time\", \"vehicle_types\"]\n",
    ")\n"
   ]
  },
  {
   "cell_type": "code",
   "execution_count": 25,
   "metadata": {},
   "outputs": [
    {
     "name": "stdout",
     "output_type": "stream",
     "text": [
      "Status: Optimal\n",
      "Optimal Value of Objective Function:  1053.2134264412337\n",
      "Runtime without preprocessing: 1.38 seconds\n",
      "solve finished in 2.13 seconds\n",
      "Status: Optimal\n",
      "Optimal Value of Objective Function:  531.7147564579955\n",
      "Runtime without preprocessing: 1.45 seconds\n",
      "solve finished in 2.39 seconds\n",
      "Status: Optimal\n",
      "Optimal Value of Objective Function:  3726.522039948123\n",
      "Runtime without preprocessing: 1.54 seconds\n",
      "solve finished in 2.29 seconds\n"
     ]
    }
   ],
   "source": [
    "FLEET_CAPACITY = {\n",
    "    \"kick_scooter\": 200,\n",
    "    \"bicycle\": 100,\n",
    "    \"car\": 50,\n",
    "}\n",
    "\n",
    "results = []\n",
    "\n",
    "for vehicle_types in [[\"car\"], [\"bicycle\"], [\"kick_scooter\"]]:\n",
    "    current_vehicle_type = vehicle_types[0]\n",
    "    current_fleet_capacity = {\n",
    "        current_vehicle_type: FLEET_CAPACITY[current_vehicle_type]\n",
    "    }\n",
    "\n",
    "    last_demand.index = last_demand.index.set_levels(\n",
    "        last_demand.index.get_level_values(\"vehicle_types\").map(lambda x: current_vehicle_type),\n",
    "        verify_integrity=False,\n",
    "        level=\"vehicle_types\",\n",
    "    )\n",
    "\n",
    "    factory = StochasticProgramFactory(\n",
    "        last_demand,\n",
    "        distances,\n",
    "        probabilities,\n",
    "        node_df,\n",
    "        vehicle_types,\n",
    "        include_methods=[None],\n",
    "    )\n",
    "    factory.set_initial_allocation(FLEET_CAPACITY)\n",
    "    stochastic_program = factory.create_stochastic_program()\n",
    "    stochastic_program.include_methods = [\"solve\"]\n",
    "    stochastic_program.create_model()\n",
    "    stochastic_program.solve()\n",
    "    # we transform the unfulfilled demand of the current lp into the demand for the next lp\n",
    "    last_demand = stochastic_program.get_unfulfilled_demand().rename(\n",
    "        columns={\"accumulated_unfulfilled_demand\": \"demand\"}\n",
    "    )\n",
    "\n",
    "    results.append(\n",
    "        {**stochastic_program.get_summary(), \"vehicle_types\": str(vehicle_types)}\n",
    "    )\n"
   ]
  },
  {
   "cell_type": "code",
   "execution_count": 26,
   "metadata": {},
   "outputs": [
    {
     "name": "stdout",
     "output_type": "stream",
     "text": [
      "Status: Optimal\n",
      "Optimal Value of Objective Function:  4975.74679123742\n",
      "Runtime without preprocessing: 4.76 seconds\n",
      "solve finished in 7.39 seconds\n"
     ]
    }
   ],
   "source": [
    "factory = StochasticProgramFactory(\n",
    "    scenarios,\n",
    "    distances,\n",
    "    probabilities,\n",
    "    node_df,\n",
    "    ALL_VEHICLE_TYPES,\n",
    "    include_methods=[None],\n",
    ")\n",
    "factory.set_initial_allocation(FLEET_CAPACITY)\n",
    "stochastic_program = factory.create_stochastic_program()\n",
    "stochastic_program.include_methods = [\"solve\"]\n",
    "stochastic_program.create_model()\n",
    "stochastic_program.solve()\n",
    "\n",
    "results.append(\n",
    "    {**stochastic_program.get_summary(), \"vehicle_types\": ALL_VEHICLE_TYPES}\n",
    ")\n"
   ]
  },
  {
   "cell_type": "code",
   "execution_count": 27,
   "metadata": {},
   "outputs": [],
   "source": [
    "results = pd.DataFrame.from_dict(results)"
   ]
  },
  {
   "cell_type": "code",
   "execution_count": 28,
   "metadata": {},
   "outputs": [
    {
     "data": {
      "text/html": "<div>\n<style scoped>\n    .dataframe tbody tr th:only-of-type {\n        vertical-align: middle;\n    }\n\n    .dataframe tbody tr th {\n        vertical-align: top;\n    }\n\n    .dataframe thead th {\n        text-align: right;\n    }\n</style>\n<table border=\"1\" class=\"dataframe\">\n  <thead>\n    <tr style=\"text-align: right;\">\n      <th></th>\n      <th>status</th>\n      <th>objective</th>\n      <th>solver_runtime</th>\n      <th>n_trips</th>\n      <th>n_unfilled_demand</th>\n      <th>n_parking</th>\n      <th>n_relocations</th>\n      <th>vehicle_types</th>\n    </tr>\n  </thead>\n  <tbody>\n    <tr>\n      <th>0</th>\n      <td>Optimal</td>\n      <td>4975.746791</td>\n      <td>4.755951</td>\n      <td>880</td>\n      <td>18501</td>\n      <td>0</td>\n      <td>520</td>\n      <td>[kick_scooter, bicycle, car]</td>\n    </tr>\n    <tr>\n      <th>1</th>\n      <td>OptimalOptimalOptimal</td>\n      <td>5311.450223</td>\n      <td>4.375853</td>\n      <td>872</td>\n      <td>56767</td>\n      <td>0</td>\n      <td>528</td>\n      <td>['car']['bicycle']['kick_scooter']</td>\n    </tr>\n  </tbody>\n</table>\n</div>",
      "text/plain": "                  status    objective  solver_runtime  n_trips  \\\n0                Optimal  4975.746791        4.755951      880   \n1  OptimalOptimalOptimal  5311.450223        4.375853      872   \n\n   n_unfilled_demand  n_parking  n_relocations  \\\n0              18501          0            520   \n1              56767          0            528   \n\n                        vehicle_types  \n0        [kick_scooter, bicycle, car]  \n1  ['car']['bicycle']['kick_scooter']  "
     },
     "execution_count": 28,
     "metadata": {},
     "output_type": "execute_result"
    }
   ],
   "source": [
    "compare = results.iloc[[3]]\n",
    "compare.append(results.iloc[range(3)].sum(), ignore_index=True)"
   ]
  },
  {
   "cell_type": "markdown",
   "metadata": {},
   "source": [
    "## Value Of The Stochastic Solution"
   ]
  },
  {
   "cell_type": "code",
   "execution_count": 29,
   "metadata": {},
   "outputs": [],
   "source": [
    "demand = scenarios.copy()\n",
    "demand = (\n",
    "    demand.unstack(\"scenarios\")[\"demand\"]\n",
    "    .sum(axis=1)\n",
    "    .to_frame()\n",
    "    .rename(columns={0: \"demand\"})\n",
    ")\n",
    "demand[\"scenarios\"] = 0\n",
    "demand = demand.set_index(\"scenarios\", append=True).reorder_levels(\n",
    "    [\"scenarios\", \"start_hex_ids\", \"end_hex_ids\", \"time\", \"vehicle_types\"]\n",
    ")\n",
    "demand['demand'] = demand['demand'] / N_REDUCED_SCNEARIOS\n",
    "demand['floored'] = demand['demand'].apply(np.floor)\n",
    "demand['ceiled'] = demand['demand'].apply(np.ceil)\n"
   ]
  },
  {
   "cell_type": "code",
   "execution_count": 30,
   "metadata": {},
   "outputs": [],
   "source": [
    "results = []\n",
    "FLEET_CAPACITY = {\n",
    "    \"kick_scooter\": 200,\n",
    "    \"bicycle\": 100,\n",
    "    \"car\": 50,\n",
    "}"
   ]
  },
  {
   "cell_type": "code",
   "execution_count": 31,
   "metadata": {},
   "outputs": [
    {
     "name": "stdout",
     "output_type": "stream",
     "text": [
      "Status: Optimal\n",
      "Optimal Value of Objective Function:  2490.2406452638033\n",
      "Runtime without preprocessing: 2.03 seconds\n",
      "solve finished in 3.35 seconds\n",
      "Status: Optimal\n",
      "Optimal Value of Objective Function:  2596.0516856397517\n",
      "Runtime without preprocessing: 2.02 seconds\n",
      "solve finished in 3.37 seconds\n"
     ]
    }
   ],
   "source": [
    "for rounding_mode in [\"floored\", \"ceiled\"]:\n",
    "    factory = StochasticProgramFactory(\n",
    "        demand[[rounding_mode]].rename(columns={rounding_mode: \"demand\"}),\n",
    "        distances,\n",
    "        probabilities,\n",
    "        node_df,\n",
    "        ALL_VEHICLE_TYPES,\n",
    "        include_methods=[None],\n",
    "    )\n",
    "    factory.set_initial_allocation(FLEET_CAPACITY)\n",
    "    stochastic_program = factory.create_stochastic_program()\n",
    "    stochastic_program.include_methods = [\"solve\"]\n",
    "    \n",
    "    # assign all weight to first scenario\n",
    "    stochastic_program.weighting = {0: 1}\n",
    "\n",
    "    # discard non-anticipativity constraints\n",
    "    stochastic_program.non_anticipativity_disabled = True\n",
    "\n",
    "    stochastic_program.create_model()\n",
    "    stochastic_program.solve()\n",
    "\n",
    "    results.append(\n",
    "        {**stochastic_program.get_summary(), \"vehicle_types\": ALL_VEHICLE_TYPES}\n",
    "    )\n"
   ]
  },
  {
   "cell_type": "code",
   "execution_count": 32,
   "metadata": {},
   "outputs": [],
   "source": [
    "results = pd.DataFrame.from_dict(results)"
   ]
  },
  {
   "cell_type": "code",
   "execution_count": 33,
   "metadata": {},
   "outputs": [
    {
     "data": {
      "text/html": "<div>\n<style scoped>\n    .dataframe tbody tr th:only-of-type {\n        vertical-align: middle;\n    }\n\n    .dataframe tbody tr th {\n        vertical-align: top;\n    }\n\n    .dataframe thead th {\n        text-align: right;\n    }\n</style>\n<table border=\"1\" class=\"dataframe\">\n  <thead>\n    <tr style=\"text-align: right;\">\n      <th></th>\n      <th>status</th>\n      <th>objective</th>\n      <th>solver_runtime</th>\n      <th>n_trips</th>\n      <th>n_unfilled_demand</th>\n      <th>n_parking</th>\n      <th>n_relocations</th>\n      <th>vehicle_types</th>\n    </tr>\n  </thead>\n  <tbody>\n    <tr>\n      <th>0</th>\n      <td>Optimal</td>\n      <td>2490.240645</td>\n      <td>2.025330</td>\n      <td>431</td>\n      <td>9111.0</td>\n      <td>0</td>\n      <td>269</td>\n      <td>[kick_scooter, bicycle, car]</td>\n    </tr>\n    <tr>\n      <th>1</th>\n      <td>Optimal</td>\n      <td>2596.051686</td>\n      <td>2.024955</td>\n      <td>431</td>\n      <td>9408.0</td>\n      <td>0</td>\n      <td>269</td>\n      <td>[kick_scooter, bicycle, car]</td>\n    </tr>\n  </tbody>\n</table>\n</div>",
      "text/plain": "    status    objective  solver_runtime  n_trips  n_unfilled_demand  \\\n0  Optimal  2490.240645        2.025330      431             9111.0   \n1  Optimal  2596.051686        2.024955      431             9408.0   \n\n   n_parking  n_relocations                 vehicle_types  \n0          0            269  [kick_scooter, bicycle, car]  \n1          0            269  [kick_scooter, bicycle, car]  "
     },
     "execution_count": 33,
     "metadata": {},
     "output_type": "execute_result"
    }
   ],
   "source": [
    "results"
   ]
  }
 ],
 "metadata": {
  "interpreter": {
   "hash": "921dce5431bc8dd5032dbf768a24c906ac17844f87e0f443ecd3f0f6d3f457c9"
  },
  "kernelspec": {
   "display_name": "Python 3.8.10 64-bit ('VR': conda)",
   "name": "python3"
  },
  "language_info": {
   "name": "python",
   "version": ""
  },
  "metadata": {
   "interpreter": {
    "hash": "98dda969eced25373352d8358f4a74bbe75f82753a7539c7817bd98c04161209"
   }
  },
  "orig_nbformat": 2
 },
 "nbformat": 4,
 "nbformat_minor": 2
}