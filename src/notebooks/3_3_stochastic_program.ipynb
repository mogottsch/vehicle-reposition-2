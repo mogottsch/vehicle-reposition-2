{
 "cells": [
  {
   "cell_type": "code",
   "execution_count": 1,
   "metadata": {},
   "outputs": [],
   "source": [
    "# However we do not expect the reader to add that folder to the env variable,\n",
    "# therefore we manually load it temporarily in each notebook.\n",
    "import os, sys\n",
    "module_path = os.path.abspath(os.path.join('..'))\n",
    "if module_path not in sys.path:\n",
    "    sys.path.append(module_path)"
   ]
  },
  {
   "cell_type": "code",
   "execution_count": 2,
   "metadata": {},
   "outputs": [],
   "source": [
    "import pandas as pd\n",
    "import numpy as np\n",
    "from modules.config import (\n",
    "    PATH_SCENARIOS_REDUCED,\n",
    "    PATH_DISTANCES,\n",
    "    PATH_SCENARIO_PROBABILITY,\n",
    "    N_REDUCED_SCNEARIOS,\n",
    "    ALL_VEHICLE_TYPES,\n",
    "    PATH_RESULTS_SUMMARY,\n",
    "    PATH_RESULTS_SINGLE_MODAL_BENCHMARK,\n",
    "    PATH_RESULTS_VALUE_STOCHASTIC,\n",
    "    PATH_FLEET_SIZE,\n",
    "    PATH_SCENARIO_TREE_NODES,\n",
    ")\n",
    "from modules.stochastic_program.factory import StochasticProgramFactory, StochasticProgram\n",
    "\n"
   ]
  },
  {
   "source": [
    "# Stochastic Program\n",
    "In this notebook we will use the previously prepared data to create a stochastic program and solve it. In order to evaluate its performance we will perform multiple benchmarks.\n",
    "## Read Input Data"
   ],
   "cell_type": "markdown",
   "metadata": {}
  },
  {
   "cell_type": "code",
   "execution_count": 3,
   "metadata": {},
   "outputs": [],
   "source": [
    "scenarios = pd.read_pickle(PATH_SCENARIOS_REDUCED)"
   ]
  },
  {
   "cell_type": "code",
   "execution_count": 4,
   "metadata": {},
   "outputs": [],
   "source": [
    "node_df = pd.read_pickle(PATH_SCENARIO_TREE_NODES)"
   ]
  },
  {
   "cell_type": "code",
   "execution_count": 5,
   "metadata": {},
   "outputs": [],
   "source": [
    "distances = pd.read_pickle(PATH_DISTANCES)"
   ]
  },
  {
   "cell_type": "code",
   "execution_count": 6,
   "metadata": {},
   "outputs": [],
   "source": [
    "probabilities = pd.read_pickle(PATH_SCENARIO_PROBABILITY)"
   ]
  },
  {
   "cell_type": "code",
   "execution_count": 7,
   "metadata": {},
   "outputs": [
    {
     "output_type": "execute_result",
     "data": {
      "text/plain": [
       "{'bicycle': 996, 'car': 658, 'kick_scooter': 2600}"
      ]
     },
     "metadata": {},
     "execution_count": 7
    }
   ],
   "source": [
    "real_fleet_size = pd.read_pickle(PATH_FLEET_SIZE).to_dict()[\"id\"]\n",
    "# TODO\n",
    "real_fleet_size = {\n",
    "    vehicle_type: int(fleet_size/3) for vehicle_type, fleet_size in real_fleet_size.items()\n",
    "}\n",
    "real_fleet_size"
   ]
  },
  {
   "cell_type": "markdown",
   "metadata": {},
   "source": [
    "# Create & Solve Stochastic Program"
   ]
  },
  {
   "source": [
    "To create and solve the stochastic program we use the `StochasticProgramFactory` and `StochasticProgram` classes from our own module.  \n",
    "We first create the stochastic program factory with all of the prepared data."
   ],
   "cell_type": "markdown",
   "metadata": {}
  },
  {
   "cell_type": "code",
   "execution_count": 8,
   "metadata": {},
   "outputs": [
    {
     "output_type": "stream",
     "name": "stdout",
     "text": [
      "_convert_probabilities finished in 0.00 seconds\n",
      "_convert_distances finished in 0.02 seconds\n",
      "_convert_demand finished in 0.38 seconds\n",
      "_convert_nodes finished in 0.00 seconds\n",
      "_convert_parameters finished in 0.40 seconds\n",
      "_set_max_demand finished in 0.12 seconds\n",
      "set_initial_allocation finished in 0.01 seconds\n"
     ]
    }
   ],
   "source": [
    "vehicle_types = ALL_VEHICLE_TYPES\n",
    "factory = StochasticProgramFactory(\n",
    "    scenarios,\n",
    "    distances.apply(lambda x: round(x, 2)), # rounding improves performance\n",
    "    probabilities,\n",
    "    node_df,\n",
    "    vehicle_types,\n",
    ")\n",
    "factory.set_initial_allocation(real_fleet_size)\n"
   ]
  },
  {
   "source": [
    "Now we create the stochastic program using the factory. The factory will pass all the necessary data in the correct format to the stochastic program class."
   ],
   "cell_type": "markdown",
   "metadata": {}
  },
  {
   "cell_type": "code",
   "execution_count": 9,
   "metadata": {},
   "outputs": [
    {
     "output_type": "stream",
     "name": "stdout",
     "text": [
      "create_stochastic_program finished in 0.01 seconds\n"
     ]
    }
   ],
   "source": [
    "stochastic_program: StochasticProgram = factory.create_stochastic_program()"
   ]
  },
  {
   "source": [
    "We now use the stochastic program class to create the constraints and the objective function using the pulp library.  \n",
    "We also can configure the model to be risk averse by setting a beta larger than zero. Beta is the weight of the calculate-value-at-risk. Look at the documentation in `stochastic_program.py` for further details."
   ],
   "cell_type": "markdown",
   "metadata": {}
  },
  {
   "cell_type": "code",
   "execution_count": 10,
   "metadata": {
    "tags": []
   },
   "outputs": [
    {
     "output_type": "stream",
     "name": "stdout",
     "text": [
      "_create_variables finished in 2.43 seconds\n",
      "_create_objectives finished in 5.12 seconds\n",
      "_create_demand_constraints finished in 4.81 seconds\n",
      "_create_relocation_binary_constraints finished in 0.03 seconds\n",
      "_create_big_u_sum_constraints finished in 0.64 seconds\n",
      "_create_unfulfilled_demand_binary_constraints finished in 0.04 seconds\n",
      "_create_no_refused_demand_constraints finished in 0.03 seconds\n",
      "_create_relocations_constraints finished in 1.89 seconds\n",
      "_create_vehicle_trips_starting_constraints finished in 0.74 seconds\n",
      "_create_vehicle_trips_ending_constraints finished in 0.75 seconds\n",
      "_create_initial_allocation_constraints finished in 0.01 seconds\n",
      "_create_non_anticipativity_constraints finished in 2.95 seconds\n",
      "_create_value_at_risk_constraints finished in 2.62 seconds\n",
      "_create_constraints finished in 14.52 seconds\n",
      "create_model finished in 28.33 seconds\n"
     ]
    }
   ],
   "source": [
    "stochastic_program.create_model(beta=0.5, alpha=0.75)"
   ]
  },
  {
   "source": [
    "We now can solve the formulated program. Make sure that the solver selected in `config.py` is configured properly."
   ],
   "cell_type": "markdown",
   "metadata": {}
  },
  {
   "cell_type": "code",
   "execution_count": 11,
   "metadata": {},
   "outputs": [
    {
     "output_type": "stream",
     "name": "stdout",
     "text": [
      "Academic license - for non-commercial use only - expires 2021-07-23\n",
      "Using license file /home/moritz/licenses/gurobi.lic\n",
      "No parameters matching '_test' found\n",
      "Status: Optimal\n",
      "Optimal Value of Objective Function:  -7538.581250000008\n",
      "solve finished in 42.57 seconds\n"
     ]
    }
   ],
   "source": [
    "stochastic_program.solve()"
   ]
  },
  {
   "source": [
    "Here we can take a look at the dimensions of the problem."
   ],
   "cell_type": "markdown",
   "metadata": {}
  },
  {
   "cell_type": "code",
   "execution_count": 12,
   "metadata": {},
   "outputs": [
    {
     "output_type": "execute_result",
     "data": {
      "text/plain": [
       "scenarios          8\n",
       "start_hex_ids     82\n",
       "end_hex_ids       82\n",
       "time               2\n",
       "vehicle_types      3\n",
       "demand           130\n",
       "dtype: int64"
      ]
     },
     "metadata": {},
     "execution_count": 12
    }
   ],
   "source": [
    "scenarios.reset_index().nunique()"
   ]
  },
  {
   "cell_type": "code",
   "execution_count": 13,
   "metadata": {},
   "outputs": [
    {
     "output_type": "stream",
     "name": "stdout",
     "text": [
      "get_results_by_tuple_df finished in 2.38 seconds\n",
      "get_results_by_region_df finished in 0.03 seconds\n",
      "get_summary finished in 3.28 seconds\n"
     ]
    },
    {
     "output_type": "execute_result",
     "data": {
      "text/plain": [
       "{'status': 'Optimal',\n",
       " 'objective': -7538.581250000008,\n",
       " 'expected_profit': -7421.772500000014,\n",
       " 'eta': -7655.390000000003,\n",
       " 'beta': 0.5,\n",
       " 'alpha': 0.75,\n",
       " 'n_trips_avg': 5041.75,\n",
       " 'n_unfilled_demand_avg': 4532.0,\n",
       " 'demand_avg': 9573.75,\n",
       " 'n_parking_avg': 3466.25,\n",
       " 'n_relocations_avg': 4727.0}"
      ]
     },
     "metadata": {},
     "execution_count": 13
    }
   ],
   "source": [
    "stochastic_program.get_summary()"
   ]
  },
  {
   "cell_type": "markdown",
   "metadata": {},
   "source": [
    "# Benchmarks\n",
    "We will now run different benchmarks on our model to evaluate its performance.\n",
    "## Different Capacities/ Disabled Relocations/ Value Of Perfect Information\n",
    "In our first benchmark we will solve the model with 3 different vehicle fleet sizes to see how the fleet size affects the performance of the model.  \n",
    "For each fleet size we will also enable/disable relocations, so that we can see how relocations can improve profit and demand fulfillment. We will also enable/disable the non-anticipativty constraints to calculate the value of perfect information."
   ]
  },
  {
   "cell_type": "code",
   "execution_count": 14,
   "metadata": {},
   "outputs": [],
   "source": [
    "capacities = [\n",
    "    {\n",
    "        \"kick_scooter\": 10000,\n",
    "        \"bicycle\": 4000,\n",
    "        \"car\": 3000,\n",
    "    },\n",
    "    {\n",
    "        \"kick_scooter\": 8000,\n",
    "        \"bicycle\": 3000,\n",
    "        \"car\": 2000,\n",
    "    },\n",
    "    {\n",
    "        \"kick_scooter\": 6000,\n",
    "        \"bicycle\": 2000,\n",
    "        \"car\": 1000,\n",
    "    },\n",
    "]\n"
   ]
  },
  {
   "cell_type": "code",
   "execution_count": 15,
   "metadata": {},
   "outputs": [
    {
     "output_type": "stream",
     "name": "stdout",
     "text": [
      "_convert_probabilities finished in 0.00 seconds\n",
      "_convert_distances finished in 0.01 seconds\n",
      "_convert_demand finished in 1.31 seconds\n",
      "_convert_nodes finished in 0.01 seconds\n",
      "_convert_parameters finished in 1.33 seconds\n",
      "_set_max_demand finished in 0.06 seconds\n",
      "Status: Optimal\n",
      "Optimal Value of Objective Function:  -146486.54212865568\n",
      "solve finished in 154.34 seconds\n",
      "\n",
      "\n",
      "Status: Optimal\n",
      "Optimal Value of Objective Function:  -141489.89986630008\n",
      "solve finished in 30.51 seconds\n",
      "\n",
      "\n",
      "Status: Optimal\n",
      "Optimal Value of Objective Function:  -193666.55020627836\n",
      "solve finished in 15.42 seconds\n",
      "\n",
      "\n",
      "Status: Optimal\n",
      "Optimal Value of Objective Function:  -193487.37003242382\n",
      "solve finished in 12.96 seconds\n",
      "\n",
      "\n",
      "Status: Optimal\n",
      "Optimal Value of Objective Function:  -91784.631543927\n",
      "solve finished in 188.95 seconds\n",
      "\n",
      "\n",
      "Status: Optimal\n",
      "Optimal Value of Objective Function:  -87883.37045716598\n",
      "solve finished in 22.33 seconds\n",
      "\n",
      "\n",
      "Status: Optimal\n",
      "Optimal Value of Objective Function:  -131444.1195817291\n",
      "solve finished in 15.24 seconds\n",
      "\n",
      "\n",
      "Status: Optimal\n",
      "Optimal Value of Objective Function:  -131359.16406385883\n",
      "solve finished in 13.53 seconds\n",
      "\n",
      "\n",
      "Status: Optimal\n",
      "Optimal Value of Objective Function:  -41154.36767964318\n",
      "solve finished in 106.86 seconds\n",
      "\n",
      "\n",
      "Status: Optimal\n",
      "Optimal Value of Objective Function:  -38785.85264726878\n",
      "solve finished in 17.39 seconds\n",
      "\n",
      "\n",
      "Status: Optimal\n",
      "Optimal Value of Objective Function:  -72135.59483094019\n",
      "solve finished in 14.93 seconds\n",
      "\n",
      "\n",
      "Status: Optimal\n",
      "Optimal Value of Objective Function:  -72053.50672537273\n",
      "solve finished in 13.09 seconds\n",
      "\n",
      "\n"
     ]
    }
   ],
   "source": [
    "results = []\n",
    "\n",
    "factory = StochasticProgramFactory(scenarios, distances, probabilities, node_df)\n",
    "factory.include_methods = [None]\n",
    "for capacity in capacities:\n",
    "    factory.set_initial_allocation(capacity)\n",
    "\n",
    "    stochastic_program = factory.create_stochastic_program()\n",
    "    stochastic_program.include_methods = ['solve']\n",
    "\n",
    "    for relocations_disabled in [False, True]:\n",
    "        for non_anticipativity_disabled in [False, True]:\n",
    "            stochastic_program.relocations_disabled = relocations_disabled\n",
    "            stochastic_program.non_anticipativity_disabled = non_anticipativity_disabled\n",
    "            stochastic_program.create_model()\n",
    "            stochastic_program.solve()\n",
    "\n",
    "            results.append({\n",
    "                **stochastic_program.get_summary(),\n",
    "                **capacity,\n",
    "                'relocations_disabled': relocations_disabled,\n",
    "                'non_anticipativity_disabled': non_anticipativity_disabled,\n",
    "            })\n",
    "            print('\\n')"
   ]
  },
  {
   "cell_type": "code",
   "execution_count": 16,
   "metadata": {},
   "outputs": [],
   "source": [
    "results_df = pd.DataFrame.from_dict(results)"
   ]
  },
  {
   "cell_type": "code",
   "execution_count": 17,
   "metadata": {},
   "outputs": [
    {
     "output_type": "execute_result",
     "data": {
      "text/plain": [
       "     status      objective  expected_profit  n_trips_avg  \\\n",
       "0   Optimal -146486.542129   -146486.542129     7708.875   \n",
       "1   Optimal -141489.899866   -141489.899866     8047.500   \n",
       "2   Optimal -193666.550206   -193666.550206     5430.000   \n",
       "3   Optimal -193487.370032   -193487.370032     5430.250   \n",
       "4   Optimal  -91784.631544    -91784.631544     7385.875   \n",
       "5   Optimal  -87883.370457    -87883.370457     7707.250   \n",
       "6   Optimal -131444.119582   -131444.119582     4632.750   \n",
       "7   Optimal -131359.164064   -131359.164064     4632.750   \n",
       "8   Optimal  -41154.367680    -41154.367680     6920.875   \n",
       "9   Optimal  -38785.852647    -38785.852647     7209.500   \n",
       "10  Optimal  -72135.594831    -72135.594831     3595.500   \n",
       "11  Optimal  -72053.506725    -72053.506725     3583.375   \n",
       "\n",
       "    n_unfilled_demand_avg  demand_avg  n_parking_avg  n_relocations_avg  \\\n",
       "0                1864.875     9573.75      26291.125           6339.000   \n",
       "1                1526.250     9573.75      25952.500           6377.125   \n",
       "2                4143.750     9573.75      28570.000              0.000   \n",
       "3                4143.500     9573.75      28569.750              0.000   \n",
       "4                2187.875     9573.75      18614.125           5198.000   \n",
       "5                1866.500     9573.75      18292.750           5133.500   \n",
       "6                4941.000     9573.75      21367.250              0.000   \n",
       "7                4941.000     9573.75      21367.250              0.000   \n",
       "8                2652.875     9573.75      11079.125           4593.000   \n",
       "9                2364.250     9573.75      10790.500           4550.625   \n",
       "10               5978.250     9573.75      14404.500              0.000   \n",
       "11               5990.375     9573.75      14416.625              0.000   \n",
       "\n",
       "    kick_scooter  bicycle   car  relocations_disabled  \\\n",
       "0          10000     4000  3000                 False   \n",
       "1          10000     4000  3000                 False   \n",
       "2          10000     4000  3000                  True   \n",
       "3          10000     4000  3000                  True   \n",
       "4           8000     3000  2000                 False   \n",
       "5           8000     3000  2000                 False   \n",
       "6           8000     3000  2000                  True   \n",
       "7           8000     3000  2000                  True   \n",
       "8           6000     2000  1000                 False   \n",
       "9           6000     2000  1000                 False   \n",
       "10          6000     2000  1000                  True   \n",
       "11          6000     2000  1000                  True   \n",
       "\n",
       "    non_anticipativity_disabled  \n",
       "0                         False  \n",
       "1                          True  \n",
       "2                         False  \n",
       "3                          True  \n",
       "4                         False  \n",
       "5                          True  \n",
       "6                         False  \n",
       "7                          True  \n",
       "8                         False  \n",
       "9                          True  \n",
       "10                        False  \n",
       "11                         True  "
      ],
      "text/html": "<div>\n<style scoped>\n    .dataframe tbody tr th:only-of-type {\n        vertical-align: middle;\n    }\n\n    .dataframe tbody tr th {\n        vertical-align: top;\n    }\n\n    .dataframe thead th {\n        text-align: right;\n    }\n</style>\n<table border=\"1\" class=\"dataframe\">\n  <thead>\n    <tr style=\"text-align: right;\">\n      <th></th>\n      <th>status</th>\n      <th>objective</th>\n      <th>expected_profit</th>\n      <th>n_trips_avg</th>\n      <th>n_unfilled_demand_avg</th>\n      <th>demand_avg</th>\n      <th>n_parking_avg</th>\n      <th>n_relocations_avg</th>\n      <th>kick_scooter</th>\n      <th>bicycle</th>\n      <th>car</th>\n      <th>relocations_disabled</th>\n      <th>non_anticipativity_disabled</th>\n    </tr>\n  </thead>\n  <tbody>\n    <tr>\n      <th>0</th>\n      <td>Optimal</td>\n      <td>-146486.542129</td>\n      <td>-146486.542129</td>\n      <td>7708.875</td>\n      <td>1864.875</td>\n      <td>9573.75</td>\n      <td>26291.125</td>\n      <td>6339.000</td>\n      <td>10000</td>\n      <td>4000</td>\n      <td>3000</td>\n      <td>False</td>\n      <td>False</td>\n    </tr>\n    <tr>\n      <th>1</th>\n      <td>Optimal</td>\n      <td>-141489.899866</td>\n      <td>-141489.899866</td>\n      <td>8047.500</td>\n      <td>1526.250</td>\n      <td>9573.75</td>\n      <td>25952.500</td>\n      <td>6377.125</td>\n      <td>10000</td>\n      <td>4000</td>\n      <td>3000</td>\n      <td>False</td>\n      <td>True</td>\n    </tr>\n    <tr>\n      <th>2</th>\n      <td>Optimal</td>\n      <td>-193666.550206</td>\n      <td>-193666.550206</td>\n      <td>5430.000</td>\n      <td>4143.750</td>\n      <td>9573.75</td>\n      <td>28570.000</td>\n      <td>0.000</td>\n      <td>10000</td>\n      <td>4000</td>\n      <td>3000</td>\n      <td>True</td>\n      <td>False</td>\n    </tr>\n    <tr>\n      <th>3</th>\n      <td>Optimal</td>\n      <td>-193487.370032</td>\n      <td>-193487.370032</td>\n      <td>5430.250</td>\n      <td>4143.500</td>\n      <td>9573.75</td>\n      <td>28569.750</td>\n      <td>0.000</td>\n      <td>10000</td>\n      <td>4000</td>\n      <td>3000</td>\n      <td>True</td>\n      <td>True</td>\n    </tr>\n    <tr>\n      <th>4</th>\n      <td>Optimal</td>\n      <td>-91784.631544</td>\n      <td>-91784.631544</td>\n      <td>7385.875</td>\n      <td>2187.875</td>\n      <td>9573.75</td>\n      <td>18614.125</td>\n      <td>5198.000</td>\n      <td>8000</td>\n      <td>3000</td>\n      <td>2000</td>\n      <td>False</td>\n      <td>False</td>\n    </tr>\n    <tr>\n      <th>5</th>\n      <td>Optimal</td>\n      <td>-87883.370457</td>\n      <td>-87883.370457</td>\n      <td>7707.250</td>\n      <td>1866.500</td>\n      <td>9573.75</td>\n      <td>18292.750</td>\n      <td>5133.500</td>\n      <td>8000</td>\n      <td>3000</td>\n      <td>2000</td>\n      <td>False</td>\n      <td>True</td>\n    </tr>\n    <tr>\n      <th>6</th>\n      <td>Optimal</td>\n      <td>-131444.119582</td>\n      <td>-131444.119582</td>\n      <td>4632.750</td>\n      <td>4941.000</td>\n      <td>9573.75</td>\n      <td>21367.250</td>\n      <td>0.000</td>\n      <td>8000</td>\n      <td>3000</td>\n      <td>2000</td>\n      <td>True</td>\n      <td>False</td>\n    </tr>\n    <tr>\n      <th>7</th>\n      <td>Optimal</td>\n      <td>-131359.164064</td>\n      <td>-131359.164064</td>\n      <td>4632.750</td>\n      <td>4941.000</td>\n      <td>9573.75</td>\n      <td>21367.250</td>\n      <td>0.000</td>\n      <td>8000</td>\n      <td>3000</td>\n      <td>2000</td>\n      <td>True</td>\n      <td>True</td>\n    </tr>\n    <tr>\n      <th>8</th>\n      <td>Optimal</td>\n      <td>-41154.367680</td>\n      <td>-41154.367680</td>\n      <td>6920.875</td>\n      <td>2652.875</td>\n      <td>9573.75</td>\n      <td>11079.125</td>\n      <td>4593.000</td>\n      <td>6000</td>\n      <td>2000</td>\n      <td>1000</td>\n      <td>False</td>\n      <td>False</td>\n    </tr>\n    <tr>\n      <th>9</th>\n      <td>Optimal</td>\n      <td>-38785.852647</td>\n      <td>-38785.852647</td>\n      <td>7209.500</td>\n      <td>2364.250</td>\n      <td>9573.75</td>\n      <td>10790.500</td>\n      <td>4550.625</td>\n      <td>6000</td>\n      <td>2000</td>\n      <td>1000</td>\n      <td>False</td>\n      <td>True</td>\n    </tr>\n    <tr>\n      <th>10</th>\n      <td>Optimal</td>\n      <td>-72135.594831</td>\n      <td>-72135.594831</td>\n      <td>3595.500</td>\n      <td>5978.250</td>\n      <td>9573.75</td>\n      <td>14404.500</td>\n      <td>0.000</td>\n      <td>6000</td>\n      <td>2000</td>\n      <td>1000</td>\n      <td>True</td>\n      <td>False</td>\n    </tr>\n    <tr>\n      <th>11</th>\n      <td>Optimal</td>\n      <td>-72053.506725</td>\n      <td>-72053.506725</td>\n      <td>3583.375</td>\n      <td>5990.375</td>\n      <td>9573.75</td>\n      <td>14416.625</td>\n      <td>0.000</td>\n      <td>6000</td>\n      <td>2000</td>\n      <td>1000</td>\n      <td>True</td>\n      <td>True</td>\n    </tr>\n  </tbody>\n</table>\n</div>"
     },
     "metadata": {},
     "execution_count": 17
    }
   ],
   "source": [
    "results_df"
   ]
  },
  {
   "cell_type": "code",
   "execution_count": 18,
   "metadata": {},
   "outputs": [],
   "source": [
    "os.makedirs(os.path.dirname(PATH_RESULTS_SUMMARY), exist_ok=True)\n",
    "results_df.to_pickle(PATH_RESULTS_SUMMARY)\n"
   ]
  },
  {
   "cell_type": "markdown",
   "metadata": {},
   "source": [
    "## Single Modal Benchmark\n",
    "The novelty of our model is the consideration of multiple vehicle types. With this benchmark we will examine whether this consideration actually improves the profit. To do that we will create three single modal models and run them subsequently. The first single modal model will only consider kick scooters. We will then extract the unfulfilled demand from the solution of the first model and use that as an additional input for the second single modal model, which considers bicycles. Therefore the second model will have the bicycle demand plus the unfulfilled demand from the kick scooters as input. We will then repeat the process for cars.  \n",
    "We can then compare the sum of the profit of all three single modal models with the profit of the multi modal model. "
   ]
  },
  {
   "cell_type": "code",
   "execution_count": 19,
   "metadata": {},
   "outputs": [],
   "source": [
    "scenarios_copy = scenarios.copy().reset_index()\n",
    "\n",
    "demand_per_type = {\n",
    "    \"car\": scenarios_copy[scenarios_copy['vehicle_types'] == 'car']\\\n",
    "        .set_index(['scenarios','start_hex_ids','end_hex_ids','time' ,'vehicle_types']),\n",
    "    \"kick_scooter\": scenarios_copy[scenarios_copy['vehicle_types'] == 'kick_scooter']\\\n",
    "        .set_index(['scenarios','start_hex_ids','end_hex_ids','time' ,'vehicle_types']),\n",
    "    \"bicycle\": scenarios_copy[scenarios_copy['vehicle_types'] == 'bicycle']\\\n",
    "        .set_index(['scenarios','start_hex_ids','end_hex_ids','time' ,'vehicle_types']),\n",
    "}"
   ]
  },
  {
   "cell_type": "code",
   "execution_count": 20,
   "metadata": {},
   "outputs": [
    {
     "output_type": "stream",
     "name": "stdout",
     "text": [
      "previous demand 48603 \n",
      "\n",
      "demand for current vehicle 0 \n",
      "\n",
      "total current demand 48603 \n",
      "\n",
      "Status: Optimal\n",
      "Optimal Value of Objective Function:  -3260.0242262060024\n",
      "solve finished in 5.75 seconds\n"
     ]
    },
    {
     "output_type": "error",
     "ename": "NameError",
     "evalue": "name 'test' is not defined",
     "traceback": [
      "\u001b[0;31m---------------------------------------------------------------------------\u001b[0m",
      "\u001b[0;31mNameError\u001b[0m                                 Traceback (most recent call last)",
      "\u001b[0;32m<ipython-input-20-3b5cb2e604e6>\u001b[0m in \u001b[0;36m<module>\u001b[0;34m\u001b[0m\n\u001b[1;32m     44\u001b[0m     )\n\u001b[1;32m     45\u001b[0m \u001b[0;34m\u001b[0m\u001b[0m\n\u001b[0;32m---> 46\u001b[0;31m     \u001b[0mtest\u001b[0m\u001b[0;34m.\u001b[0m\u001b[0mappend\u001b[0m\u001b[0;34m(\u001b[0m\u001b[0mlast_demand\u001b[0m\u001b[0;34m)\u001b[0m\u001b[0;34m\u001b[0m\u001b[0;34m\u001b[0m\u001b[0m\n\u001b[0m\u001b[1;32m     47\u001b[0m     results.append(\n\u001b[1;32m     48\u001b[0m         \u001b[0;34m{\u001b[0m\u001b[0;34m**\u001b[0m\u001b[0mstochastic_program\u001b[0m\u001b[0;34m.\u001b[0m\u001b[0mget_summary\u001b[0m\u001b[0;34m(\u001b[0m\u001b[0;34m)\u001b[0m\u001b[0;34m,\u001b[0m \u001b[0;34m\"vehicle_types\"\u001b[0m\u001b[0;34m:\u001b[0m \u001b[0mstr\u001b[0m\u001b[0;34m(\u001b[0m\u001b[0mvehicle_types\u001b[0m\u001b[0;34m)\u001b[0m\u001b[0;34m}\u001b[0m\u001b[0;34m\u001b[0m\u001b[0;34m\u001b[0m\u001b[0m\n",
      "\u001b[0;31mNameError\u001b[0m: name 'test' is not defined"
     ]
    }
   ],
   "source": [
    "results = []\n",
    "# last demand in first iteration is 0\n",
    "last_demand = pd.DataFrame(index=demand_per_type['car'].index)\n",
    "last_demand['demand'] = 0\n",
    "for vehicle_types in [[\"kick_scooter\"], [\"bicycle\"], [\"car\"]]:\n",
    "    current_vehicle_type = vehicle_types[0]\n",
    "    print(\"previous demand\", demand_per_type[current_vehicle_type]['demand'].values.sum(), \"\\n\")\n",
    "    print(\"demand for current vehicle\", last_demand['demand'].values.sum(), \"\\n\")\n",
    "    current_demand = demand_per_type[current_vehicle_type] \\\n",
    "                    .reset_index('vehicle_types') \\\n",
    "                    .drop(\"vehicle_types\", axis=1) \\\n",
    "                    + last_demand.reset_index('vehicle_types').drop(\"vehicle_types\", axis=1)\n",
    "    current_demand['vehicle_types'] = current_vehicle_type\n",
    "    current_demand = current_demand.set_index('vehicle_types', append=True)\n",
    "    print(\"total current demand\", current_demand['demand'].values.sum(), \"\\n\")\n",
    "    current_fleet_capacity = {\n",
    "        current_vehicle_type: real_fleet_size[current_vehicle_type]\n",
    "    }\n",
    "\n",
    "    current_demand.index = current_demand.index.set_levels(\n",
    "        current_demand.index.get_level_values(\"vehicle_types\").map(\n",
    "            lambda x: current_vehicle_type\n",
    "        ),\n",
    "        verify_integrity=False,\n",
    "        level=\"vehicle_types\",\n",
    "    )\n",
    "\n",
    "    factory = StochasticProgramFactory(\n",
    "        current_demand,\n",
    "        distances,\n",
    "        probabilities,\n",
    "        node_df,\n",
    "        vehicle_types,\n",
    "        include_methods=[None],\n",
    "    )\n",
    "    factory.set_initial_allocation(real_fleet_size)\n",
    "    stochastic_program = factory.create_stochastic_program()\n",
    "    stochastic_program.include_methods = [\"solve\"]\n",
    "    stochastic_program.create_model()\n",
    "    stochastic_program.solve()\n",
    "    # we transform the unfulfilled demand of the current lp into the demand for the next lp\n",
    "    last_demand = stochastic_program.get_unfulfilled_demand().rename(\n",
    "        columns={\"accumulated_unfulfilled_demand\": \"demand\"}\n",
    "    )\n",
    "    \n",
    "    results.append(\n",
    "        {**stochastic_program.get_summary(), \"vehicle_types\": str(vehicle_types)}\n",
    "    )\n"
   ]
  },
  {
   "cell_type": "code",
   "execution_count": 14,
   "metadata": {},
   "outputs": [
    {
     "output_type": "stream",
     "name": "stdout",
     "text": [
      "Status: Optimal\n",
      "Optimal Value of Objective Function:  -7279.716174043086\n",
      "solve finished in 29.51 seconds\n"
     ]
    }
   ],
   "source": [
    "factory = StochasticProgramFactory(\n",
    "    scenarios,\n",
    "    distances,\n",
    "    probabilities,\n",
    "    node_df,\n",
    "    ALL_VEHICLE_TYPES,\n",
    "    include_methods=[None],\n",
    ")\n",
    "factory.set_initial_allocation(real_fleet_size)\n",
    "stochastic_program = factory.create_stochastic_program()\n",
    "stochastic_program.include_methods = [\"solve\"]\n",
    "stochastic_program.create_model()\n",
    "stochastic_program.solve()\n",
    "\n",
    "results.append(\n",
    "    {**stochastic_program.get_summary(), \"vehicle_types\": ALL_VEHICLE_TYPES}\n",
    ")\n"
   ]
  },
  {
   "cell_type": "code",
   "execution_count": 15,
   "metadata": {},
   "outputs": [],
   "source": [
    "results = pd.DataFrame.from_dict(results)"
   ]
  },
  {
   "cell_type": "code",
   "execution_count": 17,
   "metadata": {},
   "outputs": [
    {
     "output_type": "execute_result",
     "data": {
      "text/plain": [
       "                  status     objective  expected_profit  n_trips_avg  \\\n",
       "0                Optimal  -7279.716174     -7279.716174      5004.25   \n",
       "1  OptimalOptimalOptimal -14081.660421    -14081.660421      5062.75   \n",
       "\n",
       "   n_unfilled_demand_avg  demand_avg  n_parking_avg  n_relocations_avg  \\\n",
       "0               4569.500    9573.750        3503.75             3576.0   \n",
       "1              12461.125   17523.875        3445.25             4065.0   \n",
       "\n",
       "                        vehicle_types  \n",
       "0        [kick_scooter, bicycle, car]  \n",
       "1  ['kick_scooter']['bicycle']['car']  "
      ],
      "text/html": "<div>\n<style scoped>\n    .dataframe tbody tr th:only-of-type {\n        vertical-align: middle;\n    }\n\n    .dataframe tbody tr th {\n        vertical-align: top;\n    }\n\n    .dataframe thead th {\n        text-align: right;\n    }\n</style>\n<table border=\"1\" class=\"dataframe\">\n  <thead>\n    <tr style=\"text-align: right;\">\n      <th></th>\n      <th>status</th>\n      <th>objective</th>\n      <th>expected_profit</th>\n      <th>n_trips_avg</th>\n      <th>n_unfilled_demand_avg</th>\n      <th>demand_avg</th>\n      <th>n_parking_avg</th>\n      <th>n_relocations_avg</th>\n      <th>vehicle_types</th>\n    </tr>\n  </thead>\n  <tbody>\n    <tr>\n      <th>0</th>\n      <td>Optimal</td>\n      <td>-7279.716174</td>\n      <td>-7279.716174</td>\n      <td>5004.25</td>\n      <td>4569.500</td>\n      <td>9573.750</td>\n      <td>3503.75</td>\n      <td>3576.0</td>\n      <td>[kick_scooter, bicycle, car]</td>\n    </tr>\n    <tr>\n      <th>1</th>\n      <td>OptimalOptimalOptimal</td>\n      <td>-14081.660421</td>\n      <td>-14081.660421</td>\n      <td>5062.75</td>\n      <td>12461.125</td>\n      <td>17523.875</td>\n      <td>3445.25</td>\n      <td>4065.0</td>\n      <td>['kick_scooter']['bicycle']['car']</td>\n    </tr>\n  </tbody>\n</table>\n</div>"
     },
     "metadata": {},
     "execution_count": 17
    }
   ],
   "source": [
    "compare = results.iloc[[3]]\n",
    "compare.append(results.iloc[range(3)].sum(), ignore_index=True)"
   ]
  },
  {
   "cell_type": "code",
   "execution_count": null,
   "metadata": {},
   "outputs": [],
   "source": [
    "os.makedirs(os.path.dirname(PATH_RESULTS_SINGLE_MODAL_BENCHMARK), exist_ok=True)\n",
    "compare.to_pickle(PATH_RESULTS_SINGLE_MODAL_BENCHMARK)"
   ]
  },
  {
   "cell_type": "markdown",
   "metadata": {},
   "source": [
    "## Value Of The Stochastic Solution"
   ]
  },
  {
   "cell_type": "code",
   "execution_count": null,
   "metadata": {},
   "outputs": [],
   "source": [
    "demand = scenarios.copy()\n",
    "demand = (\n",
    "    demand.unstack(\"scenarios\")[\"demand\"]\n",
    "    .sum(axis=1)\n",
    "    .to_frame()\n",
    "    .rename(columns={0: \"demand\"})\n",
    ")\n",
    "demand[\"scenarios\"] = 0\n",
    "demand = demand.set_index(\"scenarios\", append=True).reorder_levels(\n",
    "    [\"scenarios\", \"start_hex_ids\", \"end_hex_ids\", \"time\", \"vehicle_types\"]\n",
    ")\n",
    "demand['demand'] = demand['demand'] / N_REDUCED_SCNEARIOS\n",
    "demand['floored'] = demand['demand'].apply(np.floor)\n",
    "demand['ceiled'] = demand['demand'].apply(np.ceil)\n"
   ]
  },
  {
   "cell_type": "code",
   "execution_count": null,
   "metadata": {},
   "outputs": [
    {
     "name": "stdout",
     "output_type": "stream",
     "text": [
      "Status: Optimal\n",
      "Optimal Value of Objective Function:  659.3184262029068\n",
      "Runtime without preprocessing: 1.92 seconds\n",
      "solve finished in 3.06 seconds\n",
      "Status: Optimal\n",
      "Optimal Value of Objective Function:  1101.9133428664495\n",
      "Runtime without preprocessing: 1.95 seconds\n",
      "solve finished in 3.45 seconds\n"
     ]
    }
   ],
   "source": [
    "results = []\n",
    "for rounding_mode in [\"floored\", \"ceiled\"]:\n",
    "    factory = StochasticProgramFactory(\n",
    "        demand[[rounding_mode]].rename(columns={rounding_mode: \"demand\"}),\n",
    "        distances,\n",
    "        probabilities,\n",
    "        node_df,\n",
    "        ALL_VEHICLE_TYPES,\n",
    "        include_methods=[None],\n",
    "    )\n",
    "    factory.set_initial_allocation(real_fleet_size)\n",
    "    stochastic_program = factory.create_stochastic_program()\n",
    "    stochastic_program.include_methods = [\"solve\"]\n",
    "    \n",
    "    # assign all weight to first scenario\n",
    "    stochastic_program.weighting = {0: 1}\n",
    "\n",
    "    # discard non-anticipativity constraints\n",
    "    stochastic_program.non_anticipativity_disabled = True\n",
    "\n",
    "    stochastic_program.create_model()\n",
    "    stochastic_program.solve()\n",
    "\n",
    "    results.append(\n",
    "        {**stochastic_program.get_summary(), \"vehicle_types\": ALL_VEHICLE_TYPES}\n",
    "    )\n"
   ]
  },
  {
   "cell_type": "code",
   "execution_count": null,
   "metadata": {},
   "outputs": [
    {
     "data": {
      "text/html": "<div>\n<style scoped>\n    .dataframe tbody tr th:only-of-type {\n        vertical-align: middle;\n    }\n\n    .dataframe tbody tr th {\n        vertical-align: top;\n    }\n\n    .dataframe thead th {\n        text-align: right;\n    }\n</style>\n<table border=\"1\" class=\"dataframe\">\n  <thead>\n    <tr style=\"text-align: right;\">\n      <th></th>\n      <th>status</th>\n      <th>objective</th>\n      <th>solver_runtime</th>\n      <th>n_trips_avg</th>\n      <th>n_unfilled_demand_avg</th>\n      <th>demand_avg</th>\n      <th>n_parking_avg</th>\n      <th>n_relocations_avg</th>\n      <th>vehicle_types</th>\n    </tr>\n  </thead>\n  <tbody>\n    <tr>\n      <th>0</th>\n      <td>Optimal</td>\n      <td>659.318426</td>\n      <td>1.918428</td>\n      <td>429.0</td>\n      <td>8545.0</td>\n      <td>8974.0</td>\n      <td>0.0</td>\n      <td>271.0</td>\n      <td>[kick_scooter, bicycle, car]</td>\n    </tr>\n    <tr>\n      <th>1</th>\n      <td>Optimal</td>\n      <td>1101.913343</td>\n      <td>1.945398</td>\n      <td>441.0</td>\n      <td>10422.0</td>\n      <td>10863.0</td>\n      <td>0.0</td>\n      <td>259.0</td>\n      <td>[kick_scooter, bicycle, car]</td>\n    </tr>\n  </tbody>\n</table>\n</div>",
      "text/plain": "    status    objective  solver_runtime  n_trips_avg  n_unfilled_demand_avg  \\\n0  Optimal   659.318426        1.918428        429.0                 8545.0   \n1  Optimal  1101.913343        1.945398        441.0                10422.0   \n\n   demand_avg  n_parking_avg  n_relocations_avg                 vehicle_types  \n0      8974.0            0.0              271.0  [kick_scooter, bicycle, car]  \n1     10863.0            0.0              259.0  [kick_scooter, bicycle, car]  "
     },
     "execution_count": 31,
     "metadata": {},
     "output_type": "execute_result"
    }
   ],
   "source": [
    "results = pd.DataFrame.from_dict(results)\n",
    "results"
   ]
  },
  {
   "cell_type": "code",
   "execution_count": null,
   "metadata": {},
   "outputs": [],
   "source": [
    "results_df.to_pickle(PATH_RESULTS_VALUE_STOCHASTIC)"
   ]
  }
 ],
 "metadata": {
  "interpreter": {
   "hash": "921dce5431bc8dd5032dbf768a24c906ac17844f87e0f443ecd3f0f6d3f457c9"
  },
  "kernelspec": {
   "name": "python3810jvsc74a57bd0921dce5431bc8dd5032dbf768a24c906ac17844f87e0f443ecd3f0f6d3f457c9",
   "display_name": "Python 3.8.10 64-bit ('VR': conda)"
  },
  "language_info": {
   "codemirror_mode": {
    "name": "ipython",
    "version": 3
   },
   "file_extension": ".py",
   "mimetype": "text/x-python",
   "name": "python",
   "nbconvert_exporter": "python",
   "pygments_lexer": "ipython3",
   "version": "3.8.10"
  },
  "metadata": {
   "interpreter": {
    "hash": "98dda969eced25373352d8358f4a74bbe75f82753a7539c7817bd98c04161209"
   }
  },
  "orig_nbformat": 2
 },
 "nbformat": 4,
 "nbformat_minor": 2
}