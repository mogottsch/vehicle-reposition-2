{
 "cells": [
  {
   "cell_type": "code",
   "execution_count": 1,
   "metadata": {},
   "outputs": [],
   "source": [
    "# However we do not expect the reader to add that folder to the env variable,\n",
    "# therefore we manually load it temporarily in each notebook.\n",
    "import os, sys\n",
    "module_path = os.path.abspath(os.path.join('..'))\n",
    "if module_path not in sys.path:\n",
    "    sys.path.append(module_path)"
   ]
  },
  {
   "cell_type": "code",
   "execution_count": 2,
   "metadata": {},
   "outputs": [],
   "source": [
    "import pandas as pd\n",
    "import numpy as np\n",
    "from modules.config import (\n",
    "    PATH_SCENARIOS_REDUCED,\n",
    "    PATH_DISTANCES,\n",
    "    PATH_SCENARIO_PROBABILITY,\n",
    "    N_REDUCED_SCNEARIOS,\n",
    "    ALL_VEHICLE_TYPES,\n",
    "    PATH_FLEET_SIZE,\n",
    "    PATH_RESULTS_SUMMARY,\n",
    "    PATH_RESULTS_SINGLE_MODAL_BENCHMARK,\n",
    "    PATH_RESULTS_VALUE_STOCHASTIC,\n",
    "    PATH_RESULTS_VAR_REGION,\n",
    "    PATH_RESULTS_VAR_TUPLE,\n",
    ")\n",
    "from modules.stochastic_program.factory import StochasticProgramFactory\n",
    "\n"
   ]
  },
  {
   "cell_type": "markdown",
   "metadata": {},
   "source": [
    "# Prepare Model Parameters\n",
    "## Scenario Data\n",
    "Make scenarios complete cross product"
   ]
  },
  {
   "cell_type": "code",
   "execution_count": 3,
   "metadata": {},
   "outputs": [],
   "source": [
    "scenarios = pd.read_pickle(PATH_SCENARIOS_REDUCED)"
   ]
  },
  {
   "cell_type": "code",
   "execution_count": 4,
   "metadata": {},
   "outputs": [],
   "source": [
    "hex_ids = {*scenarios.index.get_level_values('start_hex_ids').unique()}\n",
    "hex_ids = list(hex_ids.union({*scenarios.index.get_level_values('end_hex_ids').unique()}))"
   ]
  },
  {
   "cell_type": "code",
   "execution_count": 5,
   "metadata": {},
   "outputs": [],
   "source": [
    "complete_index = pd.MultiIndex.from_product(\n",
    "    [\n",
    "        scenarios.index.get_level_values('scenarios').unique(),\n",
    "        pd.Index(hex_ids, name=\"start_hex_ids\"),\n",
    "        pd.Index(hex_ids, name=\"end_hex_ids\"),\n",
    "        scenarios.index.get_level_values('time').unique(),\n",
    "        scenarios.index.get_level_values('vehicle_types').unique(),\n",
    "    ]\n",
    ")"
   ]
  },
  {
   "cell_type": "code",
   "execution_count": 6,
   "metadata": {},
   "outputs": [],
   "source": [
    "scenarios = scenarios.reindex(complete_index, fill_value=0)"
   ]
  },
  {
   "cell_type": "markdown",
   "metadata": {},
   "source": [
    "Find tree structure for non-anticipativity constraints"
   ]
  },
  {
   "cell_type": "code",
   "execution_count": 7,
   "metadata": {},
   "outputs": [],
   "source": [
    "scenarios_unstacked = scenarios.unstack(level=['start_hex_ids', 'end_hex_ids', 'vehicle_types']) \\\n",
    "             .swaplevel() \\\n",
    "             .sort_index()"
   ]
  },
  {
   "cell_type": "code",
   "execution_count": 8,
   "metadata": {},
   "outputs": [],
   "source": [
    "node_df = pd.DataFrame(index=scenarios_unstacked.index)\n",
    "node_df['node'] = 0\n",
    "node_df['prev_node'] = 0"
   ]
  },
  {
   "cell_type": "code",
   "execution_count": 9,
   "metadata": {
    "tags": []
   },
   "outputs": [],
   "source": [
    "times = scenarios_unstacked.index.get_level_values('time').unique()\n",
    "scenario_ids = scenarios_unstacked.index.get_level_values('scenarios').unique()\n",
    "\n",
    "nodes = []\n",
    "nodes_counter = 0\n",
    "groups = [{} for _ in range(len(times))]\n",
    "for i, time in enumerate(times):\n",
    "    prev_groups = groups[i-1] if i != 0 else {-1: list(scenario_ids)}\n",
    "\n",
    "    found_ids = []\n",
    "\n",
    "    values = scenarios_unstacked.loc[(time)].values\n",
    "\n",
    "    for scenario_id in scenario_ids:\n",
    "        if scenario_id in found_ids:\n",
    "            continue\n",
    "        current_group = list((values == values[scenario_id]).all(axis=1).nonzero()[0])\n",
    "        found_ids += current_group\n",
    "        for prev_group_id, prev_group in prev_groups.items():\n",
    "            group = [s_id for s_id in current_group if s_id in prev_group]\n",
    "\n",
    "            if(not group):\n",
    "                continue\n",
    "\n",
    "            groups[i][nodes_counter] = group\n",
    "            for s_id in group:\n",
    "                node_df.loc[(time, s_id), 'node'] = nodes_counter\n",
    "                node_df.loc[(time, s_id), 'prev_node'] = prev_group_id\n",
    "            nodes_counter += 1"
   ]
  },
  {
   "cell_type": "markdown",
   "metadata": {},
   "source": [
    "## Other Model Parameters\n"
   ]
  },
  {
   "cell_type": "code",
   "execution_count": 10,
   "metadata": {},
   "outputs": [],
   "source": [
    "distances = pd.read_pickle(PATH_DISTANCES)"
   ]
  },
  {
   "cell_type": "code",
   "execution_count": 11,
   "metadata": {},
   "outputs": [],
   "source": [
    "probabilities = pd.read_pickle(PATH_SCENARIO_PROBABILITY)"
   ]
  },
  {
   "cell_type": "code",
   "execution_count": 12,
   "metadata": {},
   "outputs": [],
   "source": [
    "real_fleet_size = pd.read_pickle(PATH_FLEET_SIZE).to_dict()['id']"
   ]
  },
  {
   "cell_type": "markdown",
   "metadata": {},
   "source": [
    "# Create & Solve Stochastic Program"
   ]
  },
  {
   "cell_type": "code",
   "execution_count": 13,
   "metadata": {},
   "outputs": [],
   "source": [
    "%load_ext autoreload\n",
    "%autoreload 2"
   ]
  },
  {
   "cell_type": "code",
   "execution_count": 14,
   "metadata": {},
   "outputs": [
    {
     "name": "stdout",
     "output_type": "stream",
     "text": [
      "_convert_probabilities finished in 0.00 seconds\n",
      "_convert_distances finished in 0.06 seconds\n",
      "_convert_demand finished in 0.08 seconds\n",
      "_convert_nodes finished in 0.00 seconds\n",
      "_convert_parameters finished in 0.14 seconds\n",
      "_set_max_demand finished in 0.02 seconds\n",
      "set_initial_allocation finished in 0.00 seconds\n"
     ]
    }
   ],
   "source": [
    "vehicle_types = ALL_VEHICLE_TYPES\n",
    "factory = StochasticProgramFactory(scenarios, distances, probabilities, node_df, vehicle_types)\n",
    "factory.set_initial_allocation(real_fleet_size)"
   ]
  },
  {
   "cell_type": "code",
   "execution_count": 15,
   "metadata": {},
   "outputs": [
    {
     "name": "stdout",
     "output_type": "stream",
     "text": [
      "create_stochastic_program finished in 0.00 seconds\n"
     ]
    }
   ],
   "source": [
    "stochastic_program = factory.create_stochastic_program()"
   ]
  },
  {
   "cell_type": "code",
   "execution_count": 16,
   "metadata": {},
   "outputs": [],
   "source": [
    "stochastic_program.relocations_disabled = False"
   ]
  },
  {
   "cell_type": "code",
   "execution_count": 17,
   "metadata": {
    "tags": []
   },
   "outputs": [
    {
     "name": "stdout",
     "output_type": "stream",
     "text": [
      "_create_variables finished in 0.79 seconds\n",
      "_create_objective_function finished in 0.98 seconds\n",
      "_create_demand_constraints finished in 1.14 seconds\n",
      "_create_relocation_binary_constraints finished in 0.01 seconds\n",
      "_create_big_u_sum_constraints finished in 0.15 seconds\n",
      "_create_unfulfilled_demand_binary_constraints finished in 0.01 seconds\n",
      "_create_no_refused_demand_constraints finished in 0.01 seconds\n",
      "_create_relocations_constraints finished in 0.41 seconds\n",
      "_create_vehicle_trips_starting_constraints finished in 0.16 seconds\n",
      "_create_vehicle_trips_ending_constraints finished in 0.18 seconds\n",
      "_create_initial_allocation_constraints finished in 0.00 seconds\n",
      "_create_non_anticipativity_constraints finished in 0.25 seconds\n",
      "_create_constraints finished in 2.31 seconds\n",
      "create_model finished in 4.74 seconds\n"
     ]
    }
   ],
   "source": [
    "stochastic_program.create_model()"
   ]
  },
  {
   "cell_type": "code",
   "execution_count": 18,
   "metadata": {},
   "outputs": [
    {
     "name": "stdout",
     "output_type": "stream",
     "text": [
      "Status: Optimal\n",
      "Optimal Value of Objective Function:  39439.17340320907\n",
      "solve finished in 15.58 seconds\n"
     ]
    }
   ],
   "source": [
    "stochastic_program.solve()"
   ]
  },
  {
   "cell_type": "code",
   "execution_count": 19,
   "metadata": {},
   "outputs": [
    {
     "data": {
      "text/plain": "4.28"
     },
     "execution_count": 19,
     "metadata": {},
     "output_type": "execute_result"
    }
   ],
   "source": [
    "41680.24682238031\n",
    "4.28"
   ]
  },
  {
   "cell_type": "code",
   "execution_count": 20,
   "metadata": {},
   "outputs": [
    {
     "data": {
      "text/plain": "scenarios         2\nstart_hex_ids    82\nend_hex_ids      82\ntime              2\nvehicle_types     3\ndemand           79\ndtype: int64"
     },
     "execution_count": 20,
     "metadata": {},
     "output_type": "execute_result"
    }
   ],
   "source": [
    "scenarios.reset_index().nunique()"
   ]
  },
  {
   "cell_type": "code",
   "execution_count": 21,
   "metadata": {},
   "outputs": [
    {
     "name": "stdout",
     "output_type": "stream",
     "text": [
      "get_results_by_tuple_df finished in 0.67 seconds\n",
      "get_results_by_region_df finished in 0.01 seconds\n",
      "get_summary finished in 0.72 seconds\n"
     ]
    },
    {
     "data": {
      "text/plain": "{'status': 'Optimal',\n 'objective': 39439.17340320907,\n 'n_trips_avg': 7387.5,\n 'n_unfilled_demand_avg': 2210.0,\n 'demand_avg': 9597.5,\n 'n_parking_avg': 18146.5,\n 'n_relocations_avg': 3688.0}"
     },
     "execution_count": 21,
     "metadata": {},
     "output_type": "execute_result"
    }
   ],
   "source": [
    "stochastic_program.get_summary()"
   ]
  },
  {
   "cell_type": "code",
   "execution_count": 22,
   "metadata": {},
   "outputs": [
    {
     "data": {
      "text/plain": "{'status': 'Optimal',\n 'objective': 41680.24682238031,\n 'n_trips_avg': 7586.0,\n 'n_unfilled_demand_avg': 2168.0,\n 'demand_avg': 9754.0,\n 'n_parking_avg': 17948.0,\n 'n_relocations_avg': 3540.0}"
     },
     "execution_count": 22,
     "metadata": {},
     "output_type": "execute_result"
    }
   ],
   "source": [
    "{'status': 'Optimal',\n",
    " 'objective': 41680.24682238031,\n",
    " 'n_trips_avg': 7586.0,\n",
    " 'n_unfilled_demand_avg': 2168.0,\n",
    " 'demand_avg': 9754.0,\n",
    " 'n_parking_avg': 17948.0,\n",
    " 'n_relocations_avg': 3540.0}"
   ]
  },
  {
   "cell_type": "code",
   "execution_count": 23,
   "metadata": {},
   "outputs": [
    {
     "name": "stdout",
     "output_type": "stream",
     "text": [
      "get_results_by_region_df finished in 0.02 seconds\n",
      "get_results_by_tuple_df finished in 0.50 seconds\n"
     ]
    }
   ],
   "source": [
    "os.makedirs(os.path.dirname(PATH_RESULTS_VAR_REGION), exist_ok=True)\n",
    "stochastic_program.get_results_by_region_df().to_pickle(PATH_RESULTS_VAR_REGION)\n",
    "stochastic_program.get_results_by_tuple_df().to_pickle(PATH_RESULTS_VAR_TUPLE)"
   ]
  },
  {
   "cell_type": "markdown",
   "metadata": {},
   "source": [
    "# Benchmarks\n",
    "## Different Capacities/ Disabled Relocations/ Value Of Perfect Information"
   ]
  },
  {
   "cell_type": "code",
   "execution_count": 24,
   "metadata": {},
   "outputs": [],
   "source": [
    "capacities = [\n",
    "    {\n",
    "        \"kick_scooter\": 10000,\n",
    "        \"bicycle\": 4000,\n",
    "        \"car\": 3000,\n",
    "    },\n",
    "    {\n",
    "        \"kick_scooter\": 8000,\n",
    "        \"bicycle\": 3000,\n",
    "        \"car\": 2000,\n",
    "    },\n",
    "    {\n",
    "        \"kick_scooter\": 6000,\n",
    "        \"bicycle\": 2000,\n",
    "        \"car\": 1000,\n",
    "    },\n",
    "]\n"
   ]
  },
  {
   "cell_type": "code",
   "execution_count": 25,
   "metadata": {},
   "outputs": [
    {
     "name": "stdout",
     "output_type": "stream",
     "text": [
      "_convert_probabilities finished in 0.00 seconds\n",
      "_convert_distances finished in 0.01 seconds\n",
      "_convert_demand finished in 0.24 seconds\n",
      "_convert_nodes finished in 0.00 seconds\n",
      "_convert_parameters finished in 0.26 seconds\n",
      "_set_max_demand finished in 0.02 seconds\n",
      "Status: Optimal\n",
      "Optimal Value of Objective Function:  41986.89074871598\n",
      "solve finished in 24.41 seconds\n",
      "\n",
      "\n",
      "Status: Optimal\n",
      "Optimal Value of Objective Function:  42184.083245026224\n",
      "solve finished in 14.60 seconds\n",
      "\n",
      "\n",
      "Status: Optimal\n",
      "Optimal Value of Objective Function:  32621.697044450702\n",
      "solve finished in 5.67 seconds\n",
      "\n",
      "\n",
      "Status: Optimal\n",
      "Optimal Value of Objective Function:  32664.57866421464\n",
      "solve finished in 5.44 seconds\n",
      "\n",
      "\n",
      "Status: Optimal\n",
      "Optimal Value of Objective Function:  39492.22701510469\n",
      "solve finished in 18.24 seconds\n",
      "\n",
      "\n",
      "Status: Optimal\n",
      "Optimal Value of Objective Function:  39660.30488397726\n",
      "solve finished in 9.34 seconds\n",
      "\n",
      "\n",
      "Status: Optimal\n",
      "Optimal Value of Objective Function:  29844.08240653139\n",
      "solve finished in 5.45 seconds\n",
      "\n",
      "\n",
      "Status: Optimal\n",
      "Optimal Value of Objective Function:  29861.529239028823\n",
      "solve finished in 5.14 seconds\n",
      "\n",
      "\n",
      "Status: Optimal\n",
      "Optimal Value of Objective Function:  35886.38245997785\n",
      "solve finished in 10.39 seconds\n",
      "\n",
      "\n",
      "Status: Optimal\n",
      "Optimal Value of Objective Function:  36129.94833382109\n",
      "solve finished in 8.31 seconds\n",
      "\n",
      "\n",
      "Status: Optimal\n",
      "Optimal Value of Objective Function:  25479.776813322525\n",
      "solve finished in 5.43 seconds\n",
      "\n",
      "\n",
      "Status: Optimal\n",
      "Optimal Value of Objective Function:  25505.182160017186\n",
      "solve finished in 5.18 seconds\n",
      "\n",
      "\n"
     ]
    }
   ],
   "source": [
    "results = []\n",
    "\n",
    "factory = StochasticProgramFactory(scenarios, distances, probabilities, node_df)\n",
    "factory.include_methods = [None]\n",
    "for capacity in capacities:\n",
    "    factory.set_initial_allocation(capacity)\n",
    "\n",
    "    stochastic_program = factory.create_stochastic_program()\n",
    "    stochastic_program.include_methods = ['solve']\n",
    "\n",
    "    for relocations_disabled in [False, True]:\n",
    "        for non_anticipativity_disabled in [False, True]:\n",
    "            stochastic_program.relocations_disabled = relocations_disabled\n",
    "            stochastic_program.non_anticipativity_disabled = non_anticipativity_disabled\n",
    "            stochastic_program.create_model()\n",
    "            stochastic_program.solve()\n",
    "\n",
    "            results.append({\n",
    "                **stochastic_program.get_summary(),\n",
    "                **capacity,\n",
    "                'relocations_disabled': relocations_disabled,\n",
    "                'non_anticipativity_disabled': non_anticipativity_disabled,\n",
    "            })\n",
    "            print('\\n')"
   ]
  },
  {
   "cell_type": "code",
   "execution_count": 26,
   "metadata": {},
   "outputs": [],
   "source": [
    "results_df = pd.DataFrame.from_dict(results)"
   ]
  },
  {
   "cell_type": "code",
   "execution_count": 27,
   "metadata": {},
   "outputs": [
    {
     "data": {
      "text/html": "<div>\n<style scoped>\n    .dataframe tbody tr th:only-of-type {\n        vertical-align: middle;\n    }\n\n    .dataframe tbody tr th {\n        vertical-align: top;\n    }\n\n    .dataframe thead th {\n        text-align: right;\n    }\n</style>\n<table border=\"1\" class=\"dataframe\">\n  <thead>\n    <tr style=\"text-align: right;\">\n      <th></th>\n      <th>status</th>\n      <th>objective</th>\n      <th>n_trips_avg</th>\n      <th>n_unfilled_demand_avg</th>\n      <th>demand_avg</th>\n      <th>n_parking_avg</th>\n      <th>n_relocations_avg</th>\n      <th>kick_scooter</th>\n      <th>bicycle</th>\n      <th>car</th>\n      <th>relocations_disabled</th>\n      <th>non_anticipativity_disabled</th>\n    </tr>\n  </thead>\n  <tbody>\n    <tr>\n      <th>0</th>\n      <td>Optimal</td>\n      <td>41986.890749</td>\n      <td>7810.0</td>\n      <td>1787.5</td>\n      <td>9597.5</td>\n      <td>26190.0</td>\n      <td>3491.0</td>\n      <td>10000</td>\n      <td>4000</td>\n      <td>3000</td>\n      <td>False</td>\n      <td>False</td>\n    </tr>\n    <tr>\n      <th>1</th>\n      <td>Optimal</td>\n      <td>42184.083245</td>\n      <td>7899.0</td>\n      <td>1698.5</td>\n      <td>9597.5</td>\n      <td>26101.0</td>\n      <td>3160.5</td>\n      <td>10000</td>\n      <td>4000</td>\n      <td>3000</td>\n      <td>False</td>\n      <td>True</td>\n    </tr>\n    <tr>\n      <th>2</th>\n      <td>Optimal</td>\n      <td>32621.697044</td>\n      <td>5212.0</td>\n      <td>4385.5</td>\n      <td>9597.5</td>\n      <td>28788.0</td>\n      <td>0.0</td>\n      <td>10000</td>\n      <td>4000</td>\n      <td>3000</td>\n      <td>True</td>\n      <td>False</td>\n    </tr>\n    <tr>\n      <th>3</th>\n      <td>Optimal</td>\n      <td>32664.578664</td>\n      <td>5215.0</td>\n      <td>4382.5</td>\n      <td>9597.5</td>\n      <td>28785.0</td>\n      <td>0.0</td>\n      <td>10000</td>\n      <td>4000</td>\n      <td>3000</td>\n      <td>True</td>\n      <td>True</td>\n    </tr>\n    <tr>\n      <th>4</th>\n      <td>Optimal</td>\n      <td>39492.227015</td>\n      <td>7406.0</td>\n      <td>2191.5</td>\n      <td>9597.5</td>\n      <td>18594.0</td>\n      <td>3703.0</td>\n      <td>8000</td>\n      <td>3000</td>\n      <td>2000</td>\n      <td>False</td>\n      <td>False</td>\n    </tr>\n    <tr>\n      <th>5</th>\n      <td>Optimal</td>\n      <td>39660.304884</td>\n      <td>7460.5</td>\n      <td>2137.0</td>\n      <td>9597.5</td>\n      <td>18539.5</td>\n      <td>3283.0</td>\n      <td>8000</td>\n      <td>3000</td>\n      <td>2000</td>\n      <td>False</td>\n      <td>True</td>\n    </tr>\n    <tr>\n      <th>6</th>\n      <td>Optimal</td>\n      <td>29844.082407</td>\n      <td>4446.5</td>\n      <td>5151.0</td>\n      <td>9597.5</td>\n      <td>21553.5</td>\n      <td>0.0</td>\n      <td>8000</td>\n      <td>3000</td>\n      <td>2000</td>\n      <td>True</td>\n      <td>False</td>\n    </tr>\n    <tr>\n      <th>7</th>\n      <td>Optimal</td>\n      <td>29861.529239</td>\n      <td>4443.5</td>\n      <td>5154.0</td>\n      <td>9597.5</td>\n      <td>21556.5</td>\n      <td>0.0</td>\n      <td>8000</td>\n      <td>3000</td>\n      <td>2000</td>\n      <td>True</td>\n      <td>True</td>\n    </tr>\n    <tr>\n      <th>8</th>\n      <td>Optimal</td>\n      <td>35886.382460</td>\n      <td>6810.5</td>\n      <td>2787.0</td>\n      <td>9597.5</td>\n      <td>11189.5</td>\n      <td>3907.0</td>\n      <td>6000</td>\n      <td>2000</td>\n      <td>1000</td>\n      <td>False</td>\n      <td>False</td>\n    </tr>\n    <tr>\n      <th>9</th>\n      <td>Optimal</td>\n      <td>36129.948334</td>\n      <td>6821.0</td>\n      <td>2776.5</td>\n      <td>9597.5</td>\n      <td>11179.0</td>\n      <td>3517.5</td>\n      <td>6000</td>\n      <td>2000</td>\n      <td>1000</td>\n      <td>False</td>\n      <td>True</td>\n    </tr>\n    <tr>\n      <th>10</th>\n      <td>Optimal</td>\n      <td>25479.776813</td>\n      <td>3425.0</td>\n      <td>6172.5</td>\n      <td>9597.5</td>\n      <td>14575.0</td>\n      <td>0.0</td>\n      <td>6000</td>\n      <td>2000</td>\n      <td>1000</td>\n      <td>True</td>\n      <td>False</td>\n    </tr>\n    <tr>\n      <th>11</th>\n      <td>Optimal</td>\n      <td>25505.182160</td>\n      <td>3423.5</td>\n      <td>6174.0</td>\n      <td>9597.5</td>\n      <td>14576.5</td>\n      <td>0.0</td>\n      <td>6000</td>\n      <td>2000</td>\n      <td>1000</td>\n      <td>True</td>\n      <td>True</td>\n    </tr>\n  </tbody>\n</table>\n</div>",
      "text/plain": "     status     objective  n_trips_avg  n_unfilled_demand_avg  demand_avg  \\\n0   Optimal  41986.890749       7810.0                 1787.5      9597.5   \n1   Optimal  42184.083245       7899.0                 1698.5      9597.5   \n2   Optimal  32621.697044       5212.0                 4385.5      9597.5   \n3   Optimal  32664.578664       5215.0                 4382.5      9597.5   \n4   Optimal  39492.227015       7406.0                 2191.5      9597.5   \n5   Optimal  39660.304884       7460.5                 2137.0      9597.5   \n6   Optimal  29844.082407       4446.5                 5151.0      9597.5   \n7   Optimal  29861.529239       4443.5                 5154.0      9597.5   \n8   Optimal  35886.382460       6810.5                 2787.0      9597.5   \n9   Optimal  36129.948334       6821.0                 2776.5      9597.5   \n10  Optimal  25479.776813       3425.0                 6172.5      9597.5   \n11  Optimal  25505.182160       3423.5                 6174.0      9597.5   \n\n    n_parking_avg  n_relocations_avg  kick_scooter  bicycle   car  \\\n0         26190.0             3491.0         10000     4000  3000   \n1         26101.0             3160.5         10000     4000  3000   \n2         28788.0                0.0         10000     4000  3000   \n3         28785.0                0.0         10000     4000  3000   \n4         18594.0             3703.0          8000     3000  2000   \n5         18539.5             3283.0          8000     3000  2000   \n6         21553.5                0.0          8000     3000  2000   \n7         21556.5                0.0          8000     3000  2000   \n8         11189.5             3907.0          6000     2000  1000   \n9         11179.0             3517.5          6000     2000  1000   \n10        14575.0                0.0          6000     2000  1000   \n11        14576.5                0.0          6000     2000  1000   \n\n    relocations_disabled  non_anticipativity_disabled  \n0                  False                        False  \n1                  False                         True  \n2                   True                        False  \n3                   True                         True  \n4                  False                        False  \n5                  False                         True  \n6                   True                        False  \n7                   True                         True  \n8                  False                        False  \n9                  False                         True  \n10                  True                        False  \n11                  True                         True  "
     },
     "execution_count": 27,
     "metadata": {},
     "output_type": "execute_result"
    }
   ],
   "source": [
    "results_df"
   ]
  },
  {
   "cell_type": "code",
   "execution_count": 28,
   "metadata": {},
   "outputs": [],
   "source": [
    "results_df.to_pickle(PATH_RESULTS_SUMMARY)\n"
   ]
  },
  {
   "cell_type": "markdown",
   "metadata": {},
   "source": [
    "## Single Modal Benchmark"
   ]
  },
  {
   "cell_type": "code",
   "execution_count": 44,
   "metadata": {},
   "outputs": [],
   "source": [
    "last_demand = scenarios.copy()\n",
    "\n",
    "last_demand_unstacked = last_demand.unstack(\"vehicle_types\")\n",
    "last_demand_unstacked[(\"demand\", \"car\")] = (\n",
    "    last_demand_unstacked[(\"demand\", \"kick_scooter\")]\n",
    "    + last_demand_unstacked[(\"demand\", \"car\")]\n",
    "    + last_demand_unstacked[(\"demand\", \"bicycle\")]\n",
    ")\n",
    "last_demand_unstacked\n",
    "last_demand: pd.DataFrame = (\n",
    "    last_demand_unstacked[\"demand\"][\"car\"].to_frame().stack().to_frame(name=\"demand\")\n",
    ")\n",
    "last_demand.index = last_demand.index.set_names(\n",
    "    [\"scenarios\", \"start_hex_ids\", \"end_hex_ids\", \"time\", \"vehicle_types\"]\n",
    ")\n"
   ]
  },
  {
   "cell_type": "code",
   "execution_count": 45,
   "metadata": {},
   "outputs": [
    {
     "name": "stdout",
     "output_type": "stream",
     "text": [
      "car\n",
      "Status: Optimal\n",
      "Optimal Value of Objective Function:  17974.126381656068\n",
      "solve finished in 2.21 seconds\n",
      "bicycle\n",
      "Status: Optimal\n",
      "Optimal Value of Objective Function:  3367.3803592446247\n",
      "solve finished in 2.11 seconds\n",
      "kick_scooter\n",
      "Status: Optimal\n",
      "Optimal Value of Objective Function:  15843.97947509692\n",
      "solve finished in 2.43 seconds\n"
     ]
    }
   ],
   "source": [
    "results = []\n",
    "\n",
    "for vehicle_types in [[\"car\"], [\"bicycle\"], [\"kick_scooter\"]]:\n",
    "    current_vehicle_type = vehicle_types[0]\n",
    "    print(current_vehicle_type)\n",
    "    current_fleet_capacity = {\n",
    "        current_vehicle_type: real_fleet_size[current_vehicle_type]\n",
    "    }\n",
    "\n",
    "    last_demand.index = last_demand.index.set_levels(\n",
    "        last_demand.index.get_level_values(\"vehicle_types\").map(\n",
    "            lambda x: current_vehicle_type\n",
    "        ),\n",
    "        verify_integrity=False,\n",
    "        level=\"vehicle_types\",\n",
    "    )\n",
    "\n",
    "    factory = StochasticProgramFactory(\n",
    "        last_demand,\n",
    "        distances,\n",
    "        probabilities,\n",
    "        node_df,\n",
    "        vehicle_types,\n",
    "        include_methods=[None],\n",
    "    )\n",
    "    factory.set_initial_allocation(real_fleet_size)\n",
    "    stochastic_program = factory.create_stochastic_program()\n",
    "    stochastic_program.include_methods = [\"solve\"]\n",
    "    stochastic_program.create_model()\n",
    "    stochastic_program.solve()\n",
    "    # we transform the unfulfilled demand of the current lp into the demand for the next lp\n",
    "    last_demand = stochastic_program.get_unfulfilled_demand().rename(\n",
    "        columns={\"accumulated_unfulfilled_demand\": \"demand\"}\n",
    "    )\n",
    "\n",
    "    results.append(\n",
    "        {**stochastic_program.get_summary(), \"vehicle_types\": str(vehicle_types)}\n",
    "    )\n"
   ]
  },
  {
   "cell_type": "code",
   "execution_count": 46,
   "metadata": {},
   "outputs": [
    {
     "name": "stdout",
     "output_type": "stream",
     "text": [
      "Status: Optimal\n",
      "Optimal Value of Objective Function:  39439.17340320906\n",
      "solve finished in 18.78 seconds\n"
     ]
    }
   ],
   "source": [
    "factory = StochasticProgramFactory(\n",
    "    scenarios,\n",
    "    distances,\n",
    "    probabilities,\n",
    "    node_df,\n",
    "    ALL_VEHICLE_TYPES,\n",
    "    include_methods=[None],\n",
    ")\n",
    "factory.set_initial_allocation(real_fleet_size)\n",
    "stochastic_program = factory.create_stochastic_program()\n",
    "stochastic_program.include_methods = [\"solve\"]\n",
    "stochastic_program.create_model()\n",
    "stochastic_program.solve()\n",
    "\n",
    "results.append(\n",
    "    {**stochastic_program.get_summary(), \"vehicle_types\": ALL_VEHICLE_TYPES}\n",
    ")\n"
   ]
  },
  {
   "cell_type": "code",
   "execution_count": 47,
   "metadata": {},
   "outputs": [],
   "source": [
    "results = pd.DataFrame.from_dict(results)"
   ]
  },
  {
   "cell_type": "code",
   "execution_count": 48,
   "metadata": {},
   "outputs": [
    {
     "data": {
      "text/html": "<div>\n<style scoped>\n    .dataframe tbody tr th:only-of-type {\n        vertical-align: middle;\n    }\n\n    .dataframe tbody tr th {\n        vertical-align: top;\n    }\n\n    .dataframe thead th {\n        text-align: right;\n    }\n</style>\n<table border=\"1\" class=\"dataframe\">\n  <thead>\n    <tr style=\"text-align: right;\">\n      <th></th>\n      <th>status</th>\n      <th>objective</th>\n      <th>n_trips_avg</th>\n      <th>n_unfilled_demand_avg</th>\n      <th>demand_avg</th>\n      <th>n_parking_avg</th>\n      <th>n_relocations_avg</th>\n      <th>vehicle_types</th>\n    </tr>\n  </thead>\n  <tbody>\n    <tr>\n      <th>0</th>\n      <td>Optimal</td>\n      <td>39439.173403</td>\n      <td>7387.5</td>\n      <td>2210.0</td>\n      <td>9597.5</td>\n      <td>18146.5</td>\n      <td>3704.0</td>\n      <td>[kick_scooter, bicycle, car]</td>\n    </tr>\n    <tr>\n      <th>1</th>\n      <td>OptimalOptimalOptimal</td>\n      <td>37185.486216</td>\n      <td>7791.5</td>\n      <td>15692.0</td>\n      <td>23483.5</td>\n      <td>17742.5</td>\n      <td>4509.0</td>\n      <td>['car']['bicycle']['kick_scooter']</td>\n    </tr>\n  </tbody>\n</table>\n</div>",
      "text/plain": "                  status     objective  n_trips_avg  n_unfilled_demand_avg  \\\n0                Optimal  39439.173403       7387.5                 2210.0   \n1  OptimalOptimalOptimal  37185.486216       7791.5                15692.0   \n\n   demand_avg  n_parking_avg  n_relocations_avg  \\\n0      9597.5        18146.5             3704.0   \n1     23483.5        17742.5             4509.0   \n\n                        vehicle_types  \n0        [kick_scooter, bicycle, car]  \n1  ['car']['bicycle']['kick_scooter']  "
     },
     "execution_count": 48,
     "metadata": {},
     "output_type": "execute_result"
    }
   ],
   "source": [
    "# unfulfilled demand and demand not sinnvoll here\n",
    "compare = results.iloc[[3]]\n",
    "compare.append(results.iloc[range(3)].sum(), ignore_index=True)"
   ]
  },
  {
   "cell_type": "code",
   "execution_count": 34,
   "metadata": {},
   "outputs": [],
   "source": [
    "compare.to_pickle(PATH_RESULTS_SINGLE_MODAL_BENCHMARK)"
   ]
  },
  {
   "cell_type": "markdown",
   "metadata": {},
   "source": [
    "## Value Of The Stochastic Solution"
   ]
  },
  {
   "cell_type": "code",
   "execution_count": 35,
   "metadata": {},
   "outputs": [],
   "source": [
    "demand = scenarios.copy()\n",
    "demand = (\n",
    "    demand.unstack(\"scenarios\")[\"demand\"]\n",
    "    .sum(axis=1)\n",
    "    .to_frame()\n",
    "    .rename(columns={0: \"demand\"})\n",
    ")\n",
    "demand[\"scenarios\"] = 0\n",
    "demand = demand.set_index(\"scenarios\", append=True).reorder_levels(\n",
    "    [\"scenarios\", \"start_hex_ids\", \"end_hex_ids\", \"time\", \"vehicle_types\"]\n",
    ")\n",
    "demand['demand'] = demand['demand'] / N_REDUCED_SCNEARIOS\n",
    "demand['floored'] = demand['demand'].apply(np.floor)\n",
    "demand['ceiled'] = demand['demand'].apply(np.ceil)\n"
   ]
  },
  {
   "cell_type": "code",
   "execution_count": 36,
   "metadata": {},
   "outputs": [
    {
     "name": "stdout",
     "output_type": "stream",
     "text": [
      "Status: Optimal\n",
      "Optimal Value of Objective Function:  19223.537294747617\n",
      "solve finished in 5.90 seconds\n",
      "Status: Optimal\n",
      "Optimal Value of Objective Function:  20386.912564257425\n",
      "solve finished in 4.07 seconds\n"
     ]
    }
   ],
   "source": [
    "results = []\n",
    "for rounding_mode in [\"floored\", \"ceiled\"]:\n",
    "    factory = StochasticProgramFactory(\n",
    "        demand[[rounding_mode]].rename(columns={rounding_mode: \"demand\"}),\n",
    "        distances,\n",
    "        probabilities,\n",
    "        node_df,\n",
    "        ALL_VEHICLE_TYPES,\n",
    "        include_methods=[None],\n",
    "    )\n",
    "    factory.set_initial_allocation(real_fleet_size)\n",
    "    stochastic_program = factory.create_stochastic_program()\n",
    "    stochastic_program.include_methods = [\"solve\"]\n",
    "    \n",
    "    # assign all weight to first scenario\n",
    "    stochastic_program.weighting = {0: 1}\n",
    "\n",
    "    # discard non-anticipativity constraints\n",
    "    stochastic_program.non_anticipativity_disabled = True\n",
    "\n",
    "    stochastic_program.create_model()\n",
    "    stochastic_program.solve()\n",
    "\n",
    "    results.append(\n",
    "        {**stochastic_program.get_summary(), \"vehicle_types\": ALL_VEHICLE_TYPES}\n",
    "    )\n"
   ]
  },
  {
   "cell_type": "code",
   "execution_count": 37,
   "metadata": {},
   "outputs": [
    {
     "data": {
      "text/html": "<div>\n<style scoped>\n    .dataframe tbody tr th:only-of-type {\n        vertical-align: middle;\n    }\n\n    .dataframe tbody tr th {\n        vertical-align: top;\n    }\n\n    .dataframe thead th {\n        text-align: right;\n    }\n</style>\n<table border=\"1\" class=\"dataframe\">\n  <thead>\n    <tr style=\"text-align: right;\">\n      <th></th>\n      <th>status</th>\n      <th>objective</th>\n      <th>n_trips_avg</th>\n      <th>n_unfilled_demand_avg</th>\n      <th>demand_avg</th>\n      <th>n_parking_avg</th>\n      <th>n_relocations_avg</th>\n      <th>vehicle_types</th>\n    </tr>\n  </thead>\n  <tbody>\n    <tr>\n      <th>0</th>\n      <td>Optimal</td>\n      <td>19223.537295</td>\n      <td>7298.0</td>\n      <td>2115.0</td>\n      <td>9413.0</td>\n      <td>18236.0</td>\n      <td>3325.0</td>\n      <td>[kick_scooter, bicycle, car]</td>\n    </tr>\n    <tr>\n      <th>1</th>\n      <td>Optimal</td>\n      <td>20386.912564</td>\n      <td>7606.0</td>\n      <td>2176.0</td>\n      <td>9782.0</td>\n      <td>17928.0</td>\n      <td>3545.0</td>\n      <td>[kick_scooter, bicycle, car]</td>\n    </tr>\n  </tbody>\n</table>\n</div>",
      "text/plain": "    status     objective  n_trips_avg  n_unfilled_demand_avg  demand_avg  \\\n0  Optimal  19223.537295       7298.0                 2115.0      9413.0   \n1  Optimal  20386.912564       7606.0                 2176.0      9782.0   \n\n   n_parking_avg  n_relocations_avg                 vehicle_types  \n0        18236.0             3325.0  [kick_scooter, bicycle, car]  \n1        17928.0             3545.0  [kick_scooter, bicycle, car]  "
     },
     "execution_count": 37,
     "metadata": {},
     "output_type": "execute_result"
    }
   ],
   "source": [
    "results = pd.DataFrame.from_dict(results)\n",
    "results"
   ]
  },
  {
   "cell_type": "code",
   "execution_count": 38,
   "metadata": {},
   "outputs": [],
   "source": [
    "results_df.to_pickle(PATH_RESULTS_VALUE_STOCHASTIC)"
   ]
  },
  {
   "cell_type": "code",
   "execution_count": null,
   "metadata": {},
   "outputs": [],
   "source": []
  }
 ],
 "metadata": {
  "interpreter": {
   "hash": "921dce5431bc8dd5032dbf768a24c906ac17844f87e0f443ecd3f0f6d3f457c9"
  },
  "kernelspec": {
   "display_name": "Python 3.8.10 64-bit ('VR': conda)",
   "name": "python3"
  },
  "language_info": {
   "codemirror_mode": {
    "name": "ipython",
    "version": 3
   },
   "file_extension": ".py",
   "mimetype": "text/x-python",
   "name": "python",
   "nbconvert_exporter": "python",
   "pygments_lexer": "ipython3",
   "version": "3.8.10"
  },
  "metadata": {
   "interpreter": {
    "hash": "98dda969eced25373352d8358f4a74bbe75f82753a7539c7817bd98c04161209"
   }
  },
  "orig_nbformat": 2
 },
 "nbformat": 4,
 "nbformat_minor": 2
}