{
 "metadata": {
  "language_info": {
   "codemirror_mode": {
    "name": "ipython",
    "version": 3
   },
   "file_extension": ".py",
   "mimetype": "text/x-python",
   "name": "python",
   "nbconvert_exporter": "python",
   "pygments_lexer": "ipython3",
   "version": "3.8.10"
  },
  "orig_nbformat": 2,
  "kernelspec": {
   "name": "python3810jvsc74a57bd0921dce5431bc8dd5032dbf768a24c906ac17844f87e0f443ecd3f0f6d3f457c9",
   "display_name": "Python 3.8.10 64-bit (conda)"
  },
  "metadata": {
   "interpreter": {
    "hash": "98dda969eced25373352d8358f4a74bbe75f82753a7539c7817bd98c04161209"
   }
  }
 },
 "nbformat": 4,
 "nbformat_minor": 2,
 "cells": [
  {
   "cell_type": "code",
   "execution_count": 1,
   "metadata": {},
   "outputs": [],
   "source": [
    "# As we use our own external modules, we need the folder src to be in the PYTHONPATH env variable.\n",
    "# However we do not expect the reader to add that folder to the env variable,\n",
    "# therefore we manually load it temporarily in each notebook.\n",
    "import os\n",
    "module_path = os.path.abspath(os.path.join('..'))\n",
    "if module_path not in sys.path:\n",
    "    sys.path.append(module_path)"
   ]
  },
  {
   "cell_type": "code",
   "execution_count": 2,
   "metadata": {},
   "outputs": [],
   "source": [
    "import pandas as pd\n",
    "from timeit import default_timer as timer\n",
    "import datetime\n",
    "import numpy as np\n",
    "from utils.config import PATH_SCENARIOS_REDUCED, PATH_DISTANCES, PATH_SCENARIO_PROBABILITY, PATH_INITIAL_ALLOCATION\n",
    "from utils.stochastic_program import StochasticProgramFactory, StochasticProgram\n",
    "from collections import defaultdict"
   ]
  },
  {
   "source": [
    "### Prepare scenario data\n",
    "Make scenarios complete cross product"
   ],
   "cell_type": "markdown",
   "metadata": {}
  },
  {
   "cell_type": "code",
   "execution_count": 3,
   "metadata": {},
   "outputs": [],
   "source": [
    "scenarios = pd.read_pickle(PATH_SCENARIOS_REDUCED)"
   ]
  },
  {
   "cell_type": "code",
   "execution_count": 4,
   "metadata": {},
   "outputs": [],
   "source": [
    "hex_ids = {*scenarios.index.get_level_values('start_hex_ids').unique()}\n",
    "hex_ids = list(hex_ids.union({*scenarios.index.get_level_values('end_hex_ids').unique()}))"
   ]
  },
  {
   "cell_type": "code",
   "execution_count": 5,
   "metadata": {},
   "outputs": [],
   "source": [
    "complete_index = pd.MultiIndex.from_product(\n",
    "    [\n",
    "        scenarios.index.get_level_values('scenarios').unique(),\n",
    "        pd.Index(hex_ids, name=\"start_hex_ids\"),\n",
    "        pd.Index(hex_ids, name=\"end_hex_ids\"),\n",
    "        scenarios.index.get_level_values('time').unique(),\n",
    "        scenarios.index.get_level_values('vehicle_types').unique(),\n",
    "    ]\n",
    ")"
   ]
  },
  {
   "cell_type": "code",
   "execution_count": 6,
   "metadata": {},
   "outputs": [],
   "source": [
    "scenarios = scenarios.reindex(complete_index, fill_value=0)"
   ]
  },
  {
   "source": [
    "Find tree structure for non-anticipativity constraints"
   ],
   "cell_type": "markdown",
   "metadata": {}
  },
  {
   "cell_type": "code",
   "execution_count": 7,
   "metadata": {},
   "outputs": [],
   "source": [
    "scenarios_unstacked = scenarios.unstack(level=['start_hex_ids', 'end_hex_ids', 'vehicle_types']) \\\n",
    "             .swaplevel() \\\n",
    "             .sort_index()"
   ]
  },
  {
   "cell_type": "code",
   "execution_count": 8,
   "metadata": {},
   "outputs": [],
   "source": [
    "node_df = pd.DataFrame(index=scenarios_unstacked.index)\n",
    "node_df['node'] = 0\n",
    "node_df['prev_node'] = 0"
   ]
  },
  {
   "source": [
    "times = scenarios_unstacked.index.get_level_values('time').unique()\n",
    "scenario_ids = scenarios_unstacked.index.get_level_values('scenarios').unique()\n",
    "\n",
    "nodes = []\n",
    "nodes_counter = 0\n",
    "groups = [{} for _ in range(len(times))]\n",
    "for i, time in enumerate(times):\n",
    "    prev_groups = groups[i-1] if i != 0 else {-1: list(scenario_ids)}\n",
    "\n",
    "    found_ids = []\n",
    "\n",
    "    values = scenarios_unstacked.loc[(time)].values\n",
    "\n",
    "    for scenario_id in scenario_ids:\n",
    "        if scenario_id in found_ids:\n",
    "            continue\n",
    "        current_group = list((values == values[scenario_id]).all(axis=1).nonzero()[0])\n",
    "        found_ids += current_group\n",
    "        for prev_group_id, prev_group in prev_groups.items():\n",
    "            group = [s_id for s_id in current_group if s_id in prev_group]\n",
    "\n",
    "            if(not group):\n",
    "                continue\n",
    "\n",
    "            groups[i][nodes_counter] = group\n",
    "            for s_id in group:\n",
    "                node_df.loc[(time, s_id), 'node'] = nodes_counter\n",
    "                node_df.loc[(time, s_id), 'prev_node'] = prev_group_id\n",
    "            nodes_counter += 1"
   ],
   "cell_type": "code",
   "metadata": {
    "tags": []
   },
   "execution_count": 9,
   "outputs": []
  },
  {
   "source": [
    "## Get Model Parameters\n"
   ],
   "cell_type": "markdown",
   "metadata": {}
  },
  {
   "cell_type": "code",
   "execution_count": 10,
   "metadata": {},
   "outputs": [],
   "source": [
    "demand = defaultdict(lambda: defaultdict(lambda: defaultdict(lambda: defaultdict(dict))))"
   ]
  },
  {
   "source": [
    "start = timer()\n",
    "\n",
    "for _, row in scenarios.reset_index().iterrows():\n",
    "    demand[row.start_hex_ids][row.end_hex_ids][row.time.hour][row.vehicle_types][row.scenarios] = row.demand\n",
    "\n",
    "end = timer()\n",
    "print(f\"Successfully converted dataframe into dictionary in {(end - start):.2f} seconds\")"
   ],
   "cell_type": "code",
   "metadata": {
    "tags": []
   },
   "execution_count": 11,
   "outputs": [
    {
     "output_type": "stream",
     "name": "stdout",
     "text": [
      "Successfully converted dataframe into dictionary in 2.91 seconds\n"
     ]
    }
   ]
  },
  {
   "cell_type": "code",
   "execution_count": null,
   "metadata": {},
   "outputs": [],
   "source": []
  },
  {
   "cell_type": "code",
   "execution_count": 12,
   "metadata": {},
   "outputs": [],
   "source": [
    "distances = pd.read_pickle(PATH_DISTANCES)"
   ]
  },
  {
   "cell_type": "code",
   "execution_count": 13,
   "metadata": {},
   "outputs": [],
   "source": [
    "cost = defaultdict(lambda: defaultdict(dict))\n",
    "profit = defaultdict(lambda: defaultdict(dict))"
   ]
  },
  {
   "cell_type": "code",
   "execution_count": 14,
   "metadata": {},
   "outputs": [],
   "source": [
    "start = timer()\n",
    "\n",
    "vehicle_types = list(scenarios.reset_index()['vehicle_types'].unique())\n",
    "\n",
    "for _, row in distances.reset_index().iterrows():\n",
    "    for vehicle_type in vehicle_types:\n",
    "        cost[row.start_hex_id][row.end_hex_id][vehicle_type] = row[f\"cost_{vehicle_type}\"]\n",
    "        profit[row.start_hex_id][row.end_hex_id][vehicle_type] = row[f\"profit_{vehicle_type}\"]\n",
    "\n",
    "end = timer()"
   ]
  },
  {
   "cell_type": "code",
   "execution_count": 15,
   "metadata": {},
   "outputs": [],
   "source": [
    "%load_ext autoreload\n",
    "%autoreload 2"
   ]
  },
  {
   "cell_type": "code",
   "execution_count": 16,
   "metadata": {},
   "outputs": [],
   "source": [
    "probabilities = pd.read_pickle(PATH_SCENARIO_PROBABILITY)"
   ]
  },
  {
   "cell_type": "code",
   "execution_count": 17,
   "metadata": {},
   "outputs": [],
   "source": [
    "initial_allocation = pd.read_pickle(PATH_INITIAL_ALLOCATION)"
   ]
  },
  {
   "cell_type": "code",
   "execution_count": 18,
   "metadata": {},
   "outputs": [],
   "source": [
    "factory = StochasticProgramFactory(scenarios, distances, probabilities, initial_allocation, node_df)"
   ]
  },
  {
   "cell_type": "code",
   "execution_count": 19,
   "metadata": {},
   "outputs": [
    {
     "output_type": "stream",
     "name": "stdout",
     "text": [
      "convert_probabilities finished in 0.00 seconds\n",
      "convert_distances finished in 0.06 seconds\n",
      "convert_demand finished in 2.80 seconds\n",
      "convert_nodes finished in 0.00 seconds\n",
      "convert_parameters finished in 2.86 seconds\n"
     ]
    }
   ],
   "source": [
    "factory.convert_parameters()"
   ]
  },
  {
   "cell_type": "code",
   "execution_count": 20,
   "metadata": {},
   "outputs": [
    {
     "output_type": "stream",
     "name": "stdout",
     "text": [
      "get_solver finished in 0.00 seconds\ncreate_stochastic_program finished in 0.01 seconds\n"
     ]
    }
   ],
   "source": [
    "stochastic_program = factory.create_stochastic_program()"
   ]
  },
  {
   "cell_type": "code",
   "execution_count": 21,
   "metadata": {},
   "outputs": [],
   "source": [
    "stochastic_program.relocations_disabled = False"
   ]
  },
  {
   "cell_type": "code",
   "execution_count": 22,
   "metadata": {
    "tags": []
   },
   "outputs": [
    {
     "output_type": "stream",
     "name": "stdout",
     "text": [
      "create_variables finished in 0.21 seconds\n",
      "create_objective_function finished in 0.54 seconds\n",
      "create_demand_constraints finished in 0.52 seconds\n",
      "create_big_u_sum_constraints finished in 0.16 seconds\n",
      "create_relocation_binary_constraints finished in 0.02 seconds\n",
      "create_unfulfilled_demand_binary_constraints finished in 0.02 seconds\n",
      "create_no_refused_demand_constraints finished in 0.09 seconds\n",
      "create_max_trips_constraints finished in 0.17 seconds\n",
      "create_vehicle_movement_constraints finished in 0.17 seconds\n",
      "create_initial_allocation_constraints finished in 0.00 seconds\n",
      "create_non_anticipativity_constraints finished in 0.28 seconds\n",
      "create_constraints finished in 1.42 seconds\n",
      "create_model finished in 2.53 seconds\n"
     ]
    }
   ],
   "source": [
    "stochastic_program.create_model()"
   ]
  },
  {
   "cell_type": "code",
   "execution_count": 23,
   "metadata": {},
   "outputs": [
    {
     "output_type": "error",
     "ename": "PulpSolverError",
     "evalue": "Pulp: Error while executing cbc",
     "traceback": [
      "\u001b[0;31m---------------------------------------------------------------------------\u001b[0m",
      "\u001b[0;31mPulpSolverError\u001b[0m                           Traceback (most recent call last)",
      "\u001b[0;32m<ipython-input-23-b2327eba11ce>\u001b[0m in \u001b[0;36m<module>\u001b[0;34m\u001b[0m\n\u001b[0;32m----> 1\u001b[0;31m \u001b[0mstochastic_program\u001b[0m\u001b[0;34m.\u001b[0m\u001b[0msolve\u001b[0m\u001b[0;34m(\u001b[0m\u001b[0;34m)\u001b[0m\u001b[0;34m\u001b[0m\u001b[0;34m\u001b[0m\u001b[0m\n\u001b[0m",
      "\u001b[0;32m~/dev/uni/vehicle-reposition-2/src/utils/stochastic_program.py\u001b[0m in \u001b[0;36mdecorated_callable\u001b[0;34m(*args, **kwargs)\u001b[0m\n\u001b[1;32m     41\u001b[0m         \u001b[0;32mdef\u001b[0m \u001b[0mdecorated_callable\u001b[0m\u001b[0;34m(\u001b[0m\u001b[0;34m*\u001b[0m\u001b[0margs\u001b[0m\u001b[0;34m,\u001b[0m \u001b[0;34m**\u001b[0m\u001b[0mkwargs\u001b[0m\u001b[0;34m)\u001b[0m\u001b[0;34m:\u001b[0m\u001b[0;34m\u001b[0m\u001b[0;34m\u001b[0m\u001b[0m\n\u001b[1;32m     42\u001b[0m             \u001b[0mstart\u001b[0m \u001b[0;34m=\u001b[0m \u001b[0mtimer\u001b[0m\u001b[0;34m(\u001b[0m\u001b[0;34m)\u001b[0m\u001b[0;34m\u001b[0m\u001b[0;34m\u001b[0m\u001b[0m\n\u001b[0;32m---> 43\u001b[0;31m             \u001b[0mvalue\u001b[0m \u001b[0;34m=\u001b[0m \u001b[0mcb\u001b[0m\u001b[0;34m(\u001b[0m\u001b[0;34m*\u001b[0m\u001b[0margs\u001b[0m\u001b[0;34m,\u001b[0m \u001b[0;34m**\u001b[0m\u001b[0mkwargs\u001b[0m\u001b[0;34m)\u001b[0m\u001b[0;34m\u001b[0m\u001b[0;34m\u001b[0m\u001b[0m\n\u001b[0m\u001b[1;32m     44\u001b[0m             \u001b[0mend\u001b[0m \u001b[0;34m=\u001b[0m \u001b[0mtimer\u001b[0m\u001b[0;34m(\u001b[0m\u001b[0;34m)\u001b[0m\u001b[0;34m\u001b[0m\u001b[0;34m\u001b[0m\u001b[0m\n\u001b[1;32m     45\u001b[0m             \u001b[0mprint\u001b[0m\u001b[0;34m(\u001b[0m\u001b[0;34mf\"{cb.__name__} finished in {end-start:.2f} seconds\"\u001b[0m\u001b[0;34m)\u001b[0m\u001b[0;34m\u001b[0m\u001b[0;34m\u001b[0m\u001b[0m\n",
      "\u001b[0;32m~/dev/uni/vehicle-reposition-2/src/utils/stochastic_program.py\u001b[0m in \u001b[0;36msolve\u001b[0;34m(self)\u001b[0m\n\u001b[1;32m    120\u001b[0m \u001b[0;34m\u001b[0m\u001b[0m\n\u001b[1;32m    121\u001b[0m     \u001b[0;32mdef\u001b[0m \u001b[0msolve\u001b[0m\u001b[0;34m(\u001b[0m\u001b[0mself\u001b[0m\u001b[0;34m)\u001b[0m\u001b[0;34m:\u001b[0m\u001b[0;34m\u001b[0m\u001b[0;34m\u001b[0m\u001b[0m\n\u001b[0;32m--> 122\u001b[0;31m         \u001b[0mself\u001b[0m\u001b[0;34m.\u001b[0m\u001b[0mmodel\u001b[0m\u001b[0;34m.\u001b[0m\u001b[0msolve\u001b[0m\u001b[0;34m(\u001b[0m\u001b[0msolver\u001b[0m\u001b[0;34m=\u001b[0m\u001b[0mself\u001b[0m\u001b[0;34m.\u001b[0m\u001b[0msolver\u001b[0m\u001b[0;34m)\u001b[0m\u001b[0;34m\u001b[0m\u001b[0;34m\u001b[0m\u001b[0m\n\u001b[0m\u001b[1;32m    123\u001b[0m         \u001b[0mprint\u001b[0m\u001b[0;34m(\u001b[0m\u001b[0;34m\"Status:\"\u001b[0m\u001b[0;34m,\u001b[0m \u001b[0mLpStatus\u001b[0m\u001b[0;34m[\u001b[0m\u001b[0mself\u001b[0m\u001b[0;34m.\u001b[0m\u001b[0mmodel\u001b[0m\u001b[0;34m.\u001b[0m\u001b[0mstatus\u001b[0m\u001b[0;34m]\u001b[0m\u001b[0;34m)\u001b[0m\u001b[0;34m\u001b[0m\u001b[0;34m\u001b[0m\u001b[0m\n\u001b[1;32m    124\u001b[0m         \u001b[0mprint\u001b[0m\u001b[0;34m(\u001b[0m\u001b[0;34m\"Optimal Value of Objective Function: \"\u001b[0m\u001b[0;34m,\u001b[0m \u001b[0mvalue\u001b[0m\u001b[0;34m(\u001b[0m\u001b[0mself\u001b[0m\u001b[0;34m.\u001b[0m\u001b[0mmodel\u001b[0m\u001b[0;34m.\u001b[0m\u001b[0mobjective\u001b[0m\u001b[0;34m)\u001b[0m\u001b[0;34m)\u001b[0m\u001b[0;34m\u001b[0m\u001b[0;34m\u001b[0m\u001b[0m\n",
      "\u001b[0;32m~/miniconda3/envs/VR/lib/python3.8/site-packages/pulp/pulp.py\u001b[0m in \u001b[0;36msolve\u001b[0;34m(self, solver, **kwargs)\u001b[0m\n\u001b[1;32m   1735\u001b[0m         \u001b[0;31m#time it\u001b[0m\u001b[0;34m\u001b[0m\u001b[0;34m\u001b[0m\u001b[0;34m\u001b[0m\u001b[0m\n\u001b[1;32m   1736\u001b[0m         \u001b[0mself\u001b[0m\u001b[0;34m.\u001b[0m\u001b[0msolutionTime\u001b[0m \u001b[0;34m=\u001b[0m \u001b[0;34m-\u001b[0m\u001b[0mclock\u001b[0m\u001b[0;34m(\u001b[0m\u001b[0;34m)\u001b[0m\u001b[0;34m\u001b[0m\u001b[0;34m\u001b[0m\u001b[0m\n\u001b[0;32m-> 1737\u001b[0;31m         \u001b[0mstatus\u001b[0m \u001b[0;34m=\u001b[0m \u001b[0msolver\u001b[0m\u001b[0;34m.\u001b[0m\u001b[0mactualSolve\u001b[0m\u001b[0;34m(\u001b[0m\u001b[0mself\u001b[0m\u001b[0;34m,\u001b[0m \u001b[0;34m**\u001b[0m\u001b[0mkwargs\u001b[0m\u001b[0;34m)\u001b[0m\u001b[0;34m\u001b[0m\u001b[0;34m\u001b[0m\u001b[0m\n\u001b[0m\u001b[1;32m   1738\u001b[0m         \u001b[0mself\u001b[0m\u001b[0;34m.\u001b[0m\u001b[0msolutionTime\u001b[0m \u001b[0;34m+=\u001b[0m \u001b[0mclock\u001b[0m\u001b[0;34m(\u001b[0m\u001b[0;34m)\u001b[0m\u001b[0;34m\u001b[0m\u001b[0;34m\u001b[0m\u001b[0m\n\u001b[1;32m   1739\u001b[0m         \u001b[0mself\u001b[0m\u001b[0;34m.\u001b[0m\u001b[0mrestoreObjective\u001b[0m\u001b[0;34m(\u001b[0m\u001b[0mwasNone\u001b[0m\u001b[0;34m,\u001b[0m \u001b[0mdummyVar\u001b[0m\u001b[0;34m)\u001b[0m\u001b[0;34m\u001b[0m\u001b[0;34m\u001b[0m\u001b[0m\n",
      "\u001b[0;32m~/miniconda3/envs/VR/lib/python3.8/site-packages/pulp/apis/coin_api.py\u001b[0m in \u001b[0;36mactualSolve\u001b[0;34m(self, lp, **kwargs)\u001b[0m\n\u001b[1;32m     99\u001b[0m     \u001b[0;32mdef\u001b[0m \u001b[0mactualSolve\u001b[0m\u001b[0;34m(\u001b[0m\u001b[0mself\u001b[0m\u001b[0;34m,\u001b[0m \u001b[0mlp\u001b[0m\u001b[0;34m,\u001b[0m \u001b[0;34m**\u001b[0m\u001b[0mkwargs\u001b[0m\u001b[0;34m)\u001b[0m\u001b[0;34m:\u001b[0m\u001b[0;34m\u001b[0m\u001b[0;34m\u001b[0m\u001b[0m\n\u001b[1;32m    100\u001b[0m         \u001b[0;34m\"\"\"Solve a well formulated lp problem\"\"\"\u001b[0m\u001b[0;34m\u001b[0m\u001b[0;34m\u001b[0m\u001b[0m\n\u001b[0;32m--> 101\u001b[0;31m         \u001b[0;32mreturn\u001b[0m \u001b[0mself\u001b[0m\u001b[0;34m.\u001b[0m\u001b[0msolve_CBC\u001b[0m\u001b[0;34m(\u001b[0m\u001b[0mlp\u001b[0m\u001b[0;34m,\u001b[0m \u001b[0;34m**\u001b[0m\u001b[0mkwargs\u001b[0m\u001b[0;34m)\u001b[0m\u001b[0;34m\u001b[0m\u001b[0;34m\u001b[0m\u001b[0m\n\u001b[0m\u001b[1;32m    102\u001b[0m \u001b[0;34m\u001b[0m\u001b[0m\n\u001b[1;32m    103\u001b[0m     \u001b[0;32mdef\u001b[0m \u001b[0mavailable\u001b[0m\u001b[0;34m(\u001b[0m\u001b[0mself\u001b[0m\u001b[0;34m)\u001b[0m\u001b[0;34m:\u001b[0m\u001b[0;34m\u001b[0m\u001b[0;34m\u001b[0m\u001b[0m\n",
      "\u001b[0;32m~/miniconda3/envs/VR/lib/python3.8/site-packages/pulp/apis/coin_api.py\u001b[0m in \u001b[0;36msolve_CBC\u001b[0;34m(self, lp, use_mps)\u001b[0m\n\u001b[1;32m    157\u001b[0m             \u001b[0mpipe\u001b[0m\u001b[0;34m.\u001b[0m\u001b[0mclose\u001b[0m\u001b[0;34m(\u001b[0m\u001b[0;34m)\u001b[0m\u001b[0;34m\u001b[0m\u001b[0;34m\u001b[0m\u001b[0m\n\u001b[1;32m    158\u001b[0m         \u001b[0;32mif\u001b[0m \u001b[0;32mnot\u001b[0m \u001b[0mos\u001b[0m\u001b[0;34m.\u001b[0m\u001b[0mpath\u001b[0m\u001b[0;34m.\u001b[0m\u001b[0mexists\u001b[0m\u001b[0;34m(\u001b[0m\u001b[0mtmpSol\u001b[0m\u001b[0;34m)\u001b[0m\u001b[0;34m:\u001b[0m\u001b[0;34m\u001b[0m\u001b[0;34m\u001b[0m\u001b[0m\n\u001b[0;32m--> 159\u001b[0;31m             \u001b[0;32mraise\u001b[0m \u001b[0mPulpSolverError\u001b[0m\u001b[0;34m(\u001b[0m\u001b[0;34m\"Pulp: Error while executing \"\u001b[0m\u001b[0;34m+\u001b[0m\u001b[0mself\u001b[0m\u001b[0;34m.\u001b[0m\u001b[0mpath\u001b[0m\u001b[0;34m)\u001b[0m\u001b[0;34m\u001b[0m\u001b[0;34m\u001b[0m\u001b[0m\n\u001b[0m\u001b[1;32m    160\u001b[0m         \u001b[0mstatus\u001b[0m\u001b[0;34m,\u001b[0m \u001b[0mvalues\u001b[0m\u001b[0;34m,\u001b[0m \u001b[0mreducedCosts\u001b[0m\u001b[0;34m,\u001b[0m \u001b[0mshadowPrices\u001b[0m\u001b[0;34m,\u001b[0m \u001b[0mslacks\u001b[0m\u001b[0;34m,\u001b[0m \u001b[0msol_status\u001b[0m \u001b[0;34m=\u001b[0m\u001b[0;31m \u001b[0m\u001b[0;31m\\\u001b[0m\u001b[0;34m\u001b[0m\u001b[0;34m\u001b[0m\u001b[0m\n\u001b[1;32m    161\u001b[0m             \u001b[0mself\u001b[0m\u001b[0;34m.\u001b[0m\u001b[0mreadsol_MPS\u001b[0m\u001b[0;34m(\u001b[0m\u001b[0mtmpSol\u001b[0m\u001b[0;34m,\u001b[0m \u001b[0mlp\u001b[0m\u001b[0;34m,\u001b[0m \u001b[0mvs\u001b[0m\u001b[0;34m,\u001b[0m \u001b[0mvariablesNames\u001b[0m\u001b[0;34m,\u001b[0m \u001b[0mconstraintsNames\u001b[0m\u001b[0;34m)\u001b[0m\u001b[0;34m\u001b[0m\u001b[0;34m\u001b[0m\u001b[0m\n",
      "\u001b[0;31mPulpSolverError\u001b[0m: Pulp: Error while executing cbc"
     ]
    }
   ],
   "source": [
    "stochastic_program.solve()"
   ]
  },
  {
   "cell_type": "code",
   "execution_count": 47,
   "metadata": {},
   "outputs": [
    {
     "output_type": "stream",
     "name": "stdout",
     "text": [
      "get_results_by_region_df finished in 0.01 seconds\n"
     ]
    }
   ],
   "source": [
    "region_df = stochastic_program.get_results_by_region_df()"
   ]
  },
  {
   "cell_type": "code",
   "execution_count": 48,
   "metadata": {},
   "outputs": [
    {
     "output_type": "stream",
     "name": "stdout",
     "text": [
      "get_results_by_tuple_df finished in 0.17 seconds\n"
     ]
    }
   ],
   "source": [
    "tuple_df = stochastic_program.get_results_by_tuple_df()"
   ]
  },
  {
   "cell_type": "code",
   "execution_count": 49,
   "metadata": {},
   "outputs": [
    {
     "output_type": "execute_result",
     "data": {
      "text/plain": [
       "relocations           4154\n",
       "trips                 9846\n",
       "unfulfilled_demand    9314\n",
       "dtype: int64"
      ]
     },
     "metadata": {},
     "execution_count": 49
    }
   ],
   "source": [
    "tuple_df.sum()"
   ]
  },
  {
   "cell_type": "code",
   "execution_count": 50,
   "metadata": {},
   "outputs": [
    {
     "output_type": "execute_result",
     "data": {
      "text/plain": [
       "accumulated_unfulfilled_demand    14719\n",
       "has_unfulfilled_demand              512\n",
       "has_remaining_vehicles             1472\n",
       "n_vehicles                        14000\n",
       "dtype: int64"
      ]
     },
     "metadata": {},
     "execution_count": 50
    }
   ],
   "source": [
    "region_df.sum()"
   ]
  }
 ]
}