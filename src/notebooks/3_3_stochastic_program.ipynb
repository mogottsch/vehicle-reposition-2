{
 "cells": [
  {
   "cell_type": "code",
   "execution_count": null,
   "source": [
    "# However we do not expect the reader to add that folder to the env variable,\n",
    "# therefore we manually load it temporarily in each notebook.\n",
    "import os, sys\n",
    "module_path = os.path.abspath(os.path.join('..'))\n",
    "if module_path not in sys.path:\n",
    "    sys.path.append(module_path)"
   ],
   "outputs": [],
   "metadata": {}
  },
  {
   "cell_type": "code",
   "execution_count": null,
   "source": [
    "import pandas as pd\n",
    "import numpy as np\n",
    "from modules.config import (\n",
    "    PATH_SCENARIOS_REDUCED,\n",
    "    PATH_DISTANCES,\n",
    "    PATH_SCENARIO_PROBABILITY,\n",
    "    N_REDUCED_SCNEARIOS,\n",
    "    ALL_VEHICLE_TYPES,\n",
    "    PATH_RESULTS_SUMMARY,\n",
    "    PATH_RESULTS_SINGLE_MODAL_BENCHMARK,\n",
    "    PATH_RESULTS_VAR_REGION,\n",
    "    PATH_RESULTS_VAR_TUPLE,\n",
    "    PATH_RESULTS_VALUE_STOCHASTIC,\n",
    "    PATH_FLEET_SIZE,\n",
    "    PATH_SCENARIO_TREE_NODES,\n",
    "    PATH_RESULTS_VALUE_AT_RISK,\n",
    ")\n",
    "from modules.stochastic_program.factory import StochasticProgramFactory, StochasticProgram\n",
    "\n"
   ],
   "outputs": [],
   "metadata": {}
  },
  {
   "cell_type": "markdown",
   "source": [
    "# Stochastic Program\n",
    "In this notebook we will use the previously prepared data to create a stochastic program and solve it. In order to evaluate its performance we will perform multiple benchmarks.\n",
    "## Read Input Data"
   ],
   "metadata": {}
  },
  {
   "cell_type": "code",
   "execution_count": null,
   "source": [
    "scenarios = pd.read_pickle(PATH_SCENARIOS_REDUCED)"
   ],
   "outputs": [],
   "metadata": {}
  },
  {
   "cell_type": "code",
   "execution_count": null,
   "source": [
    "node_df = pd.read_pickle(PATH_SCENARIO_TREE_NODES)"
   ],
   "outputs": [],
   "metadata": {}
  },
  {
   "cell_type": "code",
   "execution_count": null,
   "source": [
    "distances = pd.read_pickle(PATH_DISTANCES).round(2)"
   ],
   "outputs": [],
   "metadata": {}
  },
  {
   "cell_type": "code",
   "execution_count": null,
   "source": [
    "probabilities = pd.read_pickle(PATH_SCENARIO_PROBABILITY)"
   ],
   "outputs": [],
   "metadata": {}
  },
  {
   "cell_type": "code",
   "execution_count": null,
   "source": [
    "real_fleet_size = pd.read_pickle(PATH_FLEET_SIZE).to_dict()[\"id\"]\n",
    "real_fleet_size = {\n",
    "    vehicle_type: int(fleet_size/3) for vehicle_type, fleet_size in real_fleet_size.items()\n",
    "}\n",
    "real_fleet_size"
   ],
   "outputs": [
    {
     "output_type": "execute_result",
     "data": {
      "text/plain": [
       "{'bicycle': 996, 'car': 658, 'kick_scooter': 2600}"
      ]
     },
     "metadata": {},
     "execution_count": 10
    }
   ],
   "metadata": {}
  },
  {
   "cell_type": "markdown",
   "source": [
    "# Create & Solve Stochastic Program"
   ],
   "metadata": {}
  },
  {
   "cell_type": "markdown",
   "source": [
    "To create and solve the stochastic program we use the `StochasticProgramFactory` and `StochasticProgram` classes from our own module.  \n",
    "We first create the stochastic program factory with all of the prepared data."
   ],
   "metadata": {}
  },
  {
   "cell_type": "code",
   "execution_count": null,
   "source": [
    "vehicle_types = ALL_VEHICLE_TYPES\n",
    "factory = StochasticProgramFactory(\n",
    "    scenarios,\n",
    "    distances,\n",
    "    probabilities,\n",
    "    node_df,\n",
    "    vehicle_types,\n",
    ")\n",
    "factory.set_initial_allocation(real_fleet_size)\n"
   ],
   "outputs": [
    {
     "output_type": "stream",
     "name": "stdout",
     "text": [
      "_convert_probabilities finished in 0.00 seconds\n",
      "_convert_distances finished in 0.01 seconds\n",
      "_convert_demand finished in 0.13 seconds\n",
      "_convert_nodes finished in 0.00 seconds\n",
      "_convert_parameters finished in 0.14 seconds\n",
      "_set_max_demand finished in 0.01 seconds\n",
      "set_initial_allocation finished in 0.01 seconds\n"
     ]
    }
   ],
   "metadata": {}
  },
  {
   "cell_type": "markdown",
   "source": [
    "Now we create the stochastic program using the factory. The factory will pass all the necessary data in the correct format to the stochastic program class."
   ],
   "metadata": {}
  },
  {
   "cell_type": "code",
   "execution_count": null,
   "source": [
    "stochastic_program: StochasticProgram = factory.create_stochastic_program()"
   ],
   "outputs": [
    {
     "output_type": "stream",
     "name": "stdout",
     "text": [
      "create_stochastic_program finished in 0.00 seconds\n"
     ]
    }
   ],
   "metadata": {}
  },
  {
   "cell_type": "markdown",
   "source": [
    "We now use the stochastic program class to create the constraints and the objective function using the pulp library.  \n",
    "We also can configure the model to be risk averse by setting a beta larger than zero. Beta is the weight of the calculate-value-at-risk. Look at the documentation in `stochastic_program.py` for further details."
   ],
   "metadata": {}
  },
  {
   "cell_type": "code",
   "execution_count": null,
   "source": [
    "stochastic_program.create_model(beta=0.0, alpha=0.75)"
   ],
   "outputs": [
    {
     "output_type": "stream",
     "name": "stdout",
     "text": [
      "_create_variables finished in 0.28 seconds\n",
      "_create_objectives finished in 0.38 seconds\n",
      "_create_demand_constraints finished in 0.48 seconds\n",
      "_create_idle_vehicle_binary_constraints finished in 0.01 seconds\n",
      "_create_big_u_sum_constraints finished in 0.06 seconds\n",
      "_create_unfulfilled_demand_binary_constraints finished in 0.01 seconds\n",
      "_create_no_refused_demand_constraints finished in 0.01 seconds\n",
      "_create_relocations_constraints finished in 0.14 seconds\n",
      "_create_vehicle_trips_starting_constraints finished in 0.09 seconds\n",
      "_create_vehicle_trips_ending_constraints finished in 0.08 seconds\n",
      "_create_initial_allocation_constraints finished in 0.00 seconds\n",
      "_create_non_anticipativity_constraints finished in 0.26 seconds\n",
      "_create_constraints finished in 1.14 seconds\n",
      "create_model finished in 2.11 seconds\n"
     ]
    }
   ],
   "metadata": {}
  },
  {
   "cell_type": "markdown",
   "source": [
    "We now can solve the formulated program. Make sure that the solver selected in `config.py` is configured properly."
   ],
   "metadata": {}
  },
  {
   "cell_type": "code",
   "execution_count": null,
   "source": [
    "print(stochastic_program._get_solver())\n",
    "stochastic_program.solve()"
   ],
   "outputs": [
    {
     "output_type": "stream",
     "name": "stdout",
     "text": [
      "No parameters matching '_test' found\n",
      "<pulp.apis.cplex_api.CPLEX_PY object at 0x7ff0303cdbe0>\n",
      "No parameters matching '_test' found\n",
      "Status: Optimal\n",
      "Optimal Value of Objective Function:  23305.031111109853\n",
      "solve finished in 847.24 seconds\n"
     ]
    }
   ],
   "metadata": {}
  },
  {
   "cell_type": "markdown",
   "source": [
    "Here we can take a look at the dimensions of the problem."
   ],
   "metadata": {}
  },
  {
   "cell_type": "code",
   "execution_count": null,
   "source": [
    "scenarios.reset_index().nunique()"
   ],
   "outputs": [
    {
     "output_type": "execute_result",
     "data": {
      "text/plain": [
       "scenarios         4\n",
       "start_hex_ids    29\n",
       "end_hex_ids      29\n",
       "time              3\n",
       "vehicle_types     3\n",
       "demand           85\n",
       "dtype: int64"
      ]
     },
     "metadata": {},
     "execution_count": 44
    }
   ],
   "metadata": {}
  },
  {
   "cell_type": "code",
   "execution_count": null,
   "source": [
    "stochastic_program.get_summary()"
   ],
   "outputs": [
    {
     "output_type": "stream",
     "name": "stdout",
     "text": [
      "get_results_by_tuple_df finished in 0.22 seconds\n",
      "get_results_by_region_df finished in 0.01 seconds\n",
      "get_summary finished in 0.30 seconds\n"
     ]
    },
    {
     "output_type": "execute_result",
     "data": {
      "text/plain": [
       "{'status': 'Optimal',\n",
       " 'objective': 23305.031111109853,\n",
       " 'expected_profit': 23305.031111109853,\n",
       " 'n_trips_avg': 8026.75,\n",
       " 'n_unfilled_demand_avg': 1627.5,\n",
       " 'demand_avg': 9654.25,\n",
       " 'n_parking_avg': 4688.0,\n",
       " 'n_relocations_avg': 2367.0}"
      ]
     },
     "metadata": {},
     "execution_count": 45
    }
   ],
   "metadata": {}
  },
  {
   "cell_type": "code",
   "execution_count": null,
   "source": [
    "results_by_region = stochastic_program.get_results_by_region_df()\n",
    "results_by_tuple = stochastic_program.get_results_by_tuple_df()\n",
    "\n",
    "os.makedirs(os.path.dirname(PATH_RESULTS_VAR_REGION), exist_ok=True)\n",
    "results_by_region.to_pickle(PATH_RESULTS_VAR_REGION)\n",
    "\n",
    "os.makedirs(os.path.dirname(PATH_RESULTS_VAR_TUPLE), exist_ok=True)\n",
    "results_by_tuple.to_pickle(PATH_RESULTS_VAR_TUPLE)"
   ],
   "outputs": [
    {
     "output_type": "stream",
     "name": "stdout",
     "text": [
      "get_results_by_region_df finished in 0.01 seconds\n",
      "get_results_by_tuple_df finished in 0.21 seconds\n"
     ]
    }
   ],
   "metadata": {}
  },
  {
   "cell_type": "markdown",
   "source": [
    "# Benchmarks\n",
    "We will now run different benchmarks on our model to evaluate its performance.\n",
    "## Different Capacities/ Disabled Relocations/ Value Of Perfect Information\n",
    "In our first benchmark we will solve the model with 3 different vehicle fleet sizes to see how the fleet size affects the performance of the model.  \n",
    "For each fleet size we will also enable/disable relocations, so that we can see how relocations can improve profit and demand fulfillment. We will also enable/disable the non-anticipativty constraints to calculate the value of perfect information."
   ],
   "metadata": {}
  },
  {
   "cell_type": "code",
   "execution_count": null,
   "source": [
    "capacities = [\n",
    "    {vehicle_type: round(size * 0.75) for vehicle_type, size in real_fleet_size.items()},\n",
    "    {vehicle_type: round(size * 1) for vehicle_type, size in real_fleet_size.items()},\n",
    "    {vehicle_type: round(size * 1.25) for vehicle_type, size in real_fleet_size.items()},\n",
    "]\n",
    "capacities"
   ],
   "outputs": [
    {
     "output_type": "execute_result",
     "data": {
      "text/plain": [
       "[{'bicycle': 747, 'car': 494, 'kick_scooter': 1950},\n",
       " {'bicycle': 996, 'car': 658, 'kick_scooter': 2600},\n",
       " {'bicycle': 1245, 'car': 822, 'kick_scooter': 3250}]"
      ]
     },
     "metadata": {},
     "execution_count": 19
    }
   ],
   "metadata": {}
  },
  {
   "cell_type": "code",
   "execution_count": null,
   "source": [
    "results = []\n",
    "\n",
    "factory = StochasticProgramFactory(scenarios, distances, probabilities, node_df)\n",
    "\n",
    "factory.include_methods = [None]\n",
    "for capacity in capacities:\n",
    "    factory.set_initial_allocation(capacity)\n",
    "\n",
    "    stochastic_program = factory.create_stochastic_program()\n",
    "    stochastic_program.include_methods = ['solve']\n",
    "\n",
    "    for relocations_disabled in [False, True]:\n",
    "        for non_anticipativity_disabled in [False, True]:\n",
    "            stochastic_program.relocations_disabled = relocations_disabled\n",
    "            stochastic_program.non_anticipativity_disabled = non_anticipativity_disabled\n",
    "            stochastic_program.create_model()\n",
    "            stochastic_program.solve()\n",
    "\n",
    "            results.append({\n",
    "                **stochastic_program.get_summary(),\n",
    "                **capacity,\n",
    "                'relocations_disabled': relocations_disabled,\n",
    "                'non_anticipativity_disabled': non_anticipativity_disabled,\n",
    "            })\n",
    "            print('\\n')"
   ],
   "outputs": [
    {
     "output_type": "stream",
     "name": "stdout",
     "text": [
      "_convert_probabilities finished in 0.00 seconds\n",
      "_convert_distances finished in 0.01 seconds\n",
      "_convert_demand finished in 0.03 seconds\n",
      "_convert_nodes finished in 0.00 seconds\n",
      "_convert_parameters finished in 0.04 seconds\n",
      "_set_max_demand finished in 0.01 seconds\n",
      "No parameters matching '_test' found\n",
      "Status: Optimal\n",
      "Optimal Value of Objective Function:  23982.74999999992\n",
      "solve finished in 11.02 seconds\n",
      "\n",
      "\n",
      "No parameters matching '_test' found\n",
      "Status: Optimal\n",
      "Optimal Value of Objective Function:  24473.041111111062\n",
      "solve finished in 10.13 seconds\n",
      "\n",
      "\n",
      "No parameters matching '_test' found\n",
      "Status: Optimal\n",
      "Optimal Value of Objective Function:  7389.98111111112\n",
      "solve finished in 2.89 seconds\n",
      "\n",
      "\n",
      "No parameters matching '_test' found\n",
      "Status: Optimal\n",
      "Optimal Value of Objective Function:  7476.041111111163\n",
      "solve finished in 1.81 seconds\n",
      "\n",
      "\n",
      "No parameters matching '_test' found\n",
      "Status: Optimal\n",
      "Optimal Value of Objective Function:  23305.031111109853\n",
      "solve finished in 845.67 seconds\n",
      "\n",
      "\n",
      "No parameters matching '_test' found\n",
      "Status: Optimal\n",
      "Optimal Value of Objective Function:  24083.46888888886\n",
      "solve finished in 17.96 seconds\n",
      "\n",
      "\n",
      "No parameters matching '_test' found\n",
      "Status: Optimal\n",
      "Optimal Value of Objective Function:  4730.85888888886\n",
      "solve finished in 2.38 seconds\n",
      "\n",
      "\n",
      "No parameters matching '_test' found\n",
      "Status: Optimal\n",
      "Optimal Value of Objective Function:  4783.519999999982\n",
      "solve finished in 2.17 seconds\n",
      "\n",
      "\n",
      "No parameters matching '_test' found\n",
      "Status: Optimal\n",
      "Optimal Value of Objective Function:  20413.967777777754\n",
      "solve finished in 5139.84 seconds\n",
      "\n",
      "\n",
      "No parameters matching '_test' found\n",
      "Status: Optimal\n",
      "Optimal Value of Objective Function:  21360.241111111063\n",
      "solve finished in 17.48 seconds\n",
      "\n",
      "\n",
      "No parameters matching '_test' found\n",
      "Status: Optimal\n",
      "Optimal Value of Objective Function:  -804.0199999999917\n",
      "solve finished in 4.99 seconds\n",
      "\n",
      "\n",
      "No parameters matching '_test' found\n",
      "Status: Optimal\n",
      "Optimal Value of Objective Function:  -699.0211111111047\n",
      "solve finished in 6.00 seconds\n",
      "\n",
      "\n"
     ]
    }
   ],
   "metadata": {}
  },
  {
   "cell_type": "code",
   "execution_count": null,
   "source": [
    "results_df = pd.DataFrame.from_dict(results)"
   ],
   "outputs": [],
   "metadata": {}
  },
  {
   "cell_type": "code",
   "execution_count": null,
   "source": [
    "results_df"
   ],
   "outputs": [
    {
     "output_type": "execute_result",
     "data": {
      "text/plain": [
       "     status     objective  expected_profit  n_trips_avg  \\\n",
       "0   Optimal  23982.750000     23982.750000      7472.50   \n",
       "1   Optimal  24473.041111     24473.041111      7507.50   \n",
       "2   Optimal   7389.981111      7389.981111      4090.00   \n",
       "3   Optimal   7476.041111      7476.041111      4089.00   \n",
       "4   Optimal  23305.031111     23305.031111      8026.75   \n",
       "5   Optimal  24083.468889     24083.468889      8392.75   \n",
       "6   Optimal   4730.858889      4730.858889      5123.50   \n",
       "7   Optimal   4783.520000      4783.520000      5130.50   \n",
       "8   Optimal  20413.967778     20413.967778      8193.75   \n",
       "9   Optimal  21360.241111     21360.241111      8541.50   \n",
       "10  Optimal   -804.020000      -804.020000      5973.75   \n",
       "11  Optimal   -699.021111      -699.021111      5975.25   \n",
       "\n",
       "    n_unfilled_demand_avg  demand_avg  n_parking_avg  n_relocations_avg  \\\n",
       "0                 2181.75     9654.25        2081.25            2123.00   \n",
       "1                 2146.75     9654.25        2064.75            2223.25   \n",
       "2                 5564.25     9654.25        5458.25               0.00   \n",
       "3                 5565.25     9654.25        5484.00               0.00   \n",
       "4                 1627.50     9654.25        4688.00            2367.00   \n",
       "5                 1261.50     9654.25        4363.75            2413.25   \n",
       "6                 4530.75     9654.25        7638.50               0.00   \n",
       "7                 4523.75     9654.25        7631.50               0.00   \n",
       "8                 1460.50     9654.25        7756.75            2147.00   \n",
       "9                 1112.75     9654.25        7400.25            2316.75   \n",
       "10                3680.50     9654.25        9977.25               0.00   \n",
       "11                3679.00     9654.25        9975.75               0.00   \n",
       "\n",
       "    bicycle  car  kick_scooter  relocations_disabled  \\\n",
       "0       747  494          1950                 False   \n",
       "1       747  494          1950                 False   \n",
       "2       747  494          1950                  True   \n",
       "3       747  494          1950                  True   \n",
       "4       996  658          2600                 False   \n",
       "5       996  658          2600                 False   \n",
       "6       996  658          2600                  True   \n",
       "7       996  658          2600                  True   \n",
       "8      1245  822          3250                 False   \n",
       "9      1245  822          3250                 False   \n",
       "10     1245  822          3250                  True   \n",
       "11     1245  822          3250                  True   \n",
       "\n",
       "    non_anticipativity_disabled  \n",
       "0                         False  \n",
       "1                          True  \n",
       "2                         False  \n",
       "3                          True  \n",
       "4                         False  \n",
       "5                          True  \n",
       "6                         False  \n",
       "7                          True  \n",
       "8                         False  \n",
       "9                          True  \n",
       "10                        False  \n",
       "11                         True  "
      ],
      "text/html": [
       "<div>\n",
       "<style scoped>\n",
       "    .dataframe tbody tr th:only-of-type {\n",
       "        vertical-align: middle;\n",
       "    }\n",
       "\n",
       "    .dataframe tbody tr th {\n",
       "        vertical-align: top;\n",
       "    }\n",
       "\n",
       "    .dataframe thead th {\n",
       "        text-align: right;\n",
       "    }\n",
       "</style>\n",
       "<table border=\"1\" class=\"dataframe\">\n",
       "  <thead>\n",
       "    <tr style=\"text-align: right;\">\n",
       "      <th></th>\n",
       "      <th>status</th>\n",
       "      <th>objective</th>\n",
       "      <th>expected_profit</th>\n",
       "      <th>n_trips_avg</th>\n",
       "      <th>n_unfilled_demand_avg</th>\n",
       "      <th>demand_avg</th>\n",
       "      <th>n_parking_avg</th>\n",
       "      <th>n_relocations_avg</th>\n",
       "      <th>bicycle</th>\n",
       "      <th>car</th>\n",
       "      <th>kick_scooter</th>\n",
       "      <th>relocations_disabled</th>\n",
       "      <th>non_anticipativity_disabled</th>\n",
       "    </tr>\n",
       "  </thead>\n",
       "  <tbody>\n",
       "    <tr>\n",
       "      <th>0</th>\n",
       "      <td>Optimal</td>\n",
       "      <td>23982.750000</td>\n",
       "      <td>23982.750000</td>\n",
       "      <td>7472.50</td>\n",
       "      <td>2181.75</td>\n",
       "      <td>9654.25</td>\n",
       "      <td>2081.25</td>\n",
       "      <td>2123.00</td>\n",
       "      <td>747</td>\n",
       "      <td>494</td>\n",
       "      <td>1950</td>\n",
       "      <td>False</td>\n",
       "      <td>False</td>\n",
       "    </tr>\n",
       "    <tr>\n",
       "      <th>1</th>\n",
       "      <td>Optimal</td>\n",
       "      <td>24473.041111</td>\n",
       "      <td>24473.041111</td>\n",
       "      <td>7507.50</td>\n",
       "      <td>2146.75</td>\n",
       "      <td>9654.25</td>\n",
       "      <td>2064.75</td>\n",
       "      <td>2223.25</td>\n",
       "      <td>747</td>\n",
       "      <td>494</td>\n",
       "      <td>1950</td>\n",
       "      <td>False</td>\n",
       "      <td>True</td>\n",
       "    </tr>\n",
       "    <tr>\n",
       "      <th>2</th>\n",
       "      <td>Optimal</td>\n",
       "      <td>7389.981111</td>\n",
       "      <td>7389.981111</td>\n",
       "      <td>4090.00</td>\n",
       "      <td>5564.25</td>\n",
       "      <td>9654.25</td>\n",
       "      <td>5458.25</td>\n",
       "      <td>0.00</td>\n",
       "      <td>747</td>\n",
       "      <td>494</td>\n",
       "      <td>1950</td>\n",
       "      <td>True</td>\n",
       "      <td>False</td>\n",
       "    </tr>\n",
       "    <tr>\n",
       "      <th>3</th>\n",
       "      <td>Optimal</td>\n",
       "      <td>7476.041111</td>\n",
       "      <td>7476.041111</td>\n",
       "      <td>4089.00</td>\n",
       "      <td>5565.25</td>\n",
       "      <td>9654.25</td>\n",
       "      <td>5484.00</td>\n",
       "      <td>0.00</td>\n",
       "      <td>747</td>\n",
       "      <td>494</td>\n",
       "      <td>1950</td>\n",
       "      <td>True</td>\n",
       "      <td>True</td>\n",
       "    </tr>\n",
       "    <tr>\n",
       "      <th>4</th>\n",
       "      <td>Optimal</td>\n",
       "      <td>23305.031111</td>\n",
       "      <td>23305.031111</td>\n",
       "      <td>8026.75</td>\n",
       "      <td>1627.50</td>\n",
       "      <td>9654.25</td>\n",
       "      <td>4688.00</td>\n",
       "      <td>2367.00</td>\n",
       "      <td>996</td>\n",
       "      <td>658</td>\n",
       "      <td>2600</td>\n",
       "      <td>False</td>\n",
       "      <td>False</td>\n",
       "    </tr>\n",
       "    <tr>\n",
       "      <th>5</th>\n",
       "      <td>Optimal</td>\n",
       "      <td>24083.468889</td>\n",
       "      <td>24083.468889</td>\n",
       "      <td>8392.75</td>\n",
       "      <td>1261.50</td>\n",
       "      <td>9654.25</td>\n",
       "      <td>4363.75</td>\n",
       "      <td>2413.25</td>\n",
       "      <td>996</td>\n",
       "      <td>658</td>\n",
       "      <td>2600</td>\n",
       "      <td>False</td>\n",
       "      <td>True</td>\n",
       "    </tr>\n",
       "    <tr>\n",
       "      <th>6</th>\n",
       "      <td>Optimal</td>\n",
       "      <td>4730.858889</td>\n",
       "      <td>4730.858889</td>\n",
       "      <td>5123.50</td>\n",
       "      <td>4530.75</td>\n",
       "      <td>9654.25</td>\n",
       "      <td>7638.50</td>\n",
       "      <td>0.00</td>\n",
       "      <td>996</td>\n",
       "      <td>658</td>\n",
       "      <td>2600</td>\n",
       "      <td>True</td>\n",
       "      <td>False</td>\n",
       "    </tr>\n",
       "    <tr>\n",
       "      <th>7</th>\n",
       "      <td>Optimal</td>\n",
       "      <td>4783.520000</td>\n",
       "      <td>4783.520000</td>\n",
       "      <td>5130.50</td>\n",
       "      <td>4523.75</td>\n",
       "      <td>9654.25</td>\n",
       "      <td>7631.50</td>\n",
       "      <td>0.00</td>\n",
       "      <td>996</td>\n",
       "      <td>658</td>\n",
       "      <td>2600</td>\n",
       "      <td>True</td>\n",
       "      <td>True</td>\n",
       "    </tr>\n",
       "    <tr>\n",
       "      <th>8</th>\n",
       "      <td>Optimal</td>\n",
       "      <td>20413.967778</td>\n",
       "      <td>20413.967778</td>\n",
       "      <td>8193.75</td>\n",
       "      <td>1460.50</td>\n",
       "      <td>9654.25</td>\n",
       "      <td>7756.75</td>\n",
       "      <td>2147.00</td>\n",
       "      <td>1245</td>\n",
       "      <td>822</td>\n",
       "      <td>3250</td>\n",
       "      <td>False</td>\n",
       "      <td>False</td>\n",
       "    </tr>\n",
       "    <tr>\n",
       "      <th>9</th>\n",
       "      <td>Optimal</td>\n",
       "      <td>21360.241111</td>\n",
       "      <td>21360.241111</td>\n",
       "      <td>8541.50</td>\n",
       "      <td>1112.75</td>\n",
       "      <td>9654.25</td>\n",
       "      <td>7400.25</td>\n",
       "      <td>2316.75</td>\n",
       "      <td>1245</td>\n",
       "      <td>822</td>\n",
       "      <td>3250</td>\n",
       "      <td>False</td>\n",
       "      <td>True</td>\n",
       "    </tr>\n",
       "    <tr>\n",
       "      <th>10</th>\n",
       "      <td>Optimal</td>\n",
       "      <td>-804.020000</td>\n",
       "      <td>-804.020000</td>\n",
       "      <td>5973.75</td>\n",
       "      <td>3680.50</td>\n",
       "      <td>9654.25</td>\n",
       "      <td>9977.25</td>\n",
       "      <td>0.00</td>\n",
       "      <td>1245</td>\n",
       "      <td>822</td>\n",
       "      <td>3250</td>\n",
       "      <td>True</td>\n",
       "      <td>False</td>\n",
       "    </tr>\n",
       "    <tr>\n",
       "      <th>11</th>\n",
       "      <td>Optimal</td>\n",
       "      <td>-699.021111</td>\n",
       "      <td>-699.021111</td>\n",
       "      <td>5975.25</td>\n",
       "      <td>3679.00</td>\n",
       "      <td>9654.25</td>\n",
       "      <td>9975.75</td>\n",
       "      <td>0.00</td>\n",
       "      <td>1245</td>\n",
       "      <td>822</td>\n",
       "      <td>3250</td>\n",
       "      <td>True</td>\n",
       "      <td>True</td>\n",
       "    </tr>\n",
       "  </tbody>\n",
       "</table>\n",
       "</div>"
      ]
     },
     "metadata": {},
     "execution_count": 22
    }
   ],
   "metadata": {}
  },
  {
   "cell_type": "code",
   "execution_count": null,
   "source": [
    "os.makedirs(os.path.dirname(PATH_RESULTS_SUMMARY), exist_ok=True)\n",
    "results_df.to_pickle(PATH_RESULTS_SUMMARY)\n"
   ],
   "outputs": [],
   "metadata": {}
  },
  {
   "cell_type": "markdown",
   "source": [
    "## Single Modal Benchmark\n",
    "The novelty of our model is the consideration of multiple vehicle types. With this benchmark we will examine whether this consideration actually improves the profit. To do that we will create three single modal models and run them subsequently. The first single modal model will only consider kick scooters. We will then extract the unfulfilled demand from the solution of the first model and use that as an additional input for the second single modal model, which considers bicycles. Therefore the second model will have the bicycle demand plus the unfulfilled demand from the kick scooters as input. We will then repeat the process for cars.  \n",
    "We can then compare the sum of the profit of all three single modal models with the profit of the multi modal model. "
   ],
   "metadata": {}
  },
  {
   "cell_type": "code",
   "execution_count": null,
   "source": [
    "scenarios_copy = scenarios.copy().reset_index()\n",
    "\n",
    "demand_per_type = {\n",
    "    \"car\": scenarios_copy[scenarios_copy['vehicle_types'] == 'car']\\\n",
    "        .set_index(['scenarios','start_hex_ids','end_hex_ids','time' ,'vehicle_types']),\n",
    "    \"kick_scooter\": scenarios_copy[scenarios_copy['vehicle_types'] == 'kick_scooter']\\\n",
    "        .set_index(['scenarios','start_hex_ids','end_hex_ids','time' ,'vehicle_types']),\n",
    "    \"bicycle\": scenarios_copy[scenarios_copy['vehicle_types'] == 'bicycle']\\\n",
    "        .set_index(['scenarios','start_hex_ids','end_hex_ids','time' ,'vehicle_types']),\n",
    "}"
   ],
   "outputs": [],
   "metadata": {}
  },
  {
   "cell_type": "code",
   "execution_count": null,
   "source": [
    "results = []\n",
    "# last demand in first iteration is 0\n",
    "last_demand = pd.DataFrame(index=demand_per_type['car'].index)\n",
    "last_demand['demand'] = 0\n",
    "for vehicle_types in [[\"kick_scooter\"], [\"bicycle\"], [\"car\"]]:\n",
    "    current_vehicle_type = vehicle_types[0]\n",
    "    print(\"previous demand\", demand_per_type[current_vehicle_type]['demand'].values.sum(), \"\\n\")\n",
    "    print(\"demand for current vehicle\", last_demand['demand'].values.sum(), \"\\n\")\n",
    "    current_demand = demand_per_type[current_vehicle_type] \\\n",
    "                    .reset_index('vehicle_types') \\\n",
    "                    .drop(\"vehicle_types\", axis=1) \\\n",
    "                    + last_demand.reset_index('vehicle_types').drop(\"vehicle_types\", axis=1)\n",
    "    current_demand['vehicle_types'] = current_vehicle_type\n",
    "    current_demand = current_demand.set_index('vehicle_types', append=True)\n",
    "    print(\"total current demand\", current_demand['demand'].values.sum(), \"\\n\")\n",
    "    current_fleet_capacity = {\n",
    "        current_vehicle_type: real_fleet_size[current_vehicle_type]\n",
    "    }\n",
    "\n",
    "    current_demand.index = current_demand.index.set_levels(\n",
    "        current_demand.index.get_level_values(\"vehicle_types\").map(\n",
    "            lambda x: current_vehicle_type\n",
    "        ),\n",
    "        verify_integrity=False,\n",
    "        level=\"vehicle_types\",\n",
    "    )\n",
    "\n",
    "    factory = StochasticProgramFactory(\n",
    "        current_demand,\n",
    "        distances,\n",
    "        probabilities,\n",
    "        node_df,\n",
    "        vehicle_types,\n",
    "        include_methods=[None],\n",
    "    )\n",
    "    factory.set_initial_allocation(real_fleet_size)\n",
    "    stochastic_program = factory.create_stochastic_program()\n",
    "    stochastic_program.include_methods = [\"solve\"]\n",
    "    stochastic_program.create_model()\n",
    "    stochastic_program.solve()\n",
    "    # we transform the unfulfilled demand of the current lp into the demand for the next lp\n",
    "    last_demand = stochastic_program.get_unfulfilled_demand().rename(\n",
    "        columns={\"accumulated_unfulfilled_demand\": \"demand\"}\n",
    "    )\n",
    "    \n",
    "    results.append(\n",
    "        {**stochastic_program.get_summary(), \"vehicle_types\": str(vehicle_types)}\n",
    "    )\n"
   ],
   "outputs": [
    {
     "output_type": "stream",
     "name": "stdout",
     "text": [
      "previous demand 24376 \n",
      "\n",
      "demand for current vehicle 0 \n",
      "\n",
      "total current demand 24376 \n",
      "\n",
      "Academic license - for non-commercial use only - expires 2021-07-23\n",
      "Using license file /home/moritz/licenses/gurobi.lic\n",
      "No parameters matching '_test' found\n",
      "Status: Optimal\n",
      "Optimal Value of Objective Function:  10314.058888888907\n",
      "solve finished in 0.59 seconds\n",
      "previous demand 12915 \n",
      "\n",
      "demand for current vehicle 2885 \n",
      "\n",
      "total current demand 15800 \n",
      "\n",
      "No parameters matching '_test' found\n",
      "Status: Optimal\n",
      "Optimal Value of Objective Function:  6734.591111111116\n",
      "solve finished in 0.56 seconds\n",
      "previous demand 1326 \n",
      "\n",
      "demand for current vehicle 6556 \n",
      "\n",
      "total current demand 7882 \n",
      "\n",
      "No parameters matching '_test' found\n",
      "Status: Optimal\n",
      "Optimal Value of Objective Function:  -13454.215555555567\n",
      "solve finished in 0.57 seconds\n"
     ]
    }
   ],
   "metadata": {}
  },
  {
   "cell_type": "code",
   "execution_count": null,
   "source": [
    "factory = StochasticProgramFactory(\n",
    "    scenarios,\n",
    "    distances,\n",
    "    probabilities,\n",
    "    node_df,\n",
    "    ALL_VEHICLE_TYPES,\n",
    "    include_methods=[None],\n",
    ")\n",
    "factory.set_initial_allocation(real_fleet_size)\n",
    "stochastic_program = factory.create_stochastic_program()\n",
    "stochastic_program.include_methods = [\"solve\"]\n",
    "stochastic_program.create_model()\n",
    "stochastic_program.solve()\n",
    "\n",
    "results.append(\n",
    "    {**stochastic_program.get_summary(), \"vehicle_types\": ALL_VEHICLE_TYPES}\n",
    ")\n"
   ],
   "outputs": [
    {
     "output_type": "stream",
     "name": "stdout",
     "text": [
      "No parameters matching '_test' found\n",
      "Status: Optimal\n",
      "Optimal Value of Objective Function:  23305.031111109853\n",
      "solve finished in 869.70 seconds\n"
     ]
    }
   ],
   "metadata": {}
  },
  {
   "cell_type": "code",
   "execution_count": null,
   "source": [
    "results = pd.DataFrame.from_dict(results)"
   ],
   "outputs": [],
   "metadata": {}
  },
  {
   "cell_type": "code",
   "execution_count": null,
   "source": [
    "# as unfulfilled demand of bicycles and kick scooters is transferred, we should not count that unfulfilled demand when summing up all unfulfilled demand\n",
    "results.loc[[0,1], 'n_unfilled_demand_avg'] = 0"
   ],
   "outputs": [],
   "metadata": {}
  },
  {
   "cell_type": "code",
   "execution_count": null,
   "source": [
    "compare = results.iloc[[3]]\n",
    "compare = compare.append(results.iloc[range(3)].sum(), ignore_index=True)\n",
    "# demand avg cannot be interpreted as some demand would be counted twice or more\n",
    "compare = compare.drop(columns=['demand_avg'])\n",
    "compare"
   ],
   "outputs": [
    {
     "output_type": "stream",
     "name": "stdout",
     "text": [
      "\\begin{tabular}{lrrrr}\n",
      "\\toprule\n",
      "{} &     objective &  n\\_trips\\_avg &  n\\_unfilled\\_demand\\_avg &  n\\_relocations\\_avg \\\\\n",
      "\\midrule\n",
      "0 &  23305.031111 &      8026.75 &                1627.50 &             2367.0 \\\\\n",
      "1 &   3594.434444 &      8735.50 &                 918.75 &             2919.0 \\\\\n",
      "\\bottomrule\n",
      "\\end{tabular}\n",
      "\n"
     ]
    }
   ],
   "metadata": {}
  },
  {
   "cell_type": "code",
   "execution_count": null,
   "source": [
    "os.makedirs(os.path.dirname(PATH_RESULTS_SINGLE_MODAL_BENCHMARK), exist_ok=True)\n",
    "compare.to_pickle(PATH_RESULTS_SINGLE_MODAL_BENCHMARK)"
   ],
   "outputs": [],
   "metadata": {}
  },
  {
   "cell_type": "markdown",
   "source": [
    "## Value Of The Stochastic Solution\n",
    "We tried to calculate the value of the stochastic solution. However, this we could not simply use the average demand values from all scenarios, as those can be non-integer. Therefore we rounded non-integer values up and down and then solved with both the floored and the ceiled values. As this method does not lead to the actual value of the stochastic solution, we did not include it in our paper.  \n",
    "The following results should be treated with caution."
   ],
   "metadata": {}
  },
  {
   "cell_type": "code",
   "execution_count": null,
   "source": [
    "demand = scenarios.copy()\n",
    "demand = (\n",
    "    demand.unstack(\"scenarios\")[\"demand\"]\n",
    "    .sum(axis=1)\n",
    "    .to_frame()\n",
    "    .rename(columns={0: \"demand\"})\n",
    ")\n",
    "demand[\"scenarios\"] = 0\n",
    "demand = demand.set_index(\"scenarios\", append=True).reorder_levels(\n",
    "    [\"scenarios\", \"start_hex_ids\", \"end_hex_ids\", \"time\", \"vehicle_types\"]\n",
    ")\n",
    "demand['demand'] = demand['demand'] / N_REDUCED_SCNEARIOS\n",
    "demand['floored'] = demand['demand'].apply(np.floor)\n",
    "demand['ceiled'] = demand['demand'].apply(np.ceil)\n"
   ],
   "outputs": [],
   "metadata": {}
  },
  {
   "cell_type": "code",
   "execution_count": null,
   "source": [
    "results = []\n",
    "for rounding_mode in [\"floored\", \"ceiled\"]:\n",
    "    factory = StochasticProgramFactory(\n",
    "        demand[[rounding_mode]].rename(columns={rounding_mode: \"demand\"}),\n",
    "        distances,\n",
    "        probabilities,\n",
    "        node_df,\n",
    "        ALL_VEHICLE_TYPES,\n",
    "        include_methods=[None],\n",
    "    )\n",
    "    factory.set_initial_allocation(real_fleet_size)\n",
    "    stochastic_program = factory.create_stochastic_program()\n",
    "    stochastic_program.include_methods = [\"solve\"]\n",
    "    \n",
    "    # assign all weight to first scenario\n",
    "    stochastic_program.weighting = {0: 1}\n",
    "\n",
    "    # discard non-anticipativity constraints\n",
    "    stochastic_program.non_anticipativity_disabled = True\n",
    "\n",
    "    stochastic_program.create_model()\n",
    "    stochastic_program.solve()\n",
    "\n",
    "    results.append(\n",
    "        {**stochastic_program.get_summary(), \"vehicle_types\": ALL_VEHICLE_TYPES}\n",
    "    )\n"
   ],
   "outputs": [
    {
     "output_type": "stream",
     "name": "stdout",
     "text": [
      "No parameters matching '_test' found\n",
      "Status: Optimal\n",
      "Optimal Value of Objective Function:  7276.816666666652\n",
      "solve finished in 2.34 seconds\n",
      "No parameters matching '_test' found\n",
      "Status: Optimal\n",
      "Optimal Value of Objective Function:  9190.243333333376\n",
      "solve finished in 1.86 seconds\n"
     ]
    }
   ],
   "metadata": {}
  },
  {
   "cell_type": "code",
   "execution_count": null,
   "source": [
    "results = pd.DataFrame.from_dict(results)\n",
    "results"
   ],
   "outputs": [
    {
     "output_type": "execute_result",
     "data": {
      "text/plain": [
       "    status    objective  expected_profit  n_trips_avg  n_unfilled_demand_avg  \\\n",
       "0  Optimal  7276.816667      7276.816667       8015.0                 1232.0   \n",
       "1  Optimal  9190.243333      9190.243333       8803.0                 1256.0   \n",
       "\n",
       "   demand_avg  n_parking_avg  n_relocations_avg                 vehicle_types  \n",
       "0      9247.0         4737.0             2569.0  [kick_scooter, bicycle, car]  \n",
       "1     10059.0         3921.0             2845.0  [kick_scooter, bicycle, car]  "
      ],
      "text/html": [
       "<div>\n",
       "<style scoped>\n",
       "    .dataframe tbody tr th:only-of-type {\n",
       "        vertical-align: middle;\n",
       "    }\n",
       "\n",
       "    .dataframe tbody tr th {\n",
       "        vertical-align: top;\n",
       "    }\n",
       "\n",
       "    .dataframe thead th {\n",
       "        text-align: right;\n",
       "    }\n",
       "</style>\n",
       "<table border=\"1\" class=\"dataframe\">\n",
       "  <thead>\n",
       "    <tr style=\"text-align: right;\">\n",
       "      <th></th>\n",
       "      <th>status</th>\n",
       "      <th>objective</th>\n",
       "      <th>expected_profit</th>\n",
       "      <th>n_trips_avg</th>\n",
       "      <th>n_unfilled_demand_avg</th>\n",
       "      <th>demand_avg</th>\n",
       "      <th>n_parking_avg</th>\n",
       "      <th>n_relocations_avg</th>\n",
       "      <th>vehicle_types</th>\n",
       "    </tr>\n",
       "  </thead>\n",
       "  <tbody>\n",
       "    <tr>\n",
       "      <th>0</th>\n",
       "      <td>Optimal</td>\n",
       "      <td>7276.816667</td>\n",
       "      <td>7276.816667</td>\n",
       "      <td>8015.0</td>\n",
       "      <td>1232.0</td>\n",
       "      <td>9247.0</td>\n",
       "      <td>4737.0</td>\n",
       "      <td>2569.0</td>\n",
       "      <td>[kick_scooter, bicycle, car]</td>\n",
       "    </tr>\n",
       "    <tr>\n",
       "      <th>1</th>\n",
       "      <td>Optimal</td>\n",
       "      <td>9190.243333</td>\n",
       "      <td>9190.243333</td>\n",
       "      <td>8803.0</td>\n",
       "      <td>1256.0</td>\n",
       "      <td>10059.0</td>\n",
       "      <td>3921.0</td>\n",
       "      <td>2845.0</td>\n",
       "      <td>[kick_scooter, bicycle, car]</td>\n",
       "    </tr>\n",
       "  </tbody>\n",
       "</table>\n",
       "</div>"
      ]
     },
     "metadata": {},
     "execution_count": 32
    }
   ],
   "metadata": {}
  },
  {
   "cell_type": "code",
   "execution_count": null,
   "source": [
    "results_df.to_pickle(PATH_RESULTS_VALUE_STOCHASTIC)"
   ],
   "outputs": [],
   "metadata": {}
  },
  {
   "cell_type": "markdown",
   "source": [
    "## Value-At-Risk"
   ],
   "metadata": {}
  },
  {
   "cell_type": "code",
   "execution_count": null,
   "source": [
    "results = []\n",
    "\n",
    "factory = StochasticProgramFactory(scenarios, distances, probabilities, node_df)\n",
    "\n",
    "factory.include_methods = [None]\n",
    "factory.set_initial_allocation(real_fleet_size)\n",
    "\n",
    "stochastic_program = factory.create_stochastic_program()\n",
    "stochastic_program.include_methods = [\"solve\"]\n",
    "\n",
    "for beta in [0, 0.25, 0.5, 0.75]:\n",
    "    stochastic_program.create_model(beta=beta, alpha=0.9)\n",
    "    stochastic_program.solve()\n",
    "\n",
    "    results.append(\n",
    "        {\n",
    "            **stochastic_program.get_summary(),\n",
    "            \"beta\": beta,\n",
    "        }\n",
    "    )\n",
    "    print(\"\\n\")\n"
   ],
   "outputs": [
    {
     "output_type": "stream",
     "name": "stdout",
     "text": [
      "_convert_probabilities finished in 0.00 seconds\n",
      "_convert_distances finished in 0.01 seconds\n",
      "_convert_demand finished in 0.03 seconds\n",
      "_convert_nodes finished in 0.00 seconds\n",
      "_convert_parameters finished in 0.04 seconds\n",
      "_set_max_demand finished in 0.01 seconds\n",
      "No parameters matching '_test' found\n",
      "Status: Optimal\n",
      "Optimal Value of Objective Function:  23305.031111109853\n",
      "solve finished in 907.58 seconds\n",
      "\n",
      "\n",
      "No parameters matching '_test' found\n",
      "Status: Optimal\n",
      "Optimal Value of Objective Function:  22869.23500000004\n",
      "solve finished in 2583.36 seconds\n",
      "\n",
      "\n",
      "No parameters matching '_test' found\n",
      "Status: Optimal\n",
      "Optimal Value of Objective Function:  22461.441111111133\n",
      "solve finished in 2889.62 seconds\n",
      "\n",
      "\n",
      "No parameters matching '_test' found\n",
      "Status: Optimal\n",
      "Optimal Value of Objective Function:  22068.56333333317\n",
      "solve finished in 545.03 seconds\n",
      "\n",
      "\n"
     ]
    }
   ],
   "metadata": {}
  },
  {
   "cell_type": "code",
   "execution_count": null,
   "source": [
    "results_df = pd.DataFrame.from_dict(results)"
   ],
   "outputs": [],
   "metadata": {}
  },
  {
   "cell_type": "code",
   "execution_count": null,
   "source": [
    "results_df.to_pickle(PATH_RESULTS_VALUE_STOCHASTIC)"
   ],
   "outputs": [],
   "metadata": {}
  }
 ],
 "metadata": {
  "interpreter": {
   "hash": "921dce5431bc8dd5032dbf768a24c906ac17844f87e0f443ecd3f0f6d3f457c9"
  },
  "kernelspec": {
   "display_name": "Python 3.8.10 64-bit ('VR': conda)",
   "name": "python3"
  },
  "language_info": {
   "codemirror_mode": {
    "name": "ipython",
    "version": 3
   },
   "file_extension": ".py",
   "mimetype": "text/x-python",
   "name": "python",
   "nbconvert_exporter": "python",
   "pygments_lexer": "ipython3",
   "version": "3.8.10"
  },
  "metadata": {
   "interpreter": {
    "hash": "98dda969eced25373352d8358f4a74bbe75f82753a7539c7817bd98c04161209"
   }
  },
  "orig_nbformat": 2
 },
 "nbformat": 4,
 "nbformat_minor": 2
}