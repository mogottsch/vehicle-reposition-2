{
 "cells": [
  {
   "cell_type": "code",
   "execution_count": 1,
   "metadata": {},
   "outputs": [],
   "source": [
    "# However we do not expect the reader to add that folder to the env variable,\n",
    "# therefore we manually load it temporarily in each notebook.\n",
    "import os, sys\n",
    "module_path = os.path.abspath(os.path.join('..'))\n",
    "if module_path not in sys.path:\n",
    "    sys.path.append(module_path)"
   ]
  },
  {
   "cell_type": "code",
   "execution_count": 2,
   "metadata": {},
   "outputs": [],
   "source": [
    "import pandas as pd\n",
    "import numpy as np\n",
    "from modules.config import (\n",
    "    PATH_SCENARIOS_REDUCED,\n",
    "    PATH_DISTANCES,\n",
    "    PATH_SCENARIO_PROBABILITY,\n",
    "    N_REDUCED_SCNEARIOS,\n",
    "    ALL_VEHICLE_TYPES,\n",
    "    PATH_RESULTS_SUMMARY,\n",
    "    PATH_RESULTS_SINGLE_MODAL_BENCHMARK,\n",
    "    PATH_RESULTS_SINGLE_MODAL_BENCHMARK,\n",
    "    PATH_FLEET_SIZE,\n",
    ")\n",
    "from modules.stochastic_program.factory import StochasticProgramFactory\n",
    "\n"
   ]
  },
  {
   "cell_type": "code",
   "execution_count": 3,
   "metadata": {},
   "outputs": [],
   "source": [
    "%load_ext autoreload\n",
    "%autoreload 2"
   ]
  },
  {
   "cell_type": "markdown",
   "metadata": {},
   "source": [
    "# Prepare Model Parameters\n",
    "## Scenario Data\n",
    "Make scenarios complete cross product"
   ]
  },
  {
   "cell_type": "code",
   "execution_count": 4,
   "metadata": {},
   "outputs": [],
   "source": [
    "scenarios = pd.read_pickle(PATH_SCENARIOS_REDUCED)"
   ]
  },
  {
   "cell_type": "code",
   "execution_count": 5,
   "metadata": {},
   "outputs": [],
   "source": [
    "hex_ids = {*scenarios.index.get_level_values('start_hex_ids').unique()}\n",
    "hex_ids = list(hex_ids.union({*scenarios.index.get_level_values('end_hex_ids').unique()}))"
   ]
  },
  {
   "cell_type": "code",
   "execution_count": 6,
   "metadata": {},
   "outputs": [],
   "source": [
    "complete_index = pd.MultiIndex.from_product(\n",
    "    [\n",
    "        scenarios.index.get_level_values('scenarios').unique(),\n",
    "        pd.Index(hex_ids, name=\"start_hex_ids\"),\n",
    "        pd.Index(hex_ids, name=\"end_hex_ids\"),\n",
    "        scenarios.index.get_level_values('time').unique(),\n",
    "        scenarios.index.get_level_values('vehicle_types').unique(),\n",
    "    ]\n",
    ")"
   ]
  },
  {
   "cell_type": "code",
   "execution_count": 7,
   "metadata": {},
   "outputs": [],
   "source": [
    "scenarios = scenarios.reindex(complete_index, fill_value=0)"
   ]
  },
  {
   "cell_type": "markdown",
   "metadata": {},
   "source": [
    "Find tree structure for non-anticipativity constraints"
   ]
  },
  {
   "cell_type": "code",
   "execution_count": 8,
   "metadata": {},
   "outputs": [],
   "source": [
    "scenarios_unstacked = scenarios.unstack(level=['start_hex_ids', 'end_hex_ids', 'vehicle_types']) \\\n",
    "             .swaplevel() \\\n",
    "             .sort_index()"
   ]
  },
  {
   "cell_type": "code",
   "execution_count": 9,
   "metadata": {},
   "outputs": [],
   "source": [
    "node_df = pd.DataFrame(index=scenarios_unstacked.index)\n",
    "node_df['node'] = 0\n",
    "node_df['prev_node'] = 0"
   ]
  },
  {
   "cell_type": "code",
   "execution_count": 10,
   "metadata": {
    "tags": []
   },
   "outputs": [],
   "source": [
    "times = scenarios_unstacked.index.get_level_values('time').unique()\n",
    "scenario_ids = scenarios_unstacked.index.get_level_values('scenarios').unique()\n",
    "\n",
    "nodes = []\n",
    "nodes_counter = 0\n",
    "groups = [{} for _ in range(len(times))]\n",
    "for i, time in enumerate(times):\n",
    "    prev_groups = groups[i-1] if i != 0 else {-1: list(scenario_ids)}\n",
    "\n",
    "    found_ids = []\n",
    "\n",
    "    values = scenarios_unstacked.loc[(time)].values\n",
    "\n",
    "    for scenario_id in scenario_ids:\n",
    "        if scenario_id in found_ids:\n",
    "            continue\n",
    "        current_group = list((values == values[scenario_id]).all(axis=1).nonzero()[0])\n",
    "        found_ids += current_group\n",
    "        for prev_group_id, prev_group in prev_groups.items():\n",
    "            group = [s_id for s_id in current_group if s_id in prev_group]\n",
    "\n",
    "            if(not group):\n",
    "                continue\n",
    "\n",
    "            groups[i][nodes_counter] = group\n",
    "            for s_id in group:\n",
    "                node_df.loc[(time, s_id), 'node'] = nodes_counter\n",
    "                node_df.loc[(time, s_id), 'prev_node'] = prev_group_id\n",
    "            nodes_counter += 1"
   ]
  },
  {
   "cell_type": "markdown",
   "metadata": {},
   "source": [
    "## Other Model Parameters\n"
   ]
  },
  {
   "cell_type": "code",
   "execution_count": 11,
   "metadata": {},
   "outputs": [],
   "source": [
    "distances = pd.read_pickle(PATH_DISTANCES)"
   ]
  },
  {
   "cell_type": "code",
   "execution_count": 12,
   "metadata": {},
   "outputs": [],
   "source": [
    "probabilities = pd.read_pickle(PATH_SCENARIO_PROBABILITY)"
   ]
  },
  {
   "cell_type": "code",
   "execution_count": 13,
   "metadata": {},
   "outputs": [],
   "source": [
    "real_fleet_size = pd.read_pickle(PATH_FLEET_SIZE).to_dict()['id']"
   ]
  },
  {
   "cell_type": "markdown",
   "metadata": {},
   "source": [
    "# Create & Solve Stochastic Program"
   ]
  },
  {
   "cell_type": "code",
   "execution_count": 14,
   "metadata": {},
   "outputs": [
    {
     "name": "stdout",
     "output_type": "stream",
     "text": [
      "_convert_probabilities finished in 0.00 seconds\n",
      "_convert_distances finished in 0.00 seconds\n",
      "_convert_demand finished in 0.02 seconds\n",
      "_convert_nodes finished in 0.00 seconds\n",
      "_convert_parameters finished in 0.03 seconds\n",
      "_set_max_demand finished in 0.01 seconds\n",
      "set_initial_allocation finished in 0.01 seconds\n"
     ]
    }
   ],
   "source": [
    "vehicle_types = ALL_VEHICLE_TYPES\n",
    "factory = StochasticProgramFactory(scenarios, distances.apply(lambda x: round(x, 2)), probabilities, node_df, vehicle_types)\n",
    "factory.set_initial_allocation(real_fleet_size)"
   ]
  },
  {
   "cell_type": "code",
   "execution_count": 15,
   "metadata": {},
   "outputs": [
    {
     "name": "stdout",
     "output_type": "stream",
     "text": [
      "create_stochastic_program finished in 0.00 seconds\n"
     ]
    }
   ],
   "source": [
    "stochastic_program = factory.create_stochastic_program()"
   ]
  },
  {
   "cell_type": "code",
   "execution_count": 16,
   "metadata": {},
   "outputs": [],
   "source": [
    "stochastic_program.relocations_disabled = False"
   ]
  },
  {
   "cell_type": "code",
   "execution_count": 26,
   "metadata": {
    "tags": []
   },
   "outputs": [
    {
     "name": "stdout",
     "output_type": "stream",
     "text": [
      "_create_variables finished in 0.22 seconds\n",
      "_create_objectives finished in 0.23 seconds\n",
      "_create_demand_constraints finished in 0.30 seconds\n",
      "_create_relocation_binary_constraints finished in 0.01 seconds\n",
      "_create_big_u_sum_constraints finished in 0.04 seconds\n",
      "_create_unfulfilled_demand_binary_constraints finished in 0.01 seconds\n",
      "_create_no_refused_demand_constraints finished in 0.01 seconds\n",
      "_create_relocations_constraints finished in 0.10 seconds\n",
      "_create_vehicle_trips_starting_constraints finished in 0.04 seconds\n",
      "_create_vehicle_trips_ending_constraints finished in 0.04 seconds\n",
      "_create_initial_allocation_constraints finished in 0.01 seconds\n",
      "_create_non_anticipativity_constraints finished in 0.10 seconds\n",
      "_create_value_at_risk_constraints finished in 0.16 seconds\n",
      "_create_constraints finished in 0.84 seconds\n",
      "create_model finished in 1.57 seconds\n"
     ]
    }
   ],
   "source": [
    "stochastic_program.create_model(beta=0.5, alpha=0.75)"
   ]
  },
  {
   "cell_type": "code",
   "execution_count": 27,
   "metadata": {},
   "outputs": [
    {
     "name": "stdout",
     "output_type": "stream",
     "text": [
      "Status: Optimal\n",
      "Optimal Value of Objective Function:  55499.27874999997\n",
      "solve finished in 28.31 seconds\n"
     ]
    }
   ],
   "source": [
    "stochastic_program.solve()"
   ]
  },
  {
   "cell_type": "code",
   "execution_count": 28,
   "metadata": {},
   "outputs": [
    {
     "data": {
      "text/plain": "scenarios          8\nstart_hex_ids     19\nend_hex_ids       19\ntime               2\nvehicle_types      3\ndemand           142\ndtype: int64"
     },
     "execution_count": 28,
     "metadata": {},
     "output_type": "execute_result"
    }
   ],
   "source": [
    "scenarios.reset_index().nunique()"
   ]
  },
  {
   "cell_type": "code",
   "execution_count": 29,
   "metadata": {},
   "outputs": [
    {
     "name": "stdout",
     "output_type": "stream",
     "text": [
      "get_results_by_tuple_df finished in 0.10 seconds\n",
      "get_results_by_region_df finished in 0.01 seconds\n",
      "get_summary finished in 0.16 seconds\n"
     ]
    },
    {
     "data": {
      "text/plain": "{'status': 'Optimal',\n 'objective': 55499.27874999997,\n 'expected_profit': 55794.337499999936,\n 'eta': 55204.22,\n 'beta': 0.5,\n 'alpha': 0.75,\n 'n_trips_avg': 7238.375,\n 'n_unfilled_demand_avg': 2434.25,\n 'demand_avg': 9672.625,\n 'n_parking_avg': 18295.625,\n 'n_relocations_avg': 3710.0}"
     },
     "execution_count": 29,
     "metadata": {},
     "output_type": "execute_result"
    }
   ],
   "source": [
    "stochastic_program.get_summary()"
   ]
  },
  {
   "cell_type": "markdown",
   "metadata": {},
   "source": [
    "# Benchmarks\n",
    "## Different Capacities/ Disabled Relocations/ Value Of Perfect Information"
   ]
  },
  {
   "cell_type": "code",
   "execution_count": 18,
   "metadata": {},
   "outputs": [],
   "source": [
    "capacities = [\n",
    "    {\n",
    "        \"kick_scooter\": 10000,\n",
    "        \"bicycle\": 4000,\n",
    "        \"car\": 3000,\n",
    "    },\n",
    "    {\n",
    "        \"kick_scooter\": 8000,\n",
    "        \"bicycle\": 3000,\n",
    "        \"car\": 2000,\n",
    "    },\n",
    "    {\n",
    "        \"kick_scooter\": 6000,\n",
    "        \"bicycle\": 2000,\n",
    "        \"car\": 1000,\n",
    "    },\n",
    "]\n"
   ]
  },
  {
   "cell_type": "code",
   "execution_count": 19,
   "metadata": {},
   "outputs": [
    {
     "name": "stdout",
     "output_type": "stream",
     "text": [
      "_convert_probabilities finished in 0.00 seconds\n",
      "_convert_distances finished in 0.01 seconds\n",
      "_convert_demand finished in 0.44 seconds\n",
      "_convert_nodes finished in 0.00 seconds\n",
      "_convert_parameters finished in 0.45 seconds\n",
      "_set_max_demand finished in 0.12 seconds\n",
      "Status: Optimal\n",
      "Optimal Value of Objective Function:  27179.69136345392\n",
      "Runtime without preprocessing: 44.24 seconds\n",
      "solve finished in 75.17 seconds\n",
      "\n",
      "\n",
      "Status: Optimal\n",
      "Optimal Value of Objective Function:  27382.46934985442\n",
      "Runtime without preprocessing: 37.63 seconds\n",
      "solve finished in 74.13 seconds\n",
      "\n",
      "\n",
      "Status: Optimal\n",
      "Optimal Value of Objective Function:  -183163.81878168977\n",
      "Runtime without preprocessing: 31.33 seconds\n",
      "solve finished in 345.33 seconds\n",
      "\n",
      "\n",
      "Status: Optimal\n",
      "Optimal Value of Objective Function:  -182933.44880661144\n",
      "Runtime without preprocessing: 27.64 seconds\n",
      "solve finished in 75.06 seconds\n",
      "\n",
      "\n",
      "Status: Optimal\n",
      "Optimal Value of Objective Function:  31639.020380115195\n",
      "Runtime without preprocessing: 46.45 seconds\n",
      "solve finished in 76.92 seconds\n",
      "\n",
      "\n",
      "Status: Optimal\n",
      "Optimal Value of Objective Function:  31888.69683411792\n",
      "Runtime without preprocessing: 39.12 seconds\n",
      "solve finished in 79.39 seconds\n",
      "\n",
      "\n",
      "Status: Optimal\n",
      "Optimal Value of Objective Function:  -121956.7315772895\n",
      "Runtime without preprocessing: 31.81 seconds\n",
      "solve finished in 56.84 seconds\n",
      "\n",
      "\n",
      "Status: Optimal\n",
      "Optimal Value of Objective Function:  -121888.43845738228\n",
      "Runtime without preprocessing: 27.30 seconds\n",
      "solve finished in 62.11 seconds\n",
      "\n",
      "\n",
      "Status: Optimal\n",
      "Optimal Value of Objective Function:  33268.26534840216\n",
      "Runtime without preprocessing: 46.30 seconds\n",
      "solve finished in 77.56 seconds\n",
      "\n",
      "\n",
      "Status: Optimal\n",
      "Optimal Value of Objective Function:  33554.97560123643\n",
      "Runtime without preprocessing: 39.00 seconds\n",
      "solve finished in 80.46 seconds\n",
      "\n",
      "\n",
      "Status: Optimal\n",
      "Optimal Value of Objective Function:  -63599.34392235416\n",
      "Runtime without preprocessing: 31.86 seconds\n",
      "solve finished in 54.43 seconds\n",
      "\n",
      "\n",
      "Status: Optimal\n",
      "Optimal Value of Objective Function:  -63550.56323275443\n",
      "Runtime without preprocessing: 27.16 seconds\n",
      "solve finished in 56.36 seconds\n",
      "\n",
      "\n"
     ]
    }
   ],
   "source": [
    "results = []\n",
    "\n",
    "factory = StochasticProgramFactory(scenarios, distances, probabilities, node_df)\n",
    "factory.include_methods = [None]\n",
    "for capacity in capacities:\n",
    "    factory.set_initial_allocation(capacity)\n",
    "\n",
    "    stochastic_program = factory.create_stochastic_program()\n",
    "    stochastic_program.include_methods = ['solve']\n",
    "\n",
    "    for relocations_disabled in [False, True]:\n",
    "        for non_anticipativity_disabled in [False, True]:\n",
    "            stochastic_program.relocations_disabled = relocations_disabled\n",
    "            stochastic_program.non_anticipativity_disabled = non_anticipativity_disabled\n",
    "            stochastic_program.create_model()\n",
    "            stochastic_program.solve()\n",
    "\n",
    "            results.append({\n",
    "                **stochastic_program.get_summary(),\n",
    "                **capacity,\n",
    "                'relocations_disabled': relocations_disabled,\n",
    "                'non_anticipativity_disabled': non_anticipativity_disabled,\n",
    "            })\n",
    "            print('\\n')"
   ]
  },
  {
   "cell_type": "code",
   "execution_count": 20,
   "metadata": {},
   "outputs": [],
   "source": [
    "results_df = pd.DataFrame.from_dict(results)"
   ]
  },
  {
   "cell_type": "code",
   "execution_count": 21,
   "metadata": {},
   "outputs": [
    {
     "data": {
      "text/html": "<div>\n<style scoped>\n    .dataframe tbody tr th:only-of-type {\n        vertical-align: middle;\n    }\n\n    .dataframe tbody tr th {\n        vertical-align: top;\n    }\n\n    .dataframe thead th {\n        text-align: right;\n    }\n</style>\n<table border=\"1\" class=\"dataframe\">\n  <thead>\n    <tr style=\"text-align: right;\">\n      <th></th>\n      <th>status</th>\n      <th>objective</th>\n      <th>solver_runtime</th>\n      <th>n_trips_avg</th>\n      <th>n_unfilled_demand_avg</th>\n      <th>demand_avg</th>\n      <th>n_parking_avg</th>\n      <th>n_relocations_avg</th>\n      <th>kick_scooter</th>\n      <th>bicycle</th>\n      <th>car</th>\n      <th>relocations_disabled</th>\n      <th>non_anticipativity_disabled</th>\n    </tr>\n  </thead>\n  <tbody>\n    <tr>\n      <th>0</th>\n      <td>Optimal</td>\n      <td>27179.691363</td>\n      <td>44.243824</td>\n      <td>7929.8125</td>\n      <td>1585.8125</td>\n      <td>9515.625</td>\n      <td>0.0000</td>\n      <td>26070.1875</td>\n      <td>10000</td>\n      <td>4000</td>\n      <td>3000</td>\n      <td>False</td>\n      <td>False</td>\n    </tr>\n    <tr>\n      <th>1</th>\n      <td>Optimal</td>\n      <td>27382.469350</td>\n      <td>37.627232</td>\n      <td>7940.1875</td>\n      <td>1575.4375</td>\n      <td>9515.625</td>\n      <td>0.0000</td>\n      <td>26059.8125</td>\n      <td>10000</td>\n      <td>4000</td>\n      <td>3000</td>\n      <td>False</td>\n      <td>True</td>\n    </tr>\n    <tr>\n      <th>2</th>\n      <td>Optimal</td>\n      <td>-183163.818782</td>\n      <td>31.332453</td>\n      <td>5360.1250</td>\n      <td>4155.5000</td>\n      <td>9515.625</td>\n      <td>28639.8750</td>\n      <td>0.0000</td>\n      <td>10000</td>\n      <td>4000</td>\n      <td>3000</td>\n      <td>True</td>\n      <td>False</td>\n    </tr>\n    <tr>\n      <th>3</th>\n      <td>Optimal</td>\n      <td>-182933.448807</td>\n      <td>27.642780</td>\n      <td>5362.3125</td>\n      <td>4153.3125</td>\n      <td>9515.625</td>\n      <td>28637.6875</td>\n      <td>0.0000</td>\n      <td>10000</td>\n      <td>4000</td>\n      <td>3000</td>\n      <td>True</td>\n      <td>True</td>\n    </tr>\n    <tr>\n      <th>4</th>\n      <td>Optimal</td>\n      <td>31639.020380</td>\n      <td>46.452361</td>\n      <td>7590.1250</td>\n      <td>1925.5000</td>\n      <td>9515.625</td>\n      <td>0.0000</td>\n      <td>18409.8750</td>\n      <td>8000</td>\n      <td>3000</td>\n      <td>2000</td>\n      <td>False</td>\n      <td>False</td>\n    </tr>\n    <tr>\n      <th>5</th>\n      <td>Optimal</td>\n      <td>31888.696834</td>\n      <td>39.118114</td>\n      <td>7602.2500</td>\n      <td>1913.3750</td>\n      <td>9515.625</td>\n      <td>0.0000</td>\n      <td>18397.7500</td>\n      <td>8000</td>\n      <td>3000</td>\n      <td>2000</td>\n      <td>False</td>\n      <td>True</td>\n    </tr>\n    <tr>\n      <th>6</th>\n      <td>Optimal</td>\n      <td>-121956.731577</td>\n      <td>31.810489</td>\n      <td>4568.3750</td>\n      <td>4947.2500</td>\n      <td>9515.625</td>\n      <td>21431.6250</td>\n      <td>0.0000</td>\n      <td>8000</td>\n      <td>3000</td>\n      <td>2000</td>\n      <td>True</td>\n      <td>False</td>\n    </tr>\n    <tr>\n      <th>7</th>\n      <td>Optimal</td>\n      <td>-121888.438457</td>\n      <td>27.302864</td>\n      <td>4569.2500</td>\n      <td>4946.3750</td>\n      <td>9515.625</td>\n      <td>21430.7500</td>\n      <td>0.0000</td>\n      <td>8000</td>\n      <td>3000</td>\n      <td>2000</td>\n      <td>True</td>\n      <td>True</td>\n    </tr>\n    <tr>\n      <th>8</th>\n      <td>Optimal</td>\n      <td>33268.265348</td>\n      <td>46.304055</td>\n      <td>7095.3750</td>\n      <td>2420.2500</td>\n      <td>9515.625</td>\n      <td>0.0000</td>\n      <td>10904.6250</td>\n      <td>6000</td>\n      <td>2000</td>\n      <td>1000</td>\n      <td>False</td>\n      <td>False</td>\n    </tr>\n    <tr>\n      <th>9</th>\n      <td>Optimal</td>\n      <td>33554.975601</td>\n      <td>38.995524</td>\n      <td>7147.8750</td>\n      <td>2367.7500</td>\n      <td>9515.625</td>\n      <td>0.0000</td>\n      <td>10852.1250</td>\n      <td>6000</td>\n      <td>2000</td>\n      <td>1000</td>\n      <td>False</td>\n      <td>True</td>\n    </tr>\n    <tr>\n      <th>10</th>\n      <td>Optimal</td>\n      <td>-63599.343922</td>\n      <td>31.861011</td>\n      <td>3533.3125</td>\n      <td>5982.3125</td>\n      <td>9515.625</td>\n      <td>14466.6875</td>\n      <td>0.0000</td>\n      <td>6000</td>\n      <td>2000</td>\n      <td>1000</td>\n      <td>True</td>\n      <td>False</td>\n    </tr>\n    <tr>\n      <th>11</th>\n      <td>Optimal</td>\n      <td>-63550.563233</td>\n      <td>27.160417</td>\n      <td>3535.4375</td>\n      <td>5980.1875</td>\n      <td>9515.625</td>\n      <td>14464.5625</td>\n      <td>0.0000</td>\n      <td>6000</td>\n      <td>2000</td>\n      <td>1000</td>\n      <td>True</td>\n      <td>True</td>\n    </tr>\n  </tbody>\n</table>\n</div>",
      "text/plain": "     status      objective  solver_runtime  n_trips_avg  \\\n0   Optimal   27179.691363       44.243824    7929.8125   \n1   Optimal   27382.469350       37.627232    7940.1875   \n2   Optimal -183163.818782       31.332453    5360.1250   \n3   Optimal -182933.448807       27.642780    5362.3125   \n4   Optimal   31639.020380       46.452361    7590.1250   \n5   Optimal   31888.696834       39.118114    7602.2500   \n6   Optimal -121956.731577       31.810489    4568.3750   \n7   Optimal -121888.438457       27.302864    4569.2500   \n8   Optimal   33268.265348       46.304055    7095.3750   \n9   Optimal   33554.975601       38.995524    7147.8750   \n10  Optimal  -63599.343922       31.861011    3533.3125   \n11  Optimal  -63550.563233       27.160417    3535.4375   \n\n    n_unfilled_demand_avg  demand_avg  n_parking_avg  n_relocations_avg  \\\n0               1585.8125    9515.625         0.0000         26070.1875   \n1               1575.4375    9515.625         0.0000         26059.8125   \n2               4155.5000    9515.625     28639.8750             0.0000   \n3               4153.3125    9515.625     28637.6875             0.0000   \n4               1925.5000    9515.625         0.0000         18409.8750   \n5               1913.3750    9515.625         0.0000         18397.7500   \n6               4947.2500    9515.625     21431.6250             0.0000   \n7               4946.3750    9515.625     21430.7500             0.0000   \n8               2420.2500    9515.625         0.0000         10904.6250   \n9               2367.7500    9515.625         0.0000         10852.1250   \n10              5982.3125    9515.625     14466.6875             0.0000   \n11              5980.1875    9515.625     14464.5625             0.0000   \n\n    kick_scooter  bicycle   car  relocations_disabled  \\\n0          10000     4000  3000                 False   \n1          10000     4000  3000                 False   \n2          10000     4000  3000                  True   \n3          10000     4000  3000                  True   \n4           8000     3000  2000                 False   \n5           8000     3000  2000                 False   \n6           8000     3000  2000                  True   \n7           8000     3000  2000                  True   \n8           6000     2000  1000                 False   \n9           6000     2000  1000                 False   \n10          6000     2000  1000                  True   \n11          6000     2000  1000                  True   \n\n    non_anticipativity_disabled  \n0                         False  \n1                          True  \n2                         False  \n3                          True  \n4                         False  \n5                          True  \n6                         False  \n7                          True  \n8                         False  \n9                          True  \n10                        False  \n11                         True  "
     },
     "execution_count": 21,
     "metadata": {},
     "output_type": "execute_result"
    }
   ],
   "source": [
    "results_df"
   ]
  },
  {
   "cell_type": "code",
   "execution_count": 22,
   "metadata": {},
   "outputs": [],
   "source": [
    "os.makedirs(os.path.dirname(PATH_RESULTS_SUMMARY), exist_ok=True)\n",
    "results_df.to_pickle(PATH_RESULTS_SUMMARY)\n"
   ]
  },
  {
   "cell_type": "markdown",
   "metadata": {},
   "source": [
    "## Single Modal Benchmark"
   ]
  },
  {
   "cell_type": "code",
   "execution_count": 23,
   "metadata": {},
   "outputs": [],
   "source": [
    "last_demand = scenarios.copy()\n",
    "\n",
    "last_demand_unstacked = last_demand.unstack(\"vehicle_types\")\n",
    "last_demand_unstacked[(\"demand\", \"car\")] = (\n",
    "    last_demand_unstacked[(\"demand\", \"kick_scooter\")]\n",
    "    + last_demand_unstacked[(\"demand\", \"car\")]\n",
    "    + last_demand_unstacked[(\"demand\", \"bicycle\")]\n",
    ")\n",
    "last_demand_unstacked\n",
    "last_demand: pd.DataFrame = (\n",
    "    last_demand_unstacked[\"demand\"][\"car\"].to_frame().stack().to_frame(name=\"demand\")\n",
    ")\n",
    "last_demand.index = last_demand.index.set_names(\n",
    "    [\"scenarios\", \"start_hex_ids\", \"end_hex_ids\", \"time\", \"vehicle_types\"]\n",
    ")\n"
   ]
  },
  {
   "cell_type": "code",
   "execution_count": 24,
   "metadata": {},
   "outputs": [
    {
     "name": "stdout",
     "output_type": "stream",
     "text": [
      "Status: Optimal\n",
      "Optimal Value of Objective Function:  12417.529753590632\n",
      "Runtime without preprocessing: 13.14 seconds\n",
      "solve finished in 19.56 seconds\n",
      "Status: Optimal\n",
      "Optimal Value of Objective Function:  1782.9972705589685\n",
      "Runtime without preprocessing: 13.04 seconds\n",
      "solve finished in 19.16 seconds\n",
      "Status: Optimal\n",
      "Optimal Value of Objective Function:  7636.606965523751\n",
      "Runtime without preprocessing: 13.12 seconds\n",
      "solve finished in 18.77 seconds\n"
     ]
    }
   ],
   "source": [
    "results = []\n",
    "\n",
    "for vehicle_types in [[\"car\"], [\"bicycle\"], [\"kick_scooter\"]]:\n",
    "    current_vehicle_type = vehicle_types[0]\n",
    "    current_fleet_capacity = {\n",
    "        current_vehicle_type: real_fleet_size[current_vehicle_type]\n",
    "    }\n",
    "\n",
    "    last_demand.index = last_demand.index.set_levels(\n",
    "        last_demand.index.get_level_values(\"vehicle_types\").map(\n",
    "            lambda x: current_vehicle_type\n",
    "        ),\n",
    "        verify_integrity=False,\n",
    "        level=\"vehicle_types\",\n",
    "    )\n",
    "\n",
    "    factory = StochasticProgramFactory(\n",
    "        last_demand,\n",
    "        distances,\n",
    "        probabilities,\n",
    "        node_df,\n",
    "        vehicle_types,\n",
    "        include_methods=[None],\n",
    "    )\n",
    "    factory.set_initial_allocation(real_fleet_size)\n",
    "    stochastic_program = factory.create_stochastic_program()\n",
    "    stochastic_program.include_methods = [\"solve\"]\n",
    "    stochastic_program.create_model()\n",
    "    stochastic_program.solve()\n",
    "    # we transform the unfulfilled demand of the current lp into the demand for the next lp\n",
    "    last_demand = stochastic_program.get_unfulfilled_demand().rename(\n",
    "        columns={\"accumulated_unfulfilled_demand\": \"demand\"}\n",
    "    )\n",
    "\n",
    "    results.append(\n",
    "        {**stochastic_program.get_summary(), \"vehicle_types\": str(vehicle_types)}\n",
    "    )\n"
   ]
  },
  {
   "cell_type": "code",
   "execution_count": 25,
   "metadata": {},
   "outputs": [
    {
     "name": "stdout",
     "output_type": "stream",
     "text": [
      "Status: Optimal\n",
      "Optimal Value of Objective Function:  31639.020380115195\n",
      "Runtime without preprocessing: 44.20 seconds\n",
      "solve finished in 72.78 seconds\n"
     ]
    }
   ],
   "source": [
    "factory = StochasticProgramFactory(\n",
    "    scenarios,\n",
    "    distances,\n",
    "    probabilities,\n",
    "    node_df,\n",
    "    ALL_VEHICLE_TYPES,\n",
    "    include_methods=[None],\n",
    ")\n",
    "factory.set_initial_allocation(real_fleet_size)\n",
    "stochastic_program = factory.create_stochastic_program()\n",
    "stochastic_program.include_methods = [\"solve\"]\n",
    "stochastic_program.create_model()\n",
    "stochastic_program.solve()\n",
    "\n",
    "results.append(\n",
    "    {**stochastic_program.get_summary(), \"vehicle_types\": ALL_VEHICLE_TYPES}\n",
    ")\n"
   ]
  },
  {
   "cell_type": "code",
   "execution_count": 26,
   "metadata": {},
   "outputs": [],
   "source": [
    "results = pd.DataFrame.from_dict(results)"
   ]
  },
  {
   "cell_type": "code",
   "execution_count": 27,
   "metadata": {},
   "outputs": [
    {
     "data": {
      "text/html": "<div>\n<style scoped>\n    .dataframe tbody tr th:only-of-type {\n        vertical-align: middle;\n    }\n\n    .dataframe tbody tr th {\n        vertical-align: top;\n    }\n\n    .dataframe thead th {\n        text-align: right;\n    }\n</style>\n<table border=\"1\" class=\"dataframe\">\n  <thead>\n    <tr style=\"text-align: right;\">\n      <th></th>\n      <th>status</th>\n      <th>objective</th>\n      <th>solver_runtime</th>\n      <th>n_trips_avg</th>\n      <th>n_unfilled_demand_avg</th>\n      <th>demand_avg</th>\n      <th>n_parking_avg</th>\n      <th>n_relocations_avg</th>\n      <th>vehicle_types</th>\n    </tr>\n  </thead>\n  <tbody>\n    <tr>\n      <th>0</th>\n      <td>Optimal</td>\n      <td>31639.02038</td>\n      <td>44.197547</td>\n      <td>7590.1250</td>\n      <td>1925.500</td>\n      <td>9515.6250</td>\n      <td>0.0</td>\n      <td>18409.8750</td>\n      <td>[kick_scooter, bicycle, car]</td>\n    </tr>\n    <tr>\n      <th>1</th>\n      <td>OptimalOptimalOptimal</td>\n      <td>21837.13399</td>\n      <td>39.295919</td>\n      <td>7720.1875</td>\n      <td>13571.375</td>\n      <td>21291.5625</td>\n      <td>0.0</td>\n      <td>18279.8125</td>\n      <td>['car']['bicycle']['kick_scooter']</td>\n    </tr>\n  </tbody>\n</table>\n</div>",
      "text/plain": "                  status    objective  solver_runtime  n_trips_avg  \\\n0                Optimal  31639.02038       44.197547    7590.1250   \n1  OptimalOptimalOptimal  21837.13399       39.295919    7720.1875   \n\n   n_unfilled_demand_avg  demand_avg  n_parking_avg  n_relocations_avg  \\\n0               1925.500   9515.6250            0.0         18409.8750   \n1              13571.375  21291.5625            0.0         18279.8125   \n\n                        vehicle_types  \n0        [kick_scooter, bicycle, car]  \n1  ['car']['bicycle']['kick_scooter']  "
     },
     "execution_count": 27,
     "metadata": {},
     "output_type": "execute_result"
    }
   ],
   "source": [
    "compare = results.iloc[[3]]\n",
    "compare.append(results.iloc[range(3)].sum(), ignore_index=True)"
   ]
  },
  {
   "cell_type": "code",
   "execution_count": 43,
   "metadata": {},
   "outputs": [],
   "source": [
    "os.makedirs(os.path.dirname(PATH_RESULTS_SINGLE_MODAL_BENCHMARK), exist_ok=True)\n",
    "compare.to_pickle(PATH_RESULTS_SINGLE_MODAL_BENCHMARK)"
   ]
  },
  {
   "cell_type": "markdown",
   "metadata": {},
   "source": [
    "## Value Of The Stochastic Solution"
   ]
  },
  {
   "cell_type": "code",
   "execution_count": 28,
   "metadata": {},
   "outputs": [],
   "source": [
    "demand = scenarios.copy()\n",
    "demand = (\n",
    "    demand.unstack(\"scenarios\")[\"demand\"]\n",
    "    .sum(axis=1)\n",
    "    .to_frame()\n",
    "    .rename(columns={0: \"demand\"})\n",
    ")\n",
    "demand[\"scenarios\"] = 0\n",
    "demand = demand.set_index(\"scenarios\", append=True).reorder_levels(\n",
    "    [\"scenarios\", \"start_hex_ids\", \"end_hex_ids\", \"time\", \"vehicle_types\"]\n",
    ")\n",
    "demand['demand'] = demand['demand'] / N_REDUCED_SCNEARIOS\n",
    "demand['floored'] = demand['demand'].apply(np.floor)\n",
    "demand['ceiled'] = demand['demand'].apply(np.ceil)\n"
   ]
  },
  {
   "cell_type": "code",
   "execution_count": 30,
   "metadata": {},
   "outputs": [
    {
     "name": "stdout",
     "output_type": "stream",
     "text": [
      "Status: Optimal\n",
      "Optimal Value of Objective Function:  659.3184262029068\n",
      "Runtime without preprocessing: 1.92 seconds\n",
      "solve finished in 3.06 seconds\n",
      "Status: Optimal\n",
      "Optimal Value of Objective Function:  1101.9133428664495\n",
      "Runtime without preprocessing: 1.95 seconds\n",
      "solve finished in 3.45 seconds\n"
     ]
    }
   ],
   "source": [
    "results = []\n",
    "for rounding_mode in [\"floored\", \"ceiled\"]:\n",
    "    factory = StochasticProgramFactory(\n",
    "        demand[[rounding_mode]].rename(columns={rounding_mode: \"demand\"}),\n",
    "        distances,\n",
    "        probabilities,\n",
    "        node_df,\n",
    "        ALL_VEHICLE_TYPES,\n",
    "        include_methods=[None],\n",
    "    )\n",
    "    factory.set_initial_allocation(real_fleet_size)\n",
    "    stochastic_program = factory.create_stochastic_program()\n",
    "    stochastic_program.include_methods = [\"solve\"]\n",
    "    \n",
    "    # assign all weight to first scenario\n",
    "    stochastic_program.weighting = {0: 1}\n",
    "\n",
    "    # discard non-anticipativity constraints\n",
    "    stochastic_program.non_anticipativity_disabled = True\n",
    "\n",
    "    stochastic_program.create_model()\n",
    "    stochastic_program.solve()\n",
    "\n",
    "    results.append(\n",
    "        {**stochastic_program.get_summary(), \"vehicle_types\": ALL_VEHICLE_TYPES}\n",
    "    )\n"
   ]
  },
  {
   "cell_type": "code",
   "execution_count": 31,
   "metadata": {},
   "outputs": [
    {
     "data": {
      "text/html": "<div>\n<style scoped>\n    .dataframe tbody tr th:only-of-type {\n        vertical-align: middle;\n    }\n\n    .dataframe tbody tr th {\n        vertical-align: top;\n    }\n\n    .dataframe thead th {\n        text-align: right;\n    }\n</style>\n<table border=\"1\" class=\"dataframe\">\n  <thead>\n    <tr style=\"text-align: right;\">\n      <th></th>\n      <th>status</th>\n      <th>objective</th>\n      <th>solver_runtime</th>\n      <th>n_trips_avg</th>\n      <th>n_unfilled_demand_avg</th>\n      <th>demand_avg</th>\n      <th>n_parking_avg</th>\n      <th>n_relocations_avg</th>\n      <th>vehicle_types</th>\n    </tr>\n  </thead>\n  <tbody>\n    <tr>\n      <th>0</th>\n      <td>Optimal</td>\n      <td>659.318426</td>\n      <td>1.918428</td>\n      <td>429.0</td>\n      <td>8545.0</td>\n      <td>8974.0</td>\n      <td>0.0</td>\n      <td>271.0</td>\n      <td>[kick_scooter, bicycle, car]</td>\n    </tr>\n    <tr>\n      <th>1</th>\n      <td>Optimal</td>\n      <td>1101.913343</td>\n      <td>1.945398</td>\n      <td>441.0</td>\n      <td>10422.0</td>\n      <td>10863.0</td>\n      <td>0.0</td>\n      <td>259.0</td>\n      <td>[kick_scooter, bicycle, car]</td>\n    </tr>\n  </tbody>\n</table>\n</div>",
      "text/plain": "    status    objective  solver_runtime  n_trips_avg  n_unfilled_demand_avg  \\\n0  Optimal   659.318426        1.918428        429.0                 8545.0   \n1  Optimal  1101.913343        1.945398        441.0                10422.0   \n\n   demand_avg  n_parking_avg  n_relocations_avg                 vehicle_types  \n0      8974.0            0.0              271.0  [kick_scooter, bicycle, car]  \n1     10863.0            0.0              259.0  [kick_scooter, bicycle, car]  "
     },
     "execution_count": 31,
     "metadata": {},
     "output_type": "execute_result"
    }
   ],
   "source": [
    "results = pd.DataFrame.from_dict(results)\n",
    "results"
   ]
  },
  {
   "cell_type": "code",
   "execution_count": 42,
   "metadata": {},
   "outputs": [],
   "source": [
    "os.makedirs(os.path.dirname(PATH_RESULTS_SINGLE_MODAL_BENCHMARK), exist_ok=True)\n",
    "results_df.to_pickle(PATH_RESULTS_SINGLE_MODAL_BENCHMARK)"
   ]
  },
  {
   "cell_type": "code",
   "execution_count": null,
   "metadata": {},
   "outputs": [],
   "source": []
  }
 ],
 "metadata": {
  "interpreter": {
   "hash": "921dce5431bc8dd5032dbf768a24c906ac17844f87e0f443ecd3f0f6d3f457c9"
  },
  "kernelspec": {
   "display_name": "Python 3.8.10 64-bit ('VR': conda)",
   "name": "python3"
  },
  "language_info": {
   "codemirror_mode": {
    "name": "ipython",
    "version": 3
   },
   "file_extension": ".py",
   "mimetype": "text/x-python",
   "name": "python",
   "nbconvert_exporter": "python",
   "pygments_lexer": "ipython3",
   "version": "3.8.10"
  },
  "metadata": {
   "interpreter": {
    "hash": "98dda969eced25373352d8358f4a74bbe75f82753a7539c7817bd98c04161209"
   }
  },
  "orig_nbformat": 2
 },
 "nbformat": 4,
 "nbformat_minor": 2
}