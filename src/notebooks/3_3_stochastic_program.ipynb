{
 "cells": [
  {
   "cell_type": "code",
   "execution_count": 1,
   "metadata": {},
   "outputs": [],
   "source": [
    "# However we do not expect the reader to add that folder to the env variable,\n",
    "# therefore we manually load it temporarily in each notebook.\n",
    "import os\n",
    "module_path = os.path.abspath(os.path.join('..'))\n",
    "if module_path not in sys.path:\n",
    "    sys.path.append(module_path)"
   ]
  },
  {
   "cell_type": "code",
   "execution_count": 2,
   "metadata": {},
   "outputs": [],
   "source": [
    "import pandas as pd\n",
    "import numpy as np\n",
    "from timeit import default_timer as timer\n",
    "from collections import defaultdict\n",
    "from modules.config import (\n",
    "    PATH_SCENARIOS_REDUCED,\n",
    "    PATH_DISTANCES,\n",
    "    PATH_SCENARIO_PROBABILITY,\n",
    "    N_REDUCED_SCNEARIOS,\n",
    "    ALL_VEHICLE_TYPES,\n",
    "    PATH_RESULTS_SUMMARY,\n",
    ")\n",
    "from modules.stochastic_program.factory import StochasticProgramFactory\n",
    "\n"
   ]
  },
  {
   "cell_type": "markdown",
   "metadata": {},
   "source": [
    "### Prepare scenario data\n",
    "Make scenarios complete cross product"
   ]
  },
  {
   "cell_type": "code",
   "execution_count": 3,
   "metadata": {},
   "outputs": [],
   "source": [
    "scenarios = pd.read_pickle(PATH_SCENARIOS_REDUCED)"
   ]
  },
  {
   "cell_type": "code",
   "execution_count": 4,
   "metadata": {},
   "outputs": [
    {
     "data": {
      "text/html": "<div>\n<style scoped>\n    .dataframe tbody tr th:only-of-type {\n        vertical-align: middle;\n    }\n\n    .dataframe tbody tr th {\n        vertical-align: top;\n    }\n\n    .dataframe thead th {\n        text-align: right;\n    }\n</style>\n<table border=\"1\" class=\"dataframe\">\n  <thead>\n    <tr style=\"text-align: right;\">\n      <th></th>\n      <th></th>\n      <th></th>\n      <th></th>\n      <th></th>\n      <th>demand</th>\n    </tr>\n    <tr>\n      <th>scenarios</th>\n      <th>start_hex_ids</th>\n      <th>end_hex_ids</th>\n      <th>time</th>\n      <th>vehicle_types</th>\n      <th></th>\n    </tr>\n  </thead>\n  <tbody>\n    <tr>\n      <th rowspan=\"5\" valign=\"top\">0</th>\n      <th rowspan=\"5\" valign=\"top\">861fa1817ffffff</th>\n      <th rowspan=\"5\" valign=\"top\">861fa1817ffffff</th>\n      <th rowspan=\"3\" valign=\"top\">00:00:00</th>\n      <th>bicycle</th>\n      <td>0</td>\n    </tr>\n    <tr>\n      <th>car</th>\n      <td>0</td>\n    </tr>\n    <tr>\n      <th>kick_scooter</th>\n      <td>0</td>\n    </tr>\n    <tr>\n      <th rowspan=\"2\" valign=\"top\">04:00:00</th>\n      <th>bicycle</th>\n      <td>0</td>\n    </tr>\n    <tr>\n      <th>car</th>\n      <td>0</td>\n    </tr>\n    <tr>\n      <th>...</th>\n      <th>...</th>\n      <th>...</th>\n      <th>...</th>\n      <th>...</th>\n      <td>...</td>\n    </tr>\n    <tr>\n      <th rowspan=\"5\" valign=\"top\">7</th>\n      <th rowspan=\"5\" valign=\"top\">861fa1d6fffffff</th>\n      <th rowspan=\"5\" valign=\"top\">861fa1d6fffffff</th>\n      <th rowspan=\"2\" valign=\"top\">16:00:00</th>\n      <th>car</th>\n      <td>0</td>\n    </tr>\n    <tr>\n      <th>kick_scooter</th>\n      <td>0</td>\n    </tr>\n    <tr>\n      <th rowspan=\"3\" valign=\"top\">20:00:00</th>\n      <th>bicycle</th>\n      <td>0</td>\n    </tr>\n    <tr>\n      <th>car</th>\n      <td>0</td>\n    </tr>\n    <tr>\n      <th>kick_scooter</th>\n      <td>1</td>\n    </tr>\n  </tbody>\n</table>\n<p>51984 rows × 1 columns</p>\n</div>",
      "text/plain": "                                                                  demand\nscenarios start_hex_ids   end_hex_ids     time     vehicle_types        \n0         861fa1817ffffff 861fa1817ffffff 00:00:00 bicycle             0\n                                                   car                 0\n                                                   kick_scooter        0\n                                          04:00:00 bicycle             0\n                                                   car                 0\n...                                                                  ...\n7         861fa1d6fffffff 861fa1d6fffffff 16:00:00 car                 0\n                                                   kick_scooter        0\n                                          20:00:00 bicycle             0\n                                                   car                 0\n                                                   kick_scooter        1\n\n[51984 rows x 1 columns]"
     },
     "execution_count": 4,
     "metadata": {},
     "output_type": "execute_result"
    }
   ],
   "source": [
    "scenarios"
   ]
  },
  {
   "cell_type": "code",
   "execution_count": 5,
   "metadata": {},
   "outputs": [],
   "source": [
    "hex_ids = {*scenarios.index.get_level_values('start_hex_ids').unique()}\n",
    "hex_ids = list(hex_ids.union({*scenarios.index.get_level_values('end_hex_ids').unique()}))"
   ]
  },
  {
   "cell_type": "code",
   "execution_count": 6,
   "metadata": {},
   "outputs": [],
   "source": [
    "complete_index = pd.MultiIndex.from_product(\n",
    "    [\n",
    "        scenarios.index.get_level_values('scenarios').unique(),\n",
    "        pd.Index(hex_ids, name=\"start_hex_ids\"),\n",
    "        pd.Index(hex_ids, name=\"end_hex_ids\"),\n",
    "        scenarios.index.get_level_values('time').unique(),\n",
    "        scenarios.index.get_level_values('vehicle_types').unique(),\n",
    "    ]\n",
    ")"
   ]
  },
  {
   "cell_type": "code",
   "execution_count": 7,
   "metadata": {},
   "outputs": [],
   "source": [
    "scenarios = scenarios.reindex(complete_index, fill_value=0)"
   ]
  },
  {
   "cell_type": "markdown",
   "metadata": {},
   "source": [
    "Find tree structure for non-anticipativity constraints"
   ]
  },
  {
   "cell_type": "code",
   "execution_count": 8,
   "metadata": {},
   "outputs": [],
   "source": [
    "scenarios_unstacked = scenarios.unstack(level=['start_hex_ids', 'end_hex_ids', 'vehicle_types']) \\\n",
    "             .swaplevel() \\\n",
    "             .sort_index()"
   ]
  },
  {
   "cell_type": "code",
   "execution_count": 9,
   "metadata": {},
   "outputs": [],
   "source": [
    "node_df = pd.DataFrame(index=scenarios_unstacked.index)\n",
    "node_df['node'] = 0\n",
    "node_df['prev_node'] = 0"
   ]
  },
  {
   "cell_type": "code",
   "execution_count": 10,
   "metadata": {
    "tags": []
   },
   "outputs": [],
   "source": [
    "times = scenarios_unstacked.index.get_level_values('time').unique()\n",
    "scenario_ids = scenarios_unstacked.index.get_level_values('scenarios').unique()\n",
    "\n",
    "nodes = []\n",
    "nodes_counter = 0\n",
    "groups = [{} for _ in range(len(times))]\n",
    "for i, time in enumerate(times):\n",
    "    prev_groups = groups[i-1] if i != 0 else {-1: list(scenario_ids)}\n",
    "\n",
    "    found_ids = []\n",
    "\n",
    "    values = scenarios_unstacked.loc[(time)].values\n",
    "\n",
    "    for scenario_id in scenario_ids:\n",
    "        if scenario_id in found_ids:\n",
    "            continue\n",
    "        current_group = list((values == values[scenario_id]).all(axis=1).nonzero()[0])\n",
    "        found_ids += current_group\n",
    "        for prev_group_id, prev_group in prev_groups.items():\n",
    "            group = [s_id for s_id in current_group if s_id in prev_group]\n",
    "\n",
    "            if(not group):\n",
    "                continue\n",
    "\n",
    "            groups[i][nodes_counter] = group\n",
    "            for s_id in group:\n",
    "                node_df.loc[(time, s_id), 'node'] = nodes_counter\n",
    "                node_df.loc[(time, s_id), 'prev_node'] = prev_group_id\n",
    "            nodes_counter += 1"
   ]
  },
  {
   "cell_type": "markdown",
   "metadata": {},
   "source": [
    "## Get Model Parameters\n"
   ]
  },
  {
   "cell_type": "code",
   "execution_count": 11,
   "metadata": {},
   "outputs": [],
   "source": [
    "demand = defaultdict(lambda: defaultdict(lambda: defaultdict(lambda: defaultdict(dict))))"
   ]
  },
  {
   "cell_type": "code",
   "execution_count": 12,
   "metadata": {
    "tags": []
   },
   "outputs": [
    {
     "name": "stdout",
     "output_type": "stream",
     "text": [
      "Successfully converted dataframe into dictionary in 3.72 seconds\n"
     ]
    }
   ],
   "source": [
    "start = timer()\n",
    "\n",
    "for _, row in scenarios.reset_index().iterrows():\n",
    "    demand[row.start_hex_ids][row.end_hex_ids][row.time.hour][row.vehicle_types][row.scenarios] = row.demand\n",
    "\n",
    "end = timer()\n",
    "print(f\"Successfully converted dataframe into dictionary in {(end - start):.2f} seconds\")"
   ]
  },
  {
   "cell_type": "code",
   "execution_count": 13,
   "metadata": {},
   "outputs": [],
   "source": [
    "distances = pd.read_pickle(PATH_DISTANCES)"
   ]
  },
  {
   "cell_type": "code",
   "execution_count": 14,
   "metadata": {},
   "outputs": [],
   "source": [
    "cost = defaultdict(lambda: defaultdict(dict))\n",
    "profit = defaultdict(lambda: defaultdict(dict))"
   ]
  },
  {
   "cell_type": "code",
   "execution_count": 15,
   "metadata": {},
   "outputs": [],
   "source": [
    "start = timer()\n",
    "\n",
    "vehicle_types = list(scenarios.reset_index()['vehicle_types'].unique())\n",
    "\n",
    "for _, row in distances.reset_index().iterrows():\n",
    "    for vehicle_type in vehicle_types:\n",
    "        cost[row.start_hex_id][row.end_hex_id][vehicle_type] = row[f\"cost_{vehicle_type}\"]\n",
    "        profit[row.start_hex_id][row.end_hex_id][vehicle_type] = row[f\"profit_{vehicle_type}\"]\n",
    "\n",
    "end = timer()"
   ]
  },
  {
   "cell_type": "code",
   "execution_count": 16,
   "metadata": {},
   "outputs": [],
   "source": [
    "%load_ext autoreload\n",
    "%autoreload 2"
   ]
  },
  {
   "cell_type": "code",
   "execution_count": 17,
   "metadata": {},
   "outputs": [],
   "source": [
    "probabilities = pd.read_pickle(PATH_SCENARIO_PROBABILITY)"
   ]
  },
  {
   "cell_type": "code",
   "execution_count": 18,
   "metadata": {},
   "outputs": [
    {
     "name": "stdout",
     "output_type": "stream",
     "text": [
      "_convert_probabilities finished in 0.00 seconds\n",
      "_convert_distances finished in 0.03 seconds\n",
      "_convert_demand finished in 3.67 seconds\n",
      "_convert_nodes finished in 0.01 seconds\n",
      "_convert_parameters finished in 3.71 seconds\n",
      "_set_max_demand finished in 0.21 seconds\n",
      "set_initial_allocation finished in 0.00 seconds\n"
     ]
    }
   ],
   "source": [
    "vehicle_types = ['kick_scooter']\n",
    "FLEET_CAPACITY = {\n",
    "    \"kick_scooter\": 200,\n",
    "    # \"bicycle\": 100,\n",
    "    # \"car\": 50,\n",
    "}\n",
    "factory = StochasticProgramFactory(scenarios, distances, probabilities, node_df, vehicle_types)\n",
    "factory.set_initial_allocation(FLEET_CAPACITY)"
   ]
  },
  {
   "cell_type": "code",
   "execution_count": 19,
   "metadata": {},
   "outputs": [
    {
     "name": "stdout",
     "output_type": "stream",
     "text": [
      "create_stochastic_program finished in 0.00 seconds\n"
     ]
    }
   ],
   "source": [
    "stochastic_program = factory.create_stochastic_program()"
   ]
  },
  {
   "cell_type": "code",
   "execution_count": 20,
   "metadata": {},
   "outputs": [],
   "source": [
    "stochastic_program.relocations_disabled = False"
   ]
  },
  {
   "cell_type": "code",
   "execution_count": 21,
   "metadata": {
    "tags": []
   },
   "outputs": [
    {
     "name": "stdout",
     "output_type": "stream",
     "text": [
      "create_variables finished in 0.16 seconds\n",
      "create_objective_function finished in 0.35 seconds\n",
      "create_demand_constraints finished in 0.19 seconds\n",
      "create_relocation_binary_constraints finished in 0.01 seconds\n",
      "create_big_u_sum_constraints finished in 0.04 seconds\n",
      "create_unfulfilled_demand_binary_constraints finished in 0.01 seconds\n",
      "create_no_refused_demand_constraints finished in 0.01 seconds\n",
      "create_max_trips_constraints finished in 0.11 seconds\n"
     ]
    },
    {
     "ename": "KeyError",
     "evalue": "24",
     "output_type": "error",
     "traceback": [
      "\u001b[0;31m---------------------------------------------------------------------------\u001b[0m",
      "\u001b[0;31mKeyError\u001b[0m                                  Traceback (most recent call last)",
      "\u001b[0;32m<ipython-input-21-708f09b58bc5>\u001b[0m in \u001b[0;36m<module>\u001b[0;34m\u001b[0m\n\u001b[0;32m----> 1\u001b[0;31m \u001b[0mstochastic_program\u001b[0m\u001b[0;34m.\u001b[0m\u001b[0mcreate_model\u001b[0m\u001b[0;34m(\u001b[0m\u001b[0;34m)\u001b[0m\u001b[0;34m\u001b[0m\u001b[0;34m\u001b[0m\u001b[0m\n\u001b[0m",
      "\u001b[0;32m~/dev/uni/vehicle-reposition-2/src/modules/measure_time_trait.py\u001b[0m in \u001b[0;36mdecorated_callable\u001b[0;34m(*args, **kwargs)\u001b[0m\n\u001b[1;32m     27\u001b[0m         \u001b[0;32mdef\u001b[0m \u001b[0mdecorated_callable\u001b[0m\u001b[0;34m(\u001b[0m\u001b[0;34m*\u001b[0m\u001b[0margs\u001b[0m\u001b[0;34m,\u001b[0m \u001b[0;34m**\u001b[0m\u001b[0mkwargs\u001b[0m\u001b[0;34m)\u001b[0m\u001b[0;34m:\u001b[0m\u001b[0;34m\u001b[0m\u001b[0;34m\u001b[0m\u001b[0m\n\u001b[1;32m     28\u001b[0m             \u001b[0mstart\u001b[0m \u001b[0;34m=\u001b[0m \u001b[0mtimer\u001b[0m\u001b[0;34m(\u001b[0m\u001b[0;34m)\u001b[0m\u001b[0;34m\u001b[0m\u001b[0;34m\u001b[0m\u001b[0m\n\u001b[0;32m---> 29\u001b[0;31m             \u001b[0mvalue\u001b[0m \u001b[0;34m=\u001b[0m \u001b[0mcb\u001b[0m\u001b[0;34m(\u001b[0m\u001b[0;34m*\u001b[0m\u001b[0margs\u001b[0m\u001b[0;34m,\u001b[0m \u001b[0;34m**\u001b[0m\u001b[0mkwargs\u001b[0m\u001b[0;34m)\u001b[0m\u001b[0;34m\u001b[0m\u001b[0;34m\u001b[0m\u001b[0m\n\u001b[0m\u001b[1;32m     30\u001b[0m             \u001b[0mend\u001b[0m \u001b[0;34m=\u001b[0m \u001b[0mtimer\u001b[0m\u001b[0;34m(\u001b[0m\u001b[0;34m)\u001b[0m\u001b[0;34m\u001b[0m\u001b[0;34m\u001b[0m\u001b[0m\n\u001b[1;32m     31\u001b[0m             \u001b[0mprint\u001b[0m\u001b[0;34m(\u001b[0m\u001b[0;34mf\"{cb.__name__} finished in {end-start:.2f} seconds\"\u001b[0m\u001b[0;34m)\u001b[0m\u001b[0;34m\u001b[0m\u001b[0;34m\u001b[0m\u001b[0m\n",
      "\u001b[0;32m~/dev/uni/vehicle-reposition-2/src/modules/stochastic_program/stochastic_program.py\u001b[0m in \u001b[0;36mcreate_model\u001b[0;34m(self)\u001b[0m\n\u001b[1;32m    206\u001b[0m         \u001b[0mself\u001b[0m\u001b[0;34m.\u001b[0m\u001b[0mmodel\u001b[0m \u001b[0;34m+=\u001b[0m \u001b[0mself\u001b[0m\u001b[0;34m.\u001b[0m\u001b[0mobjective_function\u001b[0m\u001b[0;34m\u001b[0m\u001b[0;34m\u001b[0m\u001b[0m\n\u001b[1;32m    207\u001b[0m \u001b[0;34m\u001b[0m\u001b[0m\n\u001b[0;32m--> 208\u001b[0;31m         \u001b[0mself\u001b[0m\u001b[0;34m.\u001b[0m\u001b[0mcreate_constraints\u001b[0m\u001b[0;34m(\u001b[0m\u001b[0;34m)\u001b[0m\u001b[0;34m\u001b[0m\u001b[0;34m\u001b[0m\u001b[0m\n\u001b[0m\u001b[1;32m    209\u001b[0m \u001b[0;34m\u001b[0m\u001b[0m\n\u001b[1;32m    210\u001b[0m         \u001b[0;32mfor\u001b[0m \u001b[0mconstraint_group\u001b[0m \u001b[0;32min\u001b[0m \u001b[0mself\u001b[0m\u001b[0;34m.\u001b[0m\u001b[0mconstraints\u001b[0m\u001b[0;34m.\u001b[0m\u001b[0mvalues\u001b[0m\u001b[0;34m(\u001b[0m\u001b[0;34m)\u001b[0m\u001b[0;34m:\u001b[0m\u001b[0;34m\u001b[0m\u001b[0;34m\u001b[0m\u001b[0m\n",
      "\u001b[0;32m~/dev/uni/vehicle-reposition-2/src/modules/measure_time_trait.py\u001b[0m in \u001b[0;36mdecorated_callable\u001b[0;34m(*args, **kwargs)\u001b[0m\n\u001b[1;32m     27\u001b[0m         \u001b[0;32mdef\u001b[0m \u001b[0mdecorated_callable\u001b[0m\u001b[0;34m(\u001b[0m\u001b[0;34m*\u001b[0m\u001b[0margs\u001b[0m\u001b[0;34m,\u001b[0m \u001b[0;34m**\u001b[0m\u001b[0mkwargs\u001b[0m\u001b[0;34m)\u001b[0m\u001b[0;34m:\u001b[0m\u001b[0;34m\u001b[0m\u001b[0;34m\u001b[0m\u001b[0m\n\u001b[1;32m     28\u001b[0m             \u001b[0mstart\u001b[0m \u001b[0;34m=\u001b[0m \u001b[0mtimer\u001b[0m\u001b[0;34m(\u001b[0m\u001b[0;34m)\u001b[0m\u001b[0;34m\u001b[0m\u001b[0;34m\u001b[0m\u001b[0m\n\u001b[0;32m---> 29\u001b[0;31m             \u001b[0mvalue\u001b[0m \u001b[0;34m=\u001b[0m \u001b[0mcb\u001b[0m\u001b[0;34m(\u001b[0m\u001b[0;34m*\u001b[0m\u001b[0margs\u001b[0m\u001b[0;34m,\u001b[0m \u001b[0;34m**\u001b[0m\u001b[0mkwargs\u001b[0m\u001b[0;34m)\u001b[0m\u001b[0;34m\u001b[0m\u001b[0;34m\u001b[0m\u001b[0m\n\u001b[0m\u001b[1;32m     30\u001b[0m             \u001b[0mend\u001b[0m \u001b[0;34m=\u001b[0m \u001b[0mtimer\u001b[0m\u001b[0;34m(\u001b[0m\u001b[0;34m)\u001b[0m\u001b[0;34m\u001b[0m\u001b[0;34m\u001b[0m\u001b[0m\n\u001b[1;32m     31\u001b[0m             \u001b[0mprint\u001b[0m\u001b[0;34m(\u001b[0m\u001b[0;34mf\"{cb.__name__} finished in {end-start:.2f} seconds\"\u001b[0m\u001b[0;34m)\u001b[0m\u001b[0;34m\u001b[0m\u001b[0;34m\u001b[0m\u001b[0m\n",
      "\u001b[0;32m~/dev/uni/vehicle-reposition-2/src/modules/stochastic_program/stochastic_program.py\u001b[0m in \u001b[0;36mcreate_constraints\u001b[0;34m(self)\u001b[0m\n\u001b[1;32m    307\u001b[0m         \u001b[0mself\u001b[0m\u001b[0;34m.\u001b[0m\u001b[0mcreate_no_refused_demand_constraints\u001b[0m\u001b[0;34m(\u001b[0m\u001b[0;34m)\u001b[0m\u001b[0;34m\u001b[0m\u001b[0;34m\u001b[0m\u001b[0m\n\u001b[1;32m    308\u001b[0m         \u001b[0mself\u001b[0m\u001b[0;34m.\u001b[0m\u001b[0mcreate_max_trips_constraints\u001b[0m\u001b[0;34m(\u001b[0m\u001b[0;34m)\u001b[0m\u001b[0;34m\u001b[0m\u001b[0;34m\u001b[0m\u001b[0m\n\u001b[0;32m--> 309\u001b[0;31m         \u001b[0mself\u001b[0m\u001b[0;34m.\u001b[0m\u001b[0mcreate_vehicle_movement_constraints\u001b[0m\u001b[0;34m(\u001b[0m\u001b[0;34m)\u001b[0m\u001b[0;34m\u001b[0m\u001b[0;34m\u001b[0m\u001b[0m\n\u001b[0m\u001b[1;32m    310\u001b[0m         \u001b[0mself\u001b[0m\u001b[0;34m.\u001b[0m\u001b[0mcreate_initial_allocation_constraints\u001b[0m\u001b[0;34m(\u001b[0m\u001b[0;34m)\u001b[0m\u001b[0;34m\u001b[0m\u001b[0;34m\u001b[0m\u001b[0m\n\u001b[1;32m    311\u001b[0m \u001b[0;34m\u001b[0m\u001b[0m\n",
      "\u001b[0;32m~/dev/uni/vehicle-reposition-2/src/modules/measure_time_trait.py\u001b[0m in \u001b[0;36mdecorated_callable\u001b[0;34m(*args, **kwargs)\u001b[0m\n\u001b[1;32m     27\u001b[0m         \u001b[0;32mdef\u001b[0m \u001b[0mdecorated_callable\u001b[0m\u001b[0;34m(\u001b[0m\u001b[0;34m*\u001b[0m\u001b[0margs\u001b[0m\u001b[0;34m,\u001b[0m \u001b[0;34m**\u001b[0m\u001b[0mkwargs\u001b[0m\u001b[0;34m)\u001b[0m\u001b[0;34m:\u001b[0m\u001b[0;34m\u001b[0m\u001b[0;34m\u001b[0m\u001b[0m\n\u001b[1;32m     28\u001b[0m             \u001b[0mstart\u001b[0m \u001b[0;34m=\u001b[0m \u001b[0mtimer\u001b[0m\u001b[0;34m(\u001b[0m\u001b[0;34m)\u001b[0m\u001b[0;34m\u001b[0m\u001b[0;34m\u001b[0m\u001b[0m\n\u001b[0;32m---> 29\u001b[0;31m             \u001b[0mvalue\u001b[0m \u001b[0;34m=\u001b[0m \u001b[0mcb\u001b[0m\u001b[0;34m(\u001b[0m\u001b[0;34m*\u001b[0m\u001b[0margs\u001b[0m\u001b[0;34m,\u001b[0m \u001b[0;34m**\u001b[0m\u001b[0mkwargs\u001b[0m\u001b[0;34m)\u001b[0m\u001b[0;34m\u001b[0m\u001b[0;34m\u001b[0m\u001b[0m\n\u001b[0m\u001b[1;32m     30\u001b[0m             \u001b[0mend\u001b[0m \u001b[0;34m=\u001b[0m \u001b[0mtimer\u001b[0m\u001b[0;34m(\u001b[0m\u001b[0;34m)\u001b[0m\u001b[0;34m\u001b[0m\u001b[0;34m\u001b[0m\u001b[0m\n\u001b[1;32m     31\u001b[0m             \u001b[0mprint\u001b[0m\u001b[0;34m(\u001b[0m\u001b[0;34mf\"{cb.__name__} finished in {end-start:.2f} seconds\"\u001b[0m\u001b[0;34m)\u001b[0m\u001b[0;34m\u001b[0m\u001b[0;34m\u001b[0m\u001b[0m\n",
      "\u001b[0;32m~/dev/uni/vehicle-reposition-2/src/modules/stochastic_program/stochastic_program.py\u001b[0m in \u001b[0;36mcreate_vehicle_movement_constraints\u001b[0;34m(self)\u001b[0m\n\u001b[1;32m    442\u001b[0m \u001b[0;34m\u001b[0m\u001b[0m\n\u001b[1;32m    443\u001b[0m     \u001b[0;32mdef\u001b[0m \u001b[0mcreate_vehicle_movement_constraints\u001b[0m\u001b[0;34m(\u001b[0m\u001b[0mself\u001b[0m\u001b[0;34m)\u001b[0m\u001b[0;34m:\u001b[0m\u001b[0;34m\u001b[0m\u001b[0;34m\u001b[0m\u001b[0m\n\u001b[0;32m--> 444\u001b[0;31m         vehicle_movement_constraints = [\n\u001b[0m\u001b[1;32m    445\u001b[0m             (\n\u001b[1;32m    446\u001b[0m                 \u001b[0mself\u001b[0m\u001b[0;34m.\u001b[0m\u001b[0mX\u001b[0m\u001b[0;34m[\u001b[0m\u001b[0mi\u001b[0m\u001b[0;34m]\u001b[0m\u001b[0;34m[\u001b[0m\u001b[0mt\u001b[0m \u001b[0;34m+\u001b[0m \u001b[0mPERIOD_DURATION\u001b[0m\u001b[0;34m]\u001b[0m\u001b[0;34m[\u001b[0m\u001b[0mm\u001b[0m\u001b[0;34m]\u001b[0m\u001b[0;34m[\u001b[0m\u001b[0ms\u001b[0m\u001b[0;34m]\u001b[0m\u001b[0;34m\u001b[0m\u001b[0;34m\u001b[0m\u001b[0m\n",
      "\u001b[0;32m~/dev/uni/vehicle-reposition-2/src/modules/stochastic_program/stochastic_program.py\u001b[0m in \u001b[0;36m<listcomp>\u001b[0;34m(.0)\u001b[0m\n\u001b[1;32m    444\u001b[0m         vehicle_movement_constraints = [\n\u001b[1;32m    445\u001b[0m             (\n\u001b[0;32m--> 446\u001b[0;31m                 \u001b[0mself\u001b[0m\u001b[0;34m.\u001b[0m\u001b[0mX\u001b[0m\u001b[0;34m[\u001b[0m\u001b[0mi\u001b[0m\u001b[0;34m]\u001b[0m\u001b[0;34m[\u001b[0m\u001b[0mt\u001b[0m \u001b[0;34m+\u001b[0m \u001b[0mPERIOD_DURATION\u001b[0m\u001b[0;34m]\u001b[0m\u001b[0;34m[\u001b[0m\u001b[0mm\u001b[0m\u001b[0;34m]\u001b[0m\u001b[0;34m[\u001b[0m\u001b[0ms\u001b[0m\u001b[0;34m]\u001b[0m\u001b[0;34m\u001b[0m\u001b[0;34m\u001b[0m\u001b[0m\n\u001b[0m\u001b[1;32m    447\u001b[0m                 == lpSum(\n\u001b[1;32m    448\u001b[0m                     [\n",
      "\u001b[0;31mKeyError\u001b[0m: 24"
     ]
    }
   ],
   "source": [
    "stochastic_program.create_model()"
   ]
  },
  {
   "cell_type": "code",
   "execution_count": null,
   "metadata": {},
   "outputs": [
    {
     "data": {
      "text/plain": "[0, 4, 8, 12, 16, 20, 32]"
     },
     "execution_count": 29,
     "metadata": {},
     "output_type": "execute_result"
    }
   ],
   "source": []
  },
  {
   "cell_type": "code",
   "execution_count": null,
   "metadata": {},
   "outputs": [
    {
     "name": "stderr",
     "output_type": "stream",
     "text": [
      "/home/moritz/miniconda3/envs/VR/lib/python3.8/site-packages/pulp/apis/coin_api.py:146: UserWarning: `logPath` argument replaces `msg=1`. The output will be redirected to the log file.\n",
      "  warnings.warn('`logPath` argument replaces `msg=1`. The output will be redirected to the log file.')\n"
     ]
    },
    {
     "name": "stdout",
     "output_type": "stream",
     "text": [
      "Status: Optimal\n",
      "Optimal Value of Objective Function:  8020.439798004068\n",
      "Runtime without preprocessing: 0.81 seconds\n",
      "solve finished in 1.45 seconds\n"
     ]
    }
   ],
   "source": [
    "stochastic_program.solve(logPath='./log')"
   ]
  },
  {
   "cell_type": "markdown",
   "metadata": {},
   "source": [
    "# Benchmarks\n",
    "## Different Capacities/ Disabled Relocations/ Value Of Perfect Information"
   ]
  },
  {
   "cell_type": "code",
   "execution_count": null,
   "metadata": {},
   "outputs": [],
   "source": [
    "capacities = [\n",
    "    {\n",
    "        \"kick_scooter\": 200,\n",
    "        \"bicycle\": 100,\n",
    "        \"car\": 50,\n",
    "    },\n",
    "    # {\n",
    "    #     \"kick_scooter\": 1000,\n",
    "    #     \"bicycle\": 500,\n",
    "    #     \"car\": 250,\n",
    "    # },{\n",
    "    #     \"kick_scooter\": 2000,\n",
    "    #     \"bicycle\": 1000,\n",
    "    #     \"car\": 500,\n",
    "    # }\n",
    "]\n"
   ]
  },
  {
   "cell_type": "code",
   "execution_count": null,
   "metadata": {},
   "outputs": [
    {
     "name": "stdout",
     "output_type": "stream",
     "text": [
      "_convert_probabilities finished in 0.00 seconds\n",
      "_convert_distances finished in 0.03 seconds\n",
      "_convert_demand finished in 2.96 seconds\n",
      "_convert_nodes finished in 0.00 seconds\n",
      "_convert_parameters finished in 2.99 seconds\n",
      "_set_max_demand finished in 0.16 seconds\n",
      "Status: Optimal\n",
      "Optimal Value of Objective Function:  11870.79985320831\n",
      "Runtime without preprocessing: 2.85 seconds\n",
      "solve finished in 6.53 seconds\n",
      "\n",
      "\n",
      "Status: Optimal\n",
      "Optimal Value of Objective Function:  11912.732143256162\n",
      "Runtime without preprocessing: 2.29 seconds\n",
      "solve finished in 6.59 seconds\n",
      "\n",
      "\n",
      "Status: Optimal\n",
      "Optimal Value of Objective Function:  2308.0501597276566\n",
      "Runtime without preprocessing: 1.97 seconds\n",
      "solve finished in 3.17 seconds\n",
      "\n",
      "\n",
      "Status: Optimal\n",
      "Optimal Value of Objective Function:  2335.6483549727113\n",
      "Runtime without preprocessing: 1.63 seconds\n",
      "solve finished in 2.86 seconds\n",
      "\n",
      "\n"
     ]
    }
   ],
   "source": [
    "results = []\n",
    "\n",
    "factory = StochasticProgramFactory(scenarios, distances, probabilities, node_df)\n",
    "factory.include_methods = [None]\n",
    "for capacity in capacities:\n",
    "    factory.set_initial_allocation(capacity)\n",
    "\n",
    "    stochastic_program = factory.create_stochastic_program()\n",
    "    stochastic_program.include_methods = ['solve']\n",
    "\n",
    "    for relocations_disabled in [False, True]:\n",
    "        for non_anticipativity_disabled in [False, True]:\n",
    "            stochastic_program.relocations_disabled = relocations_disabled\n",
    "            stochastic_program.non_anticipativity_disabled = non_anticipativity_disabled\n",
    "            stochastic_program.create_model()\n",
    "            stochastic_program.solve()\n",
    "\n",
    "            results.append({\n",
    "                **stochastic_program.get_summary(),\n",
    "                **capacity,\n",
    "                'relocations_disabled': relocations_disabled,\n",
    "                'non_anticipativity_disabled': non_anticipativity_disabled,\n",
    "            })\n",
    "            print('\\n')"
   ]
  },
  {
   "cell_type": "code",
   "execution_count": null,
   "metadata": {},
   "outputs": [],
   "source": [
    "results_df = pd.DataFrame.from_dict(results)"
   ]
  },
  {
   "cell_type": "code",
   "execution_count": null,
   "metadata": {},
   "outputs": [
    {
     "data": {
      "text/html": "<div>\n<style scoped>\n    .dataframe tbody tr th:only-of-type {\n        vertical-align: middle;\n    }\n\n    .dataframe tbody tr th {\n        vertical-align: top;\n    }\n\n    .dataframe thead th {\n        text-align: right;\n    }\n</style>\n<table border=\"1\" class=\"dataframe\">\n  <thead>\n    <tr style=\"text-align: right;\">\n      <th></th>\n      <th>status</th>\n      <th>objective</th>\n      <th>solver_runtime</th>\n      <th>n_trips</th>\n      <th>n_unfilled_demand</th>\n      <th>n_parking</th>\n      <th>n_relocations</th>\n      <th>kick_scooter</th>\n      <th>bicycle</th>\n      <th>car</th>\n      <th>relocations_disabled</th>\n      <th>non_anticipativity_disabled</th>\n    </tr>\n  </thead>\n  <tbody>\n    <tr>\n      <th>0</th>\n      <td>Optimal</td>\n      <td>11870.799853</td>\n      <td>2.851452</td>\n      <td>12223</td>\n      <td>7766</td>\n      <td>1722</td>\n      <td>2855</td>\n      <td>200</td>\n      <td>100</td>\n      <td>50</td>\n      <td>False</td>\n      <td>False</td>\n    </tr>\n    <tr>\n      <th>1</th>\n      <td>Optimal</td>\n      <td>11912.732143</td>\n      <td>2.294998</td>\n      <td>12240</td>\n      <td>7745</td>\n      <td>1702</td>\n      <td>2858</td>\n      <td>200</td>\n      <td>100</td>\n      <td>50</td>\n      <td>False</td>\n      <td>True</td>\n    </tr>\n    <tr>\n      <th>2</th>\n      <td>Optimal</td>\n      <td>2308.050160</td>\n      <td>1.966662</td>\n      <td>3866</td>\n      <td>28740</td>\n      <td>12934</td>\n      <td>0</td>\n      <td>200</td>\n      <td>100</td>\n      <td>50</td>\n      <td>True</td>\n      <td>False</td>\n    </tr>\n    <tr>\n      <th>3</th>\n      <td>Optimal</td>\n      <td>2335.648355</td>\n      <td>1.626799</td>\n      <td>3877</td>\n      <td>28710</td>\n      <td>12923</td>\n      <td>0</td>\n      <td>200</td>\n      <td>100</td>\n      <td>50</td>\n      <td>True</td>\n      <td>True</td>\n    </tr>\n  </tbody>\n</table>\n</div>",
      "text/plain": "    status     objective  solver_runtime  n_trips  n_unfilled_demand  \\\n0  Optimal  11870.799853        2.851452    12223               7766   \n1  Optimal  11912.732143        2.294998    12240               7745   \n2  Optimal   2308.050160        1.966662     3866              28740   \n3  Optimal   2335.648355        1.626799     3877              28710   \n\n   n_parking  n_relocations  kick_scooter  bicycle  car  relocations_disabled  \\\n0       1722           2855           200      100   50                 False   \n1       1702           2858           200      100   50                 False   \n2      12934              0           200      100   50                  True   \n3      12923              0           200      100   50                  True   \n\n   non_anticipativity_disabled  \n0                        False  \n1                         True  \n2                        False  \n3                         True  "
     },
     "execution_count": 25,
     "metadata": {},
     "output_type": "execute_result"
    }
   ],
   "source": [
    "results_df"
   ]
  },
  {
   "cell_type": "code",
   "execution_count": null,
   "metadata": {},
   "outputs": [],
   "source": [
    "os.makedirs(os.path.dirname(PATH_RESULTS_SUMMARY), exist_ok=True)\n",
    "results_df.to_pickle(PATH_RESULTS_SUMMARY)\n"
   ]
  },
  {
   "cell_type": "markdown",
   "metadata": {},
   "source": [
    "## Single Modal Benchmark"
   ]
  },
  {
   "cell_type": "code",
   "execution_count": null,
   "metadata": {},
   "outputs": [],
   "source": [
    "last_demand = scenarios.copy()\n",
    "\n",
    "last_demand_unstacked = last_demand.unstack(\"vehicle_types\")\n",
    "last_demand_unstacked[(\"demand\", \"car\")] = (\n",
    "    last_demand_unstacked[(\"demand\", \"kick_scooter\")]\n",
    "    + last_demand_unstacked[(\"demand\", \"car\")]\n",
    "    + last_demand_unstacked[(\"demand\", \"bicycle\")]\n",
    ")\n",
    "last_demand = last_demand_unstacked.stack('vehicle_types')\n"
   ]
  },
  {
   "cell_type": "code",
   "execution_count": null,
   "metadata": {},
   "outputs": [
    {
     "name": "stdout",
     "output_type": "stream",
     "text": [
      "Status: Optimal\n",
      "Optimal Value of Objective Function:  3059.362886891975\n",
      "Runtime without preprocessing: 0.87 seconds\n",
      "solve finished in 1.58 seconds\n",
      "Status: Optimal\n",
      "Optimal Value of Objective Function:  738.8616900561902\n",
      "Runtime without preprocessing: 0.86 seconds\n",
      "solve finished in 1.52 seconds\n",
      "Status: Optimal\n",
      "Optimal Value of Objective Function:  2675.4223257152826\n",
      "Runtime without preprocessing: 0.87 seconds\n",
      "solve finished in 1.37 seconds\n"
     ]
    }
   ],
   "source": [
    "FLEET_CAPACITY = {\n",
    "    \"kick_scooter\": 200,\n",
    "    \"bicycle\": 100,\n",
    "    \"car\": 50,\n",
    "}\n",
    "\n",
    "results = []\n",
    "\n",
    "for vehicle_types in [[\"car\"], [\"bicycle\"], [\"kick_scooter\"]]:\n",
    "    current_vehicle_type = vehicle_types[0]\n",
    "    current_fleet_capacity = {\n",
    "        current_vehicle_type: FLEET_CAPACITY[current_vehicle_type]\n",
    "    }\n",
    "\n",
    "    last_demand.index = last_demand.index.set_levels(\n",
    "        last_demand.index.get_level_values(\"vehicle_types\").map(lambda x: current_vehicle_type),\n",
    "        verify_integrity=False,\n",
    "        level=\"vehicle_types\",\n",
    "    )\n",
    "\n",
    "    factory = StochasticProgramFactory(\n",
    "        last_demand,\n",
    "        distances,\n",
    "        probabilities,\n",
    "        node_df,\n",
    "        vehicle_types,\n",
    "        include_methods=[None],\n",
    "    )\n",
    "    factory.set_initial_allocation(FLEET_CAPACITY)\n",
    "    stochastic_program = factory.create_stochastic_program()\n",
    "    stochastic_program.include_methods = [\"solve\"]\n",
    "    stochastic_program.create_model()\n",
    "    stochastic_program.solve()\n",
    "    # we transform the unfulfilled demand of the current lp into the demand for the next lp\n",
    "    last_demand = stochastic_program.get_unfulfilled_demand().rename(\n",
    "        columns={\"unfulfilled_demand\": \"demand\"}\n",
    "    )\n",
    "\n",
    "    results.append(\n",
    "        {**stochastic_program.get_summary(), \"vehicle_types\": str(vehicle_types)}\n",
    "    )\n"
   ]
  },
  {
   "cell_type": "code",
   "execution_count": null,
   "metadata": {},
   "outputs": [
    {
     "name": "stdout",
     "output_type": "stream",
     "text": [
      "Status: Optimal\n",
      "Optimal Value of Objective Function:  11870.79985320831\n",
      "Runtime without preprocessing: 2.81 seconds\n",
      "solve finished in 6.48 seconds\n"
     ]
    }
   ],
   "source": [
    "factory = StochasticProgramFactory(\n",
    "    scenarios,\n",
    "    distances,\n",
    "    probabilities,\n",
    "    node_df,\n",
    "    ALL_VEHICLE_TYPES,\n",
    "    include_methods=[None],\n",
    ")\n",
    "factory.set_initial_allocation(FLEET_CAPACITY)\n",
    "stochastic_program = factory.create_stochastic_program()\n",
    "stochastic_program.include_methods = [\"solve\"]\n",
    "stochastic_program.create_model()\n",
    "stochastic_program.solve()\n",
    "\n",
    "results.append(\n",
    "    {**stochastic_program.get_summary(), \"vehicle_types\": ALL_VEHICLE_TYPES}\n",
    ")\n"
   ]
  },
  {
   "cell_type": "code",
   "execution_count": null,
   "metadata": {},
   "outputs": [
    {
     "data": {
      "text/html": "<div>\n<style scoped>\n    .dataframe tbody tr th:only-of-type {\n        vertical-align: middle;\n    }\n\n    .dataframe tbody tr th {\n        vertical-align: top;\n    }\n\n    .dataframe thead th {\n        text-align: right;\n    }\n</style>\n<table border=\"1\" class=\"dataframe\">\n  <thead>\n    <tr style=\"text-align: right;\">\n      <th></th>\n      <th>status</th>\n      <th>objective</th>\n      <th>solver_runtime</th>\n      <th>n_trips</th>\n      <th>n_unfilled_demand</th>\n      <th>n_parking</th>\n      <th>n_relocations</th>\n      <th>vehicle_types</th>\n    </tr>\n  </thead>\n  <tbody>\n    <tr>\n      <th>0</th>\n      <td>Optimal</td>\n      <td>3059.362887</td>\n      <td>0.867127</td>\n      <td>2051</td>\n      <td>8440</td>\n      <td>36</td>\n      <td>313</td>\n      <td>['car']</td>\n    </tr>\n    <tr>\n      <th>1</th>\n      <td>Optimal</td>\n      <td>738.861690</td>\n      <td>0.863901</td>\n      <td>4034</td>\n      <td>4406</td>\n      <td>92</td>\n      <td>674</td>\n      <td>['bicycle']</td>\n    </tr>\n    <tr>\n      <th>2</th>\n      <td>Optimal</td>\n      <td>2675.422326</td>\n      <td>0.869983</td>\n      <td>3678</td>\n      <td>728</td>\n      <td>0</td>\n      <td>5922</td>\n      <td>['kick_scooter']</td>\n    </tr>\n    <tr>\n      <th>3</th>\n      <td>Optimal</td>\n      <td>11870.799853</td>\n      <td>2.808456</td>\n      <td>12223</td>\n      <td>7766</td>\n      <td>1722</td>\n      <td>2855</td>\n      <td>[kick_scooter, bicycle, car]</td>\n    </tr>\n  </tbody>\n</table>\n</div>",
      "text/plain": "    status     objective  solver_runtime  n_trips  n_unfilled_demand  \\\n0  Optimal   3059.362887        0.867127     2051               8440   \n1  Optimal    738.861690        0.863901     4034               4406   \n2  Optimal   2675.422326        0.869983     3678                728   \n3  Optimal  11870.799853        2.808456    12223               7766   \n\n   n_parking  n_relocations                 vehicle_types  \n0         36            313                       ['car']  \n1         92            674                   ['bicycle']  \n2          0           5922              ['kick_scooter']  \n3       1722           2855  [kick_scooter, bicycle, car]  "
     },
     "execution_count": 30,
     "metadata": {},
     "output_type": "execute_result"
    }
   ],
   "source": [
    "results = pd.DataFrame.from_dict(results)\n",
    "results"
   ]
  },
  {
   "cell_type": "code",
   "execution_count": null,
   "metadata": {},
   "outputs": [
    {
     "data": {
      "text/html": "<div>\n<style scoped>\n    .dataframe tbody tr th:only-of-type {\n        vertical-align: middle;\n    }\n\n    .dataframe tbody tr th {\n        vertical-align: top;\n    }\n\n    .dataframe thead th {\n        text-align: right;\n    }\n</style>\n<table border=\"1\" class=\"dataframe\">\n  <thead>\n    <tr style=\"text-align: right;\">\n      <th></th>\n      <th>status</th>\n      <th>objective</th>\n      <th>solver_runtime</th>\n      <th>n_trips</th>\n      <th>n_unfilled_demand</th>\n      <th>n_parking</th>\n      <th>n_relocations</th>\n      <th>vehicle_types</th>\n    </tr>\n  </thead>\n  <tbody>\n    <tr>\n      <th>0</th>\n      <td>Optimal</td>\n      <td>11870.799853</td>\n      <td>2.808456</td>\n      <td>12223</td>\n      <td>7766</td>\n      <td>1722</td>\n      <td>2855</td>\n      <td>[kick_scooter, bicycle, car]</td>\n    </tr>\n    <tr>\n      <th>1</th>\n      <td>OptimalOptimalOptimal</td>\n      <td>6473.646903</td>\n      <td>2.601011</td>\n      <td>9763</td>\n      <td>13574</td>\n      <td>128</td>\n      <td>6909</td>\n      <td>['car']['bicycle']['kick_scooter']</td>\n    </tr>\n  </tbody>\n</table>\n</div>",
      "text/plain": "                  status     objective  solver_runtime  n_trips  \\\n0                Optimal  11870.799853        2.808456    12223   \n1  OptimalOptimalOptimal   6473.646903        2.601011     9763   \n\n   n_unfilled_demand  n_parking  n_relocations  \\\n0               7766       1722           2855   \n1              13574        128           6909   \n\n                        vehicle_types  \n0        [kick_scooter, bicycle, car]  \n1  ['car']['bicycle']['kick_scooter']  "
     },
     "execution_count": 31,
     "metadata": {},
     "output_type": "execute_result"
    }
   ],
   "source": [
    "compare = results.iloc[[3]]\n",
    "compare.append(results.iloc[range(3)].sum(), ignore_index=True)"
   ]
  },
  {
   "cell_type": "markdown",
   "metadata": {},
   "source": [
    "## Value Of The Stochastic Solution"
   ]
  },
  {
   "cell_type": "code",
   "execution_count": null,
   "metadata": {},
   "outputs": [],
   "source": [
    "demand = scenarios.copy()\n",
    "demand = (\n",
    "    demand.unstack(\"scenarios\")[\"demand\"]\n",
    "    .sum(axis=1)\n",
    "    .to_frame()\n",
    "    .rename(columns={0: \"demand\"})\n",
    ")\n",
    "demand[\"scenarios\"] = 0\n",
    "demand = demand.set_index(\"scenarios\", append=True).reorder_levels(\n",
    "    [\"scenarios\", \"start_hex_ids\", \"end_hex_ids\", \"time\", \"vehicle_types\"]\n",
    ")\n",
    "demand['demand'] = demand['demand'] / N_REDUCED_SCNEARIOS\n",
    "demand['floored'] = demand['demand'].apply(np.floor)\n",
    "demand['ceiled'] = demand['demand'].apply(np.ceil)\n"
   ]
  },
  {
   "cell_type": "code",
   "execution_count": null,
   "metadata": {},
   "outputs": [],
   "source": [
    "results = []\n",
    "FLEET_CAPACITY = {\n",
    "    \"kick_scooter\": 200,\n",
    "    \"bicycle\": 100,\n",
    "    \"car\": 50,\n",
    "}"
   ]
  },
  {
   "cell_type": "code",
   "execution_count": null,
   "metadata": {},
   "outputs": [
    {
     "name": "stdout",
     "output_type": "stream",
     "text": [
      "Status: Optimal\n",
      "Optimal Value of Objective Function:  11558.41160926391\n",
      "Runtime without preprocessing: 0.30 seconds\n",
      "solve finished in 0.76 seconds\n",
      "Status: Optimal\n",
      "Optimal Value of Objective Function:  13194.734997859752\n",
      "Runtime without preprocessing: 0.26 seconds\n",
      "solve finished in 0.72 seconds\n"
     ]
    }
   ],
   "source": [
    "for rounding_mode in [\"floored\", \"ceiled\"]:\n",
    "    factory = StochasticProgramFactory(\n",
    "        demand[[rounding_mode]].rename(columns={rounding_mode: \"demand\"}),\n",
    "        distances,\n",
    "        probabilities,\n",
    "        node_df,\n",
    "        ALL_VEHICLE_TYPES,\n",
    "        include_methods=[None],\n",
    "    )\n",
    "    factory.set_initial_allocation(FLEET_CAPACITY)\n",
    "    stochastic_program = factory.create_stochastic_program()\n",
    "    stochastic_program.include_methods = [\"solve\"]\n",
    "    \n",
    "    # assign all weight to first scenario\n",
    "    stochastic_program.weighting = {0: 1}\n",
    "\n",
    "    # discard non-anticipativity constraints\n",
    "    stochastic_program.non_anticipativity_disabled = True\n",
    "\n",
    "    stochastic_program.create_model()\n",
    "    stochastic_program.solve()\n",
    "\n",
    "    results.append(\n",
    "        {**stochastic_program.get_summary(), \"vehicle_types\": ALL_VEHICLE_TYPES}\n",
    "    )\n"
   ]
  },
  {
   "cell_type": "code",
   "execution_count": null,
   "metadata": {},
   "outputs": [],
   "source": [
    "results = pd.DataFrame.from_dict(results)"
   ]
  },
  {
   "cell_type": "code",
   "execution_count": null,
   "metadata": {},
   "outputs": [
    {
     "data": {
      "text/html": "<div>\n<style scoped>\n    .dataframe tbody tr th:only-of-type {\n        vertical-align: middle;\n    }\n\n    .dataframe tbody tr th {\n        vertical-align: top;\n    }\n\n    .dataframe thead th {\n        text-align: right;\n    }\n</style>\n<table border=\"1\" class=\"dataframe\">\n  <thead>\n    <tr style=\"text-align: right;\">\n      <th></th>\n      <th>status</th>\n      <th>objective</th>\n      <th>solver_runtime</th>\n      <th>n_trips</th>\n      <th>n_unfilled_demand</th>\n      <th>n_parking</th>\n      <th>n_relocations</th>\n      <th>vehicle_types</th>\n    </tr>\n  </thead>\n  <tbody>\n    <tr>\n      <th>0</th>\n      <td>Optimal</td>\n      <td>11558.411609</td>\n      <td>0.303382</td>\n      <td>1503</td>\n      <td>873</td>\n      <td>256</td>\n      <td>341</td>\n      <td>[kick_scooter, bicycle, car]</td>\n    </tr>\n    <tr>\n      <th>1</th>\n      <td>Optimal</td>\n      <td>13194.734998</td>\n      <td>0.259457</td>\n      <td>1572</td>\n      <td>1182</td>\n      <td>165</td>\n      <td>363</td>\n      <td>[kick_scooter, bicycle, car]</td>\n    </tr>\n  </tbody>\n</table>\n</div>",
      "text/plain": "    status     objective  solver_runtime  n_trips  n_unfilled_demand  \\\n0  Optimal  11558.411609        0.303382     1503                873   \n1  Optimal  13194.734998        0.259457     1572               1182   \n\n   n_parking  n_relocations                 vehicle_types  \n0        256            341  [kick_scooter, bicycle, car]  \n1        165            363  [kick_scooter, bicycle, car]  "
     },
     "execution_count": 37,
     "metadata": {},
     "output_type": "execute_result"
    }
   ],
   "source": [
    "results"
   ]
  },
  {
   "cell_type": "code",
   "execution_count": null,
   "metadata": {},
   "outputs": [
    {
     "data": {
      "text/plain": "scenarios         8\nstart_hex_ids    17\nend_hex_ids      17\ntime              6\nvehicle_types     3\ndemand           51\ndtype: int64"
     },
     "execution_count": 40,
     "metadata": {},
     "output_type": "execute_result"
    }
   ],
   "source": [
    "scenarios.reset_index().nunique()"
   ]
  }
 ],
 "metadata": {
  "interpreter": {
   "hash": "921dce5431bc8dd5032dbf768a24c906ac17844f87e0f443ecd3f0f6d3f457c9"
  },
  "kernelspec": {
   "display_name": "Python 3.8.10 64-bit ('VR': conda)",
   "name": "python3"
  },
  "language_info": {
   "codemirror_mode": {
    "name": "ipython",
    "version": 3
   },
   "file_extension": ".py",
   "mimetype": "text/x-python",
   "name": "python",
   "nbconvert_exporter": "python",
   "pygments_lexer": "ipython3",
   "version": "3.8.10"
  },
  "metadata": {
   "interpreter": {
    "hash": "98dda969eced25373352d8358f4a74bbe75f82753a7539c7817bd98c04161209"
   }
  },
  "orig_nbformat": 2
 },
 "nbformat": 4,
 "nbformat_minor": 2
}