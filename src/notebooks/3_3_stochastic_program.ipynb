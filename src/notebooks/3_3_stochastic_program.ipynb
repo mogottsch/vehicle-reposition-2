{
 "cells": [
  {
   "cell_type": "code",
   "execution_count": 37,
   "metadata": {},
   "outputs": [],
   "source": [
    "from pulp import value\n",
    "# However we do not expect the reader to add that folder to the env variable,\n",
    "# therefore we manually load it temporarily in each notebook.\n",
    "import os\n",
    "module_path = os.path.abspath(os.path.join('..'))\n",
    "if module_path not in sys.path:\n",
    "    sys.path.append(module_path)"
   ]
  },
  {
   "cell_type": "code",
   "execution_count": 38,
   "metadata": {},
   "outputs": [],
   "source": [
    "import pandas as pd\n",
    "from timeit import default_timer as timer\n",
    "from collections import defaultdict\n",
    "import datetime\n",
    "from modules.config import (\n",
    "    PATH_SCENARIOS_REDUCED,\n",
    "    PATH_DISTANCES,\n",
    "    PATH_SCENARIO_PROBABILITY,\n",
    "    PATH_INITIAL_ALLOCATION,\n",
    "    ALL_VEHICLE_TYPES,\n",
    "    PATH_RESULTS_SUMMARY,\n",
    ")\n",
    "from modules.stochastic_program.factory import StochasticProgramFactory\n",
    "\n"
   ]
  },
  {
   "cell_type": "markdown",
   "metadata": {},
   "source": [
    "### Prepare scenario data\n",
    "Make scenarios complete cross product"
   ]
  },
  {
   "cell_type": "code",
   "execution_count": 39,
   "metadata": {},
   "outputs": [],
   "source": [
    "scenarios = pd.read_pickle(PATH_SCENARIOS_REDUCED)"
   ]
  },
  {
   "cell_type": "code",
   "execution_count": 40,
   "metadata": {},
   "outputs": [],
   "source": [
    "hex_ids = {*scenarios.index.get_level_values('start_hex_ids').unique()}\n",
    "hex_ids = list(hex_ids.union({*scenarios.index.get_level_values('end_hex_ids').unique()}))"
   ]
  },
  {
   "cell_type": "code",
   "execution_count": 41,
   "metadata": {},
   "outputs": [],
   "source": [
    "complete_index = pd.MultiIndex.from_product(\n",
    "    [\n",
    "        scenarios.index.get_level_values('scenarios').unique(),\n",
    "        pd.Index(hex_ids, name=\"start_hex_ids\"),\n",
    "        pd.Index(hex_ids, name=\"end_hex_ids\"),\n",
    "        scenarios.index.get_level_values('time').unique(),\n",
    "        scenarios.index.get_level_values('vehicle_types').unique(),\n",
    "    ]\n",
    ")"
   ]
  },
  {
   "cell_type": "code",
   "execution_count": 42,
   "metadata": {},
   "outputs": [],
   "source": [
    "scenarios = scenarios.reindex(complete_index, fill_value=0)"
   ]
  },
  {
   "cell_type": "markdown",
   "metadata": {},
   "source": [
    "Find tree structure for non-anticipativity constraints"
   ]
  },
  {
   "cell_type": "code",
   "execution_count": 43,
   "metadata": {},
   "outputs": [],
   "source": [
    "scenarios_unstacked = scenarios.unstack(level=['start_hex_ids', 'end_hex_ids', 'vehicle_types']) \\\n",
    "             .swaplevel() \\\n",
    "             .sort_index()"
   ]
  },
  {
   "cell_type": "code",
   "execution_count": 44,
   "metadata": {},
   "outputs": [],
   "source": [
    "node_df = pd.DataFrame(index=scenarios_unstacked.index)\n",
    "node_df['node'] = 0\n",
    "node_df['prev_node'] = 0"
   ]
  },
  {
   "cell_type": "code",
   "execution_count": 45,
   "metadata": {
    "tags": []
   },
   "outputs": [],
   "source": [
    "times = scenarios_unstacked.index.get_level_values('time').unique()\n",
    "scenario_ids = scenarios_unstacked.index.get_level_values('scenarios').unique()\n",
    "\n",
    "nodes = []\n",
    "nodes_counter = 0\n",
    "groups = [{} for _ in range(len(times))]\n",
    "for i, time in enumerate(times):\n",
    "    prev_groups = groups[i-1] if i != 0 else {-1: list(scenario_ids)}\n",
    "\n",
    "    found_ids = []\n",
    "\n",
    "    values = scenarios_unstacked.loc[(time)].values\n",
    "\n",
    "    for scenario_id in scenario_ids:\n",
    "        if scenario_id in found_ids:\n",
    "            continue\n",
    "        current_group = list((values == values[scenario_id]).all(axis=1).nonzero()[0])\n",
    "        found_ids += current_group\n",
    "        for prev_group_id, prev_group in prev_groups.items():\n",
    "            group = [s_id for s_id in current_group if s_id in prev_group]\n",
    "\n",
    "            if(not group):\n",
    "                continue\n",
    "\n",
    "            groups[i][nodes_counter] = group\n",
    "            for s_id in group:\n",
    "                node_df.loc[(time, s_id), 'node'] = nodes_counter\n",
    "                node_df.loc[(time, s_id), 'prev_node'] = prev_group_id\n",
    "            nodes_counter += 1"
   ]
  },
  {
   "cell_type": "markdown",
   "metadata": {},
   "source": [
    "## Get Model Parameters\n"
   ]
  },
  {
   "cell_type": "code",
   "execution_count": 46,
   "metadata": {},
   "outputs": [],
   "source": [
    "demand = defaultdict(lambda: defaultdict(lambda: defaultdict(lambda: defaultdict(dict))))"
   ]
  },
  {
   "cell_type": "code",
   "execution_count": 47,
   "metadata": {
    "tags": []
   },
   "outputs": [
    {
     "name": "stdout",
     "output_type": "stream",
     "text": [
      "Successfully converted dataframe into dictionary in 2.63 seconds\n"
     ]
    }
   ],
   "source": [
    "start = timer()\n",
    "\n",
    "for _, row in scenarios.reset_index().iterrows():\n",
    "    demand[row.start_hex_ids][row.end_hex_ids][row.time.hour][row.vehicle_types][row.scenarios] = row.demand\n",
    "\n",
    "end = timer()\n",
    "print(f\"Successfully converted dataframe into dictionary in {(end - start):.2f} seconds\")"
   ]
  },
  {
   "cell_type": "code",
   "execution_count": null,
   "metadata": {},
   "outputs": [],
   "source": []
  },
  {
   "cell_type": "code",
   "execution_count": 48,
   "metadata": {},
   "outputs": [],
   "source": [
    "distances = pd.read_pickle(PATH_DISTANCES)"
   ]
  },
  {
   "cell_type": "code",
   "execution_count": 49,
   "metadata": {},
   "outputs": [],
   "source": [
    "cost = defaultdict(lambda: defaultdict(dict))\n",
    "profit = defaultdict(lambda: defaultdict(dict))"
   ]
  },
  {
   "cell_type": "code",
   "execution_count": 50,
   "metadata": {},
   "outputs": [],
   "source": [
    "start = timer()\n",
    "\n",
    "vehicle_types = list(scenarios.reset_index()['vehicle_types'].unique())\n",
    "\n",
    "for _, row in distances.reset_index().iterrows():\n",
    "    for vehicle_type in vehicle_types:\n",
    "        cost[row.start_hex_id][row.end_hex_id][vehicle_type] = row[f\"cost_{vehicle_type}\"]\n",
    "        profit[row.start_hex_id][row.end_hex_id][vehicle_type] = row[f\"profit_{vehicle_type}\"]\n",
    "\n",
    "end = timer()"
   ]
  },
  {
   "cell_type": "code",
   "execution_count": 51,
   "metadata": {},
   "outputs": [
    {
     "name": "stdout",
     "output_type": "stream",
     "text": [
      "The autoreload extension is already loaded. To reload it, use:\n",
      "  %reload_ext autoreload\n"
     ]
    }
   ],
   "source": [
    "%load_ext autoreload\n",
    "%autoreload 2"
   ]
  },
  {
   "cell_type": "code",
   "execution_count": 52,
   "metadata": {},
   "outputs": [],
   "source": [
    "probabilities = pd.read_pickle(PATH_SCENARIO_PROBABILITY)"
   ]
  },
  {
   "cell_type": "code",
   "execution_count": 53,
   "metadata": {},
   "outputs": [
    {
     "name": "stdout",
     "output_type": "stream",
     "text": [
      "_convert_probabilities finished in 0.00 seconds\n",
      "_convert_distances finished in 0.02 seconds\n",
      "_convert_demand finished in 2.56 seconds\n",
      "_convert_nodes finished in 0.00 seconds\n",
      "_convert_parameters finished in 2.59 seconds\n",
      "_set_max_demand finished in 0.15 seconds\n",
      "set_initial_allocation finished in 0.00 seconds\n"
     ]
    }
   ],
   "source": [
    "vehicle_types = ['kick_scooter']\n",
    "FLEET_CAPACITY = {\n",
    "    \"kick_scooter\": 200,\n",
    "    # \"bicycle\": 100,\n",
    "    # \"car\": 50,\n",
    "}\n",
    "factory = StochasticProgramFactory(scenarios, distances, probabilities, node_df, vehicle_types)\n",
    "factory.set_initial_allocation(FLEET_CAPACITY)"
   ]
  },
  {
   "cell_type": "code",
   "execution_count": 54,
   "metadata": {},
   "outputs": [
    {
     "name": "stdout",
     "output_type": "stream",
     "text": [
      "create_stochastic_program finished in 0.00 seconds\n"
     ]
    }
   ],
   "source": [
    "stochastic_program = factory.create_stochastic_program()"
   ]
  },
  {
   "cell_type": "code",
   "execution_count": 55,
   "metadata": {},
   "outputs": [],
   "source": [
    "stochastic_program.relocations_disabled = False"
   ]
  },
  {
   "cell_type": "code",
   "execution_count": 56,
   "metadata": {
    "tags": []
   },
   "outputs": [
    {
     "name": "stdout",
     "output_type": "stream",
     "text": [
      "create_variables finished in 0.35 seconds\n",
      "create_objective_function finished in 0.25 seconds\n",
      "create_demand_constraints finished in 0.16 seconds\n",
      "create_relocation_binary_constraints finished in 0.01 seconds\n",
      "create_big_u_sum_constraints finished in 0.03 seconds\n",
      "create_unfulfilled_demand_binary_constraints finished in 0.01 seconds\n",
      "create_no_refused_demand_constraints finished in 0.01 seconds\n",
      "create_max_trips_constraints finished in 0.09 seconds\n",
      "create_vehicle_movement_constraints finished in 0.11 seconds\n",
      "create_initial_allocation_constraints finished in 0.00 seconds\n",
      "create_non_anticipativity_constraints finished in 0.13 seconds\n",
      "create_constraints finished in 0.55 seconds\n",
      "create_model finished in 1.33 seconds\n"
     ]
    }
   ],
   "source": [
    "stochastic_program.create_model()"
   ]
  },
  {
   "cell_type": "code",
   "execution_count": 57,
   "metadata": {},
   "outputs": [
    {
     "name": "stderr",
     "output_type": "stream",
     "text": [
      "/home/moritz/miniconda3/envs/VR/lib/python3.8/site-packages/pulp/apis/coin_api.py:146: UserWarning: `logPath` argument replaces `msg=1`. The output will be redirected to the log file.\n",
      "  warnings.warn('`logPath` argument replaces `msg=1`. The output will be redirected to the log file.')\n"
     ]
    },
    {
     "name": "stdout",
     "output_type": "stream",
     "text": [
      "Status: Optimal\n",
      "Optimal Value of Objective Function:  8034.439562028653\n",
      "Runtime without preprocessing: 0.89 seconds\n",
      "solve finished in 1.54 seconds\n"
     ]
    }
   ],
   "source": [
    "stochastic_program.solve(logPath='./log')"
   ]
  },
  {
   "cell_type": "code",
   "execution_count": 58,
   "metadata": {},
   "outputs": [],
   "source": [
    "capacities = [\n",
    "    {\n",
    "        \"kick_scooter\": 200,\n",
    "        \"bicycle\": 100,\n",
    "        \"car\": 50,\n",
    "    },\n",
    "    # {\n",
    "    #     \"kick_scooter\": 1000,\n",
    "    #     \"bicycle\": 500,\n",
    "    #     \"car\": 250,\n",
    "    # },{\n",
    "    #     \"kick_scooter\": 2000,\n",
    "    #     \"bicycle\": 1000,\n",
    "    #     \"car\": 500,\n",
    "    # }\n",
    "]\n"
   ]
  },
  {
   "cell_type": "code",
   "execution_count": 59,
   "metadata": {},
   "outputs": [
    {
     "name": "stdout",
     "output_type": "stream",
     "text": [
      "_convert_probabilities finished in 0.00 seconds\n",
      "_convert_distances finished in 0.04 seconds\n",
      "_convert_demand finished in 2.80 seconds\n",
      "_convert_nodes finished in 0.00 seconds\n",
      "_convert_parameters finished in 2.85 seconds\n",
      "_set_max_demand finished in 0.16 seconds\n",
      "Status: Optimal\n",
      "Optimal Value of Objective Function:  11899.089465475578\n",
      "Runtime without preprocessing: 2.99 seconds\n",
      "solve finished in 6.87 seconds\n",
      "\n",
      "\n",
      "Status: Optimal\n",
      "Optimal Value of Objective Function:  11941.272872263438\n",
      "Runtime without preprocessing: 2.32 seconds\n",
      "solve finished in 6.91 seconds\n",
      "\n",
      "\n",
      "Status: Optimal\n",
      "Optimal Value of Objective Function:  2499.226407830746\n",
      "Runtime without preprocessing: 1.98 seconds\n",
      "solve finished in 3.16 seconds\n",
      "\n",
      "\n",
      "Status: Optimal\n",
      "Optimal Value of Objective Function:  2524.9889157103744\n",
      "Runtime without preprocessing: 1.66 seconds\n",
      "solve finished in 2.95 seconds\n",
      "\n",
      "\n"
     ]
    }
   ],
   "source": [
    "results = []\n",
    "\n",
    "factory = StochasticProgramFactory(scenarios, distances, probabilities, node_df)\n",
    "factory.include_methods = [None]\n",
    "for capacity in capacities:\n",
    "    factory.set_initial_allocation(capacity)\n",
    "\n",
    "    stochastic_program = factory.create_stochastic_program()\n",
    "    stochastic_program.include_methods = ['solve']\n",
    "\n",
    "    for relocations_disabled in [False, True]:\n",
    "        for non_anticipativity_disabled in [False, True]:\n",
    "            stochastic_program.relocations_disabled = relocations_disabled\n",
    "            stochastic_program.non_anticipativity_disabled = non_anticipativity_disabled\n",
    "            stochastic_program.create_model()\n",
    "            stochastic_program.solve()\n",
    "\n",
    "            results.append({\n",
    "                **stochastic_program.get_summary(),\n",
    "                **capacity,\n",
    "                'relocations_disabled': relocations_disabled,\n",
    "                'non_anticipativity_disabled': non_anticipativity_disabled,\n",
    "            })\n",
    "            print('\\n')"
   ]
  },
  {
   "cell_type": "code",
   "execution_count": 60,
   "metadata": {},
   "outputs": [],
   "source": [
    "results_df = pd.DataFrame.from_dict(results)"
   ]
  },
  {
   "cell_type": "code",
   "execution_count": 61,
   "metadata": {},
   "outputs": [
    {
     "data": {
      "text/html": "<div>\n<style scoped>\n    .dataframe tbody tr th:only-of-type {\n        vertical-align: middle;\n    }\n\n    .dataframe tbody tr th {\n        vertical-align: top;\n    }\n\n    .dataframe thead th {\n        text-align: right;\n    }\n</style>\n<table border=\"1\" class=\"dataframe\">\n  <thead>\n    <tr style=\"text-align: right;\">\n      <th></th>\n      <th>status</th>\n      <th>objective</th>\n      <th>solver_runtime</th>\n      <th>n_trips</th>\n      <th>n_unfilled_demand</th>\n      <th>n_parking</th>\n      <th>n_relocations</th>\n      <th>kick_scooter</th>\n      <th>bicycle</th>\n      <th>car</th>\n      <th>relocations_disabled</th>\n      <th>non_anticipativity_disabled</th>\n    </tr>\n  </thead>\n  <tbody>\n    <tr>\n      <th>0</th>\n      <td>Optimal</td>\n      <td>11899.089465</td>\n      <td>2.987203</td>\n      <td>12231</td>\n      <td>7758</td>\n      <td>1722</td>\n      <td>2847</td>\n      <td>200</td>\n      <td>100</td>\n      <td>50</td>\n      <td>False</td>\n      <td>False</td>\n    </tr>\n    <tr>\n      <th>1</th>\n      <td>Optimal</td>\n      <td>11941.272872</td>\n      <td>2.319790</td>\n      <td>12249</td>\n      <td>7735</td>\n      <td>1705</td>\n      <td>2846</td>\n      <td>200</td>\n      <td>100</td>\n      <td>50</td>\n      <td>False</td>\n      <td>True</td>\n    </tr>\n    <tr>\n      <th>2</th>\n      <td>Optimal</td>\n      <td>2499.226408</td>\n      <td>1.977206</td>\n      <td>3954</td>\n      <td>28519</td>\n      <td>12846</td>\n      <td>0</td>\n      <td>200</td>\n      <td>100</td>\n      <td>50</td>\n      <td>True</td>\n      <td>False</td>\n    </tr>\n    <tr>\n      <th>3</th>\n      <td>Optimal</td>\n      <td>2524.988916</td>\n      <td>1.662327</td>\n      <td>4008</td>\n      <td>28401</td>\n      <td>12792</td>\n      <td>0</td>\n      <td>200</td>\n      <td>100</td>\n      <td>50</td>\n      <td>True</td>\n      <td>True</td>\n    </tr>\n  </tbody>\n</table>\n</div>",
      "text/plain": "    status     objective  solver_runtime  n_trips  n_unfilled_demand  \\\n0  Optimal  11899.089465        2.987203    12231               7758   \n1  Optimal  11941.272872        2.319790    12249               7735   \n2  Optimal   2499.226408        1.977206     3954              28519   \n3  Optimal   2524.988916        1.662327     4008              28401   \n\n   n_parking  n_relocations  kick_scooter  bicycle  car  relocations_disabled  \\\n0       1722           2847           200      100   50                 False   \n1       1705           2846           200      100   50                 False   \n2      12846              0           200      100   50                  True   \n3      12792              0           200      100   50                  True   \n\n   non_anticipativity_disabled  \n0                        False  \n1                         True  \n2                        False  \n3                         True  "
     },
     "execution_count": 61,
     "metadata": {},
     "output_type": "execute_result"
    }
   ],
   "source": [
    "results_df"
   ]
  },
  {
   "cell_type": "code",
   "execution_count": 62,
   "metadata": {},
   "outputs": [],
   "source": [
    "os.makedirs(os.path.dirname(PATH_RESULTS_SUMMARY), exist_ok=True)\n",
    "results_df.to_pickle(PATH_RESULTS_SUMMARY)\n"
   ]
  },
  {
   "cell_type": "code",
   "execution_count": 93,
   "metadata": {},
   "outputs": [
    {
     "ename": "TypeError",
     "evalue": "'DataFrame' object is not callable",
     "output_type": "error",
     "traceback": [
      "\u001b[0;31m---------------------------------------------------------------------------\u001b[0m",
      "\u001b[0;31mTypeError\u001b[0m                                 Traceback (most recent call last)",
      "\u001b[0;32m<ipython-input-93-bd1d8a1308c1>\u001b[0m in \u001b[0;36m<module>\u001b[0;34m\u001b[0m\n\u001b[1;32m      3\u001b[0m \u001b[0mlast_demand_unstacked\u001b[0m \u001b[0;34m=\u001b[0m \u001b[0mlast_demand\u001b[0m\u001b[0;34m.\u001b[0m\u001b[0munstack\u001b[0m\u001b[0;34m(\u001b[0m\u001b[0;34m\"vehicle_types\"\u001b[0m\u001b[0;34m)\u001b[0m\u001b[0;34m\u001b[0m\u001b[0;34m\u001b[0m\u001b[0m\n\u001b[1;32m      4\u001b[0m last_demand_unstacked[(\"demand\", \"car\")] = (\n\u001b[0;32m----> 5\u001b[0;31m     \u001b[0mlast_demand_unstacked\u001b[0m\u001b[0;34m(\u001b[0m\u001b[0;34m\"vehicle_types\"\u001b[0m\u001b[0;34m)\u001b[0m\u001b[0;34m[\u001b[0m\u001b[0;34m(\u001b[0m\u001b[0;34m\"demand\"\u001b[0m\u001b[0;34m,\u001b[0m \u001b[0;34m\"kick_scooter\"\u001b[0m\u001b[0;34m)\u001b[0m\u001b[0;34m]\u001b[0m\u001b[0;34m\u001b[0m\u001b[0;34m\u001b[0m\u001b[0m\n\u001b[0m\u001b[1;32m      6\u001b[0m     \u001b[0;34m+\u001b[0m \u001b[0mlast_demand_unstacked\u001b[0m\u001b[0;34m(\u001b[0m\u001b[0;34m\"vehicle_types\"\u001b[0m\u001b[0;34m)\u001b[0m\u001b[0;34m[\u001b[0m\u001b[0;34m(\u001b[0m\u001b[0;34m\"demand\"\u001b[0m\u001b[0;34m,\u001b[0m \u001b[0;34m\"car\"\u001b[0m\u001b[0;34m)\u001b[0m\u001b[0;34m]\u001b[0m\u001b[0;34m\u001b[0m\u001b[0;34m\u001b[0m\u001b[0m\n\u001b[1;32m      7\u001b[0m     \u001b[0;34m+\u001b[0m \u001b[0mlast_demand_unstacked\u001b[0m\u001b[0;34m(\u001b[0m\u001b[0;34m\"vehicle_types\"\u001b[0m\u001b[0;34m)\u001b[0m\u001b[0;34m[\u001b[0m\u001b[0;34m(\u001b[0m\u001b[0;34m\"demand\"\u001b[0m\u001b[0;34m,\u001b[0m \u001b[0;34m\"bicycle\"\u001b[0m\u001b[0;34m)\u001b[0m\u001b[0;34m]\u001b[0m\u001b[0;34m\u001b[0m\u001b[0;34m\u001b[0m\u001b[0m\n",
      "\u001b[0;31mTypeError\u001b[0m: 'DataFrame' object is not callable"
     ]
    }
   ],
   "source": [
    "last_demand = scenarios.copy()\n",
    "\n",
    "last_demand_unstacked = last_demand.unstack(\"vehicle_types\")\n",
    "last_demand_unstacked[(\"demand\", \"car\")] = (\n",
    "    last_demand_unstacked[(\"demand\", \"kick_scooter\")]\n",
    "    + last_demand_unstacked[(\"demand\", \"car\")]\n",
    "    + last_demand_unstacked[(\"demand\", \"bicycle\")]\n",
    ")\n"
   ]
  },
  {
   "cell_type": "code",
   "execution_count": 63,
   "metadata": {},
   "outputs": [
    {
     "name": "stdout",
     "output_type": "stream",
     "text": [
      "Status: Optimal\n",
      "Optimal Value of Objective Function:  8034.439562028653\n",
      "Runtime without preprocessing: 0.86 seconds\n",
      "solve finished in 1.49 seconds\n",
      "Status: Optimal\n",
      "Optimal Value of Objective Function:  139.92198523912438\n",
      "Runtime without preprocessing: 0.86 seconds\n",
      "solve finished in 1.47 seconds\n",
      "Status: Optimal\n",
      "Optimal Value of Objective Function:  -2263.6670923159454\n",
      "Runtime without preprocessing: 0.86 seconds\n",
      "solve finished in 1.33 seconds\n"
     ]
    }
   ],
   "source": [
    "FLEET_CAPACITY = {\n",
    "    \"kick_scooter\": 200,\n",
    "    \"bicycle\": 100,\n",
    "    \"car\": 50,\n",
    "}\n",
    "\n",
    "results = []\n",
    "\n",
    "last_demand = scenarios.copy()\n",
    "for vehicle_types in [[\"kick_scooter\"], [\"bicycle\"], [\"car\"]]:\n",
    "    current_vehicle_type = vehicle_types[0]\n",
    "    current_fleet_capacity = {\n",
    "        current_vehicle_type: FLEET_CAPACITY[current_vehicle_type]\n",
    "    }\n",
    "\n",
    "    last_demand.index = last_demand.index.set_levels(\n",
    "        last_demand.index.get_level_values(\"vehicle_types\").map(lambda x: current_vehicle_type),\n",
    "        verify_integrity=False,\n",
    "        level=\"vehicle_types\",\n",
    "    )\n",
    "\n",
    "    factory = StochasticProgramFactory(\n",
    "        last_demand,\n",
    "        distances,\n",
    "        probabilities,\n",
    "        node_df,\n",
    "        vehicle_types,\n",
    "        include_methods=[None],\n",
    "    )\n",
    "    factory.set_initial_allocation(FLEET_CAPACITY)\n",
    "    stochastic_program = factory.create_stochastic_program()\n",
    "    stochastic_program.include_methods = [\"solve\"]\n",
    "    stochastic_program.create_model()\n",
    "    stochastic_program.solve()\n",
    "    # we transform the unfulfilled demand of the current lp into the demand for the next lp\n",
    "    last_demand = stochastic_program.get_unfulfilled_demand().rename(\n",
    "        columns={\"unfulfilled_demand\": \"demand\"}\n",
    "    )\n",
    "\n",
    "    results.append(\n",
    "        {**stochastic_program.get_summary(), \"vehicle_types\": str(vehicle_types)}\n",
    "    )\n"
   ]
  },
  {
   "cell_type": "code",
   "execution_count": 67,
   "metadata": {},
   "outputs": [
    {
     "name": "stdout",
     "output_type": "stream",
     "text": [
      "Status: Optimal\n",
      "Optimal Value of Objective Function:  11899.089465475578\n",
      "Runtime without preprocessing: 3.11 seconds\n",
      "solve finished in 7.19 seconds\n"
     ]
    }
   ],
   "source": [
    "factory = StochasticProgramFactory(\n",
    "    scenarios,\n",
    "    distances,\n",
    "    probabilities,\n",
    "    node_df,\n",
    "    ALL_VEHICLE_TYPES,\n",
    "    include_methods=[None],\n",
    ")\n",
    "factory.set_initial_allocation(FLEET_CAPACITY)\n",
    "stochastic_program = factory.create_stochastic_program()\n",
    "stochastic_program.include_methods = [\"solve\"]\n",
    "stochastic_program.create_model()\n",
    "stochastic_program.solve()\n",
    "\n",
    "results.append(\n",
    "    {**stochastic_program.get_summary(), \"vehicle_types\": ALL_VEHICLE_TYPES}\n",
    ")\n"
   ]
  },
  {
   "cell_type": "code",
   "execution_count": 69,
   "metadata": {},
   "outputs": [
    {
     "data": {
      "text/html": "<div>\n<style scoped>\n    .dataframe tbody tr th:only-of-type {\n        vertical-align: middle;\n    }\n\n    .dataframe tbody tr th {\n        vertical-align: top;\n    }\n\n    .dataframe thead th {\n        text-align: right;\n    }\n</style>\n<table border=\"1\" class=\"dataframe\">\n  <thead>\n    <tr style=\"text-align: right;\">\n      <th></th>\n      <th>status</th>\n      <th>objective</th>\n      <th>solver_runtime</th>\n      <th>n_trips</th>\n      <th>n_unfilled_demand</th>\n      <th>n_parking</th>\n      <th>n_relocations</th>\n      <th>vehicle_types</th>\n    </tr>\n  </thead>\n  <tbody>\n    <tr>\n      <th>0</th>\n      <td>Optimal</td>\n      <td>8034.439562</td>\n      <td>0.858384</td>\n      <td>7947</td>\n      <td>2544</td>\n      <td>2</td>\n      <td>1651</td>\n      <td>['kick_scooter']</td>\n    </tr>\n    <tr>\n      <th>1</th>\n      <td>Optimal</td>\n      <td>139.921985</td>\n      <td>0.856494</td>\n      <td>1723</td>\n      <td>821</td>\n      <td>2359</td>\n      <td>718</td>\n      <td>['bicycle']</td>\n    </tr>\n    <tr>\n      <th>2</th>\n      <td>Optimal</td>\n      <td>-2263.667092</td>\n      <td>0.863375</td>\n      <td>82</td>\n      <td>739</td>\n      <td>2282</td>\n      <td>36</td>\n      <td>['car']</td>\n    </tr>\n    <tr>\n      <th>3</th>\n      <td>Optimal</td>\n      <td>11899.089465</td>\n      <td>2.817919</td>\n      <td>12231</td>\n      <td>7758</td>\n      <td>1722</td>\n      <td>2847</td>\n      <td>[kick_scooter, bicycle, car]</td>\n    </tr>\n    <tr>\n      <th>4</th>\n      <td>Optimal</td>\n      <td>11899.089465</td>\n      <td>3.110707</td>\n      <td>12231</td>\n      <td>7758</td>\n      <td>1722</td>\n      <td>2847</td>\n      <td>[kick_scooter, bicycle, car]</td>\n    </tr>\n  </tbody>\n</table>\n</div>",
      "text/plain": "    status     objective  solver_runtime  n_trips  n_unfilled_demand  \\\n0  Optimal   8034.439562        0.858384     7947               2544   \n1  Optimal    139.921985        0.856494     1723                821   \n2  Optimal  -2263.667092        0.863375       82                739   \n3  Optimal  11899.089465        2.817919    12231               7758   \n4  Optimal  11899.089465        3.110707    12231               7758   \n\n   n_parking  n_relocations                 vehicle_types  \n0          2           1651              ['kick_scooter']  \n1       2359            718                   ['bicycle']  \n2       2282             36                       ['car']  \n3       1722           2847  [kick_scooter, bicycle, car]  \n4       1722           2847  [kick_scooter, bicycle, car]  "
     },
     "execution_count": 69,
     "metadata": {},
     "output_type": "execute_result"
    }
   ],
   "source": [
    "results = pd.DataFrame.from_dict(results)\n",
    "results"
   ]
  },
  {
   "cell_type": "code",
   "execution_count": 83,
   "metadata": {},
   "outputs": [
    {
     "data": {
      "text/html": "<div>\n<style scoped>\n    .dataframe tbody tr th:only-of-type {\n        vertical-align: middle;\n    }\n\n    .dataframe tbody tr th {\n        vertical-align: top;\n    }\n\n    .dataframe thead th {\n        text-align: right;\n    }\n</style>\n<table border=\"1\" class=\"dataframe\">\n  <thead>\n    <tr style=\"text-align: right;\">\n      <th></th>\n      <th>status</th>\n      <th>objective</th>\n      <th>solver_runtime</th>\n      <th>n_trips</th>\n      <th>n_unfilled_demand</th>\n      <th>n_parking</th>\n      <th>n_relocations</th>\n      <th>vehicle_types</th>\n    </tr>\n  </thead>\n  <tbody>\n    <tr>\n      <th>0</th>\n      <td>Optimal</td>\n      <td>11899.089465</td>\n      <td>2.817919</td>\n      <td>12231</td>\n      <td>7758</td>\n      <td>1722</td>\n      <td>2847</td>\n      <td>[kick_scooter, bicycle, car]</td>\n    </tr>\n    <tr>\n      <th>1</th>\n      <td>OptimalOptimalOptimal</td>\n      <td>5910.694455</td>\n      <td>2.578253</td>\n      <td>9752</td>\n      <td>4104</td>\n      <td>4643</td>\n      <td>2405</td>\n      <td>['kick_scooter']['bicycle']['car']</td>\n    </tr>\n  </tbody>\n</table>\n</div>",
      "text/plain": "                  status     objective  solver_runtime  n_trips  \\\n0                Optimal  11899.089465        2.817919    12231   \n1  OptimalOptimalOptimal   5910.694455        2.578253     9752   \n\n   n_unfilled_demand  n_parking  n_relocations  \\\n0               7758       1722           2847   \n1               4104       4643           2405   \n\n                        vehicle_types  \n0        [kick_scooter, bicycle, car]  \n1  ['kick_scooter']['bicycle']['car']  "
     },
     "execution_count": 83,
     "metadata": {},
     "output_type": "execute_result"
    }
   ],
   "source": [
    "compare = results.iloc[[3]]\n",
    "compare.append(results.iloc[range(3)].sum(), ignore_index=True)"
   ]
  }
 ],
 "metadata": {
  "interpreter": {
   "hash": "921dce5431bc8dd5032dbf768a24c906ac17844f87e0f443ecd3f0f6d3f457c9"
  },
  "kernelspec": {
   "display_name": "Python 3.8.10 64-bit ('VR': conda)",
   "name": "python3"
  },
  "language_info": {
   "codemirror_mode": {
    "name": "ipython",
    "version": 3
   },
   "file_extension": ".py",
   "mimetype": "text/x-python",
   "name": "python",
   "nbconvert_exporter": "python",
   "pygments_lexer": "ipython3",
   "version": "3.8.10"
  },
  "metadata": {
   "interpreter": {
    "hash": "98dda969eced25373352d8358f4a74bbe75f82753a7539c7817bd98c04161209"
   }
  },
  "orig_nbformat": 2
 },
 "nbformat": 4,
 "nbformat_minor": 2
}