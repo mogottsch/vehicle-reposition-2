{
 "cells": [
  {
   "cell_type": "code",
   "execution_count": 1,
   "metadata": {},
   "outputs": [],
   "source": [
    "# However we do not expect the reader to add that folder to the env variable,\n",
    "# therefore we manually load it temporarily in each notebook.\n",
    "import os, sys\n",
    "module_path = os.path.abspath(os.path.join('..'))\n",
    "if module_path not in sys.path:\n",
    "    sys.path.append(module_path)"
   ]
  },
  {
   "cell_type": "code",
   "execution_count": 2,
   "metadata": {},
   "outputs": [],
   "source": [
    "module_path = os.path.abspath(os.path.join('./src'))\n",
    "if module_path not in sys.path:\n",
    "    sys.path.append(module_path)"
   ]
  },
  {
   "cell_type": "code",
   "execution_count": 6,
   "metadata": {},
   "outputs": [],
   "source": [
    "import pandas as pd\n",
    "import numpy as np\n",
    "from modules.config import (\n",
    "    PATH_SCENARIOS_REDUCED,\n",
    "    PATH_DISTANCES,\n",
    "    PATH_SCENARIO_PROBABILITY,\n",
    "    N_REDUCED_SCNEARIOS,\n",
    "    ALL_VEHICLE_TYPES,\n",
    "    PATH_RESULTS_SUMMARY,\n",
    "    PATH_RESULTS_SINGLE_MODAL_BENCHMARK,\n",
    "    PATH_RESULTS_VALUE_STOCHASTIC,\n",
    "    PATH_FLEET_SIZE,\n",
    "    PATH_SCENARIO_TREE_NODES,\n",
    ")\n",
    "from modules.stochastic_program.factory import StochasticProgramFactory, StochasticProgram\n",
    "\n"
   ]
  },
  {
   "source": [
    "# Stochastic Program\n",
    "In this notebook we will use the previously prepared data to create a stochastic program and solve it. In order to evaluate its performance we will perform multiple benchmarks.\n",
    "## Read Input Data"
   ],
   "cell_type": "markdown",
   "metadata": {}
  },
  {
   "cell_type": "code",
   "execution_count": 7,
   "metadata": {},
   "outputs": [],
   "source": [
    "scenarios = pd.read_pickle(PATH_SCENARIOS_REDUCED)"
   ]
  },
  {
   "cell_type": "code",
   "execution_count": 8,
   "metadata": {},
   "outputs": [],
   "source": [
    "node_df = pd.read_pickle(PATH_SCENARIO_TREE_NODES)"
   ]
  },
  {
   "cell_type": "code",
   "execution_count": 9,
   "metadata": {},
   "outputs": [],
   "source": [
    "distances = pd.read_pickle(PATH_DISTANCES)"
   ]
  },
  {
   "cell_type": "code",
   "execution_count": 10,
   "metadata": {},
   "outputs": [],
   "source": [
    "probabilities = pd.read_pickle(PATH_SCENARIO_PROBABILITY)"
   ]
  },
  {
   "cell_type": "code",
   "execution_count": 11,
   "metadata": {},
   "outputs": [
    {
     "output_type": "execute_result",
     "data": {
      "text/plain": [
       "{'bicycle': 996, 'car': 658, 'kick_scooter': 2600}"
      ]
     },
     "metadata": {},
     "execution_count": 11
    }
   ],
   "source": [
    "real_fleet_size = pd.read_pickle(PATH_FLEET_SIZE).to_dict()[\"id\"]\n",
    "# TODO\n",
    "real_fleet_size = {\n",
    "    vehicle_type: int(fleet_size/3) for vehicle_type, fleet_size in real_fleet_size.items()\n",
    "}\n",
    "real_fleet_size"
   ]
  },
  {
   "cell_type": "markdown",
   "metadata": {},
   "source": [
    "# Create & Solve Stochastic Program"
   ]
  },
  {
   "source": [
    "To create and solve the stochastic program we use the `StochasticProgramFactory` and `StochasticProgram` classes from our own module.  \n",
    "We first create the stochastic program factory with all of the prepared data."
   ],
   "cell_type": "markdown",
   "metadata": {}
  },
  {
   "cell_type": "code",
   "execution_count": 12,
   "metadata": {},
   "outputs": [
    {
     "output_type": "stream",
     "name": "stdout",
     "text": [
      "_convert_probabilities finished in 0.00 seconds\n",
      "_convert_distances finished in 0.01 seconds\n",
      "_convert_demand finished in 0.32 seconds\n",
      "_convert_nodes finished in 0.00 seconds\n",
      "_convert_parameters finished in 0.34 seconds\n",
      "_set_max_demand finished in 0.06 seconds\n",
      "set_initial_allocation finished in 0.01 seconds\n"
     ]
    }
   ],
   "source": [
    "vehicle_types = ALL_VEHICLE_TYPES\n",
    "factory = StochasticProgramFactory(\n",
    "    scenarios,\n",
    "    distances.apply(lambda x: round(x, 2)), # rounding improves performance\n",
    "    probabilities,\n",
    "    node_df,\n",
    "    vehicle_types,\n",
    ")\n",
    "factory.set_initial_allocation(real_fleet_size)\n"
   ]
  },
  {
   "source": [
    "Now we create the stochastic program using the factory. The factory will pass all the necessary data in the correct format to the stochastic program class."
   ],
   "cell_type": "markdown",
   "metadata": {}
  },
  {
   "cell_type": "code",
   "execution_count": 13,
   "metadata": {},
   "outputs": [
    {
     "output_type": "stream",
     "name": "stdout",
     "text": [
      "create_stochastic_program finished in 0.00 seconds\n"
     ]
    }
   ],
   "source": [
    "stochastic_program: StochasticProgram = factory.create_stochastic_program()"
   ]
  },
  {
   "source": [
    "We now use the stochastic program class to create the constraints and the objective function using the pulp library.  \n",
    "We also can configure the model to be risk averse by setting a beta larger than zero. Beta is the weight of the calculate-value-at-risk. Look at the documentation in `stochastic_program.py` for further details."
   ],
   "cell_type": "markdown",
   "metadata": {}
  },
  {
   "cell_type": "code",
   "execution_count": 14,
   "metadata": {
    "tags": []
   },
   "outputs": [
    {
     "output_type": "stream",
     "name": "stdout",
     "text": [
      "_create_variables finished in 2.09 seconds\n",
      "_create_objectives finished in 4.15 seconds\n",
      "_create_demand_constraints finished in 4.01 seconds\n",
      "_create_relocation_binary_constraints finished in 0.03 seconds\n",
      "_create_big_u_sum_constraints finished in 0.55 seconds\n",
      "_create_unfulfilled_demand_binary_constraints finished in 0.04 seconds\n",
      "_create_no_refused_demand_constraints finished in 0.03 seconds\n",
      "_create_relocations_constraints finished in 1.52 seconds\n",
      "_create_vehicle_trips_starting_constraints finished in 0.57 seconds\n",
      "_create_vehicle_trips_ending_constraints finished in 0.62 seconds\n",
      "_create_initial_allocation_constraints finished in 0.01 seconds\n",
      "_create_non_anticipativity_constraints finished in 1.97 seconds\n",
      "_create_value_at_risk_constraints finished in 2.86 seconds\n",
      "_create_constraints finished in 12.22 seconds\n",
      "create_model finished in 23.88 seconds\n"
     ]
    }
   ],
   "source": [
    "stochastic_program.create_model(beta=0.5, alpha=0.75)"
   ]
  },
  {
   "source": [
    "We now can solve the formulated program. Make sure that the solver selected in `config.py` is configured properly."
   ],
   "cell_type": "markdown",
   "metadata": {}
  },
  {
   "cell_type": "code",
   "execution_count": 15,
   "metadata": {},
   "outputs": [
    {
     "output_type": "stream",
     "name": "stdout",
     "text": [
      "No parameters matching '_test' found\n"
     ]
    }
   ],
   "source": [
    "stochastic_program.solve()"
   ]
  },
  {
   "source": [
    "Here we can take a look at the dimensions of the problem."
   ],
   "cell_type": "markdown",
   "metadata": {}
  },
  {
   "cell_type": "code",
   "execution_count": 12,
   "metadata": {},
   "outputs": [
    {
     "output_type": "execute_result",
     "data": {
      "text/plain": [
       "scenarios          8\n",
       "start_hex_ids     29\n",
       "end_hex_ids       29\n",
       "time               2\n",
       "vehicle_types      3\n",
       "demand           114\n",
       "dtype: int64"
      ]
     },
     "metadata": {},
     "execution_count": 12
    }
   ],
   "source": [
    "scenarios.reset_index().nunique()"
   ]
  },
  {
   "cell_type": "code",
   "execution_count": 13,
   "metadata": {},
   "outputs": [
    {
     "output_type": "stream",
     "name": "stdout",
     "text": [
      "get_results_by_tuple_df finished in 0.39 seconds\nget_results_by_region_df finished in 0.01 seconds\nget_summary finished in 0.51 seconds\n"
     ]
    },
    {
     "output_type": "execute_result",
     "data": {
      "text/plain": [
       "{'status': 'Optimal',\n",
       " 'objective': 14138.135390625015,\n",
       " 'expected_profit': 14052.060781250033,\n",
       " 'eta': 14224.21,\n",
       " 'beta': 0.5,\n",
       " 'alpha': 0.75,\n",
       " 'n_trips_avg': 5967.625,\n",
       " 'n_unfilled_demand_avg': 3698.75,\n",
       " 'demand_avg': 9666.375,\n",
       " 'n_parking_avg': 2540.375,\n",
       " 'n_relocations_avg': 2903.0}"
      ]
     },
     "metadata": {},
     "execution_count": 13
    }
   ],
   "source": [
    "stochastic_program.get_summary()"
   ]
  },
  {
   "cell_type": "markdown",
   "metadata": {},
   "source": [
    "# Benchmarks\n",
    "We will now run different benchmarks on our model to evaluate its performance.\n",
    "## Different Capacities/ Disabled Relocations/ Value Of Perfect Information\n",
    "In our first benchmark we will solve the model with 3 different vehicle fleet sizes to see how the fleet size affects the performance of the model.  \n",
    "For each fleet size we will also enable/disable relocations, so that we can see how relocations can improve profit and demand fulfillment. We will also enable/disable the non-anticipativty constraints to calculate the value of perfect information."
   ]
  },
  {
   "cell_type": "code",
   "execution_count": 14,
   "metadata": {},
   "outputs": [],
   "source": [
    "capacities = [\n",
    "    {\n",
    "        \"kick_scooter\": 10000,\n",
    "        \"bicycle\": 4000,\n",
    "        \"car\": 3000,\n",
    "    },\n",
    "    {\n",
    "        \"kick_scooter\": 8000,\n",
    "        \"bicycle\": 3000,\n",
    "        \"car\": 2000,\n",
    "    },\n",
    "    {\n",
    "        \"kick_scooter\": 6000,\n",
    "        \"bicycle\": 2000,\n",
    "        \"car\": 1000,\n",
    "    },\n",
    "]\n"
   ]
  },
  {
   "cell_type": "code",
   "execution_count": 15,
   "metadata": {},
   "outputs": [
    {
     "output_type": "stream",
     "name": "stdout",
     "text": [
      "_convert_probabilities finished in 0.00 seconds\n",
      "_convert_distances finished in 0.00 seconds\n",
      "_convert_demand finished in 0.04 seconds\n",
      "_convert_nodes finished in 0.00 seconds\n",
      "_convert_parameters finished in 0.04 seconds\n",
      "_set_max_demand finished in 0.01 seconds\n",
      "No parameters matching '_test' found\n",
      "Status: Optimal\n",
      "Optimal Value of Objective Function:  -64271.778579658705\n",
      "solve finished in 39.33 seconds\n",
      "\n",
      "\n",
      "No parameters matching '_test' found\n",
      "Status: Optimal\n",
      "Optimal Value of Objective Function:  -62641.88248343602\n",
      "solve finished in 17.69 seconds\n",
      "\n",
      "\n",
      "No parameters matching '_test' found\n",
      "Status: Optimal\n",
      "Optimal Value of Objective Function:  -104458.20309417852\n",
      "solve finished in 2.28 seconds\n",
      "\n",
      "\n",
      "No parameters matching '_test' found\n",
      "Status: Optimal\n",
      "Optimal Value of Objective Function:  -104357.0079886999\n",
      "solve finished in 2.04 seconds\n",
      "\n",
      "\n",
      "No parameters matching '_test' found\n",
      "Status: Optimal\n",
      "Optimal Value of Objective Function:  -28270.7856219993\n",
      "solve finished in 167.27 seconds\n",
      "\n",
      "\n",
      "No parameters matching '_test' found\n",
      "Status: Optimal\n",
      "Optimal Value of Objective Function:  -27090.620740906143\n",
      "solve finished in 24.83 seconds\n",
      "\n",
      "\n",
      "No parameters matching '_test' found\n",
      "Status: Optimal\n",
      "Optimal Value of Objective Function:  -55696.43154335671\n",
      "solve finished in 2.57 seconds\n",
      "\n",
      "\n",
      "No parameters matching '_test' found\n",
      "Status: Optimal\n",
      "Optimal Value of Objective Function:  -55616.336771100665\n",
      "solve finished in 2.58 seconds\n",
      "\n",
      "\n",
      "No parameters matching '_test' found\n",
      "Status: Optimal\n",
      "Optimal Value of Objective Function:  4053.8654242187436\n",
      "solve finished in 34.72 seconds\n",
      "\n",
      "\n",
      "No parameters matching '_test' found\n",
      "Status: Optimal\n",
      "Optimal Value of Objective Function:  4583.88974143472\n",
      "solve finished in 7.74 seconds\n",
      "\n",
      "\n",
      "No parameters matching '_test' found\n",
      "Status: Optimal\n",
      "Optimal Value of Objective Function:  -11977.862913510986\n",
      "solve finished in 2.76 seconds\n",
      "\n",
      "\n",
      "No parameters matching '_test' found\n",
      "Status: Optimal\n",
      "Optimal Value of Objective Function:  -11946.631607594752\n",
      "solve finished in 7.10 seconds\n",
      "\n",
      "\n"
     ]
    }
   ],
   "source": [
    "results = []\n",
    "\n",
    "factory = StochasticProgramFactory(scenarios, distances, probabilities, node_df)\n",
    "factory.include_methods = [None]\n",
    "for capacity in capacities:\n",
    "    factory.set_initial_allocation(capacity)\n",
    "\n",
    "    stochastic_program = factory.create_stochastic_program()\n",
    "    stochastic_program.include_methods = ['solve']\n",
    "\n",
    "    for relocations_disabled in [False, True]:\n",
    "        for non_anticipativity_disabled in [False, True]:\n",
    "            stochastic_program.relocations_disabled = relocations_disabled\n",
    "            stochastic_program.non_anticipativity_disabled = non_anticipativity_disabled\n",
    "            stochastic_program.create_model()\n",
    "            stochastic_program.solve()\n",
    "\n",
    "            results.append({\n",
    "                **stochastic_program.get_summary(),\n",
    "                **capacity,\n",
    "                'relocations_disabled': relocations_disabled,\n",
    "                'non_anticipativity_disabled': non_anticipativity_disabled,\n",
    "            })\n",
    "            print('\\n')"
   ]
  },
  {
   "cell_type": "code",
   "execution_count": 16,
   "metadata": {},
   "outputs": [],
   "source": [
    "results_df = pd.DataFrame.from_dict(results)"
   ]
  },
  {
   "cell_type": "code",
   "execution_count": 17,
   "metadata": {},
   "outputs": [
    {
     "output_type": "execute_result",
     "data": {
      "text/plain": [
       "     status      objective  expected_profit  n_trips_avg  \\\n",
       "0   Optimal  -64271.778580    -64271.778580     8865.875   \n",
       "1   Optimal  -62641.882483    -62641.882483     9301.625   \n",
       "2   Optimal -104458.203094   -104458.203094     8171.125   \n",
       "3   Optimal -104357.007989   -104357.007989     8177.125   \n",
       "4   Optimal  -28270.785622    -28270.785622     8585.375   \n",
       "5   Optimal  -27090.620741    -27090.620741     8955.625   \n",
       "6   Optimal  -55696.431543    -55696.431543     7386.375   \n",
       "7   Optimal  -55616.336771    -55616.336771     7399.125   \n",
       "8   Optimal    4053.865424      4053.865424     8173.875   \n",
       "9   Optimal    4583.889741      4583.889741     8375.875   \n",
       "10  Optimal  -11977.862914    -11977.862914     6105.000   \n",
       "11  Optimal  -11946.631608    -11946.631608     6101.625   \n",
       "\n",
       "    n_unfilled_demand_avg  demand_avg  n_parking_avg  n_relocations_avg  \\\n",
       "0                 800.500    9666.375      25110.250           8191.000   \n",
       "1                 364.750    9666.375      24698.375           8747.750   \n",
       "2                1495.250    9666.375      25828.875              0.000   \n",
       "3                1489.250    9666.375      25822.875              0.000   \n",
       "4                1081.000    9666.375      17393.000           5638.000   \n",
       "5                 710.750    9666.375      17042.250           5711.625   \n",
       "6                2280.000    9666.375      18613.625              0.000   \n",
       "7                2267.250    9666.375      18600.000              0.000   \n",
       "8                1492.500    9666.375       9818.750           3123.000   \n",
       "9                1290.500    9666.375       9622.625           3553.250   \n",
       "10               3561.375    9666.375      11895.000              0.000   \n",
       "11               3564.750    9666.375      11896.750              0.000   \n",
       "\n",
       "    kick_scooter  bicycle   car  relocations_disabled  \\\n",
       "0          10000     4000  3000                 False   \n",
       "1          10000     4000  3000                 False   \n",
       "2          10000     4000  3000                  True   \n",
       "3          10000     4000  3000                  True   \n",
       "4           8000     3000  2000                 False   \n",
       "5           8000     3000  2000                 False   \n",
       "6           8000     3000  2000                  True   \n",
       "7           8000     3000  2000                  True   \n",
       "8           6000     2000  1000                 False   \n",
       "9           6000     2000  1000                 False   \n",
       "10          6000     2000  1000                  True   \n",
       "11          6000     2000  1000                  True   \n",
       "\n",
       "    non_anticipativity_disabled  \n",
       "0                         False  \n",
       "1                          True  \n",
       "2                         False  \n",
       "3                          True  \n",
       "4                         False  \n",
       "5                          True  \n",
       "6                         False  \n",
       "7                          True  \n",
       "8                         False  \n",
       "9                          True  \n",
       "10                        False  \n",
       "11                         True  "
      ],
      "text/html": "<div>\n<style scoped>\n    .dataframe tbody tr th:only-of-type {\n        vertical-align: middle;\n    }\n\n    .dataframe tbody tr th {\n        vertical-align: top;\n    }\n\n    .dataframe thead th {\n        text-align: right;\n    }\n</style>\n<table border=\"1\" class=\"dataframe\">\n  <thead>\n    <tr style=\"text-align: right;\">\n      <th></th>\n      <th>status</th>\n      <th>objective</th>\n      <th>expected_profit</th>\n      <th>n_trips_avg</th>\n      <th>n_unfilled_demand_avg</th>\n      <th>demand_avg</th>\n      <th>n_parking_avg</th>\n      <th>n_relocations_avg</th>\n      <th>kick_scooter</th>\n      <th>bicycle</th>\n      <th>car</th>\n      <th>relocations_disabled</th>\n      <th>non_anticipativity_disabled</th>\n    </tr>\n  </thead>\n  <tbody>\n    <tr>\n      <th>0</th>\n      <td>Optimal</td>\n      <td>-64271.778580</td>\n      <td>-64271.778580</td>\n      <td>8865.875</td>\n      <td>800.500</td>\n      <td>9666.375</td>\n      <td>25110.250</td>\n      <td>8191.000</td>\n      <td>10000</td>\n      <td>4000</td>\n      <td>3000</td>\n      <td>False</td>\n      <td>False</td>\n    </tr>\n    <tr>\n      <th>1</th>\n      <td>Optimal</td>\n      <td>-62641.882483</td>\n      <td>-62641.882483</td>\n      <td>9301.625</td>\n      <td>364.750</td>\n      <td>9666.375</td>\n      <td>24698.375</td>\n      <td>8747.750</td>\n      <td>10000</td>\n      <td>4000</td>\n      <td>3000</td>\n      <td>False</td>\n      <td>True</td>\n    </tr>\n    <tr>\n      <th>2</th>\n      <td>Optimal</td>\n      <td>-104458.203094</td>\n      <td>-104458.203094</td>\n      <td>8171.125</td>\n      <td>1495.250</td>\n      <td>9666.375</td>\n      <td>25828.875</td>\n      <td>0.000</td>\n      <td>10000</td>\n      <td>4000</td>\n      <td>3000</td>\n      <td>True</td>\n      <td>False</td>\n    </tr>\n    <tr>\n      <th>3</th>\n      <td>Optimal</td>\n      <td>-104357.007989</td>\n      <td>-104357.007989</td>\n      <td>8177.125</td>\n      <td>1489.250</td>\n      <td>9666.375</td>\n      <td>25822.875</td>\n      <td>0.000</td>\n      <td>10000</td>\n      <td>4000</td>\n      <td>3000</td>\n      <td>True</td>\n      <td>True</td>\n    </tr>\n    <tr>\n      <th>4</th>\n      <td>Optimal</td>\n      <td>-28270.785622</td>\n      <td>-28270.785622</td>\n      <td>8585.375</td>\n      <td>1081.000</td>\n      <td>9666.375</td>\n      <td>17393.000</td>\n      <td>5638.000</td>\n      <td>8000</td>\n      <td>3000</td>\n      <td>2000</td>\n      <td>False</td>\n      <td>False</td>\n    </tr>\n    <tr>\n      <th>5</th>\n      <td>Optimal</td>\n      <td>-27090.620741</td>\n      <td>-27090.620741</td>\n      <td>8955.625</td>\n      <td>710.750</td>\n      <td>9666.375</td>\n      <td>17042.250</td>\n      <td>5711.625</td>\n      <td>8000</td>\n      <td>3000</td>\n      <td>2000</td>\n      <td>False</td>\n      <td>True</td>\n    </tr>\n    <tr>\n      <th>6</th>\n      <td>Optimal</td>\n      <td>-55696.431543</td>\n      <td>-55696.431543</td>\n      <td>7386.375</td>\n      <td>2280.000</td>\n      <td>9666.375</td>\n      <td>18613.625</td>\n      <td>0.000</td>\n      <td>8000</td>\n      <td>3000</td>\n      <td>2000</td>\n      <td>True</td>\n      <td>False</td>\n    </tr>\n    <tr>\n      <th>7</th>\n      <td>Optimal</td>\n      <td>-55616.336771</td>\n      <td>-55616.336771</td>\n      <td>7399.125</td>\n      <td>2267.250</td>\n      <td>9666.375</td>\n      <td>18600.000</td>\n      <td>0.000</td>\n      <td>8000</td>\n      <td>3000</td>\n      <td>2000</td>\n      <td>True</td>\n      <td>True</td>\n    </tr>\n    <tr>\n      <th>8</th>\n      <td>Optimal</td>\n      <td>4053.865424</td>\n      <td>4053.865424</td>\n      <td>8173.875</td>\n      <td>1492.500</td>\n      <td>9666.375</td>\n      <td>9818.750</td>\n      <td>3123.000</td>\n      <td>6000</td>\n      <td>2000</td>\n      <td>1000</td>\n      <td>False</td>\n      <td>False</td>\n    </tr>\n    <tr>\n      <th>9</th>\n      <td>Optimal</td>\n      <td>4583.889741</td>\n      <td>4583.889741</td>\n      <td>8375.875</td>\n      <td>1290.500</td>\n      <td>9666.375</td>\n      <td>9622.625</td>\n      <td>3553.250</td>\n      <td>6000</td>\n      <td>2000</td>\n      <td>1000</td>\n      <td>False</td>\n      <td>True</td>\n    </tr>\n    <tr>\n      <th>10</th>\n      <td>Optimal</td>\n      <td>-11977.862914</td>\n      <td>-11977.862914</td>\n      <td>6105.000</td>\n      <td>3561.375</td>\n      <td>9666.375</td>\n      <td>11895.000</td>\n      <td>0.000</td>\n      <td>6000</td>\n      <td>2000</td>\n      <td>1000</td>\n      <td>True</td>\n      <td>False</td>\n    </tr>\n    <tr>\n      <th>11</th>\n      <td>Optimal</td>\n      <td>-11946.631608</td>\n      <td>-11946.631608</td>\n      <td>6101.625</td>\n      <td>3564.750</td>\n      <td>9666.375</td>\n      <td>11896.750</td>\n      <td>0.000</td>\n      <td>6000</td>\n      <td>2000</td>\n      <td>1000</td>\n      <td>True</td>\n      <td>True</td>\n    </tr>\n  </tbody>\n</table>\n</div>"
     },
     "metadata": {},
     "execution_count": 17
    }
   ],
   "source": [
    "results_df"
   ]
  },
  {
   "cell_type": "code",
   "execution_count": 18,
   "metadata": {},
   "outputs": [],
   "source": [
    "os.makedirs(os.path.dirname(PATH_RESULTS_SUMMARY), exist_ok=True)\n",
    "results_df.to_pickle(PATH_RESULTS_SUMMARY)\n"
   ]
  },
  {
   "cell_type": "markdown",
   "metadata": {},
   "source": [
    "## Single Modal Benchmark\n",
    "The novelty of our model is the consideration of multiple vehicle types. With this benchmark we will examine whether this consideration actually improves the profit. To do that we will create three single modal models and run them subsequently. The first single modal model will only consider kick scooters. We will then extract the unfulfilled demand from the solution of the first model and use that as an additional input for the second single modal model, which considers bicycles. Therefore the second model will have the bicycle demand plus the unfulfilled demand from the kick scooters as input. We will then repeat the process for cars.  \n",
    "We can then compare the sum of the profit of all three single modal models with the profit of the multi modal model. "
   ]
  },
  {
   "cell_type": "code",
   "execution_count": 19,
   "metadata": {},
   "outputs": [],
   "source": [
    "scenarios_copy = scenarios.copy().reset_index()\n",
    "\n",
    "demand_per_type = {\n",
    "    \"car\": scenarios_copy[scenarios_copy['vehicle_types'] == 'car']\\\n",
    "        .set_index(['scenarios','start_hex_ids','end_hex_ids','time' ,'vehicle_types']),\n",
    "    \"kick_scooter\": scenarios_copy[scenarios_copy['vehicle_types'] == 'kick_scooter']\\\n",
    "        .set_index(['scenarios','start_hex_ids','end_hex_ids','time' ,'vehicle_types']),\n",
    "    \"bicycle\": scenarios_copy[scenarios_copy['vehicle_types'] == 'bicycle']\\\n",
    "        .set_index(['scenarios','start_hex_ids','end_hex_ids','time' ,'vehicle_types']),\n",
    "}"
   ]
  },
  {
   "cell_type": "code",
   "execution_count": 20,
   "metadata": {},
   "outputs": [
    {
     "output_type": "stream",
     "name": "stdout",
     "text": [
      "previous demand 48838 \n",
      "\n",
      "demand for current vehicle 0 \n",
      "\n",
      "total current demand 48838 \n",
      "\n",
      "No parameters matching '_test' found\n",
      "Status: Optimal\n",
      "Optimal Value of Objective Function:  8070.489229109914\n",
      "solve finished in 0.90 seconds\n",
      "previous demand 25997 \n",
      "\n",
      "demand for current vehicle 19899 \n",
      "\n",
      "total current demand 45896 \n",
      "\n",
      "No parameters matching '_test' found\n",
      "Status: Optimal\n",
      "Optimal Value of Objective Function:  4787.744994036929\n",
      "solve finished in 0.97 seconds\n",
      "previous demand 2496 \n",
      "\n",
      "demand for current vehicle 34131 \n",
      "\n",
      "total current demand 36627 \n",
      "\n",
      "No parameters matching '_test' found\n",
      "Status: Optimal\n",
      "Optimal Value of Objective Function:  -7844.7254961705\n",
      "solve finished in 0.90 seconds\n"
     ]
    }
   ],
   "source": [
    "results = []\n",
    "# last demand in first iteration is 0\n",
    "last_demand = pd.DataFrame(index=demand_per_type['car'].index)\n",
    "last_demand['demand'] = 0\n",
    "for vehicle_types in [[\"kick_scooter\"], [\"bicycle\"], [\"car\"]]:\n",
    "    current_vehicle_type = vehicle_types[0]\n",
    "    print(\"previous demand\", demand_per_type[current_vehicle_type]['demand'].values.sum(), \"\\n\")\n",
    "    print(\"demand for current vehicle\", last_demand['demand'].values.sum(), \"\\n\")\n",
    "    current_demand = demand_per_type[current_vehicle_type] \\\n",
    "                    .reset_index('vehicle_types') \\\n",
    "                    .drop(\"vehicle_types\", axis=1) \\\n",
    "                    + last_demand.reset_index('vehicle_types').drop(\"vehicle_types\", axis=1)\n",
    "    current_demand['vehicle_types'] = current_vehicle_type\n",
    "    current_demand = current_demand.set_index('vehicle_types', append=True)\n",
    "    print(\"total current demand\", current_demand['demand'].values.sum(), \"\\n\")\n",
    "    current_fleet_capacity = {\n",
    "        current_vehicle_type: real_fleet_size[current_vehicle_type]\n",
    "    }\n",
    "\n",
    "    current_demand.index = current_demand.index.set_levels(\n",
    "        current_demand.index.get_level_values(\"vehicle_types\").map(\n",
    "            lambda x: current_vehicle_type\n",
    "        ),\n",
    "        verify_integrity=False,\n",
    "        level=\"vehicle_types\",\n",
    "    )\n",
    "\n",
    "    factory = StochasticProgramFactory(\n",
    "        current_demand,\n",
    "        distances,\n",
    "        probabilities,\n",
    "        node_df,\n",
    "        vehicle_types,\n",
    "        include_methods=[None],\n",
    "    )\n",
    "    factory.set_initial_allocation(real_fleet_size)\n",
    "    stochastic_program = factory.create_stochastic_program()\n",
    "    stochastic_program.include_methods = [\"solve\"]\n",
    "    stochastic_program.create_model()\n",
    "    stochastic_program.solve()\n",
    "    # we transform the unfulfilled demand of the current lp into the demand for the next lp\n",
    "    last_demand = stochastic_program.get_unfulfilled_demand().rename(\n",
    "        columns={\"accumulated_unfulfilled_demand\": \"demand\"}\n",
    "    )\n",
    "    \n",
    "    results.append(\n",
    "        {**stochastic_program.get_summary(), \"vehicle_types\": str(vehicle_types)}\n",
    "    )\n"
   ]
  },
  {
   "cell_type": "code",
   "execution_count": 21,
   "metadata": {},
   "outputs": [
    {
     "output_type": "stream",
     "name": "stdout",
     "text": [
      "No parameters matching '_test' found\n",
      "Status: Optimal\n",
      "Optimal Value of Objective Function:  14222.36351442462\n",
      "solve finished in 11.50 seconds\n"
     ]
    }
   ],
   "source": [
    "factory = StochasticProgramFactory(\n",
    "    scenarios,\n",
    "    distances,\n",
    "    probabilities,\n",
    "    node_df,\n",
    "    ALL_VEHICLE_TYPES,\n",
    "    include_methods=[None],\n",
    ")\n",
    "factory.set_initial_allocation(real_fleet_size)\n",
    "stochastic_program = factory.create_stochastic_program()\n",
    "stochastic_program.include_methods = [\"solve\"]\n",
    "stochastic_program.create_model()\n",
    "stochastic_program.solve()\n",
    "\n",
    "results.append(\n",
    "    {**stochastic_program.get_summary(), \"vehicle_types\": ALL_VEHICLE_TYPES}\n",
    ")\n"
   ]
  },
  {
   "cell_type": "code",
   "execution_count": 22,
   "metadata": {},
   "outputs": [],
   "source": [
    "results = pd.DataFrame.from_dict(results)"
   ]
  },
  {
   "cell_type": "code",
   "execution_count": 23,
   "metadata": {},
   "outputs": [
    {
     "output_type": "execute_result",
     "data": {
      "text/plain": [
       "                  status     objective  expected_profit  n_trips_avg  \\\n",
       "0                Optimal  14222.363514     14222.363514     5972.625   \n",
       "1  OptimalOptimalOptimal   5013.508727      5013.508727     6018.000   \n",
       "\n",
       "   n_unfilled_demand_avg  demand_avg  n_parking_avg  n_relocations_avg  \\\n",
       "0               3693.750    9666.375       2535.125             2786.0   \n",
       "1              10402.125   16420.125       2490.000             2887.0   \n",
       "\n",
       "                        vehicle_types  \n",
       "0        [kick_scooter, bicycle, car]  \n",
       "1  ['kick_scooter']['bicycle']['car']  "
      ],
      "text/html": "<div>\n<style scoped>\n    .dataframe tbody tr th:only-of-type {\n        vertical-align: middle;\n    }\n\n    .dataframe tbody tr th {\n        vertical-align: top;\n    }\n\n    .dataframe thead th {\n        text-align: right;\n    }\n</style>\n<table border=\"1\" class=\"dataframe\">\n  <thead>\n    <tr style=\"text-align: right;\">\n      <th></th>\n      <th>status</th>\n      <th>objective</th>\n      <th>expected_profit</th>\n      <th>n_trips_avg</th>\n      <th>n_unfilled_demand_avg</th>\n      <th>demand_avg</th>\n      <th>n_parking_avg</th>\n      <th>n_relocations_avg</th>\n      <th>vehicle_types</th>\n    </tr>\n  </thead>\n  <tbody>\n    <tr>\n      <th>0</th>\n      <td>Optimal</td>\n      <td>14222.363514</td>\n      <td>14222.363514</td>\n      <td>5972.625</td>\n      <td>3693.750</td>\n      <td>9666.375</td>\n      <td>2535.125</td>\n      <td>2786.0</td>\n      <td>[kick_scooter, bicycle, car]</td>\n    </tr>\n    <tr>\n      <th>1</th>\n      <td>OptimalOptimalOptimal</td>\n      <td>5013.508727</td>\n      <td>5013.508727</td>\n      <td>6018.000</td>\n      <td>10402.125</td>\n      <td>16420.125</td>\n      <td>2490.000</td>\n      <td>2887.0</td>\n      <td>['kick_scooter']['bicycle']['car']</td>\n    </tr>\n  </tbody>\n</table>\n</div>"
     },
     "metadata": {},
     "execution_count": 23
    }
   ],
   "source": [
    "compare = results.iloc[[3]]\n",
    "compare.append(results.iloc[range(3)].sum(), ignore_index=True)"
   ]
  },
  {
   "cell_type": "code",
   "execution_count": 24,
   "metadata": {},
   "outputs": [],
   "source": [
    "os.makedirs(os.path.dirname(PATH_RESULTS_SINGLE_MODAL_BENCHMARK), exist_ok=True)\n",
    "compare.to_pickle(PATH_RESULTS_SINGLE_MODAL_BENCHMARK)"
   ]
  },
  {
   "cell_type": "markdown",
   "metadata": {},
   "source": [
    "## Value Of The Stochastic Solution"
   ]
  },
  {
   "cell_type": "code",
   "execution_count": 25,
   "metadata": {},
   "outputs": [],
   "source": [
    "demand = scenarios.copy()\n",
    "demand = (\n",
    "    demand.unstack(\"scenarios\")[\"demand\"]\n",
    "    .sum(axis=1)\n",
    "    .to_frame()\n",
    "    .rename(columns={0: \"demand\"})\n",
    ")\n",
    "demand[\"scenarios\"] = 0\n",
    "demand = demand.set_index(\"scenarios\", append=True).reorder_levels(\n",
    "    [\"scenarios\", \"start_hex_ids\", \"end_hex_ids\", \"time\", \"vehicle_types\"]\n",
    ")\n",
    "demand['demand'] = demand['demand'] / N_REDUCED_SCNEARIOS\n",
    "demand['floored'] = demand['demand'].apply(np.floor)\n",
    "demand['ceiled'] = demand['demand'].apply(np.ceil)\n"
   ]
  },
  {
   "cell_type": "code",
   "execution_count": 26,
   "metadata": {},
   "outputs": [
    {
     "output_type": "stream",
     "name": "stdout",
     "text": [
      "No parameters matching '_test' found\n",
      "Status: Optimal\n",
      "Optimal Value of Objective Function:  488.69696032763284\n",
      "solve finished in 0.35 seconds\n",
      "No parameters matching '_test' found\n",
      "Status: Optimal\n",
      "Optimal Value of Objective Function:  731.0341389736636\n",
      "solve finished in 0.33 seconds\n"
     ]
    }
   ],
   "source": [
    "results = []\n",
    "for rounding_mode in [\"floored\", \"ceiled\"]:\n",
    "    factory = StochasticProgramFactory(\n",
    "        demand[[rounding_mode]].rename(columns={rounding_mode: \"demand\"}),\n",
    "        distances,\n",
    "        probabilities,\n",
    "        node_df,\n",
    "        ALL_VEHICLE_TYPES,\n",
    "        include_methods=[None],\n",
    "    )\n",
    "    factory.set_initial_allocation(real_fleet_size)\n",
    "    stochastic_program = factory.create_stochastic_program()\n",
    "    stochastic_program.include_methods = [\"solve\"]\n",
    "    \n",
    "    # assign all weight to first scenario\n",
    "    stochastic_program.weighting = {0: 1}\n",
    "\n",
    "    # discard non-anticipativity constraints\n",
    "    stochastic_program.non_anticipativity_disabled = True\n",
    "\n",
    "    stochastic_program.create_model()\n",
    "    stochastic_program.solve()\n",
    "\n",
    "    results.append(\n",
    "        {**stochastic_program.get_summary(), \"vehicle_types\": ALL_VEHICLE_TYPES}\n",
    "    )\n"
   ]
  },
  {
   "cell_type": "code",
   "execution_count": 27,
   "metadata": {},
   "outputs": [
    {
     "output_type": "execute_result",
     "data": {
      "text/plain": [
       "    status   objective  expected_profit  n_trips_avg  n_unfilled_demand_avg  \\\n",
       "0  Optimal  488.696960       488.696960       5972.0                 3451.0   \n",
       "1  Optimal  731.034139       731.034139       5972.0                 4138.0   \n",
       "\n",
       "   demand_avg  n_parking_avg  n_relocations_avg                 vehicle_types  \n",
       "0      9423.0         2536.0             2731.0  [kick_scooter, bicycle, car]  \n",
       "1     10110.0         2536.0             2577.0  [kick_scooter, bicycle, car]  "
      ],
      "text/html": "<div>\n<style scoped>\n    .dataframe tbody tr th:only-of-type {\n        vertical-align: middle;\n    }\n\n    .dataframe tbody tr th {\n        vertical-align: top;\n    }\n\n    .dataframe thead th {\n        text-align: right;\n    }\n</style>\n<table border=\"1\" class=\"dataframe\">\n  <thead>\n    <tr style=\"text-align: right;\">\n      <th></th>\n      <th>status</th>\n      <th>objective</th>\n      <th>expected_profit</th>\n      <th>n_trips_avg</th>\n      <th>n_unfilled_demand_avg</th>\n      <th>demand_avg</th>\n      <th>n_parking_avg</th>\n      <th>n_relocations_avg</th>\n      <th>vehicle_types</th>\n    </tr>\n  </thead>\n  <tbody>\n    <tr>\n      <th>0</th>\n      <td>Optimal</td>\n      <td>488.696960</td>\n      <td>488.696960</td>\n      <td>5972.0</td>\n      <td>3451.0</td>\n      <td>9423.0</td>\n      <td>2536.0</td>\n      <td>2731.0</td>\n      <td>[kick_scooter, bicycle, car]</td>\n    </tr>\n    <tr>\n      <th>1</th>\n      <td>Optimal</td>\n      <td>731.034139</td>\n      <td>731.034139</td>\n      <td>5972.0</td>\n      <td>4138.0</td>\n      <td>10110.0</td>\n      <td>2536.0</td>\n      <td>2577.0</td>\n      <td>[kick_scooter, bicycle, car]</td>\n    </tr>\n  </tbody>\n</table>\n</div>"
     },
     "metadata": {},
     "execution_count": 27
    }
   ],
   "source": [
    "results = pd.DataFrame.from_dict(results)\n",
    "results"
   ]
  },
  {
   "cell_type": "code",
   "execution_count": 28,
   "metadata": {},
   "outputs": [],
   "source": [
    "results_df.to_pickle(PATH_RESULTS_VALUE_STOCHASTIC)"
   ]
  },
  {
   "cell_type": "code",
   "execution_count": null,
   "metadata": {},
   "outputs": [],
   "source": []
  }
 ],
 "metadata": {
  "interpreter": {
   "hash": "921dce5431bc8dd5032dbf768a24c906ac17844f87e0f443ecd3f0f6d3f457c9"
  },
  "kernelspec": {
   "name": "python3810jvsc74a57bd0921dce5431bc8dd5032dbf768a24c906ac17844f87e0f443ecd3f0f6d3f457c9",
   "display_name": "Python 3.8.10 64-bit ('VR': conda)"
  },
  "metadata": {
   "interpreter": {
    "hash": "98dda969eced25373352d8358f4a74bbe75f82753a7539c7817bd98c04161209"
   }
  },
  "orig_nbformat": 2
 },
 "nbformat": 4,
 "nbformat_minor": 2
}