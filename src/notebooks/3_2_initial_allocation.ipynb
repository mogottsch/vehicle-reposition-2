{
 "metadata": {
  "language_info": {
   "codemirror_mode": {
    "name": "ipython",
    "version": 3
   },
   "file_extension": ".py",
   "mimetype": "text/x-python",
   "name": "python",
   "nbconvert_exporter": "python",
   "pygments_lexer": "ipython3",
   "version": "3.8.10"
  },
  "orig_nbformat": 2,
  "kernelspec": {
   "name": "python3810jvsc74a57bd025886e588e0e772d5020ef608c7c6771df2a6548b672803ef3df6d3c3433cc78",
   "display_name": "Python 3.8.10 64-bit ('base': conda)"
  }
 },
 "nbformat": 4,
 "nbformat_minor": 2,
 "cells": [
  {
   "cell_type": "code",
   "execution_count": 1,
   "metadata": {},
   "outputs": [],
   "source": [
    "# As we use our own external modules, we need the folder src to be in the PYTHONPATH env variable.\n",
    "# However we do not expect the reader to add that folder to the env variable,\n",
    "# therefore we manually load it temporarily in each notebook.\n",
    "import os\n",
    "module_path = os.path.abspath(os.path.join('..'))\n",
    "if module_path not in sys.path:\n",
    "    sys.path.append(module_path)"
   ]
  },
  {
   "cell_type": "code",
   "execution_count": 2,
   "metadata": {},
   "outputs": [],
   "source": [
    "import pandas as pd\n",
    "from utils.config import FLEET_CAPACITY, PATH_SCENARIOS_REDUCED, PATH_INITIAL_ALLOCATION"
   ]
  },
  {
   "cell_type": "code",
   "execution_count": 3,
   "metadata": {},
   "outputs": [],
   "source": [
    "scenarios = pd.read_pickle(PATH_SCENARIOS_REDUCED)"
   ]
  },
  {
   "cell_type": "code",
   "execution_count": 4,
   "metadata": {},
   "outputs": [],
   "source": [
    "hex_ids = {*scenarios.index.get_level_values('start_hex_ids').unique()}\n",
    "hex_ids = list(hex_ids.union({*scenarios.index.get_level_values('end_hex_ids').unique()}))"
   ]
  },
  {
   "cell_type": "code",
   "execution_count": 5,
   "metadata": {},
   "outputs": [
    {
     "output_type": "stream",
     "name": "stdout",
     "text": [
      "17\n11.764705882352942\n13\n"
     ]
    }
   ],
   "source": [
    "print(len(hex_ids))\n",
    "print(FLEET_CAPACITY['kick_scooter'] / len(hex_ids))\n",
    "print(FLEET_CAPACITY['kick_scooter'] % len(hex_ids))"
   ]
  },
  {
   "cell_type": "code",
   "execution_count": 6,
   "metadata": {},
   "outputs": [],
   "source": [
    "initial_allocation = pd.DataFrame(index=pd.Index(hex_ids,name='hex_ids'))\n"
   ]
  },
  {
   "cell_type": "code",
   "execution_count": 7,
   "metadata": {},
   "outputs": [],
   "source": [
    "for vehicle_type in list(scenarios.index.get_level_values('vehicle_types').unique()):\n",
    "    allocation_per_hex = int(FLEET_CAPACITY[vehicle_type] / len(hex_ids))\n",
    "    rest = FLEET_CAPACITY[vehicle_type] % len(hex_ids)\n",
    "\n",
    "    initial_allocation[vehicle_type] = [allocation_per_hex] * len(hex_ids)\n",
    "\n",
    "    increment_rest_selector = (initial_allocation.index[:rest], vehicle_type)\n",
    "\n",
    "    initial_allocation.loc[increment_rest_selector] = initial_allocation.loc[increment_rest_selector] + 1"
   ]
  },
  {
   "cell_type": "code",
   "execution_count": 8,
   "metadata": {},
   "outputs": [],
   "source": [
    "os.makedirs(os.path.dirname(PATH_INITIAL_ALLOCATION), exist_ok=True)\n",
    "initial_allocation.to_pickle(PATH_INITIAL_ALLOCATION)"
   ]
  }
 ]
}