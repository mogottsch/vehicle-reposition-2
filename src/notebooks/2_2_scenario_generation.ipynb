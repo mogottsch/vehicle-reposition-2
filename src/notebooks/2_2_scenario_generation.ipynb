{
 "cells": [
  {
   "cell_type": "code",
   "execution_count": 1,
   "metadata": {},
   "outputs": [],
   "source": [
    "# As we use our own external modules, we need the folder src to be in the PYTHONPATH env variable.\n",
    "# However we do not expect the reader to add that folder to the env variable,\n",
    "# therefore we manually load it temporarily in each notebook.\n",
    "import os, sys\n",
    "module_path = os.path.abspath(os.path.join('..'))\n",
    "if module_path not in sys.path:\n",
    "    sys.path.append(module_path)"
   ]
  },
  {
   "cell_type": "code",
   "execution_count": 2,
   "metadata": {},
   "outputs": [],
   "source": [
    "from scipy.stats import poisson\n",
    "import numpy as np\n",
    "import pandas as pd\n",
    "from timeit import default_timer as timer\n",
    "from modules.config import (\n",
    "    PATH_TRIPS_GROUPED,\n",
    "    PERIOD_DURATION,\n",
    "    N_SCENARIOS,\n",
    "    N_REALIZATIONS,\n",
    "    PATH_SCENARIOS,\n",
    "    MODE_IS_WEEKEND,\n",
    ")\n"
   ]
  },
  {
   "cell_type": "code",
   "execution_count": 3,
   "metadata": {},
   "outputs": [],
   "source": [
    "trips = pd.read_pickle(PATH_TRIPS_GROUPED)"
   ]
  },
  {
   "cell_type": "code",
   "execution_count": 4,
   "metadata": {},
   "outputs": [],
   "source": [
    "trips = trips.rename_axis(['start_hex_id', 'end_hex_id', 'daytime']).reset_index()"
   ]
  },
  {
   "cell_type": "code",
   "execution_count": 5,
   "metadata": {},
   "outputs": [],
   "source": [
    "trips['is_weekend'] = trips['daytime'].dt.dayofweek > 4\n",
    "trips['time'] = trips['daytime'].dt.time"
   ]
  },
  {
   "cell_type": "markdown",
   "metadata": {},
   "source": [
    "We use the maximum likelihood estimate of the poisson distribution, which is the mean.  \n",
    "So for a n samples $ k_i \\in \\mathbb{N} $ for $ i =1,..,n $, we get the maximum likelihood estimate with:  \n",
    "$ \\lambda_{MLE} = \\frac{1}{n}\\sum_{i=1}^{n}k_i$\n"
   ]
  },
  {
   "cell_type": "code",
   "execution_count": 6,
   "metadata": {},
   "outputs": [],
   "source": [
    "mu = trips.drop('daytime', axis=1) \\\n",
    "          .groupby(['is_weekend', 'time', 'start_hex_id', 'end_hex_id']) \\\n",
    "          .mean()"
   ]
  },
  {
   "cell_type": "code",
   "execution_count": 7,
   "metadata": {},
   "outputs": [],
   "source": [
    "# start_hex_ids = trips['start_hex_id'].unique()\n",
    "# end_hex_ids = trips['end_hex_id'].unique()\n",
    "# time = trips['time'].unique()\n",
    "# vehicle_types = mu.columns\n",
    "# scenarios = [i for i in range(N_SCENARIOS)]\n",
    "# index = pd.MultiIndex.from_product([start_hex_ids, end_hex_ids, time, vehicle_types, scenarios], \n",
    "#                      names=['start_hex_ids', 'end_hex_ids', 'time', 'vehicle_types', 'scenarios'])"
   ]
  },
  {
   "cell_type": "code",
   "execution_count": 8,
   "metadata": {},
   "outputs": [],
   "source": [
    "# scenarios = pd.DataFrame(index=index)"
   ]
  },
  {
   "cell_type": "code",
   "execution_count": 9,
   "metadata": {},
   "outputs": [],
   "source": [
    "# # add column & ensure correct dtype\n",
    "# scenarios['demand'] = 0\n",
    "# scenarios = scenarios.sort_index()"
   ]
  },
  {
   "cell_type": "markdown",
   "metadata": {},
   "source": [
    "Let $r$ be the number of realizations of each random variable, $d$ the duration of each period, $n$ the number of scenarios and $t$ a specific time interval.  \n",
    "So for example:  \n",
    "$r = 2, d=4, n=32, t \\in \\{0, 4, 8, 12, 16, 20\\}$  \n",
    "Then we can calculate the number of differing scenarios for a specific time interval with:  \n",
    "$r^{\\frac{t}{d}}$  \n",
    "Also we can calculate the number of scenarios in each group with:  \n",
    "$\\frac{n}{r^{\\frac{h}{d}}}$"
   ]
  },
  {
   "cell_type": "code",
   "execution_count": 10,
   "metadata": {},
   "outputs": [
    {
     "data": {
      "text/plain": "array([datetime.time(0, 0), datetime.time(12, 0)], dtype=object)"
     },
     "execution_count": 10,
     "metadata": {},
     "output_type": "execute_result"
    }
   ],
   "source": [
    "trips['time'].unique()"
   ]
  },
  {
   "cell_type": "code",
   "execution_count": 11,
   "metadata": {},
   "outputs": [
    {
     "data": {
      "text/plain": "{0: {'n_batches': 1, 'batch_size': 2048},\n 12: {'n_batches': 2048, 'batch_size': 1}}"
     },
     "execution_count": 11,
     "metadata": {},
     "output_type": "execute_result"
    }
   ],
   "source": [
    "hours_list = list(map(lambda time: time.hour,trips['time'].unique()))\n",
    "# TODO rename these variables!\n",
    "batch_map = {\n",
    "    hour: {\n",
    "        'n_batches': N_REALIZATIONS**(int(hour / PERIOD_DURATION)),\n",
    "        'batch_size': int(N_SCENARIOS / N_REALIZATIONS**(hour/PERIOD_DURATION)),\n",
    "    }\n",
    "    for hour in hours_list\n",
    "}\n",
    "batch_map"
   ]
  },
  {
   "cell_type": "code",
   "execution_count": 12,
   "metadata": {},
   "outputs": [
    {
     "name": "stdout",
     "output_type": "stream",
     "text": [
      "Succesfully generated scenarios in 7.85 seconds\n"
     ]
    }
   ],
   "source": [
    "start = timer()\n",
    "scenario_dict = {}\n",
    "for [[time, start_hex_id, end_hex_id], [mu_kick_scooter, mu_car, mu_bicycle]] in mu.loc[\n",
    "    MODE_IS_WEEKEND\n",
    "].iterrows():\n",
    "    n_batches, batch_size = batch_map[time.hour].values()\n",
    "\n",
    "    kick_scooter_scenarios = np.repeat(\n",
    "        poisson.rvs(mu_kick_scooter, size=n_batches, random_state=42), batch_size\n",
    "    )\n",
    "    car_scenarios = np.repeat(\n",
    "        poisson.rvs(mu_car, size=n_batches, random_state=42), batch_size\n",
    "    )\n",
    "    bicycle_scenarios = np.repeat(\n",
    "        poisson.rvs(mu_bicycle, size=n_batches, random_state=42), batch_size\n",
    "    )\n",
    "    \n",
    "    scenario_dict[\n",
    "        (start_hex_id, end_hex_id, time, \"kick_scooter\")\n",
    "    ] = kick_scooter_scenarios\n",
    "    scenario_dict[(start_hex_id, end_hex_id, time, \"bicycle\")] = bicycle_scenarios\n",
    "    scenario_dict[(start_hex_id, end_hex_id, time, \"car\")] = car_scenarios\n",
    "\n",
    "end = timer()\n",
    "print(f\"Succesfully generated scenarios in {(end - start):.2f} seconds\")\n"
   ]
  },
  {
   "cell_type": "code",
   "execution_count": 13,
   "metadata": {},
   "outputs": [],
   "source": [
    "scenarios = pd.DataFrame.from_dict(scenario_dict, orient=\"index\")\n",
    "del scenario_dict"
   ]
  },
  {
   "cell_type": "code",
   "execution_count": 14,
   "metadata": {},
   "outputs": [],
   "source": [
    "scenarios.index = pd.MultiIndex.from_tuples(scenarios.index)\n",
    "scenarios = scenarios.stack().to_frame()"
   ]
  },
  {
   "cell_type": "code",
   "execution_count": 15,
   "metadata": {},
   "outputs": [],
   "source": [
    "scenarios.index = scenarios.index.rename(['start_hex_ids', 'end_hex_ids', 'time', 'vehicle_types', 'scenarios'])\n",
    "scenarios = scenarios.rename(columns={0: 'demand'})"
   ]
  },
  {
   "cell_type": "code",
   "execution_count": 16,
   "metadata": {},
   "outputs": [],
   "source": [
    "os.makedirs(os.path.dirname(PATH_SCENARIOS), exist_ok=True)\n",
    "scenarios.to_pickle(PATH_SCENARIOS)"
   ]
  },
  {
   "cell_type": "code",
   "execution_count": 17,
   "metadata": {},
   "outputs": [
    {
     "data": {
      "text/plain": "2048"
     },
     "execution_count": 17,
     "metadata": {},
     "output_type": "execute_result"
    }
   ],
   "source": [
    "scenarios.index.get_level_values('scenarios').nunique()"
   ]
  },
  {
   "cell_type": "code",
   "execution_count": 18,
   "metadata": {},
   "outputs": [
    {
     "data": {
      "text/plain": "0"
     },
     "execution_count": 18,
     "metadata": {},
     "output_type": "execute_result"
    }
   ],
   "source": [
    "scenarios.head(3)\n",
    "# free the memory\n",
    "%reset -f\n",
    "import gc\n",
    "gc.collect()\n",
    "# this still does not free all memory for some reason\n",
    "# we recommend to close the notebook after execution or restart the kernel manually"
   ]
  },
  {
   "cell_type": "code",
   "execution_count": null,
   "metadata": {},
   "outputs": [],
   "source": []
  }
 ],
 "metadata": {
  "interpreter": {
   "hash": "921dce5431bc8dd5032dbf768a24c906ac17844f87e0f443ecd3f0f6d3f457c9"
  },
  "kernelspec": {
   "display_name": "Python 3.8.10 64-bit ('VR': conda)",
   "name": "python3"
  },
  "language_info": {
   "name": "python",
   "version": ""
  },
  "orig_nbformat": 2
 },
 "nbformat": 4,
 "nbformat_minor": 2
}