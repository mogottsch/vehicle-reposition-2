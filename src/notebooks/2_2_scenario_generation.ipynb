{
 "metadata": {
  "language_info": {
   "codemirror_mode": {
    "name": "ipython",
    "version": 3
   },
   "file_extension": ".py",
   "mimetype": "text/x-python",
   "name": "python",
   "nbconvert_exporter": "python",
   "pygments_lexer": "ipython3",
   "version": "3.8.10"
  },
  "orig_nbformat": 2,
  "kernelspec": {
   "name": "python3810jvsc74a57bd047e43163c8201053f996d52165fb1607c5182b45e03cfb1a5974a70c452d975c",
   "display_name": "Python 3.8.10 64-bit ('VR_SCI': conda)"
  }
 },
 "nbformat": 4,
 "nbformat_minor": 2,
 "cells": [
  {
   "cell_type": "code",
   "execution_count": 1,
   "metadata": {},
   "outputs": [],
   "source": [
    "# As we use our own external modules, we need the folder src to be in the PYTHONPATH env variable.\n",
    "# However we do not expect the reader to add that folder to the env variable,\n",
    "# therefore we manually load it temporarily in each notebook.\n",
    "import os\n",
    "module_path = os.path.abspath(os.path.join('..'))\n",
    "if module_path not in sys.path:\n",
    "    sys.path.append(module_path)"
   ]
  },
  {
   "cell_type": "code",
   "execution_count": 2,
   "metadata": {},
   "outputs": [],
   "source": [
    "from scipy.stats import poisson\n",
    "import matplotlib.pyplot as plt\n",
    "import numpy as np\n",
    "import pandas as pd\n",
    "import datetime\n",
    "from timeit import default_timer as timer\n",
    "from utils.config import PATH_TRIPS_GROUPED, PERIOD_DURATION, N_SCENARIOS, N_REALIZATIONS, PATH_SCENARIOS"
   ]
  },
  {
   "cell_type": "code",
   "execution_count": 3,
   "metadata": {},
   "outputs": [],
   "source": [
    "trips = pd.read_pickle(PATH_TRIPS_GROUPED)"
   ]
  },
  {
   "cell_type": "code",
   "execution_count": 4,
   "metadata": {},
   "outputs": [],
   "source": [
    "trips = trips.rename_axis(['start_hex_id', 'end_hex_id', 'daytime']).reset_index()"
   ]
  },
  {
   "cell_type": "code",
   "execution_count": 5,
   "metadata": {},
   "outputs": [],
   "source": [
    "trips['is_weekend'] = trips['daytime'].dt.dayofweek > 4\n",
    "trips['time'] = trips['daytime'].dt.time"
   ]
  },
  {
   "source": [
    "We use the maximum likelihood estimate of the poisson distribution, which is the mean.  \n",
    "So for a n samples $ k_i \\in \\mathbb{N} $ for $ i =1,..,n $, we get the maximum likelihood estimate with:  \n",
    "$ \\lambda_{MLE} = \\frac{1}{n}\\sum_{i=1}^{n}k_i$\n"
   ],
   "cell_type": "markdown",
   "metadata": {}
  },
  {
   "cell_type": "code",
   "execution_count": 6,
   "metadata": {},
   "outputs": [],
   "source": [
    "mu = trips.drop('daytime', axis=1) \\\n",
    "          .groupby(['is_weekend', 'time', 'start_hex_id', 'end_hex_id']) \\\n",
    "          .mean()"
   ]
  },
  {
   "cell_type": "code",
   "execution_count": 7,
   "metadata": {},
   "outputs": [],
   "source": [
    "start_hex_ids = trips['start_hex_id'].unique()\n",
    "end_hex_ids = trips['end_hex_id'].unique()\n",
    "time = trips['time'].unique()\n",
    "vehicle_types = mu.columns\n",
    "scenarios = [i for i in range(N_SCENARIOS)]\n",
    "index = pd.MultiIndex.from_product([start_hex_ids, end_hex_ids, time, vehicle_types, scenarios], \n",
    "                     names=['start_hex_ids', 'end_hex_ids', 'time', 'vehicle_types', 'scenarios'])"
   ]
  },
  {
   "cell_type": "code",
   "execution_count": 8,
   "metadata": {},
   "outputs": [],
   "source": [
    "scenarios = pd.DataFrame(index=index)"
   ]
  },
  {
   "cell_type": "code",
   "execution_count": 9,
   "metadata": {},
   "outputs": [],
   "source": [
    "# add column & ensure correct dtype\n",
    "scenarios['demand'] = 0\n",
    "scenarios = scenarios.sort_index()"
   ]
  },
  {
   "source": [
    "Let $r$ be the number of realizations of each random variable, $d$ the duration of each period, $n$ the number of scenarios and $t$ a specific time interval.  \n",
    "So for example:  \n",
    "$r = 2, d=4, n=32, t \\in \\{0, 4, 8, 12, 16, 20\\}$  \n",
    "Then we can calculate the number of differing scenarios for a specific time interval with:  \n",
    "$r^{\\frac{t}{d}}$  \n",
    "Also we can calculate the number of scenarios in each group with:  \n",
    "$\\frac{n}{r^{\\frac{h}{d}}}$"
   ],
   "cell_type": "markdown",
   "metadata": {}
  },
  {
   "cell_type": "code",
   "execution_count": 10,
   "metadata": {},
   "outputs": [
    {
     "output_type": "execute_result",
     "data": {
      "text/plain": [
       "{0: {'n_batches': 1, 'batch_size': 1024},\n",
       " 4: {'n_batches': 4, 'batch_size': 256},\n",
       " 8: {'n_batches': 16, 'batch_size': 64},\n",
       " 12: {'n_batches': 64, 'batch_size': 16},\n",
       " 16: {'n_batches': 256, 'batch_size': 4},\n",
       " 20: {'n_batches': 1024, 'batch_size': 1}}"
      ]
     },
     "metadata": {},
     "execution_count": 10
    }
   ],
   "source": [
    "hours_list = list(scenarios.index.get_level_values(2).unique().map(lambda time: time.hour))\n",
    "# TODO rename these variables!\n",
    "batch_map = {\n",
    "    hour: {\n",
    "        'n_batches': N_REALIZATIONS**(int(hour / PERIOD_DURATION)),\n",
    "        'batch_size': int(N_SCENARIOS / N_REALIZATIONS**(hour/PERIOD_DURATION)),\n",
    "    }\n",
    "    for hour in hours_list\n",
    "}\n",
    "batch_map"
   ]
  },
  {
   "cell_type": "code",
   "execution_count": 11,
   "metadata": {},
   "outputs": [
    {
     "output_type": "stream",
     "name": "stdout",
     "text": [
      "Succesfully generated scenarios in 114.73 seconds\n"
     ]
    }
   ],
   "source": [
    "start = timer()\n",
    "\n",
    "for [[time, start_hex_id, end_hex_id], [mu_kick_scooter, mu_car, mu_bicycle]] in mu.loc[False].iterrows():\n",
    "    n_batches, batch_size = batch_map[time.hour].values()\n",
    "    \n",
    "    # performance of list may be bad\n",
    "    kick_scooter_scenarios = list(np.repeat(\n",
    "        poisson.rvs(mu_kick_scooter, size=n_batches, random_state=42),\n",
    "        batch_size))\n",
    "    car_scenarios = list(np.repeat(\n",
    "        poisson.rvs(mu_car, size=n_batches, random_state=42),\n",
    "        batch_size))\n",
    "    bicycle_scenarios = list(np.repeat(\n",
    "        poisson.rvs(mu_bicycle, size=n_batches, random_state=42),\n",
    "        batch_size))\n",
    "    \n",
    "    scenarios.loc[(start_hex_id, end_hex_id, time, 'kick_scooter')]['demand'] = kick_scooter_scenarios \n",
    "    scenarios.loc[(start_hex_id, end_hex_id, time, 'car')]['demand'] = car_scenarios\n",
    "    scenarios.loc[(start_hex_id, end_hex_id, time, 'bicycle')]['demand'] = bicycle_scenarios\n",
    "\n",
    "end = timer()\n",
    "print(f\"Succesfully generated scenarios in {(end - start):.2f} seconds\")"
   ]
  },
  {
   "cell_type": "code",
   "execution_count": 12,
   "metadata": {},
   "outputs": [],
   "source": [
    "os.makedirs(os.path.dirname(PATH_SCENARIOS), exist_ok=True)\n",
    "scenarios.to_pickle(PATH_SCENARIOS)"
   ]
  },
  {
   "cell_type": "code",
   "execution_count": null,
   "metadata": {},
   "outputs": [],
   "source": []
  }
 ]
}