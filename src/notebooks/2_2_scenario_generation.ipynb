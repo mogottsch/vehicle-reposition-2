{
 "cells": [
  {
   "cell_type": "code",
   "execution_count": 1,
   "metadata": {},
   "outputs": [],
   "source": [
    "# As we use our own external modules, we need the folder src to be in the PYTHONPATH env variable.\n",
    "# However we do not expect the reader to add that folder to the env variable,\n",
    "# therefore we manually load it temporarily in each notebook.\n",
    "import os, sys\n",
    "module_path = os.path.abspath(os.path.join('..'))\n",
    "if module_path not in sys.path:\n",
    "    sys.path.append(module_path)"
   ]
  },
  {
   "cell_type": "code",
   "execution_count": 2,
   "metadata": {},
   "outputs": [],
   "source": [
    "from scipy.stats import poisson\n",
    "import numpy as np\n",
    "import pandas as pd\n",
    "from timeit import default_timer as timer\n",
    "from modules.config import (\n",
    "    PATH_TRIPS_GROUPED,\n",
    "    PERIOD_DURATION,\n",
    "    N_SCENARIOS,\n",
    "    N_REALIZATIONS,\n",
    "    PATH_SCENARIOS,\n",
    "    MODE_IS_WEEKEND,\n",
    ")\n",
    "from modules.helpers import format_bytes\n"
   ]
  },
  {
   "cell_type": "markdown",
   "metadata": {},
   "source": [
    "# Scenario Generation\n",
    "In this notebook we will use the previously aggregated trip data to generate an arbitrary amound of scenarios while also ensuring the scenario tree structure of the generated scenarios.  \n",
    "\n",
    "#### A scenario tree where each node has two branches\n",
    "![Scenario Tree](../resources/tree.png)  \n",
    "Each branch in a scenario tree corresponds to a possible realiziation of a random variable.  \n",
    "In our case, the number of realization is configurable in the `config.py`.\n",
    "<hr>"
   ]
  },
  {
   "cell_type": "markdown",
   "metadata": {},
   "source": [
    "We start by reading the grouped trip data from the pickle file.  \n",
    "We also add the `is_weekend` column. As we will only use scenario data from either weekends or weekdays.  \n",
    "This weekend decision is configurable in the `config.py`."
   ]
  },
  {
   "cell_type": "code",
   "execution_count": 3,
   "metadata": {},
   "outputs": [],
   "source": [
    "trips = pd.read_pickle(PATH_TRIPS_GROUPED)"
   ]
  },
  {
   "cell_type": "code",
   "execution_count": 4,
   "metadata": {},
   "outputs": [],
   "source": [
    "trips = trips.rename_axis(['start_hex_id', 'end_hex_id', 'daytime']).reset_index()"
   ]
  },
  {
   "cell_type": "code",
   "execution_count": 5,
   "metadata": {},
   "outputs": [],
   "source": [
    "trips['is_weekend'] = trips['daytime'].dt.dayofweek > 4\n",
    "trips['time'] = trips['daytime'].dt.time"
   ]
  },
  {
   "cell_type": "markdown",
   "metadata": {},
   "source": [
    "To generate scenarios we will use the poisson distribution.    \n",
    "As the estimator we use the maximum likelihood estimate of the poisson distribution, which is the mean.  \n",
    "So for a n samples $ k_i \\in \\mathbb{N} $ for $ i =1,..,n $, we get the maximum likelihood estimate with:  \n",
    "$ \\lambda_{MLE} = \\frac{1}{n}\\sum_{i=1}^{n}k_i$\n"
   ]
  },
  {
   "cell_type": "code",
   "execution_count": 6,
   "metadata": {},
   "outputs": [],
   "source": [
    "mu = trips.drop('daytime', axis=1) \\\n",
    "          .groupby(['is_weekend', 'time', 'start_hex_id', 'end_hex_id']) \\\n",
    "          .mean()"
   ]
  },
  {
   "cell_type": "markdown",
   "metadata": {},
   "source": [
    "To ensure the tree structure we have to generate increaslingly more demand values for subsequent time periods. e.g. if the number of realiziations is equal to 2, we would generate only 1 demand value for the first period, 2 for the second period, 4 for the third, 8 for the fourth and so on...  \n",
    "If there were only demand value per time period and we would have 3 time period with 2 realizations each, then the demand values (in scenario tree structure) could be represented by the following matrix.\n",
    "$$ \\begin{pmatrix}\n",
    "2 & 3 & 2\\\\\n",
    "2 & 3 & 3\\\\\n",
    "2 & 4 & 1\\\\\n",
    "2 & 4 & 2\n",
    "\\end{pmatrix}\n",
    "$$\n",
    "  \n",
    "Let $r$ be the number of realizations of each random variable, $d$ the duration of each period, $n$ the number of scenarios and $t$ a specific time interval.  \n",
    "So for example:  \n",
    "$r = 2, d=4, n=32, t \\in \\{0, 4, 8, 12, 16, 20\\}$  \n",
    "Then we can calculate the number of differing scenarios (scenario groups) for a specific time interval with:  \n",
    "$\\Large r^{\\frac{t}{d}}$  \n",
    "Also we can calculate the number of scenarios in each group with:  \n",
    "$\\Large\\frac{n}{r^{\\frac{h}{d}}}$"
   ]
  },
  {
   "cell_type": "code",
   "execution_count": 7,
   "metadata": {},
   "outputs": [
    {
     "output_type": "execute_result",
     "data": {
      "text/plain": [
       "array([datetime.time(0, 0), datetime.time(12, 0)], dtype=object)"
      ]
     },
     "metadata": {},
     "execution_count": 7
    }
   ],
   "source": [
    "trips['time'].unique()"
   ]
  },
  {
   "cell_type": "code",
   "execution_count": 8,
   "metadata": {},
   "outputs": [
    {
     "output_type": "execute_result",
     "data": {
      "text/plain": [
       "{0: {'n_batches': 1, 'batch_size': 128},\n",
       " 12: {'n_batches': 128, 'batch_size': 1}}"
      ]
     },
     "metadata": {},
     "execution_count": 8
    }
   ],
   "source": [
    "hours_list = list(map(lambda time: time.hour,trips['time'].unique()))\n",
    "# TODO rename these variables!\n",
    "batch_map = {\n",
    "    hour: {\n",
    "        'n_batches': N_REALIZATIONS**(int(hour / PERIOD_DURATION)),\n",
    "        'batch_size': int(N_SCENARIOS / N_REALIZATIONS**(hour/PERIOD_DURATION)),\n",
    "    }\n",
    "    for hour in hours_list\n",
    "}\n",
    "batch_map"
   ]
  },
  {
   "cell_type": "code",
   "execution_count": 9,
   "metadata": {},
   "outputs": [
    {
     "output_type": "stream",
     "name": "stdout",
     "text": [
      "Succesfully generated 128 scenarios in 1.05 seconds\n"
     ]
    }
   ],
   "source": [
    "start = timer()\n",
    "scenario_dict = {}\n",
    "for [[time, start_hex_id, end_hex_id], [mu_kick_scooter, mu_car, mu_bicycle]] in mu.loc[\n",
    "    MODE_IS_WEEKEND\n",
    "].iterrows():\n",
    "    n_batches, batch_size = batch_map[time.hour].values()\n",
    "\n",
    "    kick_scooter_scenarios = np.repeat(\n",
    "        poisson.rvs(mu_kick_scooter, size=n_batches, random_state=42), batch_size\n",
    "    )\n",
    "    car_scenarios = np.repeat(\n",
    "        poisson.rvs(mu_car, size=n_batches, random_state=42), batch_size\n",
    "    )\n",
    "    bicycle_scenarios = np.repeat(\n",
    "        poisson.rvs(mu_bicycle, size=n_batches, random_state=42), batch_size\n",
    "    )\n",
    "    \n",
    "    scenario_dict[\n",
    "        (start_hex_id, end_hex_id, time, \"kick_scooter\")\n",
    "    ] = kick_scooter_scenarios\n",
    "    scenario_dict[(start_hex_id, end_hex_id, time, \"bicycle\")] = bicycle_scenarios\n",
    "    scenario_dict[(start_hex_id, end_hex_id, time, \"car\")] = car_scenarios\n",
    "\n",
    "end = timer()\n",
    "print(f\"Succesfully generated {N_SCENARIOS} scenarios in {(end - start):.2f} seconds\")\n"
   ]
  },
  {
   "cell_type": "markdown",
   "metadata": {},
   "source": [
    "The `scenarios` dataframe now consists of the configured number of scenarios."
   ]
  },
  {
   "cell_type": "code",
   "execution_count": 10,
   "metadata": {},
   "outputs": [],
   "source": [
    "scenarios = pd.DataFrame.from_dict(scenario_dict, orient=\"index\")\n",
    "del scenario_dict"
   ]
  },
  {
   "cell_type": "code",
   "execution_count": 11,
   "metadata": {},
   "outputs": [],
   "source": [
    "scenarios.index = pd.MultiIndex.from_tuples(scenarios.index)\n",
    "scenarios = scenarios.stack().to_frame()"
   ]
  },
  {
   "cell_type": "code",
   "execution_count": 12,
   "metadata": {},
   "outputs": [],
   "source": [
    "scenarios.index = scenarios.index.rename(['start_hex_ids', 'end_hex_ids', 'time', 'vehicle_types', 'scenarios'])\n",
    "scenarios = scenarios.rename(columns={0: 'demand'})"
   ]
  },
  {
   "cell_type": "markdown",
   "metadata": {},
   "source": [
    "After transforming the scenarios back to our previous data format we can now save the scenario data as a pickle file.  \n",
    "We could use this data as a direct input for our model, however with a large number of scenarios the Linear Program that is underlying our model can take very long to solve.  \n",
    "Therefore we will reduce the generated scenarios, so that we have a smaller subset that still represents the original dataset."
   ]
  },
  {
   "cell_type": "code",
   "execution_count": 13,
   "metadata": {},
   "outputs": [
    {
     "output_type": "stream",
     "name": "stdout",
     "text": [
      "scenario filesize: 8.03 megabytes\n"
     ]
    }
   ],
   "source": [
    "os.makedirs(os.path.dirname(PATH_SCENARIOS), exist_ok=True)\n",
    "scenarios.to_pickle(PATH_SCENARIOS)\n",
    "\n",
    "print(f\"scenario filesize: {format_bytes(os.path.getsize(PATH_SCENARIOS))}\")"
   ]
  },
  {
   "cell_type": "code",
   "execution_count": 14,
   "metadata": {},
   "outputs": [
    {
     "output_type": "execute_result",
     "data": {
      "text/plain": [
       "start_hex_ids     27\n",
       "end_hex_ids       29\n",
       "time               2\n",
       "vehicle_types      3\n",
       "scenarios        128\n",
       "demand           345\n",
       "dtype: int64"
      ]
     },
     "metadata": {},
     "execution_count": 14
    }
   ],
   "source": [
    "scenarios.reset_index().nunique()"
   ]
  },
  {
   "cell_type": "code",
   "execution_count": 15,
   "metadata": {},
   "outputs": [
    {
     "output_type": "execute_result",
     "data": {
      "text/plain": [
       "0"
      ]
     },
     "metadata": {},
     "execution_count": 15
    }
   ],
   "source": [
    "scenarios.head(3)\n",
    "# free the memory\n",
    "%reset -f\n",
    "import gc\n",
    "gc.collect()\n",
    "# this still does not free all memory for some reason\n",
    "# we recommend to close the notebook after execution or restart the kernel manually"
   ]
  }
 ],
 "metadata": {
  "interpreter": {
   "hash": "921dce5431bc8dd5032dbf768a24c906ac17844f87e0f443ecd3f0f6d3f457c9"
  },
  "kernelspec": {
   "name": "python3810jvsc74a57bd0921dce5431bc8dd5032dbf768a24c906ac17844f87e0f443ecd3f0f6d3f457c9",
   "display_name": "Python 3.8.10 64-bit ('VR': conda)"
  },
  "language_info": {
   "codemirror_mode": {
    "name": "ipython",
    "version": 3
   },
   "file_extension": ".py",
   "mimetype": "text/x-python",
   "name": "python",
   "nbconvert_exporter": "python",
   "pygments_lexer": "ipython3",
   "version": "3.8.10"
  },
  "orig_nbformat": 2
 },
 "nbformat": 4,
 "nbformat_minor": 2
}