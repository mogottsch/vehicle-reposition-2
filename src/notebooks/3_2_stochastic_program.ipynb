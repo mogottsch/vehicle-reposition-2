{
 "metadata": {
  "language_info": {
   "codemirror_mode": {
    "name": "ipython",
    "version": 3
   },
   "file_extension": ".py",
   "mimetype": "text/x-python",
   "name": "python",
   "nbconvert_exporter": "python",
   "pygments_lexer": "ipython3",
   "version": "3.9.2"
  },
  "orig_nbformat": 2,
  "kernelspec": {
   "name": "python392jvsc74a57bd04c5759a860ff622b94355509a8ad1055ee72da662318eeccfce36ebb9b0965e3",
   "display_name": "Python 3.9.2 64-bit ('VEHICLE_REPOSITION_H3': conda)"
  },
  "metadata": {
   "interpreter": {
    "hash": "98dda969eced25373352d8358f4a74bbe75f82753a7539c7817bd98c04161209"
   }
  }
 },
 "nbformat": 4,
 "nbformat_minor": 2,
 "cells": [
  {
   "cell_type": "code",
   "execution_count": 1,
   "metadata": {},
   "outputs": [],
   "source": [
    "# As we use our own external modules, we need the folder src to be in the PYTHONPATH env variable.\n",
    "# However we do not expect the reader to add that folder to the env variable,\n",
    "# therefore we manually load it temporarily in each notebook.\n",
    "import os\n",
    "module_path = os.path.abspath(os.path.join('..'))\n",
    "if module_path not in sys.path:\n",
    "    sys.path.append(module_path)"
   ]
  },
  {
   "cell_type": "code",
   "execution_count": 2,
   "metadata": {},
   "outputs": [],
   "source": [
    "import pandas as pd\n",
    "from timeit import default_timer as timer\n",
    "import datetime\n",
    "import numpy as np\n",
    "from utils.config import PATH_SCENARIOS_REDUCED, PATH_DISTANCES\n",
    "from collections import defaultdict"
   ]
  },
  {
   "source": [
    "### Prepare scenario data\n",
    "Make scenarios complete cross product"
   ],
   "cell_type": "markdown",
   "metadata": {}
  },
  {
   "cell_type": "code",
   "execution_count": 3,
   "metadata": {},
   "outputs": [],
   "source": [
    "scenarios = pd.read_pickle(PATH_SCENARIOS_REDUCED)"
   ]
  },
  {
   "cell_type": "code",
   "execution_count": 4,
   "metadata": {},
   "outputs": [],
   "source": [
    "hex_ids = {*scenarios.index.get_level_values('start_hex_ids').unique()}\n",
    "hex_ids = list(hex_ids.union({*scenarios.index.get_level_values('end_hex_ids').unique()}))"
   ]
  },
  {
   "cell_type": "code",
   "execution_count": 5,
   "metadata": {},
   "outputs": [],
   "source": [
    "complete_index = pd.MultiIndex.from_product(\n",
    "    [\n",
    "        scenarios.index.get_level_values('scenarios').unique(),\n",
    "        pd.Index(hex_ids, name=\"start_hex_ids\"),\n",
    "        pd.Index(hex_ids, name=\"end_hex_ids\"),\n",
    "        scenarios.index.get_level_values('time').unique(),\n",
    "        scenarios.index.get_level_values('vehicle_types').unique(),\n",
    "    ]\n",
    ")"
   ]
  },
  {
   "cell_type": "code",
   "execution_count": 6,
   "metadata": {},
   "outputs": [],
   "source": [
    "scenarios = scenarios.reindex(complete_index, fill_value=0)"
   ]
  },
  {
   "source": [
    "Find tree structure for non-anticipativity constraints"
   ],
   "cell_type": "markdown",
   "metadata": {}
  },
  {
   "cell_type": "code",
   "execution_count": 7,
   "metadata": {},
   "outputs": [],
   "source": [
    "scenarios_unstacked = scenarios.unstack(level=['start_hex_ids', 'end_hex_ids', 'vehicle_types']) \\\n",
    "             .swaplevel() \\\n",
    "             .sort_index()"
   ]
  },
  {
   "cell_type": "code",
   "execution_count": 8,
   "metadata": {},
   "outputs": [],
   "source": [
    "node_df = pd.DataFrame(index=scenarios_unstacked.index)\n",
    "node_df['node'] = 0\n",
    "node_df['prev_node'] = 0"
   ]
  },
  {
   "source": [
    "times = scenarios_unstacked.index.get_level_values('time').unique()\n",
    "scenario_ids = scenarios_unstacked.index.get_level_values('scenarios').unique()\n",
    "\n",
    "nodes = []\n",
    "nodes_counter = 0\n",
    "groups = [{} for _ in range(len(times))]\n",
    "for i, time in enumerate(times):\n",
    "    prev_groups = groups[i-1] if i != 0 else {-1: list(scenario_ids)}\n",
    "\n",
    "    found_ids = []\n",
    "\n",
    "    values = scenarios_unstacked.loc[(time)].values\n",
    "\n",
    "    for scenario_id in scenario_ids:\n",
    "        if scenario_id in found_ids:\n",
    "            continue\n",
    "        current_group = list((values == values[scenario_id]).all(axis=1).nonzero()[0])\n",
    "        found_ids += current_group\n",
    "        for prev_group_id, prev_group in prev_groups.items():\n",
    "            group = [s_id for s_id in current_group if s_id in prev_group]\n",
    "\n",
    "            if(not group):\n",
    "                continue\n",
    "\n",
    "            groups[i][nodes_counter] = group\n",
    "            for s_id in group:\n",
    "                node_df.loc[(time, s_id), 'node'] = nodes_counter\n",
    "                node_df.loc[(time, s_id), 'prev_node'] = prev_group_id\n",
    "            nodes_counter += 1"
   ],
   "cell_type": "code",
   "metadata": {
    "tags": []
   },
   "execution_count": 9,
   "outputs": []
  },
  {
   "source": [
    "## Get Model Parameters\n"
   ],
   "cell_type": "markdown",
   "metadata": {}
  },
  {
   "cell_type": "code",
   "execution_count": 10,
   "metadata": {},
   "outputs": [],
   "source": [
    "demand = defaultdict(lambda: defaultdict(lambda: defaultdict(lambda: defaultdict(dict))))"
   ]
  },
  {
   "source": [
    "start = timer()\n",
    "\n",
    "for _, row in scenarios.reset_index().iterrows():\n",
    "    demand[row.start_hex_ids][row.end_hex_ids][row.time.hour][row.vehicle_types][row.scenarios] = row.demand\n",
    "\n",
    "end = timer()\n",
    "print(f\"Successfully converted dataframe into dictionary in {(end - start):.2f} seconds\")"
   ],
   "cell_type": "code",
   "metadata": {
    "tags": []
   },
   "execution_count": 11,
   "outputs": [
    {
     "output_type": "stream",
     "name": "stdout",
     "text": [
      "Successfully converted dataframe into dictionary in 20.98 seconds\n"
     ]
    }
   ]
  },
  {
   "cell_type": "code",
   "execution_count": null,
   "metadata": {},
   "outputs": [],
   "source": []
  },
  {
   "cell_type": "code",
   "execution_count": 14,
   "metadata": {},
   "outputs": [],
   "source": [
    "distances = pd.read_pickle(PATH_DISTANCES)"
   ]
  },
  {
   "cell_type": "code",
   "execution_count": 27,
   "metadata": {},
   "outputs": [],
   "source": [
    "cost = defaultdict(lambda: defaultdict(dict))\n",
    "profit = defaultdict(lambda: defaultdict(dict))"
   ]
  },
  {
   "cell_type": "code",
   "execution_count": 33,
   "metadata": {},
   "outputs": [],
   "source": [
    "start = timer()\n",
    "\n",
    "vehicle_types = list(scenarios.reset_index()['vehicle_types'].unique())\n",
    "\n",
    "for _, row in distances.reset_index().iterrows():\n",
    "    for vehicle_type in vehicle_types:\n",
    "        cost[row.start_hex_id][row.end_hex_id][vehicle_type] = row[f\"cost_{vehicle_type}\"]\n",
    "        profit[row.start_hex_id][row.end_hex_id][vehicle_type] = row[f\"profit_{vehicle_type}\"]\n",
    "\n",
    "end = timer()"
   ]
  }
 ]
}