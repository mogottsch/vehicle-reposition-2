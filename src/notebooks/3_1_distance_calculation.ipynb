{
 "cells": [
  {
   "cell_type": "code",
   "execution_count": null,
   "source": [
    "# As we use our own external modules, we need the folder src to be in the PYTHONPATH env variable.\n",
    "# However we do not expect the reader to add that folder to the env variable,\n",
    "# therefore we manually load it temporarily in each notebook.\n",
    "import os, sys\n",
    "module_path = os.path.abspath(os.path.join('..'))\n",
    "if module_path not in sys.path:\n",
    "    sys.path.append(module_path)"
   ],
   "outputs": [],
   "metadata": {}
  },
  {
   "cell_type": "code",
   "execution_count": null,
   "source": [
    "import pandas as pd\n",
    "import h3\n",
    "from modules.config import (\n",
    "    PATH_SCENARIOS_REDUCED,\n",
    "    PATH_DISTANCES,\n",
    "    PATH_SPEEDS,\n",
    "    PATH_HEXAGON_RESOLUTION_MAP,\n",
    "    PERIOD_DURATION,\n",
    "    VEHICLE_PROFIT,\n",
    "    VEHICLE_STACK_RELOCATIONS,\n",
    "    RELOCATION_DRIVER_SALARY,\n",
    "    VEHICLE_PARKING_COSTS,\n",
    ")\n",
    "from modules.helpers import calc_distance_haversine"
   ],
   "outputs": [],
   "metadata": {}
  },
  {
   "cell_type": "markdown",
   "source": [
    "# Distance Profit & Cost Calculation\n",
    "In this notebook our goal is to determine the cost and profits for each region tuple for each vehicle type.  \n",
    "In our paper this is denoted as $c_{ijm}$ and $p_{ijm}$."
   ],
   "metadata": {}
  },
  {
   "cell_type": "markdown",
   "source": [
    "## Distances"
   ],
   "metadata": {}
  },
  {
   "cell_type": "markdown",
   "source": [
    "In order to calculate the profit of a trip and the cost of a relocation between two specific regions, we first have to know the distances between each region tuple.  \n",
    "Note that our model also allows round trips. However it we do not know the exact route of a round trip. We therefore assume that a round trip simply is a trip that starts and ends in the same region without detouring to any other region.  \n",
    "We can then calculate the average distance of such a round trip by the average distance between two random points in a hexagon.  \n",
    "With the help of an experiment, we conducted [here](https://editor.p5js.org/mgottsch/sketches/qQiMOBRD7) we found out that the average distance of two random pointss in a hexagon with side length $l$ can be calculated by $l*0.8259763178117513$."
   ],
   "metadata": {}
  },
  {
   "cell_type": "code",
   "execution_count": null,
   "source": [
    "avg_distance_l1 = 0.8259763178117513"
   ],
   "outputs": [],
   "metadata": {}
  },
  {
   "cell_type": "code",
   "execution_count": null,
   "source": [
    "scenarios = pd.read_pickle(PATH_SCENARIOS_REDUCED)\n",
    "hexagon_resolution_map = pd.read_pickle(PATH_HEXAGON_RESOLUTION_MAP)['resolution'].to_dict()\n",
    "hex_ids = {*scenarios.index.get_level_values('start_hex_ids').unique()}\n",
    "hex_ids = list(hex_ids.union({*scenarios.index.get_level_values('end_hex_ids').unique()}))"
   ],
   "outputs": [],
   "metadata": {}
  },
  {
   "cell_type": "code",
   "execution_count": null,
   "source": [
    "def calc_distance(hexes):\n",
    "    if hexes[0] == hexes[1]:\n",
    "        return avg_distance_l1 * h3.edge_length(hexagon_resolution_map[hexes[0]], unit='km')\n",
    "    return calc_distance_haversine(\n",
    "        h3.h3_to_geo(hexes[0]),\n",
    "        h3.h3_to_geo(hexes[1])\n",
    "        )"
   ],
   "outputs": [],
   "metadata": {}
  },
  {
   "cell_type": "markdown",
   "source": [
    "We now create a dataframe whose entries are region tuples with their corresponding distance."
   ],
   "metadata": {}
  },
  {
   "cell_type": "code",
   "execution_count": null,
   "source": [
    "distances = pd.DataFrame(index=pd.MultiIndex.from_product([hex_ids, hex_ids]))\n",
    "distances.index = distances.index.rename(['start_hex_id', 'end_hex_id'])\n",
    "distances['distance'] = distances.index.map(calc_distance)"
   ],
   "outputs": [],
   "metadata": {}
  },
  {
   "cell_type": "code",
   "execution_count": null,
   "source": [
    "scenarios.reset_index()"
   ],
   "outputs": [
    {
     "output_type": "execute_result",
     "data": {
      "text/plain": [
       "       scenarios    start_hex_ids      end_hex_ids      time vehicle_types  \\\n",
       "0              0  871fa199cffffff  871fa199cffffff  00:00:00       bicycle   \n",
       "1              0  871fa199cffffff  871fa199cffffff  00:00:00           car   \n",
       "2              0  871fa199cffffff  871fa199cffffff  00:00:00  kick_scooter   \n",
       "3              0  871fa199cffffff  871fa199cffffff  08:00:00       bicycle   \n",
       "4              0  871fa199cffffff  871fa199cffffff  08:00:00           car   \n",
       "...          ...              ...              ...       ...           ...   \n",
       "30271          3  861fa18b7ffffff  861fa18b7ffffff  08:00:00           car   \n",
       "30272          3  861fa18b7ffffff  861fa18b7ffffff  08:00:00  kick_scooter   \n",
       "30273          3  861fa18b7ffffff  861fa18b7ffffff  16:00:00       bicycle   \n",
       "30274          3  861fa18b7ffffff  861fa18b7ffffff  16:00:00           car   \n",
       "30275          3  861fa18b7ffffff  861fa18b7ffffff  16:00:00  kick_scooter   \n",
       "\n",
       "       demand  \n",
       "0           5  \n",
       "1           4  \n",
       "2          33  \n",
       "3          16  \n",
       "4           5  \n",
       "...       ...  \n",
       "30271       4  \n",
       "30272      32  \n",
       "30273      13  \n",
       "30274       0  \n",
       "30275      27  \n",
       "\n",
       "[30276 rows x 6 columns]"
      ],
      "text/html": [
       "<div>\n",
       "<style scoped>\n",
       "    .dataframe tbody tr th:only-of-type {\n",
       "        vertical-align: middle;\n",
       "    }\n",
       "\n",
       "    .dataframe tbody tr th {\n",
       "        vertical-align: top;\n",
       "    }\n",
       "\n",
       "    .dataframe thead th {\n",
       "        text-align: right;\n",
       "    }\n",
       "</style>\n",
       "<table border=\"1\" class=\"dataframe\">\n",
       "  <thead>\n",
       "    <tr style=\"text-align: right;\">\n",
       "      <th></th>\n",
       "      <th>scenarios</th>\n",
       "      <th>start_hex_ids</th>\n",
       "      <th>end_hex_ids</th>\n",
       "      <th>time</th>\n",
       "      <th>vehicle_types</th>\n",
       "      <th>demand</th>\n",
       "    </tr>\n",
       "  </thead>\n",
       "  <tbody>\n",
       "    <tr>\n",
       "      <th>0</th>\n",
       "      <td>0</td>\n",
       "      <td>871fa199cffffff</td>\n",
       "      <td>871fa199cffffff</td>\n",
       "      <td>00:00:00</td>\n",
       "      <td>bicycle</td>\n",
       "      <td>5</td>\n",
       "    </tr>\n",
       "    <tr>\n",
       "      <th>1</th>\n",
       "      <td>0</td>\n",
       "      <td>871fa199cffffff</td>\n",
       "      <td>871fa199cffffff</td>\n",
       "      <td>00:00:00</td>\n",
       "      <td>car</td>\n",
       "      <td>4</td>\n",
       "    </tr>\n",
       "    <tr>\n",
       "      <th>2</th>\n",
       "      <td>0</td>\n",
       "      <td>871fa199cffffff</td>\n",
       "      <td>871fa199cffffff</td>\n",
       "      <td>00:00:00</td>\n",
       "      <td>kick_scooter</td>\n",
       "      <td>33</td>\n",
       "    </tr>\n",
       "    <tr>\n",
       "      <th>3</th>\n",
       "      <td>0</td>\n",
       "      <td>871fa199cffffff</td>\n",
       "      <td>871fa199cffffff</td>\n",
       "      <td>08:00:00</td>\n",
       "      <td>bicycle</td>\n",
       "      <td>16</td>\n",
       "    </tr>\n",
       "    <tr>\n",
       "      <th>4</th>\n",
       "      <td>0</td>\n",
       "      <td>871fa199cffffff</td>\n",
       "      <td>871fa199cffffff</td>\n",
       "      <td>08:00:00</td>\n",
       "      <td>car</td>\n",
       "      <td>5</td>\n",
       "    </tr>\n",
       "    <tr>\n",
       "      <th>...</th>\n",
       "      <td>...</td>\n",
       "      <td>...</td>\n",
       "      <td>...</td>\n",
       "      <td>...</td>\n",
       "      <td>...</td>\n",
       "      <td>...</td>\n",
       "    </tr>\n",
       "    <tr>\n",
       "      <th>30271</th>\n",
       "      <td>3</td>\n",
       "      <td>861fa18b7ffffff</td>\n",
       "      <td>861fa18b7ffffff</td>\n",
       "      <td>08:00:00</td>\n",
       "      <td>car</td>\n",
       "      <td>4</td>\n",
       "    </tr>\n",
       "    <tr>\n",
       "      <th>30272</th>\n",
       "      <td>3</td>\n",
       "      <td>861fa18b7ffffff</td>\n",
       "      <td>861fa18b7ffffff</td>\n",
       "      <td>08:00:00</td>\n",
       "      <td>kick_scooter</td>\n",
       "      <td>32</td>\n",
       "    </tr>\n",
       "    <tr>\n",
       "      <th>30273</th>\n",
       "      <td>3</td>\n",
       "      <td>861fa18b7ffffff</td>\n",
       "      <td>861fa18b7ffffff</td>\n",
       "      <td>16:00:00</td>\n",
       "      <td>bicycle</td>\n",
       "      <td>13</td>\n",
       "    </tr>\n",
       "    <tr>\n",
       "      <th>30274</th>\n",
       "      <td>3</td>\n",
       "      <td>861fa18b7ffffff</td>\n",
       "      <td>861fa18b7ffffff</td>\n",
       "      <td>16:00:00</td>\n",
       "      <td>car</td>\n",
       "      <td>0</td>\n",
       "    </tr>\n",
       "    <tr>\n",
       "      <th>30275</th>\n",
       "      <td>3</td>\n",
       "      <td>861fa18b7ffffff</td>\n",
       "      <td>861fa18b7ffffff</td>\n",
       "      <td>16:00:00</td>\n",
       "      <td>kick_scooter</td>\n",
       "      <td>27</td>\n",
       "    </tr>\n",
       "  </tbody>\n",
       "</table>\n",
       "<p>30276 rows × 6 columns</p>\n",
       "</div>"
      ]
     },
     "metadata": {},
     "execution_count": 7
    }
   ],
   "metadata": {}
  },
  {
   "cell_type": "markdown",
   "source": [
    "## Profit\n",
    "To define the profit per region tuple for every vehicle type we make use of the average speed we calculated in our data analysis. The exact price (profit) per minute depends on the provider and is configurable in the `config.py`."
   ],
   "metadata": {}
  },
  {
   "cell_type": "code",
   "execution_count": null,
   "source": [
    "vehicle_speed = pd.read_pickle(PATH_SPEEDS).to_dict()['speed (km/min)']\n",
    "vehicle_speed"
   ],
   "outputs": [
    {
     "output_type": "execute_result",
     "data": {
      "text/plain": [
       "{'car': 0.1116506648480835,\n",
       " 'bicycle': 0.04967387633867044,\n",
       " 'kick_scooter': 0.22438853350603996}"
      ]
     },
     "metadata": {},
     "execution_count": 8
    }
   ],
   "metadata": {}
  },
  {
   "cell_type": "code",
   "execution_count": null,
   "source": [
    "vehicle_profit_km = {\n",
    "        key: p_m/vehicle_speed[key] \n",
    "        for key,p_m in VEHICLE_PROFIT.items() \n",
    "}\n",
    "vehicle_profit_km"
   ],
   "outputs": [
    {
     "output_type": "execute_result",
     "data": {
      "text/plain": [
       "{'kick_scooter': 0.846745584684191,\n",
       " 'bicycle': 0.6710435301257894,\n",
       " 'car': 2.5973871306058585}"
      ]
     },
     "metadata": {},
     "execution_count": 9
    }
   ],
   "metadata": {}
  },
  {
   "cell_type": "code",
   "execution_count": null,
   "source": [
    "distances['profit_kick_scooter'] = distances['distance'].map(\n",
    "    lambda distance: (distance * vehicle_profit_km['kick_scooter'])\n",
    ")\n",
    "distances['profit_bicycle'] = distances['distance'].map(\n",
    "    lambda distance: (distance * vehicle_profit_km['bicycle'])\n",
    ")\n",
    "distances['profit_car'] = distances['distance'].map(\n",
    "    lambda distance: (distance * vehicle_profit_km['car'])\n",
    ")"
   ],
   "outputs": [],
   "metadata": {}
  },
  {
   "cell_type": "markdown",
   "source": [
    "## Costs\n",
    "In the same manner we calculated the profits, we now calculate the costs.  \n",
    "Note that we use the relocation drivers salary to calculate the costs. As the salary most likely also varies per provider it is configurable in the `config.py`.  \n",
    "We also expect that for some vehicle types (bicycles & kick scooters) multiple vehicles can be relocated at once. This ratio is also configurable."
   ],
   "metadata": {}
  },
  {
   "cell_type": "code",
   "execution_count": null,
   "source": [
    "vehicle_cost_min = {\n",
    "    key: (RELOCATION_DRIVER_SALARY / 60 / rel_at_once) \n",
    "    for key, rel_at_once in VEHICLE_STACK_RELOCATIONS.items()\n",
    "}\n",
    "vehicle_cost_min"
   ],
   "outputs": [
    {
     "output_type": "execute_result",
     "data": {
      "text/plain": [
       "{'kick_scooter': 0.005833333333333334,\n",
       " 'bicycle': 0.011666666666666667,\n",
       " 'car': 0.23333333333333334}"
      ]
     },
     "metadata": {},
     "execution_count": 11
    }
   ],
   "metadata": {}
  },
  {
   "cell_type": "code",
   "execution_count": null,
   "source": [
    "vehicle_cost_km = {\n",
    "    key: c_m/vehicle_speed[key] \n",
    "    for key,c_m in vehicle_cost_min.items() \n",
    "}\n",
    "vehicle_cost_km"
   ],
   "outputs": [
    {
     "output_type": "execute_result",
     "data": {
      "text/plain": [
       "{'kick_scooter': 0.02599657496837429,\n",
       " 'bicycle': 0.2348652355440263,\n",
       " 'car': 2.089851714280576}"
      ]
     },
     "metadata": {},
     "execution_count": 12
    }
   ],
   "metadata": {}
  },
  {
   "cell_type": "code",
   "execution_count": null,
   "source": [
    "distances['cost_kick_scooter'] = distances['distance'].map(\n",
    "    lambda distance: (distance * vehicle_cost_km['kick_scooter'])\n",
    ")\n",
    "distances['cost_bicycle'] = distances['distance'].map(\n",
    "    lambda distance: (distance * vehicle_cost_km['bicycle'])\n",
    ")\n",
    "distances['cost_car'] = distances['distance'].map(\n",
    "    lambda distance: (distance * vehicle_cost_km['car'])\n",
    ")"
   ],
   "outputs": [],
   "metadata": {}
  },
  {
   "cell_type": "markdown",
   "source": [
    "## Parking costs\n",
    "As our model also incorporates parking costs we also write those into the cost columns.  \n",
    "The parking costs per hour can also be configured in the `config.py`."
   ],
   "metadata": {}
  },
  {
   "cell_type": "code",
   "execution_count": null,
   "source": [
    "distances = distances.reset_index()\n",
    "\n",
    "same_hexagon = distances['start_hex_id'] == distances['end_hex_id']\n",
    "distances.loc[same_hexagon, 'cost_kick_scooter'] = VEHICLE_PARKING_COSTS['kick_scooter'] * PERIOD_DURATION\n",
    "distances.loc[same_hexagon, 'cost_car'] = VEHICLE_PARKING_COSTS['car'] * PERIOD_DURATION\n",
    "distances.loc[same_hexagon, 'cost_bicycle'] = VEHICLE_PARKING_COSTS['bicycle'] * PERIOD_DURATION\n",
    "\n",
    "distances = distances.set_index(['start_hex_id', 'end_hex_id'])"
   ],
   "outputs": [],
   "metadata": {}
  },
  {
   "cell_type": "markdown",
   "source": [
    "We now save the the costs and profits in a pickle file, which can be used by our model."
   ],
   "metadata": {}
  },
  {
   "cell_type": "code",
   "execution_count": null,
   "source": [
    "os.makedirs(os.path.dirname(PATH_DISTANCES), exist_ok=True)\n",
    "distances.to_pickle(PATH_DISTANCES)"
   ],
   "outputs": [],
   "metadata": {}
  }
 ],
 "metadata": {
  "interpreter": {
   "hash": "01a391bb7193f6fe0ceed1685f57eb3a797b740aeed37e6588c1599a7c6dd5eb"
  },
  "kernelspec": {
   "name": "python3",
   "display_name": "Python 3.8.10 64-bit ('VEHICLE_REPOSITION_TWO': conda)"
  },
  "language_info": {
   "codemirror_mode": {
    "name": "ipython",
    "version": 3
   },
   "file_extension": ".py",
   "mimetype": "text/x-python",
   "name": "python",
   "nbconvert_exporter": "python",
   "pygments_lexer": "ipython3",
   "version": "3.8.10"
  },
  "orig_nbformat": 2
 },
 "nbformat": 4,
 "nbformat_minor": 2
}