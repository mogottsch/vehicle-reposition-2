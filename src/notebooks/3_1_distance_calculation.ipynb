{
 "cells": [
  {
   "cell_type": "code",
   "execution_count": 1,
   "metadata": {},
   "outputs": [],
   "source": [
    "# As we use our own external modules, we need the folder src to be in the PYTHONPATH env variable.\n",
    "# However we do not expect the reader to add that folder to the env variable,\n",
    "# therefore we manually load it temporarily in each notebook.\n",
    "import os, sys\n",
    "module_path = os.path.abspath(os.path.join('..'))\n",
    "if module_path not in sys.path:\n",
    "    sys.path.append(module_path)"
   ]
  },
  {
   "cell_type": "code",
   "execution_count": 2,
   "metadata": {},
   "outputs": [],
   "source": [
    "import pandas as pd\n",
    "import h3\n",
    "from modules.config import (\n",
    "    PATH_SCENARIOS_REDUCED,\n",
    "    PATH_DISTANCES,\n",
    "    PATH_SPEEDS,\n",
    "    H3_RESOLUTION,\n",
    "    PERIOD_DURATION,\n",
    "    VEHICLE_PROFIT,\n",
    "    VEHICLE_STACK_RELOCATIONS,\n",
    "    RELOCATION_DRIVER_SALARY,\n",
    "    VEHICLE_PARKING_COSTS,\n",
    ")\n",
    "from modules.distances import calc_distance_haversine\n"
   ]
  },
  {
   "cell_type": "markdown",
   "metadata": {},
   "source": [
    "# Distance Profit & Cost Calculation\n",
    "In this notebook our goal is to determine the cost and profits for each region tuple for each vehicle type.  \n",
    "In our paper this is denoted as $c_{ijm}$ and $p_{ijm}$."
   ]
  },
  {
   "cell_type": "markdown",
   "metadata": {},
   "source": [
    "## Distances"
   ]
  },
  {
   "cell_type": "markdown",
   "metadata": {},
   "source": [
    "In order to calculate the profit of a trip and the cost of a relocation between two specific regions, we first have to know the distances between each region tuple.  \n",
    "Note that our model also allows round trips. However it we do not know the exact route of a round trip. We therefore assume that a round trip simply is a trip that starts and ends in the same region without detouring to any other region.  \n",
    "We can then calculate the average distance of such a round trip by the average distance between two random points in a hexagon.  \n",
    "With the help of an experiment, we conducted here[FILL IN URL] we found out that the average distance of a hexagon with side length $l$ can be calculated by $l*0.8259763178117513$."
   ]
  },
  {
   "cell_type": "code",
   "execution_count": 3,
   "metadata": {},
   "outputs": [],
   "source": [
    "avg_distance_l1 = 0.8259763178117513\n",
    "avg_distance = avg_distance_l1 * h3.edge_length(H3_RESOLUTION, unit='km')"
   ]
  },
  {
   "cell_type": "code",
   "execution_count": 4,
   "metadata": {},
   "outputs": [],
   "source": [
    "scenarios = pd.read_pickle(PATH_SCENARIOS_REDUCED)\n",
    "hex_ids = {*scenarios.index.get_level_values('start_hex_ids').unique()}\n",
    "hex_ids = list(hex_ids.union({*scenarios.index.get_level_values('end_hex_ids').unique()}))"
   ]
  },
  {
   "cell_type": "code",
   "execution_count": 5,
   "metadata": {},
   "outputs": [],
   "source": [
    "def calc_distance(hexes):\n",
    "    if hexes[0] == hexes[1]:\n",
    "        return avg_distance\n",
    "    return calc_distance_haversine(\n",
    "        h3.h3_to_geo(hexes[0]),\n",
    "        h3.h3_to_geo(hexes[1])\n",
    "        )"
   ]
  },
  {
   "cell_type": "markdown",
   "metadata": {},
   "source": [
    "We now create a dataframe whose entries are region tuples with their corresponding distance."
   ]
  },
  {
   "cell_type": "code",
   "execution_count": 6,
   "metadata": {},
   "outputs": [],
   "source": [
    "distances = pd.DataFrame(index=pd.MultiIndex.from_product([hex_ids, hex_ids]))\n",
    "distances.index = distances.index.rename(['start_hex_id', 'end_hex_id'])\n",
    "distances['distance'] = distances.index.map(calc_distance)"
   ]
  },
  {
   "cell_type": "markdown",
   "metadata": {},
   "source": [
    "## Profit\n",
    "To define the profit per region tuple for every vehicle type we make use of the average speed we calculated in our data analysis. The exact price (profit) per minute depends on the provider and is configurable in the `config.py`."
   ]
  },
  {
   "cell_type": "code",
   "execution_count": 7,
   "metadata": {},
   "outputs": [
    {
     "output_type": "execute_result",
     "data": {
      "text/plain": [
       "{'car': 0.1116506648480835,\n",
       " 'bicycle': 0.04967387633867044,\n",
       " 'kick_scooter': 0.22438853350603996}"
      ]
     },
     "metadata": {},
     "execution_count": 7
    }
   ],
   "source": [
    "vehicle_speed = pd.read_pickle(PATH_SPEEDS).to_dict()['speed (km/min)']\n",
    "vehicle_speed"
   ]
  },
  {
   "cell_type": "code",
   "execution_count": 8,
   "metadata": {},
   "outputs": [],
   "source": [
    "vehicle_profit_km = {\n",
    "        key: p_m/vehicle_speed[key] \n",
    "        for key,p_m in VEHICLE_PROFIT.items() \n",
    "}"
   ]
  },
  {
   "cell_type": "code",
   "execution_count": 9,
   "metadata": {},
   "outputs": [],
   "source": [
    "distances['profit_kick_scooter'] = distances['distance'].map(\n",
    "    lambda distance: (distance * vehicle_profit_km['kick_scooter'])\n",
    ")\n",
    "distances['profit_bicycle'] = distances['distance'].map(\n",
    "    lambda distance: (distance * vehicle_profit_km['bicycle'])\n",
    ")\n",
    "distances['profit_car'] = distances['distance'].map(\n",
    "    lambda distance: (distance * vehicle_profit_km['car'])\n",
    ")"
   ]
  },
  {
   "cell_type": "markdown",
   "metadata": {},
   "source": [
    "## Costs\n",
    "In the same manner we calculated the profits, we now calculate the costs.  \n",
    "Note that we use the relocation drivers salary to calculate the costs. As the salary most likely also varies per provider it is configurable in the `config.py`.  \n",
    "We also expect that for some vehicle types (bicycles & kick scooters) multiple vehicles can be relocated at once. This ratio is also configurable."
   ]
  },
  {
   "cell_type": "code",
   "execution_count": 10,
   "metadata": {},
   "outputs": [
    {
     "output_type": "execute_result",
     "data": {
      "text/plain": [
       "{'kick_scooter': 0.02599657496837429,\n",
       " 'bicycle': 0.2348652355440263,\n",
       " 'car': 2.089851714280576}"
      ]
     },
     "metadata": {},
     "execution_count": 10
    }
   ],
   "source": [
    "vehicle_cost_min = {\n",
    "    key: (RELOCATION_DRIVER_SALARY / 60 / rel_at_once) \n",
    "    for key, rel_at_once in VEHICLE_STACK_RELOCATIONS.items()\n",
    "}\n",
    "\n",
    "vehicle_cost_km = {\n",
    "    key: c_m/vehicle_speed[key] \n",
    "    for key,c_m in vehicle_cost_min.items() \n",
    "}\n",
    "vehicle_cost_km"
   ]
  },
  {
   "cell_type": "code",
   "execution_count": 11,
   "metadata": {},
   "outputs": [],
   "source": [
    "distances['cost_kick_scooter'] = distances['distance'].map(\n",
    "    lambda distance: (distance * vehicle_cost_km['kick_scooter'])\n",
    ")\n",
    "distances['cost_bicycle'] = distances['distance'].map(\n",
    "    lambda distance: (distance * vehicle_cost_km['bicycle'])\n",
    ")\n",
    "distances['cost_car'] = distances['distance'].map(\n",
    "    lambda distance: (distance * vehicle_cost_km['car'])\n",
    ")"
   ]
  },
  {
   "cell_type": "markdown",
   "metadata": {},
   "source": [
    "## Parking costs\n",
    "As our model also incorporates parking costs we also write those into the cost columns.  \n",
    "The parking costs per hour can also be configured in the `config.py`."
   ]
  },
  {
   "cell_type": "code",
   "execution_count": 12,
   "metadata": {},
   "outputs": [],
   "source": [
    "distances = distances.reset_index()\n",
    "\n",
    "same_hexagon = distances['start_hex_id'] == distances['end_hex_id']\n",
    "distances.loc[same_hexagon, 'cost_kick_scooter'] = VEHICLE_PARKING_COSTS['kick_scooter'] * PERIOD_DURATION\n",
    "distances.loc[same_hexagon, 'cost_car'] = VEHICLE_PARKING_COSTS['car'] * PERIOD_DURATION\n",
    "distances.loc[same_hexagon, 'cost_bicycle'] = VEHICLE_PARKING_COSTS['bicycle'] * PERIOD_DURATION\n",
    "\n",
    "distances = distances.set_index(['start_hex_id', 'end_hex_id'])"
   ]
  },
  {
   "cell_type": "markdown",
   "metadata": {},
   "source": [
    "We now save the the costs and profits in a pickle file, which can be used by our model."
   ]
  },
  {
   "cell_type": "code",
   "execution_count": 13,
   "metadata": {},
   "outputs": [],
   "source": [
    "os.makedirs(os.path.dirname(PATH_DISTANCES), exist_ok=True)\n",
    "distances.to_pickle(PATH_DISTANCES)"
   ]
  }
 ],
 "metadata": {
  "interpreter": {
   "hash": "25886e588e0e772d5020ef608c7c6771df2a6548b672803ef3df6d3c3433cc78"
  },
  "kernelspec": {
   "name": "python3810jvsc74a57bd025886e588e0e772d5020ef608c7c6771df2a6548b672803ef3df6d3c3433cc78",
   "display_name": "Python 3.8.10 64-bit ('VR_H3': conda)"
  },
  "language_info": {
   "codemirror_mode": {
    "name": "ipython",
    "version": 3
   },
   "file_extension": ".py",
   "mimetype": "text/x-python",
   "name": "python",
   "nbconvert_exporter": "python",
   "pygments_lexer": "ipython3",
   "version": "3.8.10"
  },
  "orig_nbformat": 2
 },
 "nbformat": 4,
 "nbformat_minor": 2
}