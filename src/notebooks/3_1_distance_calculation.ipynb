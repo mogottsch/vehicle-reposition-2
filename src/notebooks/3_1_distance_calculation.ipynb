{
 "cells": [
  {
   "cell_type": "code",
   "execution_count": 2,
   "metadata": {},
   "outputs": [],
   "source": [
    "# As we use our own external modules, we need the folder src to be in the PYTHONPATH env variable.\n",
    "# However we do not expect the reader to add that folder to the env variable,\n",
    "# therefore we manually load it temporarily in each notebook.\n",
    "import os\n",
    "module_path = os.path.abspath(os.path.join('..'))\n",
    "if module_path not in sys.path:\n",
    "    sys.path.append(module_path)"
   ]
  },
  {
   "cell_type": "code",
   "execution_count": 3,
   "metadata": {},
   "outputs": [],
   "source": [
    "import pandas as pd\n",
    "import h3\n",
    "from modules.config import PATH_SCENARIOS_REDUCED, H3_RESOLUTION, PERIOD_DURATION, PATH_DISTANCES\n",
    "from modules.distances import calc_distance_haversine"
   ]
  },
  {
   "cell_type": "markdown",
   "metadata": {},
   "source": [
    "## Distances"
   ]
  },
  {
   "cell_type": "code",
   "execution_count": 4,
   "metadata": {},
   "outputs": [],
   "source": [
    "avg_distance_l1 = 0.8259763178117513\n",
    "avg_distance = avg_distance_l1 * h3.edge_length(H3_RESOLUTION, unit='km')"
   ]
  },
  {
   "cell_type": "code",
   "execution_count": 5,
   "metadata": {},
   "outputs": [],
   "source": [
    "scenarios = pd.read_pickle(PATH_SCENARIOS_REDUCED)\n",
    "hex_ids = {*scenarios.index.get_level_values('start_hex_ids').unique()}\n",
    "hex_ids = list(hex_ids.union({*scenarios.index.get_level_values('end_hex_ids').unique()}))"
   ]
  },
  {
   "cell_type": "code",
   "execution_count": 6,
   "metadata": {},
   "outputs": [],
   "source": [
    "def calc_distance(hexes):\n",
    "    if hexes[0] == hexes[1]:\n",
    "        return avg_distance\n",
    "    return calc_distance_haversine(\n",
    "        h3.h3_to_geo(hexes[0]),\n",
    "        h3.h3_to_geo(hexes[1])\n",
    "        )"
   ]
  },
  {
   "cell_type": "code",
   "execution_count": 7,
   "metadata": {},
   "outputs": [],
   "source": [
    "distances = pd.DataFrame(index=pd.MultiIndex.from_product([hex_ids, hex_ids]))\n",
    "distances.index = distances.index.rename(['start_hex_id', 'end_hex_id'])\n",
    "distances['distance'] = distances.index.map(calc_distance)"
   ]
  },
  {
   "cell_type": "markdown",
   "metadata": {},
   "source": [
    "### Profit\n",
    "Maybe move some to config?"
   ]
  },
  {
   "cell_type": "code",
   "execution_count": 8,
   "metadata": {},
   "outputs": [],
   "source": [
    "vehicle_speed = { # in km/min\n",
    "    'kick_scooter':  (0.1117 + 0.0497)/2, \n",
    "    'bicycle': 0.0497,\n",
    "    'car': 0.1117,\n",
    "}\n",
    "\n",
    "vehicle_profit_min = { # euro / min\n",
    "    'kick_scooter': 0.19, # wrong data\n",
    "    'bicycle': 0.1 / 3,\n",
    "    'car': 0.29,\n",
    "}\n",
    "\n",
    "vehicle_profit_km = {\n",
    "        key: p_m/vehicle_speed[key] \n",
    "        for key,p_m in vehicle_profit_min.items() \n",
    "}"
   ]
  },
  {
   "cell_type": "code",
   "execution_count": 9,
   "metadata": {},
   "outputs": [],
   "source": [
    "distances['profit_kick_scooter'] = distances['distance'].map(\n",
    "    lambda distance: (distance * vehicle_profit_km['kick_scooter'])\n",
    ")\n",
    "distances['profit_bicycle'] = distances['distance'].map(\n",
    "    lambda distance: (distance * vehicle_profit_km['bicycle'])\n",
    ")\n",
    "distances['profit_car'] = distances['distance'].map(\n",
    "    lambda distance: (distance * vehicle_profit_km['car'])\n",
    ")"
   ]
  },
  {
   "cell_type": "markdown",
   "metadata": {},
   "source": [
    "### Costs"
   ]
  },
  {
   "cell_type": "code",
   "execution_count": 10,
   "metadata": {},
   "outputs": [
    {
     "data": {
      "text/plain": "{'kick_scooter': 0.07228418009087155,\n 'bicycle': 0.2347417840375587,\n 'car': 2.0889286780065652}"
     },
     "execution_count": 10,
     "metadata": {},
     "output_type": "execute_result"
    }
   ],
   "source": [
    "\n",
    "relocation_driver_salary = 14 # euro/hour\n",
    "vehicle_rel_at_once = { # relocations at once, e.g. in a truck for moped/bicles\n",
    "    'kick_scooter': 40,\n",
    "    'bicycle': 20,\n",
    "    'car': 1,\n",
    "}\n",
    "\n",
    "vehicle_cost_min = {\n",
    "    key: (relocation_driver_salary / 60 / rel_at_once) \n",
    "    for key, rel_at_once in vehicle_rel_at_once.items()\n",
    "}\n",
    "\n",
    "vehicle_cost_km = {\n",
    "    key: c_m/vehicle_speed[key] \n",
    "    for key,c_m in vehicle_cost_min.items() \n",
    "}\n",
    "vehicle_cost_km"
   ]
  },
  {
   "cell_type": "code",
   "execution_count": 11,
   "metadata": {},
   "outputs": [],
   "source": [
    "distances['cost_kick_scooter'] = distances['distance'].map(\n",
    "    lambda distance: (distance * vehicle_cost_km['kick_scooter'])\n",
    ")\n",
    "distances['cost_bicycle'] = distances['distance'].map(\n",
    "    lambda distance: (distance * vehicle_cost_km['bicycle'])\n",
    ")\n",
    "distances['cost_car'] = distances['distance'].map(\n",
    "    lambda distance: (distance * vehicle_cost_km['car'])\n",
    ")"
   ]
  },
  {
   "cell_type": "markdown",
   "metadata": {},
   "source": [
    "### Parking costs"
   ]
  },
  {
   "cell_type": "code",
   "execution_count": 12,
   "metadata": {},
   "outputs": [],
   "source": [
    "vehicle_parking_cost = { # eur/2h\n",
    "    'kick_scooter': 0.4,\n",
    "    'car': 2,\n",
    "    'bicycle': 0.1,\n",
    "}\n",
    "\n",
    "vehicle_maximum_distance_cap = {\n",
    "    'kick_scooter': 4,\n",
    "    'bicycle': 5,\n",
    "    'car': 100,\n",
    "} # km\n"
   ]
  },
  {
   "cell_type": "code",
   "execution_count": 13,
   "metadata": {},
   "outputs": [],
   "source": [
    "distances = distances.reset_index()\n",
    "\n",
    "same_hexagon = distances['start_hex_id'] == distances['end_hex_id']\n",
    "distances.loc[same_hexagon, 'cost_kick_scooter'] = vehicle_parking_cost['kick_scooter'] * PERIOD_DURATION\n",
    "distances.loc[same_hexagon, 'cost_car'] = vehicle_parking_cost['car'] * PERIOD_DURATION\n",
    "distances.loc[same_hexagon, 'cost_bicycle'] = vehicle_parking_cost['bicycle'] * PERIOD_DURATION\n",
    "\n",
    "distances = distances.set_index(['start_hex_id', 'end_hex_id'])"
   ]
  },
  {
   "cell_type": "code",
   "execution_count": 14,
   "metadata": {},
   "outputs": [],
   "source": [
    "os.makedirs(os.path.dirname(PATH_DISTANCES), exist_ok=True)\n",
    "distances.to_pickle(PATH_DISTANCES)"
   ]
  }
 ],
 "metadata": {
  "interpreter": {
   "hash": "25886e588e0e772d5020ef608c7c6771df2a6548b672803ef3df6d3c3433cc78"
  },
  "kernelspec": {
   "display_name": "Python 3.8.10 64-bit ('VR_H3': conda)",
   "name": "python3"
  },
  "language_info": {
   "codemirror_mode": {
    "name": "ipython",
    "version": 3
   },
   "file_extension": ".py",
   "mimetype": "text/x-python",
   "name": "python",
   "nbconvert_exporter": "python",
   "pygments_lexer": "ipython3",
   "version": "3.8.10"
  },
  "orig_nbformat": 2
 },
 "nbformat": 4,
 "nbformat_minor": 2
}